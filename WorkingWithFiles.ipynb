{
  "nbformat": 4,
  "nbformat_minor": 0,
  "metadata": {
    "colab": {
      "name": "WorkingWithFiles.ipynb",
      "provenance": [],
      "collapsed_sections": [],
      "authorship_tag": "ABX9TyOsRO9xvI+xu5Xoitl+wXHp",
      "include_colab_link": true
    },
    "kernelspec": {
      "name": "python3",
      "display_name": "Python 3"
    },
    "language_info": {
      "name": "python"
    }
  },
  "cells": [
    {
      "cell_type": "markdown",
      "metadata": {
        "id": "view-in-github",
        "colab_type": "text"
      },
      "source": [
        "<a href=\"https://colab.research.google.com/github/omullaboyev/data-science/blob/main/WorkingWithFiles.ipynb\" target=\"_parent\"><img src=\"https://colab.research.google.com/assets/colab-badge.svg\" alt=\"Open In Colab\"/></a>"
      ]
    },
    {
      "cell_type": "markdown",
      "metadata": {
        "id": "Z9LSugNSIyeG"
      },
      "source": [
        "#Data Science va Sun'iy Intellekt Praktirum"
      ]
    },
    {
      "cell_type": "markdown",
      "metadata": {
        "id": "88BBxSo5I5W3"
      },
      "source": [
        "#Ma'lumotlar Tahlili. Numpy kutubxonasi."
      ]
    },
    {
      "cell_type": "markdown",
      "metadata": {
        "id": "zfATKrOAI_TZ"
      },
      "source": [
        "Fayllar bilan ishlash"
      ]
    },
    {
      "cell_type": "code",
      "metadata": {
        "id": "KgkjEjD-Iv1v"
      },
      "source": [
        "import numpy as np"
      ],
      "execution_count": 2,
      "outputs": []
    },
    {
      "cell_type": "code",
      "metadata": {
        "id": "5tEjcBk2JEy5",
        "colab": {
          "base_uri": "https://localhost:8080/"
        },
        "outputId": "b6adb355-fe52-40cd-b543-67e11d0492df"
      },
      "source": [
        "# data\n",
        "arr = np.arange(10)\n",
        "arr"
      ],
      "execution_count": 6,
      "outputs": [
        {
          "output_type": "execute_result",
          "data": {
            "text/plain": [
              "array([0, 1, 2, 3, 4, 5, 6, 7, 8, 9])"
            ]
          },
          "metadata": {},
          "execution_count": 6
        }
      ]
    },
    {
      "cell_type": "markdown",
      "metadata": {
        "id": "NjmHg0nizUsX"
      },
      "source": [
        "#`save` funksiyasi - bitta arrayni bitta faylga saqlash"
      ]
    },
    {
      "cell_type": "code",
      "metadata": {
        "id": "cispjTP1yilX"
      },
      "source": [
        "# save\n",
        "np.save(\"data\", arr) # arr massivni data.npy fayliga saqlaydi"
      ],
      "execution_count": 5,
      "outputs": []
    },
    {
      "cell_type": "markdown",
      "metadata": {
        "id": "EkhaWhMWzkt4"
      },
      "source": [
        "#`load` (yuklash, o'qish) metodi"
      ]
    },
    {
      "cell_type": "code",
      "metadata": {
        "colab": {
          "base_uri": "https://localhost:8080/"
        },
        "id": "fLYQoQh9zC8-",
        "outputId": "f3858a25-8869-4fae-ba48-981282c9863f"
      },
      "source": [
        "# load\n",
        "load_arr = np.load(\"data.npy\") # data.npy faylni load_arr massiviga yuklab (o'qib) oladi\n",
        "load_arr"
      ],
      "execution_count": 8,
      "outputs": [
        {
          "output_type": "execute_result",
          "data": {
            "text/plain": [
              "array([0, 1, 2, 3, 4, 5, 6, 7, 8, 9])"
            ]
          },
          "metadata": {},
          "execution_count": 8
        }
      ]
    },
    {
      "cell_type": "code",
      "metadata": {
        "colab": {
          "base_uri": "https://localhost:8080/"
        },
        "id": "mb2myGIUzuuo",
        "outputId": "36c95484-795e-4e3c-b2b4-de1d709c5dc1"
      },
      "source": [
        "# data\n",
        "arr1 = np.arange(20)\n",
        "arr1"
      ],
      "execution_count": 10,
      "outputs": [
        {
          "output_type": "execute_result",
          "data": {
            "text/plain": [
              "array([ 0,  1,  2,  3,  4,  5,  6,  7,  8,  9, 10, 11, 12, 13, 14, 15, 16,\n",
              "       17, 18, 19])"
            ]
          },
          "metadata": {},
          "execution_count": 10
        }
      ]
    },
    {
      "cell_type": "markdown",
      "metadata": {
        "id": "I23IS8Mp0MYZ"
      },
      "source": [
        "#`savez` funksiyasi - bir nechta arrayni bitta faylga saqlash"
      ]
    },
    {
      "cell_type": "code",
      "metadata": {
        "id": "Y6EzTtvm0IRH"
      },
      "source": [
        "np.savez(\"arrays\", a = arr, b = arr1) # arr va arr1 massivlarini arrays.npz fayliga saqlaydi"
      ],
      "execution_count": 11,
      "outputs": []
    },
    {
      "cell_type": "markdown",
      "metadata": {
        "id": "ep3MnLX71o3q"
      },
      "source": [
        "#.npz fayldan massivlarni yuklab (o'qib) olish"
      ]
    },
    {
      "cell_type": "code",
      "metadata": {
        "id": "YewTixOA07sZ"
      },
      "source": [
        "arrays = np.load(\"arrays.npz\") # arrays.npz fayldagi a va b massivlarni arrays massiviga yuklaydi"
      ],
      "execution_count": 12,
      "outputs": []
    },
    {
      "cell_type": "markdown",
      "metadata": {
        "id": "CWKlH7Hf1cWD"
      },
      "source": [
        "#.npz fayldan o'qilgan (yuklangan) massivlarga murojaat"
      ]
    },
    {
      "cell_type": "code",
      "metadata": {
        "colab": {
          "base_uri": "https://localhost:8080/"
        },
        "id": "XenRch5a1VbP",
        "outputId": "56617fe2-bb26-4d1e-925d-b17f7be4b4e5"
      },
      "source": [
        "arrays[\"a\"] # savez funksiyasida ko'rsatilgan kalit so'z (a) orqali o'qiladi"
      ],
      "execution_count": 13,
      "outputs": [
        {
          "output_type": "execute_result",
          "data": {
            "text/plain": [
              "array([0, 1, 2, 3, 4, 5, 6, 7, 8, 9])"
            ]
          },
          "metadata": {},
          "execution_count": 13
        }
      ]
    },
    {
      "cell_type": "code",
      "metadata": {
        "colab": {
          "base_uri": "https://localhost:8080/"
        },
        "id": "DhReWxB01Xwe",
        "outputId": "92914294-becc-495c-e1ab-768d35636414"
      },
      "source": [
        "arrays[\"b\"] # savez funksiyasida ko'rsatilgan kalit so'z (b) orqali o'qiladi"
      ],
      "execution_count": 14,
      "outputs": [
        {
          "output_type": "execute_result",
          "data": {
            "text/plain": [
              "array([ 0,  1,  2,  3,  4,  5,  6,  7,  8,  9, 10, 11, 12, 13, 14, 15, 16,\n",
              "       17, 18, 19])"
            ]
          },
          "metadata": {},
          "execution_count": 14
        }
      ]
    },
    {
      "cell_type": "markdown",
      "metadata": {
        "id": "XfHNK_W62Gzl"
      },
      "source": [
        "#`savez_compressed` funksiyasi - bir nechta arrayni bitta faylga arxivlab saqlaydi"
      ]
    },
    {
      "cell_type": "code",
      "metadata": {
        "id": "7DUlYNXQ1ZX2"
      },
      "source": [
        "np.savez_compressed(\"arrays_copmressed\", a = arr, b = arr1) # arr va arr1 massivlarini arrays_compressed.npz fayliga saqlaydi"
      ],
      "execution_count": 15,
      "outputs": []
    },
    {
      "cell_type": "markdown",
      "metadata": {
        "id": "K56FjoVr3B2r"
      },
      "source": [
        "#compressed .npz fayldan massivlarni yuklab (o'qib) olish"
      ]
    },
    {
      "cell_type": "code",
      "metadata": {
        "id": "17-uLlUY2n7Q"
      },
      "source": [
        "arrays_comp = np.load(\"arrays_copmressed.npz\") # arrays_compressed.npz fayldagi a va b massivlarni arrays_comp massiviga yuklaydi"
      ],
      "execution_count": 17,
      "outputs": []
    },
    {
      "cell_type": "markdown",
      "metadata": {
        "id": "mCSsA0Bv3Lac"
      },
      "source": [
        "#compressed npz fayldan o'qilgan (yuklangan) massivlarga murojaat"
      ]
    },
    {
      "cell_type": "code",
      "metadata": {
        "colab": {
          "base_uri": "https://localhost:8080/"
        },
        "id": "fokVodZG3ORL",
        "outputId": "65c3a030-4838-4948-a54f-f1c527bd3d07"
      },
      "source": [
        "arrays_comp[\"a\"] # savez_compressed funksiyasida ko'rsatilgan kalit so'z (a) orqali o'qiladi"
      ],
      "execution_count": 18,
      "outputs": [
        {
          "output_type": "execute_result",
          "data": {
            "text/plain": [
              "array([0, 1, 2, 3, 4, 5, 6, 7, 8, 9])"
            ]
          },
          "metadata": {},
          "execution_count": 18
        }
      ]
    },
    {
      "cell_type": "code",
      "metadata": {
        "colab": {
          "base_uri": "https://localhost:8080/"
        },
        "id": "9STEiGdP3VHB",
        "outputId": "fd354b34-1027-4921-a2e5-f7ea6ee2025d"
      },
      "source": [
        "arrays_comp[\"b\"] # savez_compressed funksiyasida ko'rsatilgan kalit so'z (b) orqali o'qiladi"
      ],
      "execution_count": 19,
      "outputs": [
        {
          "output_type": "execute_result",
          "data": {
            "text/plain": [
              "array([ 0,  1,  2,  3,  4,  5,  6,  7,  8,  9, 10, 11, 12, 13, 14, 15, 16,\n",
              "       17, 18, 19])"
            ]
          },
          "metadata": {},
          "execution_count": 19
        }
      ]
    },
    {
      "cell_type": "code",
      "metadata": {
        "id": "T9WMcWd43btu"
      },
      "source": [
        ""
      ],
      "execution_count": null,
      "outputs": []
    }
  ]
}