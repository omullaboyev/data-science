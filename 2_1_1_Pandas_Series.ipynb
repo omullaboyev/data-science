{
  "nbformat": 4,
  "nbformat_minor": 0,
  "metadata": {
    "colab": {
      "name": "2.1.1-Pandas-Series.ipynb",
      "provenance": [],
      "collapsed_sections": [],
      "authorship_tag": "ABX9TyOjxnwH7kNNAK6acSsYoI6e",
      "include_colab_link": true
    },
    "kernelspec": {
      "name": "python3",
      "display_name": "Python 3"
    },
    "language_info": {
      "name": "python"
    }
  },
  "cells": [
    {
      "cell_type": "markdown",
      "metadata": {
        "id": "view-in-github",
        "colab_type": "text"
      },
      "source": [
        "<a href=\"https://colab.research.google.com/github/omullaboyev/data-science/blob/main/2_1_1_Pandas_Series.ipynb\" target=\"_parent\"><img src=\"https://colab.research.google.com/assets/colab-badge.svg\" alt=\"Open In Colab\"/></a>"
      ]
    },
    {
      "cell_type": "markdown",
      "metadata": {
        "id": "FGdxkEjsEICO"
      },
      "source": [
        "#Data Science va Sun'iy Intellekt Praktikum"
      ]
    },
    {
      "cell_type": "markdown",
      "metadata": {
        "id": "YA7aST4iENZ6"
      },
      "source": [
        "#Ma'lumotlar Tahlili. Pandas kutubxonasi."
      ]
    },
    {
      "cell_type": "markdown",
      "metadata": {
        "id": "zOcMQpzyEStB"
      },
      "source": [
        "2.1 Pandas kutubxonasi bilan tanishuv"
      ]
    },
    {
      "cell_type": "markdown",
      "metadata": {
        "id": "ZxdTXR78KtXs"
      },
      "source": [
        "2.1.1 Series ma'lumotlar turi."
      ]
    },
    {
      "cell_type": "code",
      "metadata": {
        "id": "v_k_D9muD-Ge"
      },
      "source": [
        "import pandas as pd # pandas kutubxonasini chaqirish"
      ],
      "execution_count": null,
      "outputs": []
    },
    {
      "cell_type": "code",
      "metadata": {
        "id": "n0Oanf5EEWjY"
      },
      "source": [
        "import numpy as np # numpy kutubxonasini chaqirish"
      ],
      "execution_count": null,
      "outputs": []
    },
    {
      "cell_type": "code",
      "metadata": {
        "id": "EiMn_CicEsEY"
      },
      "source": [
        "from pandas import Series # series ma'lumotlar tuzilmasi"
      ],
      "execution_count": null,
      "outputs": []
    },
    {
      "cell_type": "markdown",
      "metadata": {
        "id": "9Hck1hbmFSj_"
      },
      "source": [
        "Series ma'lumot tuzilmasini yaratish"
      ]
    },
    {
      "cell_type": "code",
      "metadata": {
        "id": "1Rjw6I6sE66_"
      },
      "source": [
        "obj = Series([4, 5, 6, -6.5])"
      ],
      "execution_count": null,
      "outputs": []
    },
    {
      "cell_type": "code",
      "metadata": {
        "colab": {
          "base_uri": "https://localhost:8080/"
        },
        "id": "5PsGkb9OFXTX",
        "outputId": "aed07f69-8d32-4623-8a42-12c88872c1e3"
      },
      "source": [
        "type(obj)"
      ],
      "execution_count": null,
      "outputs": [
        {
          "output_type": "execute_result",
          "data": {
            "text/plain": [
              "pandas.core.series.Series"
            ]
          },
          "metadata": {},
          "execution_count": 5
        }
      ]
    },
    {
      "cell_type": "code",
      "metadata": {
        "colab": {
          "base_uri": "https://localhost:8080/"
        },
        "id": "EEfuMRNCFY2v",
        "outputId": "8a7517c9-b49d-4afa-eb8f-96c67896f97c"
      },
      "source": [
        "print(obj)"
      ],
      "execution_count": null,
      "outputs": [
        {
          "output_type": "stream",
          "name": "stdout",
          "text": [
            "0    4.0\n",
            "1    5.0\n",
            "2    6.0\n",
            "3   -6.5\n",
            "dtype: float64\n"
          ]
        }
      ]
    },
    {
      "cell_type": "markdown",
      "metadata": {
        "id": "-7wP0kgjFzEM"
      },
      "source": [
        "Obyektning qiymatlarini ko'rish"
      ]
    },
    {
      "cell_type": "code",
      "metadata": {
        "colab": {
          "base_uri": "https://localhost:8080/"
        },
        "id": "jg5gBzcQFkkJ",
        "outputId": "19778cc5-e31c-4a2a-a0fd-028281207411"
      },
      "source": [
        "obj.values"
      ],
      "execution_count": null,
      "outputs": [
        {
          "output_type": "execute_result",
          "data": {
            "text/plain": [
              "array([ 4. ,  5. ,  6. , -6.5])"
            ]
          },
          "metadata": {},
          "execution_count": 7
        }
      ]
    },
    {
      "cell_type": "markdown",
      "metadata": {
        "id": "_p8yK7GSF6jX"
      },
      "source": [
        "Obyektning indekslarini ko'rish"
      ]
    },
    {
      "cell_type": "code",
      "metadata": {
        "colab": {
          "base_uri": "https://localhost:8080/"
        },
        "id": "1B00-qliFtk4",
        "outputId": "f6d1c21f-25c5-4ee0-e872-8545f76dfe40"
      },
      "source": [
        "obj.index"
      ],
      "execution_count": null,
      "outputs": [
        {
          "output_type": "execute_result",
          "data": {
            "text/plain": [
              "RangeIndex(start=0, stop=4, step=1)"
            ]
          },
          "metadata": {},
          "execution_count": 8
        }
      ]
    },
    {
      "cell_type": "markdown",
      "metadata": {
        "id": "Hp-YWVC5GGhd"
      },
      "source": [
        "Obyekt elementlarini indeks bo'yicha ko'rish"
      ]
    },
    {
      "cell_type": "code",
      "metadata": {
        "colab": {
          "base_uri": "https://localhost:8080/"
        },
        "id": "Wy9xSCKhF9Jo",
        "outputId": "df872ada-67b2-4602-b63e-8ddaffec967d"
      },
      "source": [
        "obj[0]"
      ],
      "execution_count": null,
      "outputs": [
        {
          "output_type": "execute_result",
          "data": {
            "text/plain": [
              "4.0"
            ]
          },
          "metadata": {},
          "execution_count": 9
        }
      ]
    },
    {
      "cell_type": "markdown",
      "metadata": {
        "id": "phWhNy83Gae4"
      },
      "source": [
        "Obyuekt yaratishda indekslarni belgilash"
      ]
    },
    {
      "cell_type": "code",
      "metadata": {
        "id": "LDgzaEpcGLsw"
      },
      "source": [
        "obj2 = Series([6, 3, 2, 1], index = ['a', 'b', 'c', 'd'])"
      ],
      "execution_count": null,
      "outputs": []
    },
    {
      "cell_type": "code",
      "metadata": {
        "colab": {
          "base_uri": "https://localhost:8080/"
        },
        "id": "Q3FESs05Gtca",
        "outputId": "19be74dd-4a9e-4a06-edc8-109d591d3e0c"
      },
      "source": [
        "obj2"
      ],
      "execution_count": null,
      "outputs": [
        {
          "output_type": "execute_result",
          "data": {
            "text/plain": [
              "a    6\n",
              "b    3\n",
              "c    2\n",
              "d    1\n",
              "dtype: int64"
            ]
          },
          "metadata": {},
          "execution_count": 11
        }
      ]
    },
    {
      "cell_type": "code",
      "metadata": {
        "colab": {
          "base_uri": "https://localhost:8080/"
        },
        "id": "ske0FsbHGvcQ",
        "outputId": "3731f5af-f1ca-4bea-cd85-d63e8fca3d02"
      },
      "source": [
        "obj2.index #obj2 ning indekslari"
      ],
      "execution_count": null,
      "outputs": [
        {
          "output_type": "execute_result",
          "data": {
            "text/plain": [
              "Index(['a', 'b', 'c', 'd'], dtype='object')"
            ]
          },
          "metadata": {},
          "execution_count": 13
        }
      ]
    },
    {
      "cell_type": "markdown",
      "metadata": {
        "id": "N59KI3CXG8my"
      },
      "source": [
        "Indeks bo'yicha ko'rish"
      ]
    },
    {
      "cell_type": "code",
      "metadata": {
        "colab": {
          "base_uri": "https://localhost:8080/"
        },
        "id": "zSydhd1PG0fI",
        "outputId": "8dc51baf-22d4-4eec-d763-5a317c172141"
      },
      "source": [
        "obj2['a'] # a indeksli element"
      ],
      "execution_count": null,
      "outputs": [
        {
          "output_type": "execute_result",
          "data": {
            "text/plain": [
              "6"
            ]
          },
          "metadata": {},
          "execution_count": 14
        }
      ]
    },
    {
      "cell_type": "markdown",
      "metadata": {
        "id": "m5m8xq2nHFE8"
      },
      "source": [
        "Indeks bo'yicha bir nechta elementni ko'rish"
      ]
    },
    {
      "cell_type": "code",
      "metadata": {
        "colab": {
          "base_uri": "https://localhost:8080/"
        },
        "id": "ONJfHSFLG4zw",
        "outputId": "c01ac933-9134-4d4c-b7f0-5c82152eef1b"
      },
      "source": [
        "obj2[['a', 'b', 'd']] # a, b, d indeksli elementlar"
      ],
      "execution_count": null,
      "outputs": [
        {
          "output_type": "execute_result",
          "data": {
            "text/plain": [
              "a    6\n",
              "b    3\n",
              "d    1\n",
              "dtype: int64"
            ]
          },
          "metadata": {},
          "execution_count": 18
        }
      ]
    },
    {
      "cell_type": "markdown",
      "metadata": {
        "id": "OkPfkrhiHbTF"
      },
      "source": [
        "Mavjud bo'lmagan indeks bo'yicha chaqirish"
      ]
    },
    {
      "cell_type": "code",
      "metadata": {
        "id": "fGglmTV0Hz5o"
      },
      "source": [
        "obj2['x'] # mavjud bo'lmagan indeks orqali chaqirsak xato beradi"
      ],
      "execution_count": null,
      "outputs": []
    },
    {
      "cell_type": "markdown",
      "metadata": {
        "id": "_fdOKdldHllP"
      },
      "source": [
        "Filter. Berilgan shart asosida obyekt elementlarini chaqirish"
      ]
    },
    {
      "cell_type": "code",
      "metadata": {
        "colab": {
          "base_uri": "https://localhost:8080/"
        },
        "id": "cVNyFji5HaQZ",
        "outputId": "83204585-cada-4734-cc58-0b9387075e41"
      },
      "source": [
        "obj2[obj2>2] # obj2 ning 2 dan katta elementlari"
      ],
      "execution_count": null,
      "outputs": [
        {
          "output_type": "execute_result",
          "data": {
            "text/plain": [
              "a    6\n",
              "b    3\n",
              "dtype: int64"
            ]
          },
          "metadata": {},
          "execution_count": 20
        }
      ]
    },
    {
      "cell_type": "code",
      "metadata": {
        "colab": {
          "base_uri": "https://localhost:8080/"
        },
        "id": "fz8QUzyEHprZ",
        "outputId": "b417cce4-d097-4def-d047-1ebb321c0948"
      },
      "source": [
        "obj2[obj2<3] # obj2 ning 3 dan kichik elementlari"
      ],
      "execution_count": null,
      "outputs": [
        {
          "output_type": "execute_result",
          "data": {
            "text/plain": [
              "c    2\n",
              "d    1\n",
              "dtype: int64"
            ]
          },
          "metadata": {},
          "execution_count": 21
        }
      ]
    },
    {
      "cell_type": "markdown",
      "metadata": {
        "id": "U3UvjLxGH4C7"
      },
      "source": [
        "Arifmetik amallar"
      ]
    },
    {
      "cell_type": "code",
      "metadata": {
        "colab": {
          "base_uri": "https://localhost:8080/"
        },
        "id": "p5talBCsHwM5",
        "outputId": "954f33f6-9002-4b27-a130-260f6eebf8d0"
      },
      "source": [
        "obj2*2 # obj2 ning har bir elementini 2 ga ko'paytirish"
      ],
      "execution_count": null,
      "outputs": [
        {
          "output_type": "execute_result",
          "data": {
            "text/plain": [
              "a    12\n",
              "b     6\n",
              "c     4\n",
              "d     2\n",
              "dtype: int64"
            ]
          },
          "metadata": {},
          "execution_count": 22
        }
      ]
    },
    {
      "cell_type": "markdown",
      "metadata": {
        "id": "npZTUh42IFAb"
      },
      "source": [
        "Matematik amallar"
      ]
    },
    {
      "cell_type": "code",
      "metadata": {
        "colab": {
          "base_uri": "https://localhost:8080/"
        },
        "id": "hhXstlW7H8Te",
        "outputId": "4fe692e8-8c46-4ecd-fb87-d2b639686b4b"
      },
      "source": [
        "np.exp(obj2) # obj2 ning har bir elementining exp (eksoponenta)sini hisoblash"
      ],
      "execution_count": null,
      "outputs": [
        {
          "output_type": "execute_result",
          "data": {
            "text/plain": [
              "a    403.428793\n",
              "b     20.085537\n",
              "c      7.389056\n",
              "d      2.718282\n",
              "dtype: float64"
            ]
          },
          "metadata": {},
          "execution_count": 23
        }
      ]
    },
    {
      "cell_type": "code",
      "metadata": {
        "id": "qFM0qmFvIJmA"
      },
      "source": [
        ""
      ],
      "execution_count": null,
      "outputs": []
    }
  ]
}