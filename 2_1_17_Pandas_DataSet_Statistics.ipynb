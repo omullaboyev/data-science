{
  "nbformat": 4,
  "nbformat_minor": 0,
  "metadata": {
    "colab": {
      "name": "2.1.17.Pandas_DataSet_Statistics.ipynb",
      "provenance": [],
      "collapsed_sections": [],
      "include_colab_link": true
    },
    "kernelspec": {
      "name": "python3",
      "display_name": "Python 3"
    },
    "language_info": {
      "name": "python"
    }
  },
  "cells": [
    {
      "cell_type": "markdown",
      "metadata": {
        "id": "view-in-github",
        "colab_type": "text"
      },
      "source": [
        "<a href=\"https://colab.research.google.com/github/omullaboyev/data-science/blob/main/2_1_17_Pandas_DataSet_Statistics.ipynb\" target=\"_parent\"><img src=\"https://colab.research.google.com/assets/colab-badge.svg\" alt=\"Open In Colab\"/></a>"
      ]
    },
    {
      "cell_type": "markdown",
      "metadata": {
        "id": "RMzxxRKx-Bg3"
      },
      "source": [
        "#Data Science va Sun'iy Intellekt Praktikum"
      ]
    },
    {
      "cell_type": "markdown",
      "metadata": {
        "id": "tfoOs_Sd-EPH"
      },
      "source": [
        "Ma'lumotlar Tahlili. Pandas kutubxonasi"
      ]
    },
    {
      "cell_type": "markdown",
      "metadata": {
        "id": "SwzvMsZs-Gge"
      },
      "source": [
        "2.1 Pandas kutubxonasi bilan ishlash."
      ]
    },
    {
      "cell_type": "markdown",
      "metadata": {
        "id": "VRAw03LH-I1j"
      },
      "source": [
        "2.1.17 Dataset statistikasi: min, max, o’rta qiymat va summa"
      ]
    },
    {
      "cell_type": "code",
      "metadata": {
        "id": "LLMv9VOL99R1"
      },
      "source": [
        "import pandas as pd\n",
        "import numpy as np"
      ],
      "execution_count": 2,
      "outputs": []
    },
    {
      "cell_type": "code",
      "metadata": {
        "id": "ZKjTI7iK-LOL",
        "colab": {
          "base_uri": "https://localhost:8080/",
          "height": 488
        },
        "outputId": "62585425-4f69-48d2-e50f-f9254dc8da73"
      },
      "source": [
        "# Keyingi mashqlar uchun ma'lumotlarni Githubdan yuklab olamiz\n",
        "df = pd.read_csv(\"https://raw.githubusercontent.com/anvarnarz/praktikum_datasets/main/uzbekistan.csv\", index_col=0)\n",
        "df.columns = [\"maydoni\",\"aholisi\"]\n",
        "df"
      ],
      "execution_count": 3,
      "outputs": [
        {
          "output_type": "execute_result",
          "data": {
            "text/html": [
              "<div>\n",
              "<style scoped>\n",
              "    .dataframe tbody tr th:only-of-type {\n",
              "        vertical-align: middle;\n",
              "    }\n",
              "\n",
              "    .dataframe tbody tr th {\n",
              "        vertical-align: top;\n",
              "    }\n",
              "\n",
              "    .dataframe thead th {\n",
              "        text-align: right;\n",
              "    }\n",
              "</style>\n",
              "<table border=\"1\" class=\"dataframe\">\n",
              "  <thead>\n",
              "    <tr style=\"text-align: right;\">\n",
              "      <th></th>\n",
              "      <th>maydoni</th>\n",
              "      <th>aholisi</th>\n",
              "    </tr>\n",
              "    <tr>\n",
              "      <th>Boʻlinishi</th>\n",
              "      <th></th>\n",
              "      <th></th>\n",
              "    </tr>\n",
              "  </thead>\n",
              "  <tbody>\n",
              "    <tr>\n",
              "      <th>Andijon viloyati</th>\n",
              "      <td>4200.0</td>\n",
              "      <td>1899000.0</td>\n",
              "    </tr>\n",
              "    <tr>\n",
              "      <th>Buxoro viloyati</th>\n",
              "      <td>39400.0</td>\n",
              "      <td>1384700.0</td>\n",
              "    </tr>\n",
              "    <tr>\n",
              "      <th>Fargʻona viloyati</th>\n",
              "      <td>6800.0</td>\n",
              "      <td>2597000.0</td>\n",
              "    </tr>\n",
              "    <tr>\n",
              "      <th>Jizzax viloyati</th>\n",
              "      <td>20500.0</td>\n",
              "      <td>910500.0</td>\n",
              "    </tr>\n",
              "    <tr>\n",
              "      <th>Xorazm viloyati</th>\n",
              "      <td>6300.0</td>\n",
              "      <td>1200000.0</td>\n",
              "    </tr>\n",
              "    <tr>\n",
              "      <th>Namangan viloyati</th>\n",
              "      <td>7900.0</td>\n",
              "      <td>1862000.0</td>\n",
              "    </tr>\n",
              "    <tr>\n",
              "      <th>Navoiy viloyati</th>\n",
              "      <td>110800.0</td>\n",
              "      <td>767500.0</td>\n",
              "    </tr>\n",
              "    <tr>\n",
              "      <th>Qashqadaryo viloyati</th>\n",
              "      <td>28400.0</td>\n",
              "      <td>2029000.0</td>\n",
              "    </tr>\n",
              "    <tr>\n",
              "      <th>Qoraqalpogʻiston Respublikasi</th>\n",
              "      <td>160000.0</td>\n",
              "      <td>1200000.0</td>\n",
              "    </tr>\n",
              "    <tr>\n",
              "      <th>Samarqand viloyati</th>\n",
              "      <td>16400.0</td>\n",
              "      <td>2322000.0</td>\n",
              "    </tr>\n",
              "    <tr>\n",
              "      <th>Sirdaryo viloyati</th>\n",
              "      <td>5100.0</td>\n",
              "      <td>648100.0</td>\n",
              "    </tr>\n",
              "    <tr>\n",
              "      <th>Surxondaryo viloyati</th>\n",
              "      <td>20800.0</td>\n",
              "      <td>1676000.0</td>\n",
              "    </tr>\n",
              "    <tr>\n",
              "      <th>Toshkent viloyati</th>\n",
              "      <td>15300.0</td>\n",
              "      <td>4450000.0</td>\n",
              "    </tr>\n",
              "  </tbody>\n",
              "</table>\n",
              "</div>"
            ],
            "text/plain": [
              "                                maydoni    aholisi\n",
              "Boʻlinishi                                        \n",
              "Andijon viloyati                 4200.0  1899000.0\n",
              "Buxoro viloyati                 39400.0  1384700.0\n",
              "Fargʻona viloyati                6800.0  2597000.0\n",
              "Jizzax viloyati                 20500.0   910500.0\n",
              "Xorazm viloyati                  6300.0  1200000.0\n",
              "Namangan viloyati                7900.0  1862000.0\n",
              "Navoiy viloyati                110800.0   767500.0\n",
              "Qashqadaryo viloyati            28400.0  2029000.0\n",
              "Qoraqalpogʻiston Respublikasi  160000.0  1200000.0\n",
              "Samarqand viloyati              16400.0  2322000.0\n",
              "Sirdaryo viloyati                5100.0   648100.0\n",
              "Surxondaryo viloyati            20800.0  1676000.0\n",
              "Toshkent viloyati               15300.0  4450000.0"
            ]
          },
          "metadata": {},
          "execution_count": 3
        }
      ]
    },
    {
      "cell_type": "markdown",
      "source": [
        "#`sum` - Yig'indi"
      ],
      "metadata": {
        "id": "Zpk9_c0vcmuY"
      }
    },
    {
      "cell_type": "code",
      "source": [
        "df.sum() # maydoni va aholisi ustunlarining yig'indisi"
      ],
      "metadata": {
        "colab": {
          "base_uri": "https://localhost:8080/"
        },
        "id": "qkHKe3EKceb6",
        "outputId": "6f37cf09-4ad2-4a8b-c132-03833100615d"
      },
      "execution_count": 4,
      "outputs": [
        {
          "output_type": "execute_result",
          "data": {
            "text/plain": [
              "maydoni      441900.0\n",
              "aholisi    22945800.0\n",
              "dtype: float64"
            ]
          },
          "metadata": {},
          "execution_count": 4
        }
      ]
    },
    {
      "cell_type": "code",
      "source": [
        "# Keyingi mashqlar uchun ma'lumotlarni Githubdan yuklab olamiz\n",
        "df2 = pd.read_csv(\"https://raw.githubusercontent.com/anvarnarz/praktikum_datasets/main/gm_sales.csv\", index_col=0)\n",
        "df2.head()"
      ],
      "metadata": {
        "colab": {
          "base_uri": "https://localhost:8080/",
          "height": 206
        },
        "id": "CEWnU6-ucuhc",
        "outputId": "25b345f5-68ae-4cab-d404-43fc5dfd5d54"
      },
      "execution_count": 5,
      "outputs": [
        {
          "output_type": "execute_result",
          "data": {
            "text/html": [
              "<div>\n",
              "<style scoped>\n",
              "    .dataframe tbody tr th:only-of-type {\n",
              "        vertical-align: middle;\n",
              "    }\n",
              "\n",
              "    .dataframe tbody tr th {\n",
              "        vertical-align: top;\n",
              "    }\n",
              "\n",
              "    .dataframe thead th {\n",
              "        text-align: right;\n",
              "    }\n",
              "</style>\n",
              "<table border=\"1\" class=\"dataframe\">\n",
              "  <thead>\n",
              "    <tr style=\"text-align: right;\">\n",
              "      <th></th>\n",
              "      <th>2020</th>\n",
              "      <th>2021</th>\n",
              "    </tr>\n",
              "  </thead>\n",
              "  <tbody>\n",
              "    <tr>\n",
              "      <th>Labo</th>\n",
              "      <td>4521</td>\n",
              "      <td>7542</td>\n",
              "    </tr>\n",
              "    <tr>\n",
              "      <th>Damas</th>\n",
              "      <td>30889</td>\n",
              "      <td>33682</td>\n",
              "    </tr>\n",
              "    <tr>\n",
              "      <th>Spark</th>\n",
              "      <td>16370</td>\n",
              "      <td>6485</td>\n",
              "    </tr>\n",
              "    <tr>\n",
              "      <th>Nexia</th>\n",
              "      <td>41663</td>\n",
              "      <td>14442</td>\n",
              "    </tr>\n",
              "    <tr>\n",
              "      <th>Cobalt</th>\n",
              "      <td>44901</td>\n",
              "      <td>36317</td>\n",
              "    </tr>\n",
              "  </tbody>\n",
              "</table>\n",
              "</div>"
            ],
            "text/plain": [
              "         2020   2021\n",
              "Labo     4521   7542\n",
              "Damas   30889  33682\n",
              "Spark   16370   6485\n",
              "Nexia   41663  14442\n",
              "Cobalt  44901  36317"
            ]
          },
          "metadata": {},
          "execution_count": 5
        }
      ]
    },
    {
      "cell_type": "code",
      "source": [
        "df2.sum() # 2020 va 2021 qatorlar yig'indisi - vertical sum"
      ],
      "metadata": {
        "colab": {
          "base_uri": "https://localhost:8080/"
        },
        "id": "0jwQtgqxdRdc",
        "outputId": "21f6577d-b9bf-4615-8751-e1625bc1c927"
      },
      "execution_count": 7,
      "outputs": [
        {
          "output_type": "execute_result",
          "data": {
            "text/plain": [
              "2020    168712\n",
              "2021    124734\n",
              "dtype: int64"
            ]
          },
          "metadata": {},
          "execution_count": 7
        }
      ]
    },
    {
      "cell_type": "markdown",
      "source": [
        "#Ustunlar bo'yicha yig'indi"
      ],
      "metadata": {
        "id": "z73szDx5d2xC"
      }
    },
    {
      "cell_type": "code",
      "source": [
        "df2.sum(axis = 1) # 2020 va 2021 bo'yicha ustunlar yig'indisi - horizontal sum"
      ],
      "metadata": {
        "colab": {
          "base_uri": "https://localhost:8080/"
        },
        "id": "5dpfvLr1dksE",
        "outputId": "499fef7f-82bc-4265-8235-cc9512a78c6e"
      },
      "execution_count": 9,
      "outputs": [
        {
          "output_type": "execute_result",
          "data": {
            "text/plain": [
              "Labo      12063\n",
              "Damas     64571\n",
              "Spark     22855\n",
              "Nexia     56105\n",
              "Cobalt    81218\n",
              "Gentra    56634\n",
              "dtype: int64"
            ]
          },
          "metadata": {},
          "execution_count": 9
        }
      ]
    },
    {
      "cell_type": "code",
      "source": [
        "df2.sum(axis = \"columns\") # 2020 va 2021 bo'yicha ustunlar yig'indisi - horizontal sum"
      ],
      "metadata": {
        "colab": {
          "base_uri": "https://localhost:8080/"
        },
        "id": "jH2UBgzRd7Xs",
        "outputId": "fff01ec6-ef7a-4a59-b144-3406b90c036b"
      },
      "execution_count": 10,
      "outputs": [
        {
          "output_type": "execute_result",
          "data": {
            "text/plain": [
              "Labo      12063\n",
              "Damas     64571\n",
              "Spark     22855\n",
              "Nexia     56105\n",
              "Cobalt    81218\n",
              "Gentra    56634\n",
              "dtype: int64"
            ]
          },
          "metadata": {},
          "execution_count": 10
        }
      ]
    },
    {
      "cell_type": "markdown",
      "source": [
        "#`mean` - o'rtacha qiymat"
      ],
      "metadata": {
        "id": "Tks4M7YHfIL2"
      }
    },
    {
      "cell_type": "code",
      "source": [
        "df2.mean(axis = 1) # 2020 va 2021 ustunlaridagi elementlarning o'rtacha qiymati"
      ],
      "metadata": {
        "colab": {
          "base_uri": "https://localhost:8080/"
        },
        "id": "Yv-_4ljLeyIU",
        "outputId": "607379d4-ff73-4061-be05-443c5b899249"
      },
      "execution_count": 11,
      "outputs": [
        {
          "output_type": "execute_result",
          "data": {
            "text/plain": [
              "Labo       6031.5\n",
              "Damas     32285.5\n",
              "Spark     11427.5\n",
              "Nexia     28052.5\n",
              "Cobalt    40609.0\n",
              "Gentra    28317.0\n",
              "dtype: float64"
            ]
          },
          "metadata": {},
          "execution_count": 11
        }
      ]
    },
    {
      "cell_type": "code",
      "source": [
        "df.mean() # Ustunlar bo'yicha o'rtaca qiymat. Viloyatlarning o'rtacha maydoni va aholisi."
      ],
      "metadata": {
        "colab": {
          "base_uri": "https://localhost:8080/"
        },
        "id": "En6eROeofVpb",
        "outputId": "3f3cefd8-3e9b-43c6-cdd9-48fe45b9425d"
      },
      "execution_count": 13,
      "outputs": [
        {
          "output_type": "execute_result",
          "data": {
            "text/plain": [
              "maydoni    3.399231e+04\n",
              "aholisi    1.765062e+06\n",
              "dtype: float64"
            ]
          },
          "metadata": {},
          "execution_count": 13
        }
      ]
    },
    {
      "cell_type": "markdown",
      "source": [
        "Boshqa funksiyalar\n",
        "count - NaN bo'lmagan qiymatlar soni\n",
        "\n",
        "median - qiymatlar medianini hisbolash\n",
        "\n",
        "mad - mean absolute deviation\n",
        "\n",
        "prod - barcha qiymatlar ko'paytmasi\n",
        "\n",
        "var - variance (dispersiya)\n",
        "\n",
        "std - standart deviation (standart chetlanis)\n",
        "\n",
        "skew - skewness\n",
        "\n",
        "kurt - kurtosis\n",
        "\n",
        "cumsum - cumulative sum\n",
        "\n",
        "cummin va cummax- cumulative min and max\n",
        "\n",
        "cumprod - cumulative product\n",
        "\n",
        "diff - arifmetik farq (difference)\n",
        "\n",
        "pct_change - percent changes"
      ],
      "metadata": {
        "id": "Ah3mHwm4goSZ"
      }
    },
    {
      "cell_type": "markdown",
      "source": [
        "#`idxmin` eng kichkina qiymatlarning indekslari"
      ],
      "metadata": {
        "id": "dn_nRd5shEtP"
      }
    },
    {
      "cell_type": "code",
      "source": [
        "df.idxmin() # maydon bo'yicha eng kichigi Andijon, aholi bo'yicha eng kichigi Sirdaryo"
      ],
      "metadata": {
        "colab": {
          "base_uri": "https://localhost:8080/"
        },
        "id": "TR0DKl5Lfvzs",
        "outputId": "2a6adee9-318f-451e-ddf0-7ade6ab77907"
      },
      "execution_count": 15,
      "outputs": [
        {
          "output_type": "execute_result",
          "data": {
            "text/plain": [
              "maydoni     Andijon viloyati\n",
              "aholisi    Sirdaryo viloyati\n",
              "dtype: object"
            ]
          },
          "metadata": {},
          "execution_count": 15
        }
      ]
    },
    {
      "cell_type": "markdown",
      "source": [
        "#idxmax - eng katta qiymatlarning indekkslari"
      ],
      "metadata": {
        "id": "Pd0Ml8oyhffZ"
      }
    },
    {
      "cell_type": "code",
      "source": [
        "df.idxmax() # maydon bo'yicha eng kattasi Qoraqalpog'iston, aholi bo'yicha eng kattasi Toshkent viloyati"
      ],
      "metadata": {
        "colab": {
          "base_uri": "https://localhost:8080/"
        },
        "id": "ng3zrSpmhKuz",
        "outputId": "3c3d9fe1-c34c-47f1-c6a2-61862d351194"
      },
      "execution_count": 17,
      "outputs": [
        {
          "output_type": "execute_result",
          "data": {
            "text/plain": [
              "maydoni    Qoraqalpogʻiston Respublikasi\n",
              "aholisi                Toshkent viloyati\n",
              "dtype: object"
            ]
          },
          "metadata": {},
          "execution_count": 17
        }
      ]
    },
    {
      "cell_type": "markdown",
      "source": [
        "#Berilgan ustun bo'yicha idxmin va idxmax"
      ],
      "metadata": {
        "id": "7nbVRT4ziMcT"
      }
    },
    {
      "cell_type": "code",
      "source": [
        "df[\"maydoni\"].idxmax() # maydoni ustuni bo'yicha eng katta"
      ],
      "metadata": {
        "colab": {
          "base_uri": "https://localhost:8080/",
          "height": 35
        },
        "id": "75bMQA-5ho9b",
        "outputId": "d10f4234-65f6-401b-8f13-697e3bc9e4e6"
      },
      "execution_count": 18,
      "outputs": [
        {
          "output_type": "execute_result",
          "data": {
            "application/vnd.google.colaboratory.intrinsic+json": {
              "type": "string"
            },
            "text/plain": [
              "'Qoraqalpogʻiston Respublikasi'"
            ]
          },
          "metadata": {},
          "execution_count": 18
        }
      ]
    },
    {
      "cell_type": "code",
      "source": [
        "df[\"maydoni\"].idxmin() # maydoni ustuni bo'yicha eng kichik"
      ],
      "metadata": {
        "colab": {
          "base_uri": "https://localhost:8080/",
          "height": 35
        },
        "id": "l0LgjL0jiV6D",
        "outputId": "dd483fed-b660-4f8f-fc50-3ecb1408b9e5"
      },
      "execution_count": 19,
      "outputs": [
        {
          "output_type": "execute_result",
          "data": {
            "application/vnd.google.colaboratory.intrinsic+json": {
              "type": "string"
            },
            "text/plain": [
              "'Andijon viloyati'"
            ]
          },
          "metadata": {},
          "execution_count": 19
        }
      ]
    },
    {
      "cell_type": "code",
      "source": [
        "df[\"aholisi\"].idxmax() # aholisi ustuni bo'yicha eng katta"
      ],
      "metadata": {
        "colab": {
          "base_uri": "https://localhost:8080/",
          "height": 35
        },
        "id": "JNJdfR-gia3r",
        "outputId": "cd16ad87-c939-416c-9071-83cdea7ae4dc"
      },
      "execution_count": 20,
      "outputs": [
        {
          "output_type": "execute_result",
          "data": {
            "application/vnd.google.colaboratory.intrinsic+json": {
              "type": "string"
            },
            "text/plain": [
              "'Toshkent viloyati'"
            ]
          },
          "metadata": {},
          "execution_count": 20
        }
      ]
    },
    {
      "cell_type": "code",
      "source": [
        "df[\"aholisi\"].idxmin() # aholisi ustuni bo'yicha eng kichik"
      ],
      "metadata": {
        "colab": {
          "base_uri": "https://localhost:8080/",
          "height": 35
        },
        "id": "MXvsYTLxijxb",
        "outputId": "7b9f8672-13bf-47c6-8061-e2e34de9603a"
      },
      "execution_count": 21,
      "outputs": [
        {
          "output_type": "execute_result",
          "data": {
            "application/vnd.google.colaboratory.intrinsic+json": {
              "type": "string"
            },
            "text/plain": [
              "'Sirdaryo viloyati'"
            ]
          },
          "metadata": {},
          "execution_count": 21
        }
      ]
    },
    {
      "cell_type": "markdown",
      "source": [
        "#`argmin` - eng kichik qiymatga ega elementning **tartib raqami**. Faqat Series obyektlari uchun."
      ],
      "metadata": {
        "id": "NiFw73InixeD"
      }
    },
    {
      "cell_type": "code",
      "source": [
        "df[\"aholisi\"] # Series obyekti"
      ],
      "metadata": {
        "colab": {
          "base_uri": "https://localhost:8080/"
        },
        "id": "2CJOiot_ime7",
        "outputId": "d7573326-15c5-40b4-d552-05f3208da784"
      },
      "execution_count": 22,
      "outputs": [
        {
          "output_type": "execute_result",
          "data": {
            "text/plain": [
              "Boʻlinishi\n",
              "Andijon viloyati                 1899000.0\n",
              "Buxoro viloyati                  1384700.0\n",
              "Fargʻona viloyati                2597000.0\n",
              "Jizzax viloyati                   910500.0\n",
              "Xorazm viloyati                  1200000.0\n",
              "Namangan viloyati                1862000.0\n",
              "Navoiy viloyati                   767500.0\n",
              "Qashqadaryo viloyati             2029000.0\n",
              "Qoraqalpogʻiston Respublikasi    1200000.0\n",
              "Samarqand viloyati               2322000.0\n",
              "Sirdaryo viloyati                 648100.0\n",
              "Surxondaryo viloyati             1676000.0\n",
              "Toshkent viloyati                4450000.0\n",
              "Name: aholisi, dtype: float64"
            ]
          },
          "metadata": {},
          "execution_count": 22
        }
      ]
    },
    {
      "cell_type": "code",
      "source": [
        "df[\"aholisi\"].argmin() # eng kichik qiymatli element tartib raqami"
      ],
      "metadata": {
        "colab": {
          "base_uri": "https://localhost:8080/"
        },
        "id": "VhS7mxzdjG5T",
        "outputId": "e2233e83-a894-4388-e61c-ef30d818a41c"
      },
      "execution_count": 23,
      "outputs": [
        {
          "output_type": "execute_result",
          "data": {
            "text/plain": [
              "10"
            ]
          },
          "metadata": {},
          "execution_count": 23
        }
      ]
    },
    {
      "cell_type": "code",
      "source": [
        "df.iloc[10]"
      ],
      "metadata": {
        "colab": {
          "base_uri": "https://localhost:8080/"
        },
        "id": "DXvQRwkTjNhD",
        "outputId": "4eb5d463-c70a-467d-f9b6-e5fb2c4f3be7"
      },
      "execution_count": 24,
      "outputs": [
        {
          "output_type": "execute_result",
          "data": {
            "text/plain": [
              "maydoni      5100.0\n",
              "aholisi    648100.0\n",
              "Name: Sirdaryo viloyati, dtype: float64"
            ]
          },
          "metadata": {},
          "execution_count": 24
        }
      ]
    },
    {
      "cell_type": "markdown",
      "source": [
        "#`argmax` - eng katta qiymatga ega elementning tartib raqami. Faqat Series obyektlari uchun."
      ],
      "metadata": {
        "id": "wqC_T63z0hq4"
      }
    },
    {
      "cell_type": "code",
      "source": [
        "df[\"aholisi\"].argmax() # eng kichik qiymatli element tartib raqami"
      ],
      "metadata": {
        "colab": {
          "base_uri": "https://localhost:8080/"
        },
        "id": "fBpFX7S50ZwS",
        "outputId": "cd369176-6997-470f-d974-b76957ec3aef"
      },
      "execution_count": 25,
      "outputs": [
        {
          "output_type": "execute_result",
          "data": {
            "text/plain": [
              "12"
            ]
          },
          "metadata": {},
          "execution_count": 25
        }
      ]
    },
    {
      "cell_type": "code",
      "source": [
        "df.iloc[12]"
      ],
      "metadata": {
        "colab": {
          "base_uri": "https://localhost:8080/"
        },
        "id": "UwP9S0iM0npq",
        "outputId": "193b2d02-b858-44c4-e998-458c82cba297"
      },
      "execution_count": 26,
      "outputs": [
        {
          "output_type": "execute_result",
          "data": {
            "text/plain": [
              "maydoni      15300.0\n",
              "aholisi    4450000.0\n",
              "Name: Toshkent viloyati, dtype: float64"
            ]
          },
          "metadata": {},
          "execution_count": 26
        }
      ]
    },
    {
      "cell_type": "code",
      "source": [
        ""
      ],
      "metadata": {
        "id": "o7QTedlZ0qFB"
      },
      "execution_count": null,
      "outputs": []
    }
  ]
}