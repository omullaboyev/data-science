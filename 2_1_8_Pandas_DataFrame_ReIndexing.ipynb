{
  "nbformat": 4,
  "nbformat_minor": 0,
  "metadata": {
    "colab": {
      "name": "2.1.8.Pandas-DataFrame-ReIndexing.ipynb",
      "provenance": [],
      "collapsed_sections": [],
      "authorship_tag": "ABX9TyOOm7hUj+6EuAkaHp0czrgQ",
      "include_colab_link": true
    },
    "kernelspec": {
      "name": "python3",
      "display_name": "Python 3"
    },
    "language_info": {
      "name": "python"
    }
  },
  "cells": [
    {
      "cell_type": "markdown",
      "metadata": {
        "id": "view-in-github",
        "colab_type": "text"
      },
      "source": [
        "<a href=\"https://colab.research.google.com/github/omullaboyev/data-science/blob/main/2_1_8_Pandas_DataFrame_ReIndexing.ipynb\" target=\"_parent\"><img src=\"https://colab.research.google.com/assets/colab-badge.svg\" alt=\"Open In Colab\"/></a>"
      ]
    },
    {
      "cell_type": "markdown",
      "metadata": {
        "id": "HE-aJGVxDXhW"
      },
      "source": [
        "#Data Science va Sun'iy Intellekt Praktikum"
      ]
    },
    {
      "cell_type": "markdown",
      "metadata": {
        "id": "wc_ou0ufDbCT"
      },
      "source": [
        "Ma'lumotlar Tahlili. Pandas kutubxonasi"
      ]
    },
    {
      "cell_type": "markdown",
      "metadata": {
        "id": "1FoV_28yDc9G"
      },
      "source": [
        "2.1 Pandas kutubxonasi bilan ishlash."
      ]
    },
    {
      "cell_type": "markdown",
      "metadata": {
        "id": "bYNA6HtBDxgo"
      },
      "source": [
        "2.1.8 Qayta Indekslash"
      ]
    },
    {
      "cell_type": "code",
      "metadata": {
        "id": "eCd2FiJtDNJK"
      },
      "source": [
        "# kutubxonalarni chaqirib olamiz\n",
        "import pandas as pd\n",
        "import numpy as np"
      ],
      "execution_count": 4,
      "outputs": []
    },
    {
      "cell_type": "markdown",
      "metadata": {
        "id": "oDodSIw0IFk2"
      },
      "source": [
        "Yillar bo'yicha O'zbekiston aholisining soni, o'sish tempi va zichligi lug'atini yaratib olamiz"
      ]
    },
    {
      "cell_type": "code",
      "metadata": {
        "colab": {
          "base_uri": "https://localhost:8080/",
          "height": 297
        },
        "id": "65cDctYpHIhP",
        "outputId": "494b280a-de4f-4eb9-cfd9-84ccd65d7190"
      },
      "source": [
        "# data\n",
        "data = {\n",
        "        \"Yil\": [2021, 2020, 2019, 2018, 2017, 2016, 2015, 2010],\n",
        "        \"Aholi soni\": [33.9, 33.5, 32.9, 32.5, 31.9, 31.4, 30.9, 28.5],\n",
        "        \"Temp\": [1.54, 1.48, 1.56, 1.62, 1.65, 1.66, 1.64, 1.53],\n",
        "        \"Zichlik\": [79.77, 78.68, 77.53, 76.34, 75.13, 73.91, 72.71, 67.03]\n",
        "} # Yillar bo'yicha O'zbekiston aholisining soni, o'sish tempi va zichligi lug'ati\n",
        "df = pd.DataFrame(data)\n",
        "df"
      ],
      "execution_count": 15,
      "outputs": [
        {
          "output_type": "execute_result",
          "data": {
            "text/html": [
              "<div>\n",
              "<style scoped>\n",
              "    .dataframe tbody tr th:only-of-type {\n",
              "        vertical-align: middle;\n",
              "    }\n",
              "\n",
              "    .dataframe tbody tr th {\n",
              "        vertical-align: top;\n",
              "    }\n",
              "\n",
              "    .dataframe thead th {\n",
              "        text-align: right;\n",
              "    }\n",
              "</style>\n",
              "<table border=\"1\" class=\"dataframe\">\n",
              "  <thead>\n",
              "    <tr style=\"text-align: right;\">\n",
              "      <th></th>\n",
              "      <th>Yil</th>\n",
              "      <th>Aholi soni</th>\n",
              "      <th>Temp</th>\n",
              "      <th>Zichlik</th>\n",
              "    </tr>\n",
              "  </thead>\n",
              "  <tbody>\n",
              "    <tr>\n",
              "      <th>0</th>\n",
              "      <td>2021</td>\n",
              "      <td>33.9</td>\n",
              "      <td>1.54</td>\n",
              "      <td>79.77</td>\n",
              "    </tr>\n",
              "    <tr>\n",
              "      <th>1</th>\n",
              "      <td>2020</td>\n",
              "      <td>33.5</td>\n",
              "      <td>1.48</td>\n",
              "      <td>78.68</td>\n",
              "    </tr>\n",
              "    <tr>\n",
              "      <th>2</th>\n",
              "      <td>2019</td>\n",
              "      <td>32.9</td>\n",
              "      <td>1.56</td>\n",
              "      <td>77.53</td>\n",
              "    </tr>\n",
              "    <tr>\n",
              "      <th>3</th>\n",
              "      <td>2018</td>\n",
              "      <td>32.5</td>\n",
              "      <td>1.62</td>\n",
              "      <td>76.34</td>\n",
              "    </tr>\n",
              "    <tr>\n",
              "      <th>4</th>\n",
              "      <td>2017</td>\n",
              "      <td>31.9</td>\n",
              "      <td>1.65</td>\n",
              "      <td>75.13</td>\n",
              "    </tr>\n",
              "    <tr>\n",
              "      <th>5</th>\n",
              "      <td>2016</td>\n",
              "      <td>31.4</td>\n",
              "      <td>1.66</td>\n",
              "      <td>73.91</td>\n",
              "    </tr>\n",
              "    <tr>\n",
              "      <th>6</th>\n",
              "      <td>2015</td>\n",
              "      <td>30.9</td>\n",
              "      <td>1.64</td>\n",
              "      <td>72.71</td>\n",
              "    </tr>\n",
              "    <tr>\n",
              "      <th>7</th>\n",
              "      <td>2010</td>\n",
              "      <td>28.5</td>\n",
              "      <td>1.53</td>\n",
              "      <td>67.03</td>\n",
              "    </tr>\n",
              "  </tbody>\n",
              "</table>\n",
              "</div>"
            ],
            "text/plain": [
              "    Yil  Aholi soni  Temp  Zichlik\n",
              "0  2021        33.9  1.54    79.77\n",
              "1  2020        33.5  1.48    78.68\n",
              "2  2019        32.9  1.56    77.53\n",
              "3  2018        32.5  1.62    76.34\n",
              "4  2017        31.9  1.65    75.13\n",
              "5  2016        31.4  1.66    73.91\n",
              "6  2015        30.9  1.64    72.71\n",
              "7  2010        28.5  1.53    67.03"
            ]
          },
          "metadata": {},
          "execution_count": 15
        }
      ]
    },
    {
      "cell_type": "markdown",
      "metadata": {
        "id": "J_cpx1uyIr5D"
      },
      "source": [
        "DataFrame ning indekslarini o'zgartirish"
      ]
    },
    {
      "cell_type": "code",
      "metadata": {
        "colab": {
          "base_uri": "https://localhost:8080/",
          "height": 297
        },
        "id": "VmpY2vTgIDMN",
        "outputId": "95f842c0-bc3a-4d55-9c43-deb9bffc65c6"
      },
      "source": [
        "df.index = [21, 20, 19, 18, 17, 16, 15, 10]\n",
        "df"
      ],
      "execution_count": 16,
      "outputs": [
        {
          "output_type": "execute_result",
          "data": {
            "text/html": [
              "<div>\n",
              "<style scoped>\n",
              "    .dataframe tbody tr th:only-of-type {\n",
              "        vertical-align: middle;\n",
              "    }\n",
              "\n",
              "    .dataframe tbody tr th {\n",
              "        vertical-align: top;\n",
              "    }\n",
              "\n",
              "    .dataframe thead th {\n",
              "        text-align: right;\n",
              "    }\n",
              "</style>\n",
              "<table border=\"1\" class=\"dataframe\">\n",
              "  <thead>\n",
              "    <tr style=\"text-align: right;\">\n",
              "      <th></th>\n",
              "      <th>Yil</th>\n",
              "      <th>Aholi soni</th>\n",
              "      <th>Temp</th>\n",
              "      <th>Zichlik</th>\n",
              "    </tr>\n",
              "  </thead>\n",
              "  <tbody>\n",
              "    <tr>\n",
              "      <th>21</th>\n",
              "      <td>2021</td>\n",
              "      <td>33.9</td>\n",
              "      <td>1.54</td>\n",
              "      <td>79.77</td>\n",
              "    </tr>\n",
              "    <tr>\n",
              "      <th>20</th>\n",
              "      <td>2020</td>\n",
              "      <td>33.5</td>\n",
              "      <td>1.48</td>\n",
              "      <td>78.68</td>\n",
              "    </tr>\n",
              "    <tr>\n",
              "      <th>19</th>\n",
              "      <td>2019</td>\n",
              "      <td>32.9</td>\n",
              "      <td>1.56</td>\n",
              "      <td>77.53</td>\n",
              "    </tr>\n",
              "    <tr>\n",
              "      <th>18</th>\n",
              "      <td>2018</td>\n",
              "      <td>32.5</td>\n",
              "      <td>1.62</td>\n",
              "      <td>76.34</td>\n",
              "    </tr>\n",
              "    <tr>\n",
              "      <th>17</th>\n",
              "      <td>2017</td>\n",
              "      <td>31.9</td>\n",
              "      <td>1.65</td>\n",
              "      <td>75.13</td>\n",
              "    </tr>\n",
              "    <tr>\n",
              "      <th>16</th>\n",
              "      <td>2016</td>\n",
              "      <td>31.4</td>\n",
              "      <td>1.66</td>\n",
              "      <td>73.91</td>\n",
              "    </tr>\n",
              "    <tr>\n",
              "      <th>15</th>\n",
              "      <td>2015</td>\n",
              "      <td>30.9</td>\n",
              "      <td>1.64</td>\n",
              "      <td>72.71</td>\n",
              "    </tr>\n",
              "    <tr>\n",
              "      <th>10</th>\n",
              "      <td>2010</td>\n",
              "      <td>28.5</td>\n",
              "      <td>1.53</td>\n",
              "      <td>67.03</td>\n",
              "    </tr>\n",
              "  </tbody>\n",
              "</table>\n",
              "</div>"
            ],
            "text/plain": [
              "     Yil  Aholi soni  Temp  Zichlik\n",
              "21  2021        33.9  1.54    79.77\n",
              "20  2020        33.5  1.48    78.68\n",
              "19  2019        32.9  1.56    77.53\n",
              "18  2018        32.5  1.62    76.34\n",
              "17  2017        31.9  1.65    75.13\n",
              "16  2016        31.4  1.66    73.91\n",
              "15  2015        30.9  1.64    72.71\n",
              "10  2010        28.5  1.53    67.03"
            ]
          },
          "metadata": {},
          "execution_count": 16
        }
      ]
    },
    {
      "cell_type": "markdown",
      "metadata": {
        "id": "hratgfsTJAKc"
      },
      "source": [
        "#`reindex` metodi. Index yordamida tartiblash.\n",
        "\n",
        "**Asl DataFrame o'z xolida qoladi. reindex asl dataframening qayta indekslangan nusxasini qaytaradi.**"
      ]
    },
    {
      "cell_type": "code",
      "metadata": {
        "colab": {
          "base_uri": "https://localhost:8080/"
        },
        "id": "Z52RGQkFI3ZV",
        "outputId": "8c8a2d7f-f3b6-4b2f-8ff6-0cc1ecd86e40"
      },
      "source": [
        "ind = [21, 20, 19, 18, 17, 16, 15, 10] # oddiy ro'yxat yaratamiz\n",
        "ind.sort() # ro'yxatni tartiblaymiz\n",
        "ind"
      ],
      "execution_count": 17,
      "outputs": [
        {
          "output_type": "execute_result",
          "data": {
            "text/plain": [
              "[10, 15, 16, 17, 18, 19, 20, 21]"
            ]
          },
          "metadata": {},
          "execution_count": 17
        }
      ]
    },
    {
      "cell_type": "code",
      "metadata": {
        "colab": {
          "base_uri": "https://localhost:8080/",
          "height": 297
        },
        "id": "xPgR01oAJTvu",
        "outputId": "b1e34f6d-bd95-4457-9a35-ccc01331593f"
      },
      "source": [
        "# reindex\n",
        "df.reindex(ind) # reindex aslida yangi DataFrame qaytaradi"
      ],
      "execution_count": 18,
      "outputs": [
        {
          "output_type": "execute_result",
          "data": {
            "text/html": [
              "<div>\n",
              "<style scoped>\n",
              "    .dataframe tbody tr th:only-of-type {\n",
              "        vertical-align: middle;\n",
              "    }\n",
              "\n",
              "    .dataframe tbody tr th {\n",
              "        vertical-align: top;\n",
              "    }\n",
              "\n",
              "    .dataframe thead th {\n",
              "        text-align: right;\n",
              "    }\n",
              "</style>\n",
              "<table border=\"1\" class=\"dataframe\">\n",
              "  <thead>\n",
              "    <tr style=\"text-align: right;\">\n",
              "      <th></th>\n",
              "      <th>Yil</th>\n",
              "      <th>Aholi soni</th>\n",
              "      <th>Temp</th>\n",
              "      <th>Zichlik</th>\n",
              "    </tr>\n",
              "  </thead>\n",
              "  <tbody>\n",
              "    <tr>\n",
              "      <th>10</th>\n",
              "      <td>2010</td>\n",
              "      <td>28.5</td>\n",
              "      <td>1.53</td>\n",
              "      <td>67.03</td>\n",
              "    </tr>\n",
              "    <tr>\n",
              "      <th>15</th>\n",
              "      <td>2015</td>\n",
              "      <td>30.9</td>\n",
              "      <td>1.64</td>\n",
              "      <td>72.71</td>\n",
              "    </tr>\n",
              "    <tr>\n",
              "      <th>16</th>\n",
              "      <td>2016</td>\n",
              "      <td>31.4</td>\n",
              "      <td>1.66</td>\n",
              "      <td>73.91</td>\n",
              "    </tr>\n",
              "    <tr>\n",
              "      <th>17</th>\n",
              "      <td>2017</td>\n",
              "      <td>31.9</td>\n",
              "      <td>1.65</td>\n",
              "      <td>75.13</td>\n",
              "    </tr>\n",
              "    <tr>\n",
              "      <th>18</th>\n",
              "      <td>2018</td>\n",
              "      <td>32.5</td>\n",
              "      <td>1.62</td>\n",
              "      <td>76.34</td>\n",
              "    </tr>\n",
              "    <tr>\n",
              "      <th>19</th>\n",
              "      <td>2019</td>\n",
              "      <td>32.9</td>\n",
              "      <td>1.56</td>\n",
              "      <td>77.53</td>\n",
              "    </tr>\n",
              "    <tr>\n",
              "      <th>20</th>\n",
              "      <td>2020</td>\n",
              "      <td>33.5</td>\n",
              "      <td>1.48</td>\n",
              "      <td>78.68</td>\n",
              "    </tr>\n",
              "    <tr>\n",
              "      <th>21</th>\n",
              "      <td>2021</td>\n",
              "      <td>33.9</td>\n",
              "      <td>1.54</td>\n",
              "      <td>79.77</td>\n",
              "    </tr>\n",
              "  </tbody>\n",
              "</table>\n",
              "</div>"
            ],
            "text/plain": [
              "     Yil  Aholi soni  Temp  Zichlik\n",
              "10  2010        28.5  1.53    67.03\n",
              "15  2015        30.9  1.64    72.71\n",
              "16  2016        31.4  1.66    73.91\n",
              "17  2017        31.9  1.65    75.13\n",
              "18  2018        32.5  1.62    76.34\n",
              "19  2019        32.9  1.56    77.53\n",
              "20  2020        33.5  1.48    78.68\n",
              "21  2021        33.9  1.54    79.77"
            ]
          },
          "metadata": {},
          "execution_count": 18
        }
      ]
    },
    {
      "cell_type": "code",
      "metadata": {
        "colab": {
          "base_uri": "https://localhost:8080/",
          "height": 297
        },
        "id": "o_EqSpUdJf91",
        "outputId": "31708b3a-34df-4800-bb11-672891f5ca57"
      },
      "source": [
        "df"
      ],
      "execution_count": 19,
      "outputs": [
        {
          "output_type": "execute_result",
          "data": {
            "text/html": [
              "<div>\n",
              "<style scoped>\n",
              "    .dataframe tbody tr th:only-of-type {\n",
              "        vertical-align: middle;\n",
              "    }\n",
              "\n",
              "    .dataframe tbody tr th {\n",
              "        vertical-align: top;\n",
              "    }\n",
              "\n",
              "    .dataframe thead th {\n",
              "        text-align: right;\n",
              "    }\n",
              "</style>\n",
              "<table border=\"1\" class=\"dataframe\">\n",
              "  <thead>\n",
              "    <tr style=\"text-align: right;\">\n",
              "      <th></th>\n",
              "      <th>Yil</th>\n",
              "      <th>Aholi soni</th>\n",
              "      <th>Temp</th>\n",
              "      <th>Zichlik</th>\n",
              "    </tr>\n",
              "  </thead>\n",
              "  <tbody>\n",
              "    <tr>\n",
              "      <th>21</th>\n",
              "      <td>2021</td>\n",
              "      <td>33.9</td>\n",
              "      <td>1.54</td>\n",
              "      <td>79.77</td>\n",
              "    </tr>\n",
              "    <tr>\n",
              "      <th>20</th>\n",
              "      <td>2020</td>\n",
              "      <td>33.5</td>\n",
              "      <td>1.48</td>\n",
              "      <td>78.68</td>\n",
              "    </tr>\n",
              "    <tr>\n",
              "      <th>19</th>\n",
              "      <td>2019</td>\n",
              "      <td>32.9</td>\n",
              "      <td>1.56</td>\n",
              "      <td>77.53</td>\n",
              "    </tr>\n",
              "    <tr>\n",
              "      <th>18</th>\n",
              "      <td>2018</td>\n",
              "      <td>32.5</td>\n",
              "      <td>1.62</td>\n",
              "      <td>76.34</td>\n",
              "    </tr>\n",
              "    <tr>\n",
              "      <th>17</th>\n",
              "      <td>2017</td>\n",
              "      <td>31.9</td>\n",
              "      <td>1.65</td>\n",
              "      <td>75.13</td>\n",
              "    </tr>\n",
              "    <tr>\n",
              "      <th>16</th>\n",
              "      <td>2016</td>\n",
              "      <td>31.4</td>\n",
              "      <td>1.66</td>\n",
              "      <td>73.91</td>\n",
              "    </tr>\n",
              "    <tr>\n",
              "      <th>15</th>\n",
              "      <td>2015</td>\n",
              "      <td>30.9</td>\n",
              "      <td>1.64</td>\n",
              "      <td>72.71</td>\n",
              "    </tr>\n",
              "    <tr>\n",
              "      <th>10</th>\n",
              "      <td>2010</td>\n",
              "      <td>28.5</td>\n",
              "      <td>1.53</td>\n",
              "      <td>67.03</td>\n",
              "    </tr>\n",
              "  </tbody>\n",
              "</table>\n",
              "</div>"
            ],
            "text/plain": [
              "     Yil  Aholi soni  Temp  Zichlik\n",
              "21  2021        33.9  1.54    79.77\n",
              "20  2020        33.5  1.48    78.68\n",
              "19  2019        32.9  1.56    77.53\n",
              "18  2018        32.5  1.62    76.34\n",
              "17  2017        31.9  1.65    75.13\n",
              "16  2016        31.4  1.66    73.91\n",
              "15  2015        30.9  1.64    72.71\n",
              "10  2010        28.5  1.53    67.03"
            ]
          },
          "metadata": {},
          "execution_count": 19
        }
      ]
    },
    {
      "cell_type": "code",
      "metadata": {
        "colab": {
          "base_uri": "https://localhost:8080/",
          "height": 297
        },
        "id": "Pm-XExjAJlsA",
        "outputId": "995e450f-70f1-4469-eeb6-9c20ec017c20"
      },
      "source": [
        "df = df.reindex(ind) # df DataFrame ni qayta indekslab yana qayta df ga yozamiz\n",
        "df"
      ],
      "execution_count": 20,
      "outputs": [
        {
          "output_type": "execute_result",
          "data": {
            "text/html": [
              "<div>\n",
              "<style scoped>\n",
              "    .dataframe tbody tr th:only-of-type {\n",
              "        vertical-align: middle;\n",
              "    }\n",
              "\n",
              "    .dataframe tbody tr th {\n",
              "        vertical-align: top;\n",
              "    }\n",
              "\n",
              "    .dataframe thead th {\n",
              "        text-align: right;\n",
              "    }\n",
              "</style>\n",
              "<table border=\"1\" class=\"dataframe\">\n",
              "  <thead>\n",
              "    <tr style=\"text-align: right;\">\n",
              "      <th></th>\n",
              "      <th>Yil</th>\n",
              "      <th>Aholi soni</th>\n",
              "      <th>Temp</th>\n",
              "      <th>Zichlik</th>\n",
              "    </tr>\n",
              "  </thead>\n",
              "  <tbody>\n",
              "    <tr>\n",
              "      <th>10</th>\n",
              "      <td>2010</td>\n",
              "      <td>28.5</td>\n",
              "      <td>1.53</td>\n",
              "      <td>67.03</td>\n",
              "    </tr>\n",
              "    <tr>\n",
              "      <th>15</th>\n",
              "      <td>2015</td>\n",
              "      <td>30.9</td>\n",
              "      <td>1.64</td>\n",
              "      <td>72.71</td>\n",
              "    </tr>\n",
              "    <tr>\n",
              "      <th>16</th>\n",
              "      <td>2016</td>\n",
              "      <td>31.4</td>\n",
              "      <td>1.66</td>\n",
              "      <td>73.91</td>\n",
              "    </tr>\n",
              "    <tr>\n",
              "      <th>17</th>\n",
              "      <td>2017</td>\n",
              "      <td>31.9</td>\n",
              "      <td>1.65</td>\n",
              "      <td>75.13</td>\n",
              "    </tr>\n",
              "    <tr>\n",
              "      <th>18</th>\n",
              "      <td>2018</td>\n",
              "      <td>32.5</td>\n",
              "      <td>1.62</td>\n",
              "      <td>76.34</td>\n",
              "    </tr>\n",
              "    <tr>\n",
              "      <th>19</th>\n",
              "      <td>2019</td>\n",
              "      <td>32.9</td>\n",
              "      <td>1.56</td>\n",
              "      <td>77.53</td>\n",
              "    </tr>\n",
              "    <tr>\n",
              "      <th>20</th>\n",
              "      <td>2020</td>\n",
              "      <td>33.5</td>\n",
              "      <td>1.48</td>\n",
              "      <td>78.68</td>\n",
              "    </tr>\n",
              "    <tr>\n",
              "      <th>21</th>\n",
              "      <td>2021</td>\n",
              "      <td>33.9</td>\n",
              "      <td>1.54</td>\n",
              "      <td>79.77</td>\n",
              "    </tr>\n",
              "  </tbody>\n",
              "</table>\n",
              "</div>"
            ],
            "text/plain": [
              "     Yil  Aholi soni  Temp  Zichlik\n",
              "10  2010        28.5  1.53    67.03\n",
              "15  2015        30.9  1.64    72.71\n",
              "16  2016        31.4  1.66    73.91\n",
              "17  2017        31.9  1.65    75.13\n",
              "18  2018        32.5  1.62    76.34\n",
              "19  2019        32.9  1.56    77.53\n",
              "20  2020        33.5  1.48    78.68\n",
              "21  2021        33.9  1.54    79.77"
            ]
          },
          "metadata": {},
          "execution_count": 20
        }
      ]
    },
    {
      "cell_type": "markdown",
      "metadata": {
        "id": "06jDzNTAKUuU"
      },
      "source": [
        "#reindex yardamida ba'zi indekslarni tashlab yuborish"
      ]
    },
    {
      "cell_type": "code",
      "metadata": {
        "colab": {
          "base_uri": "https://localhost:8080/",
          "height": 142
        },
        "id": "rjTWtKnPKNu1",
        "outputId": "d7428841-5d10-46c7-cdc7-caeaf8dfa34e"
      },
      "source": [
        "# reindex\n",
        "df.reindex([10, 15, 20]) # reindex yordamida faqat 10, 15, 20 indeksli elementlarni qoldiramiz"
      ],
      "execution_count": 22,
      "outputs": [
        {
          "output_type": "execute_result",
          "data": {
            "text/html": [
              "<div>\n",
              "<style scoped>\n",
              "    .dataframe tbody tr th:only-of-type {\n",
              "        vertical-align: middle;\n",
              "    }\n",
              "\n",
              "    .dataframe tbody tr th {\n",
              "        vertical-align: top;\n",
              "    }\n",
              "\n",
              "    .dataframe thead th {\n",
              "        text-align: right;\n",
              "    }\n",
              "</style>\n",
              "<table border=\"1\" class=\"dataframe\">\n",
              "  <thead>\n",
              "    <tr style=\"text-align: right;\">\n",
              "      <th></th>\n",
              "      <th>Yil</th>\n",
              "      <th>Aholi soni</th>\n",
              "      <th>Temp</th>\n",
              "      <th>Zichlik</th>\n",
              "    </tr>\n",
              "  </thead>\n",
              "  <tbody>\n",
              "    <tr>\n",
              "      <th>10</th>\n",
              "      <td>2010</td>\n",
              "      <td>28.5</td>\n",
              "      <td>1.53</td>\n",
              "      <td>67.03</td>\n",
              "    </tr>\n",
              "    <tr>\n",
              "      <th>15</th>\n",
              "      <td>2015</td>\n",
              "      <td>30.9</td>\n",
              "      <td>1.64</td>\n",
              "      <td>72.71</td>\n",
              "    </tr>\n",
              "    <tr>\n",
              "      <th>20</th>\n",
              "      <td>2020</td>\n",
              "      <td>33.5</td>\n",
              "      <td>1.48</td>\n",
              "      <td>78.68</td>\n",
              "    </tr>\n",
              "  </tbody>\n",
              "</table>\n",
              "</div>"
            ],
            "text/plain": [
              "     Yil  Aholi soni  Temp  Zichlik\n",
              "10  2010        28.5  1.53    67.03\n",
              "15  2015        30.9  1.64    72.71\n",
              "20  2020        33.5  1.48    78.68"
            ]
          },
          "metadata": {},
          "execution_count": 22
        }
      ]
    },
    {
      "cell_type": "markdown",
      "metadata": {
        "id": "RSbNEsrjK4yT"
      },
      "source": [
        "range yordamida reindex"
      ]
    },
    {
      "cell_type": "code",
      "metadata": {
        "colab": {
          "base_uri": "https://localhost:8080/",
          "height": 421
        },
        "id": "DIRFuXrnKoiO",
        "outputId": "1a786f48-2f25-4beb-ca67-068d050d5b1c"
      },
      "source": [
        "df.reindex(index = range(10, 22)) # range yordamida reindex. df da 11, 12, 13, 14 - indeksli elementlar bo'lmagani uchun ularni NaN bilan to'ldirdi"
      ],
      "execution_count": 24,
      "outputs": [
        {
          "output_type": "execute_result",
          "data": {
            "text/html": [
              "<div>\n",
              "<style scoped>\n",
              "    .dataframe tbody tr th:only-of-type {\n",
              "        vertical-align: middle;\n",
              "    }\n",
              "\n",
              "    .dataframe tbody tr th {\n",
              "        vertical-align: top;\n",
              "    }\n",
              "\n",
              "    .dataframe thead th {\n",
              "        text-align: right;\n",
              "    }\n",
              "</style>\n",
              "<table border=\"1\" class=\"dataframe\">\n",
              "  <thead>\n",
              "    <tr style=\"text-align: right;\">\n",
              "      <th></th>\n",
              "      <th>Yil</th>\n",
              "      <th>Aholi soni</th>\n",
              "      <th>Temp</th>\n",
              "      <th>Zichlik</th>\n",
              "    </tr>\n",
              "  </thead>\n",
              "  <tbody>\n",
              "    <tr>\n",
              "      <th>10</th>\n",
              "      <td>2010.0</td>\n",
              "      <td>28.5</td>\n",
              "      <td>1.53</td>\n",
              "      <td>67.03</td>\n",
              "    </tr>\n",
              "    <tr>\n",
              "      <th>11</th>\n",
              "      <td>NaN</td>\n",
              "      <td>NaN</td>\n",
              "      <td>NaN</td>\n",
              "      <td>NaN</td>\n",
              "    </tr>\n",
              "    <tr>\n",
              "      <th>12</th>\n",
              "      <td>NaN</td>\n",
              "      <td>NaN</td>\n",
              "      <td>NaN</td>\n",
              "      <td>NaN</td>\n",
              "    </tr>\n",
              "    <tr>\n",
              "      <th>13</th>\n",
              "      <td>NaN</td>\n",
              "      <td>NaN</td>\n",
              "      <td>NaN</td>\n",
              "      <td>NaN</td>\n",
              "    </tr>\n",
              "    <tr>\n",
              "      <th>14</th>\n",
              "      <td>NaN</td>\n",
              "      <td>NaN</td>\n",
              "      <td>NaN</td>\n",
              "      <td>NaN</td>\n",
              "    </tr>\n",
              "    <tr>\n",
              "      <th>15</th>\n",
              "      <td>2015.0</td>\n",
              "      <td>30.9</td>\n",
              "      <td>1.64</td>\n",
              "      <td>72.71</td>\n",
              "    </tr>\n",
              "    <tr>\n",
              "      <th>16</th>\n",
              "      <td>2016.0</td>\n",
              "      <td>31.4</td>\n",
              "      <td>1.66</td>\n",
              "      <td>73.91</td>\n",
              "    </tr>\n",
              "    <tr>\n",
              "      <th>17</th>\n",
              "      <td>2017.0</td>\n",
              "      <td>31.9</td>\n",
              "      <td>1.65</td>\n",
              "      <td>75.13</td>\n",
              "    </tr>\n",
              "    <tr>\n",
              "      <th>18</th>\n",
              "      <td>2018.0</td>\n",
              "      <td>32.5</td>\n",
              "      <td>1.62</td>\n",
              "      <td>76.34</td>\n",
              "    </tr>\n",
              "    <tr>\n",
              "      <th>19</th>\n",
              "      <td>2019.0</td>\n",
              "      <td>32.9</td>\n",
              "      <td>1.56</td>\n",
              "      <td>77.53</td>\n",
              "    </tr>\n",
              "    <tr>\n",
              "      <th>20</th>\n",
              "      <td>2020.0</td>\n",
              "      <td>33.5</td>\n",
              "      <td>1.48</td>\n",
              "      <td>78.68</td>\n",
              "    </tr>\n",
              "    <tr>\n",
              "      <th>21</th>\n",
              "      <td>2021.0</td>\n",
              "      <td>33.9</td>\n",
              "      <td>1.54</td>\n",
              "      <td>79.77</td>\n",
              "    </tr>\n",
              "  </tbody>\n",
              "</table>\n",
              "</div>"
            ],
            "text/plain": [
              "       Yil  Aholi soni  Temp  Zichlik\n",
              "10  2010.0        28.5  1.53    67.03\n",
              "11     NaN         NaN   NaN      NaN\n",
              "12     NaN         NaN   NaN      NaN\n",
              "13     NaN         NaN   NaN      NaN\n",
              "14     NaN         NaN   NaN      NaN\n",
              "15  2015.0        30.9  1.64    72.71\n",
              "16  2016.0        31.4  1.66    73.91\n",
              "17  2017.0        31.9  1.65    75.13\n",
              "18  2018.0        32.5  1.62    76.34\n",
              "19  2019.0        32.9  1.56    77.53\n",
              "20  2020.0        33.5  1.48    78.68\n",
              "21  2021.0        33.9  1.54    79.77"
            ]
          },
          "metadata": {},
          "execution_count": 24
        }
      ]
    },
    {
      "cell_type": "markdown",
      "metadata": {
        "id": "2sbpG9j3Lm-C"
      },
      "source": [
        "#`nearest` (eng yaqin) metodi bilan bo'shliqlarni to'ldirish"
      ]
    },
    {
      "cell_type": "code",
      "metadata": {
        "colab": {
          "base_uri": "https://localhost:8080/",
          "height": 421
        },
        "id": "AfzkvhaMLPyI",
        "outputId": "bae49084-ab4d-44e1-db87-1287a06bb059"
      },
      "source": [
        "df.reindex(index = range(10, 22), method = \"nearest\") # range yordamida reindex. df da 11, 12, 13, 14 - indeksli elementlar bo'lmagani uchun ularni nearest (end yaqin) qiymat bilan to'ldirdi"
      ],
      "execution_count": 25,
      "outputs": [
        {
          "output_type": "execute_result",
          "data": {
            "text/html": [
              "<div>\n",
              "<style scoped>\n",
              "    .dataframe tbody tr th:only-of-type {\n",
              "        vertical-align: middle;\n",
              "    }\n",
              "\n",
              "    .dataframe tbody tr th {\n",
              "        vertical-align: top;\n",
              "    }\n",
              "\n",
              "    .dataframe thead th {\n",
              "        text-align: right;\n",
              "    }\n",
              "</style>\n",
              "<table border=\"1\" class=\"dataframe\">\n",
              "  <thead>\n",
              "    <tr style=\"text-align: right;\">\n",
              "      <th></th>\n",
              "      <th>Yil</th>\n",
              "      <th>Aholi soni</th>\n",
              "      <th>Temp</th>\n",
              "      <th>Zichlik</th>\n",
              "    </tr>\n",
              "  </thead>\n",
              "  <tbody>\n",
              "    <tr>\n",
              "      <th>10</th>\n",
              "      <td>2010</td>\n",
              "      <td>28.5</td>\n",
              "      <td>1.53</td>\n",
              "      <td>67.03</td>\n",
              "    </tr>\n",
              "    <tr>\n",
              "      <th>11</th>\n",
              "      <td>2010</td>\n",
              "      <td>28.5</td>\n",
              "      <td>1.53</td>\n",
              "      <td>67.03</td>\n",
              "    </tr>\n",
              "    <tr>\n",
              "      <th>12</th>\n",
              "      <td>2010</td>\n",
              "      <td>28.5</td>\n",
              "      <td>1.53</td>\n",
              "      <td>67.03</td>\n",
              "    </tr>\n",
              "    <tr>\n",
              "      <th>13</th>\n",
              "      <td>2015</td>\n",
              "      <td>30.9</td>\n",
              "      <td>1.64</td>\n",
              "      <td>72.71</td>\n",
              "    </tr>\n",
              "    <tr>\n",
              "      <th>14</th>\n",
              "      <td>2015</td>\n",
              "      <td>30.9</td>\n",
              "      <td>1.64</td>\n",
              "      <td>72.71</td>\n",
              "    </tr>\n",
              "    <tr>\n",
              "      <th>15</th>\n",
              "      <td>2015</td>\n",
              "      <td>30.9</td>\n",
              "      <td>1.64</td>\n",
              "      <td>72.71</td>\n",
              "    </tr>\n",
              "    <tr>\n",
              "      <th>16</th>\n",
              "      <td>2016</td>\n",
              "      <td>31.4</td>\n",
              "      <td>1.66</td>\n",
              "      <td>73.91</td>\n",
              "    </tr>\n",
              "    <tr>\n",
              "      <th>17</th>\n",
              "      <td>2017</td>\n",
              "      <td>31.9</td>\n",
              "      <td>1.65</td>\n",
              "      <td>75.13</td>\n",
              "    </tr>\n",
              "    <tr>\n",
              "      <th>18</th>\n",
              "      <td>2018</td>\n",
              "      <td>32.5</td>\n",
              "      <td>1.62</td>\n",
              "      <td>76.34</td>\n",
              "    </tr>\n",
              "    <tr>\n",
              "      <th>19</th>\n",
              "      <td>2019</td>\n",
              "      <td>32.9</td>\n",
              "      <td>1.56</td>\n",
              "      <td>77.53</td>\n",
              "    </tr>\n",
              "    <tr>\n",
              "      <th>20</th>\n",
              "      <td>2020</td>\n",
              "      <td>33.5</td>\n",
              "      <td>1.48</td>\n",
              "      <td>78.68</td>\n",
              "    </tr>\n",
              "    <tr>\n",
              "      <th>21</th>\n",
              "      <td>2021</td>\n",
              "      <td>33.9</td>\n",
              "      <td>1.54</td>\n",
              "      <td>79.77</td>\n",
              "    </tr>\n",
              "  </tbody>\n",
              "</table>\n",
              "</div>"
            ],
            "text/plain": [
              "     Yil  Aholi soni  Temp  Zichlik\n",
              "10  2010        28.5  1.53    67.03\n",
              "11  2010        28.5  1.53    67.03\n",
              "12  2010        28.5  1.53    67.03\n",
              "13  2015        30.9  1.64    72.71\n",
              "14  2015        30.9  1.64    72.71\n",
              "15  2015        30.9  1.64    72.71\n",
              "16  2016        31.4  1.66    73.91\n",
              "17  2017        31.9  1.65    75.13\n",
              "18  2018        32.5  1.62    76.34\n",
              "19  2019        32.9  1.56    77.53\n",
              "20  2020        33.5  1.48    78.68\n",
              "21  2021        33.9  1.54    79.77"
            ]
          },
          "metadata": {},
          "execution_count": 25
        }
      ]
    },
    {
      "cell_type": "markdown",
      "metadata": {
        "id": "hsOL8-azMNvM"
      },
      "source": [
        "#`ffill` forward fill - eng oxirgi qiymat bilan keyingi bo'shliqlarni to'ldirish"
      ]
    },
    {
      "cell_type": "code",
      "metadata": {
        "colab": {
          "base_uri": "https://localhost:8080/",
          "height": 421
        },
        "id": "uIDQxKs1L3qF",
        "outputId": "142abbf9-355d-4529-eaec-196d34c44edf"
      },
      "source": [
        "df.reindex(index = range(10, 22), method = \"ffill\") # range yordamida reindex. df da 11, 12, 13, 14 - indeksli elementlar bo'lmagani uchun ularni ffill (end oxirgi) qiymat bilan to'ldirdi"
      ],
      "execution_count": 26,
      "outputs": [
        {
          "output_type": "execute_result",
          "data": {
            "text/html": [
              "<div>\n",
              "<style scoped>\n",
              "    .dataframe tbody tr th:only-of-type {\n",
              "        vertical-align: middle;\n",
              "    }\n",
              "\n",
              "    .dataframe tbody tr th {\n",
              "        vertical-align: top;\n",
              "    }\n",
              "\n",
              "    .dataframe thead th {\n",
              "        text-align: right;\n",
              "    }\n",
              "</style>\n",
              "<table border=\"1\" class=\"dataframe\">\n",
              "  <thead>\n",
              "    <tr style=\"text-align: right;\">\n",
              "      <th></th>\n",
              "      <th>Yil</th>\n",
              "      <th>Aholi soni</th>\n",
              "      <th>Temp</th>\n",
              "      <th>Zichlik</th>\n",
              "    </tr>\n",
              "  </thead>\n",
              "  <tbody>\n",
              "    <tr>\n",
              "      <th>10</th>\n",
              "      <td>2010</td>\n",
              "      <td>28.5</td>\n",
              "      <td>1.53</td>\n",
              "      <td>67.03</td>\n",
              "    </tr>\n",
              "    <tr>\n",
              "      <th>11</th>\n",
              "      <td>2010</td>\n",
              "      <td>28.5</td>\n",
              "      <td>1.53</td>\n",
              "      <td>67.03</td>\n",
              "    </tr>\n",
              "    <tr>\n",
              "      <th>12</th>\n",
              "      <td>2010</td>\n",
              "      <td>28.5</td>\n",
              "      <td>1.53</td>\n",
              "      <td>67.03</td>\n",
              "    </tr>\n",
              "    <tr>\n",
              "      <th>13</th>\n",
              "      <td>2010</td>\n",
              "      <td>28.5</td>\n",
              "      <td>1.53</td>\n",
              "      <td>67.03</td>\n",
              "    </tr>\n",
              "    <tr>\n",
              "      <th>14</th>\n",
              "      <td>2010</td>\n",
              "      <td>28.5</td>\n",
              "      <td>1.53</td>\n",
              "      <td>67.03</td>\n",
              "    </tr>\n",
              "    <tr>\n",
              "      <th>15</th>\n",
              "      <td>2015</td>\n",
              "      <td>30.9</td>\n",
              "      <td>1.64</td>\n",
              "      <td>72.71</td>\n",
              "    </tr>\n",
              "    <tr>\n",
              "      <th>16</th>\n",
              "      <td>2016</td>\n",
              "      <td>31.4</td>\n",
              "      <td>1.66</td>\n",
              "      <td>73.91</td>\n",
              "    </tr>\n",
              "    <tr>\n",
              "      <th>17</th>\n",
              "      <td>2017</td>\n",
              "      <td>31.9</td>\n",
              "      <td>1.65</td>\n",
              "      <td>75.13</td>\n",
              "    </tr>\n",
              "    <tr>\n",
              "      <th>18</th>\n",
              "      <td>2018</td>\n",
              "      <td>32.5</td>\n",
              "      <td>1.62</td>\n",
              "      <td>76.34</td>\n",
              "    </tr>\n",
              "    <tr>\n",
              "      <th>19</th>\n",
              "      <td>2019</td>\n",
              "      <td>32.9</td>\n",
              "      <td>1.56</td>\n",
              "      <td>77.53</td>\n",
              "    </tr>\n",
              "    <tr>\n",
              "      <th>20</th>\n",
              "      <td>2020</td>\n",
              "      <td>33.5</td>\n",
              "      <td>1.48</td>\n",
              "      <td>78.68</td>\n",
              "    </tr>\n",
              "    <tr>\n",
              "      <th>21</th>\n",
              "      <td>2021</td>\n",
              "      <td>33.9</td>\n",
              "      <td>1.54</td>\n",
              "      <td>79.77</td>\n",
              "    </tr>\n",
              "  </tbody>\n",
              "</table>\n",
              "</div>"
            ],
            "text/plain": [
              "     Yil  Aholi soni  Temp  Zichlik\n",
              "10  2010        28.5  1.53    67.03\n",
              "11  2010        28.5  1.53    67.03\n",
              "12  2010        28.5  1.53    67.03\n",
              "13  2010        28.5  1.53    67.03\n",
              "14  2010        28.5  1.53    67.03\n",
              "15  2015        30.9  1.64    72.71\n",
              "16  2016        31.4  1.66    73.91\n",
              "17  2017        31.9  1.65    75.13\n",
              "18  2018        32.5  1.62    76.34\n",
              "19  2019        32.9  1.56    77.53\n",
              "20  2020        33.5  1.48    78.68\n",
              "21  2021        33.9  1.54    79.77"
            ]
          },
          "metadata": {},
          "execution_count": 26
        }
      ]
    },
    {
      "cell_type": "code",
      "metadata": {
        "colab": {
          "base_uri": "https://localhost:8080/",
          "height": 297
        },
        "id": "STFXBHm3M5KP",
        "outputId": "fbc9c868-7151-4420-98b3-c5d623217089"
      },
      "source": [
        "df"
      ],
      "execution_count": 27,
      "outputs": [
        {
          "output_type": "execute_result",
          "data": {
            "text/html": [
              "<div>\n",
              "<style scoped>\n",
              "    .dataframe tbody tr th:only-of-type {\n",
              "        vertical-align: middle;\n",
              "    }\n",
              "\n",
              "    .dataframe tbody tr th {\n",
              "        vertical-align: top;\n",
              "    }\n",
              "\n",
              "    .dataframe thead th {\n",
              "        text-align: right;\n",
              "    }\n",
              "</style>\n",
              "<table border=\"1\" class=\"dataframe\">\n",
              "  <thead>\n",
              "    <tr style=\"text-align: right;\">\n",
              "      <th></th>\n",
              "      <th>Yil</th>\n",
              "      <th>Aholi soni</th>\n",
              "      <th>Temp</th>\n",
              "      <th>Zichlik</th>\n",
              "    </tr>\n",
              "  </thead>\n",
              "  <tbody>\n",
              "    <tr>\n",
              "      <th>10</th>\n",
              "      <td>2010</td>\n",
              "      <td>28.5</td>\n",
              "      <td>1.53</td>\n",
              "      <td>67.03</td>\n",
              "    </tr>\n",
              "    <tr>\n",
              "      <th>15</th>\n",
              "      <td>2015</td>\n",
              "      <td>30.9</td>\n",
              "      <td>1.64</td>\n",
              "      <td>72.71</td>\n",
              "    </tr>\n",
              "    <tr>\n",
              "      <th>16</th>\n",
              "      <td>2016</td>\n",
              "      <td>31.4</td>\n",
              "      <td>1.66</td>\n",
              "      <td>73.91</td>\n",
              "    </tr>\n",
              "    <tr>\n",
              "      <th>17</th>\n",
              "      <td>2017</td>\n",
              "      <td>31.9</td>\n",
              "      <td>1.65</td>\n",
              "      <td>75.13</td>\n",
              "    </tr>\n",
              "    <tr>\n",
              "      <th>18</th>\n",
              "      <td>2018</td>\n",
              "      <td>32.5</td>\n",
              "      <td>1.62</td>\n",
              "      <td>76.34</td>\n",
              "    </tr>\n",
              "    <tr>\n",
              "      <th>19</th>\n",
              "      <td>2019</td>\n",
              "      <td>32.9</td>\n",
              "      <td>1.56</td>\n",
              "      <td>77.53</td>\n",
              "    </tr>\n",
              "    <tr>\n",
              "      <th>20</th>\n",
              "      <td>2020</td>\n",
              "      <td>33.5</td>\n",
              "      <td>1.48</td>\n",
              "      <td>78.68</td>\n",
              "    </tr>\n",
              "    <tr>\n",
              "      <th>21</th>\n",
              "      <td>2021</td>\n",
              "      <td>33.9</td>\n",
              "      <td>1.54</td>\n",
              "      <td>79.77</td>\n",
              "    </tr>\n",
              "  </tbody>\n",
              "</table>\n",
              "</div>"
            ],
            "text/plain": [
              "     Yil  Aholi soni  Temp  Zichlik\n",
              "10  2010        28.5  1.53    67.03\n",
              "15  2015        30.9  1.64    72.71\n",
              "16  2016        31.4  1.66    73.91\n",
              "17  2017        31.9  1.65    75.13\n",
              "18  2018        32.5  1.62    76.34\n",
              "19  2019        32.9  1.56    77.53\n",
              "20  2020        33.5  1.48    78.68\n",
              "21  2021        33.9  1.54    79.77"
            ]
          },
          "metadata": {},
          "execution_count": 27
        }
      ]
    },
    {
      "cell_type": "markdown",
      "metadata": {
        "id": "Iyx3mDcTMniK"
      },
      "source": [
        "#`reindex` yordamida ustunlarni tashlb yuborish"
      ]
    },
    {
      "cell_type": "code",
      "metadata": {
        "colab": {
          "base_uri": "https://localhost:8080/",
          "height": 297
        },
        "id": "e0njMwyqMf_7",
        "outputId": "4bb7cb8c-c86b-4889-8e3b-6fe63980d7ae"
      },
      "source": [
        "df2 = df.reindex(columns = [\"Aholi soni\", \"Temp\", \"Zichlik\"]) # reindex yordamida bizga kerak bo'lgan \"Aholi soni\", \"Temp\", \"Zichlik\" ustunlarini qoldiramiz\n",
        "df2"
      ],
      "execution_count": 30,
      "outputs": [
        {
          "output_type": "execute_result",
          "data": {
            "text/html": [
              "<div>\n",
              "<style scoped>\n",
              "    .dataframe tbody tr th:only-of-type {\n",
              "        vertical-align: middle;\n",
              "    }\n",
              "\n",
              "    .dataframe tbody tr th {\n",
              "        vertical-align: top;\n",
              "    }\n",
              "\n",
              "    .dataframe thead th {\n",
              "        text-align: right;\n",
              "    }\n",
              "</style>\n",
              "<table border=\"1\" class=\"dataframe\">\n",
              "  <thead>\n",
              "    <tr style=\"text-align: right;\">\n",
              "      <th></th>\n",
              "      <th>Aholi soni</th>\n",
              "      <th>Temp</th>\n",
              "      <th>Zichlik</th>\n",
              "    </tr>\n",
              "  </thead>\n",
              "  <tbody>\n",
              "    <tr>\n",
              "      <th>10</th>\n",
              "      <td>28.5</td>\n",
              "      <td>1.53</td>\n",
              "      <td>67.03</td>\n",
              "    </tr>\n",
              "    <tr>\n",
              "      <th>15</th>\n",
              "      <td>30.9</td>\n",
              "      <td>1.64</td>\n",
              "      <td>72.71</td>\n",
              "    </tr>\n",
              "    <tr>\n",
              "      <th>16</th>\n",
              "      <td>31.4</td>\n",
              "      <td>1.66</td>\n",
              "      <td>73.91</td>\n",
              "    </tr>\n",
              "    <tr>\n",
              "      <th>17</th>\n",
              "      <td>31.9</td>\n",
              "      <td>1.65</td>\n",
              "      <td>75.13</td>\n",
              "    </tr>\n",
              "    <tr>\n",
              "      <th>18</th>\n",
              "      <td>32.5</td>\n",
              "      <td>1.62</td>\n",
              "      <td>76.34</td>\n",
              "    </tr>\n",
              "    <tr>\n",
              "      <th>19</th>\n",
              "      <td>32.9</td>\n",
              "      <td>1.56</td>\n",
              "      <td>77.53</td>\n",
              "    </tr>\n",
              "    <tr>\n",
              "      <th>20</th>\n",
              "      <td>33.5</td>\n",
              "      <td>1.48</td>\n",
              "      <td>78.68</td>\n",
              "    </tr>\n",
              "    <tr>\n",
              "      <th>21</th>\n",
              "      <td>33.9</td>\n",
              "      <td>1.54</td>\n",
              "      <td>79.77</td>\n",
              "    </tr>\n",
              "  </tbody>\n",
              "</table>\n",
              "</div>"
            ],
            "text/plain": [
              "    Aholi soni  Temp  Zichlik\n",
              "10        28.5  1.53    67.03\n",
              "15        30.9  1.64    72.71\n",
              "16        31.4  1.66    73.91\n",
              "17        31.9  1.65    75.13\n",
              "18        32.5  1.62    76.34\n",
              "19        32.9  1.56    77.53\n",
              "20        33.5  1.48    78.68\n",
              "21        33.9  1.54    79.77"
            ]
          },
          "metadata": {},
          "execution_count": 30
        }
      ]
    },
    {
      "cell_type": "code",
      "metadata": {
        "colab": {
          "base_uri": "https://localhost:8080/",
          "height": 204
        },
        "id": "PjHoKh9uNRzm",
        "outputId": "d57fbef4-c2e6-4ef1-da2a-29c032a6699f"
      },
      "source": [
        "df2.head() # end birinchi beshta element"
      ],
      "execution_count": 31,
      "outputs": [
        {
          "output_type": "execute_result",
          "data": {
            "text/html": [
              "<div>\n",
              "<style scoped>\n",
              "    .dataframe tbody tr th:only-of-type {\n",
              "        vertical-align: middle;\n",
              "    }\n",
              "\n",
              "    .dataframe tbody tr th {\n",
              "        vertical-align: top;\n",
              "    }\n",
              "\n",
              "    .dataframe thead th {\n",
              "        text-align: right;\n",
              "    }\n",
              "</style>\n",
              "<table border=\"1\" class=\"dataframe\">\n",
              "  <thead>\n",
              "    <tr style=\"text-align: right;\">\n",
              "      <th></th>\n",
              "      <th>Aholi soni</th>\n",
              "      <th>Temp</th>\n",
              "      <th>Zichlik</th>\n",
              "    </tr>\n",
              "  </thead>\n",
              "  <tbody>\n",
              "    <tr>\n",
              "      <th>10</th>\n",
              "      <td>28.5</td>\n",
              "      <td>1.53</td>\n",
              "      <td>67.03</td>\n",
              "    </tr>\n",
              "    <tr>\n",
              "      <th>15</th>\n",
              "      <td>30.9</td>\n",
              "      <td>1.64</td>\n",
              "      <td>72.71</td>\n",
              "    </tr>\n",
              "    <tr>\n",
              "      <th>16</th>\n",
              "      <td>31.4</td>\n",
              "      <td>1.66</td>\n",
              "      <td>73.91</td>\n",
              "    </tr>\n",
              "    <tr>\n",
              "      <th>17</th>\n",
              "      <td>31.9</td>\n",
              "      <td>1.65</td>\n",
              "      <td>75.13</td>\n",
              "    </tr>\n",
              "    <tr>\n",
              "      <th>18</th>\n",
              "      <td>32.5</td>\n",
              "      <td>1.62</td>\n",
              "      <td>76.34</td>\n",
              "    </tr>\n",
              "  </tbody>\n",
              "</table>\n",
              "</div>"
            ],
            "text/plain": [
              "    Aholi soni  Temp  Zichlik\n",
              "10        28.5  1.53    67.03\n",
              "15        30.9  1.64    72.71\n",
              "16        31.4  1.66    73.91\n",
              "17        31.9  1.65    75.13\n",
              "18        32.5  1.62    76.34"
            ]
          },
          "metadata": {},
          "execution_count": 31
        }
      ]
    },
    {
      "cell_type": "markdown",
      "metadata": {
        "id": "YHCgElciNkXG"
      },
      "source": [
        "#`sample(n)` DataFrame ning tasodifiy n ta qiymati. sample() - tasodifiy bitta qiymat"
      ]
    },
    {
      "cell_type": "code",
      "metadata": {
        "colab": {
          "base_uri": "https://localhost:8080/",
          "height": 80
        },
        "id": "UVETbbiHNY8G",
        "outputId": "ab1914c9-9481-4bfc-9f48-c79020c1ce9c"
      },
      "source": [
        "df2.sample() # tasodifiy bitta qiymat"
      ],
      "execution_count": 34,
      "outputs": [
        {
          "output_type": "execute_result",
          "data": {
            "text/html": [
              "<div>\n",
              "<style scoped>\n",
              "    .dataframe tbody tr th:only-of-type {\n",
              "        vertical-align: middle;\n",
              "    }\n",
              "\n",
              "    .dataframe tbody tr th {\n",
              "        vertical-align: top;\n",
              "    }\n",
              "\n",
              "    .dataframe thead th {\n",
              "        text-align: right;\n",
              "    }\n",
              "</style>\n",
              "<table border=\"1\" class=\"dataframe\">\n",
              "  <thead>\n",
              "    <tr style=\"text-align: right;\">\n",
              "      <th></th>\n",
              "      <th>Aholi soni</th>\n",
              "      <th>Temp</th>\n",
              "      <th>Zichlik</th>\n",
              "    </tr>\n",
              "  </thead>\n",
              "  <tbody>\n",
              "    <tr>\n",
              "      <th>15</th>\n",
              "      <td>30.9</td>\n",
              "      <td>1.64</td>\n",
              "      <td>72.71</td>\n",
              "    </tr>\n",
              "  </tbody>\n",
              "</table>\n",
              "</div>"
            ],
            "text/plain": [
              "    Aholi soni  Temp  Zichlik\n",
              "15        30.9  1.64    72.71"
            ]
          },
          "metadata": {},
          "execution_count": 34
        }
      ]
    },
    {
      "cell_type": "code",
      "metadata": {
        "colab": {
          "base_uri": "https://localhost:8080/",
          "height": 142
        },
        "id": "bfZpFgNXNfDt",
        "outputId": "273d0a54-9370-45b5-9808-16c30b158354"
      },
      "source": [
        "df2.sample(3) # tasodifiy 3 ta qiymat"
      ],
      "execution_count": 37,
      "outputs": [
        {
          "output_type": "execute_result",
          "data": {
            "text/html": [
              "<div>\n",
              "<style scoped>\n",
              "    .dataframe tbody tr th:only-of-type {\n",
              "        vertical-align: middle;\n",
              "    }\n",
              "\n",
              "    .dataframe tbody tr th {\n",
              "        vertical-align: top;\n",
              "    }\n",
              "\n",
              "    .dataframe thead th {\n",
              "        text-align: right;\n",
              "    }\n",
              "</style>\n",
              "<table border=\"1\" class=\"dataframe\">\n",
              "  <thead>\n",
              "    <tr style=\"text-align: right;\">\n",
              "      <th></th>\n",
              "      <th>Aholi soni</th>\n",
              "      <th>Temp</th>\n",
              "      <th>Zichlik</th>\n",
              "    </tr>\n",
              "  </thead>\n",
              "  <tbody>\n",
              "    <tr>\n",
              "      <th>16</th>\n",
              "      <td>31.4</td>\n",
              "      <td>1.66</td>\n",
              "      <td>73.91</td>\n",
              "    </tr>\n",
              "    <tr>\n",
              "      <th>21</th>\n",
              "      <td>33.9</td>\n",
              "      <td>1.54</td>\n",
              "      <td>79.77</td>\n",
              "    </tr>\n",
              "    <tr>\n",
              "      <th>18</th>\n",
              "      <td>32.5</td>\n",
              "      <td>1.62</td>\n",
              "      <td>76.34</td>\n",
              "    </tr>\n",
              "  </tbody>\n",
              "</table>\n",
              "</div>"
            ],
            "text/plain": [
              "    Aholi soni  Temp  Zichlik\n",
              "16        31.4  1.66    73.91\n",
              "21        33.9  1.54    79.77\n",
              "18        32.5  1.62    76.34"
            ]
          },
          "metadata": {},
          "execution_count": 37
        }
      ]
    },
    {
      "cell_type": "markdown",
      "metadata": {
        "id": "VgkaKqA1N-eC"
      },
      "source": [
        "#`loc` metodi - qator va ustunlar bo'yicha reindex"
      ]
    },
    {
      "cell_type": "code",
      "metadata": {
        "colab": {
          "base_uri": "https://localhost:8080/",
          "height": 173
        },
        "id": "mTccc73wNvZQ",
        "outputId": "cd3ea57d-90af-450a-d51b-2e87672e4e43"
      },
      "source": [
        "df.loc[[10, 15, 18, 20], [\"Aholi soni\", \"Temp\", \"Zichlik\"]] # 10, 15, 18, 20 indekli elementlarning \"Aholi soni\", \"Temp\", \"Zichlik\" ustunlarini ajratib oladi"
      ],
      "execution_count": 39,
      "outputs": [
        {
          "output_type": "execute_result",
          "data": {
            "text/html": [
              "<div>\n",
              "<style scoped>\n",
              "    .dataframe tbody tr th:only-of-type {\n",
              "        vertical-align: middle;\n",
              "    }\n",
              "\n",
              "    .dataframe tbody tr th {\n",
              "        vertical-align: top;\n",
              "    }\n",
              "\n",
              "    .dataframe thead th {\n",
              "        text-align: right;\n",
              "    }\n",
              "</style>\n",
              "<table border=\"1\" class=\"dataframe\">\n",
              "  <thead>\n",
              "    <tr style=\"text-align: right;\">\n",
              "      <th></th>\n",
              "      <th>Aholi soni</th>\n",
              "      <th>Temp</th>\n",
              "      <th>Zichlik</th>\n",
              "    </tr>\n",
              "  </thead>\n",
              "  <tbody>\n",
              "    <tr>\n",
              "      <th>10</th>\n",
              "      <td>28.5</td>\n",
              "      <td>1.53</td>\n",
              "      <td>67.03</td>\n",
              "    </tr>\n",
              "    <tr>\n",
              "      <th>15</th>\n",
              "      <td>30.9</td>\n",
              "      <td>1.64</td>\n",
              "      <td>72.71</td>\n",
              "    </tr>\n",
              "    <tr>\n",
              "      <th>18</th>\n",
              "      <td>32.5</td>\n",
              "      <td>1.62</td>\n",
              "      <td>76.34</td>\n",
              "    </tr>\n",
              "    <tr>\n",
              "      <th>20</th>\n",
              "      <td>33.5</td>\n",
              "      <td>1.48</td>\n",
              "      <td>78.68</td>\n",
              "    </tr>\n",
              "  </tbody>\n",
              "</table>\n",
              "</div>"
            ],
            "text/plain": [
              "    Aholi soni  Temp  Zichlik\n",
              "10        28.5  1.53    67.03\n",
              "15        30.9  1.64    72.71\n",
              "18        32.5  1.62    76.34\n",
              "20        33.5  1.48    78.68"
            ]
          },
          "metadata": {},
          "execution_count": 39
        }
      ]
    },
    {
      "cell_type": "code",
      "metadata": {
        "id": "8KACtCi5OZfw"
      },
      "source": [
        ""
      ],
      "execution_count": null,
      "outputs": []
    }
  ]
}