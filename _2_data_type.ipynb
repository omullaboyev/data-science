{
  "nbformat": 4,
  "nbformat_minor": 0,
  "metadata": {
    "colab": {
      "name": "#2_data_type.ipynb",
      "provenance": [],
      "collapsed_sections": [],
      "authorship_tag": "ABX9TyMBE9uWxINWOZiGuUYnW9za",
      "include_colab_link": true
    },
    "kernelspec": {
      "name": "python3",
      "display_name": "Python 3"
    },
    "language_info": {
      "name": "python"
    }
  },
  "cells": [
    {
      "cell_type": "markdown",
      "metadata": {
        "id": "view-in-github",
        "colab_type": "text"
      },
      "source": [
        "<a href=\"https://colab.research.google.com/github/omullaboyev/data-science/blob/main/_2_data_type.ipynb\" target=\"_parent\"><img src=\"https://colab.research.google.com/assets/colab-badge.svg\" alt=\"Open In Colab\"/></a>"
      ]
    },
    {
      "cell_type": "code",
      "metadata": {
        "id": "Bi_WMLlgQ34x"
      },
      "source": [
        "import numpy as np"
      ],
      "execution_count": 1,
      "outputs": []
    },
    {
      "cell_type": "markdown",
      "metadata": {
        "id": "rGuryAd5StSb"
      },
      "source": [
        "#MA'LUMOT TURLARI"
      ]
    },
    {
      "cell_type": "markdown",
      "metadata": {
        "id": "LTwpwsfLTJcE"
      },
      "source": [
        "Massiv yaratishda ma'lumot turlarini aniq kiritish, ma'lumot turlarini aniqlash, bir ma'lumot turidan ikkinchi turdagi ma'lumot turiga o'girish."
      ]
    },
    {
      "cell_type": "code",
      "metadata": {
        "colab": {
          "base_uri": "https://localhost:8080/"
        },
        "id": "a2d727D_RBO9",
        "outputId": "7d53fad1-b171-496d-92bf-9690401277ec"
      },
      "source": [
        "arr1 = np.array([1, 2, 3], dtype = np.float64)\n",
        "arr1"
      ],
      "execution_count": 2,
      "outputs": [
        {
          "output_type": "execute_result",
          "data": {
            "text/plain": [
              "array([1., 2., 3.])"
            ]
          },
          "metadata": {},
          "execution_count": 2
        }
      ]
    },
    {
      "cell_type": "code",
      "metadata": {
        "colab": {
          "base_uri": "https://localhost:8080/"
        },
        "id": "is1PvuvBS5gm",
        "outputId": "8591d65f-cebe-4fd7-fd4b-47cc08f3d0af"
      },
      "source": [
        "arr2 = np.array([1, 2, 3], dtype = np.int32)\n",
        "arr2"
      ],
      "execution_count": 3,
      "outputs": [
        {
          "output_type": "execute_result",
          "data": {
            "text/plain": [
              "array([1, 2, 3], dtype=int32)"
            ]
          },
          "metadata": {},
          "execution_count": 3
        }
      ]
    },
    {
      "cell_type": "markdown",
      "metadata": {
        "id": "3mSx7Ao0TgUg"
      },
      "source": [
        "**dtype** methodi"
      ]
    },
    {
      "cell_type": "code",
      "metadata": {
        "colab": {
          "base_uri": "https://localhost:8080/"
        },
        "id": "ur7BkrscTA20",
        "outputId": "8238d3df-abc7-4d51-8e81-a6c6a572a7f2"
      },
      "source": [
        "arr1.dtype"
      ],
      "execution_count": 4,
      "outputs": [
        {
          "output_type": "execute_result",
          "data": {
            "text/plain": [
              "dtype('float64')"
            ]
          },
          "metadata": {},
          "execution_count": 4
        }
      ]
    },
    {
      "cell_type": "code",
      "metadata": {
        "colab": {
          "base_uri": "https://localhost:8080/"
        },
        "id": "LElQhdDSTjmN",
        "outputId": "13bb8c06-b671-4592-b199-dc27d5d66090"
      },
      "source": [
        "arr2.dtype"
      ],
      "execution_count": 5,
      "outputs": [
        {
          "output_type": "execute_result",
          "data": {
            "text/plain": [
              "dtype('int32')"
            ]
          },
          "metadata": {},
          "execution_count": 5
        }
      ]
    },
    {
      "cell_type": "markdown",
      "metadata": {
        "id": "pIHOUMYnTnQi"
      },
      "source": [
        "Bir turdagi ma'lumot turidan boshqasiga o'girish"
      ]
    },
    {
      "cell_type": "code",
      "metadata": {
        "colab": {
          "base_uri": "https://localhost:8080/"
        },
        "id": "xD9pEvg7TlBc",
        "outputId": "034e7a9d-b854-41ae-90d5-cb2f9cc0f8bd"
      },
      "source": [
        "arr = np.array([1, 2, 3, 4]) #int64\n",
        "arr"
      ],
      "execution_count": 6,
      "outputs": [
        {
          "output_type": "execute_result",
          "data": {
            "text/plain": [
              "array([1, 2, 3, 4])"
            ]
          },
          "metadata": {},
          "execution_count": 6
        }
      ]
    },
    {
      "cell_type": "code",
      "metadata": {
        "colab": {
          "base_uri": "https://localhost:8080/"
        },
        "id": "ubmFPgRDTy5J",
        "outputId": "9b5da6ea-6c86-43ee-a31d-166196765fe7"
      },
      "source": [
        "arr.dtype"
      ],
      "execution_count": 7,
      "outputs": [
        {
          "output_type": "execute_result",
          "data": {
            "text/plain": [
              "dtype('int64')"
            ]
          },
          "metadata": {},
          "execution_count": 7
        }
      ]
    },
    {
      "cell_type": "markdown",
      "metadata": {
        "id": "y7mxP8UGT4uG"
      },
      "source": [
        "**astype** methodi"
      ]
    },
    {
      "cell_type": "code",
      "metadata": {
        "colab": {
          "base_uri": "https://localhost:8080/"
        },
        "id": "uihR06xFT1DM",
        "outputId": "5049a0d4-43f1-46e7-f2ad-35928c08d241"
      },
      "source": [
        "float_arr = arr.astype(np.float64)\n",
        "float_arr.dtype"
      ],
      "execution_count": 9,
      "outputs": [
        {
          "output_type": "execute_result",
          "data": {
            "text/plain": [
              "dtype('float64')"
            ]
          },
          "metadata": {},
          "execution_count": 9
        }
      ]
    },
    {
      "cell_type": "code",
      "metadata": {
        "colab": {
          "base_uri": "https://localhost:8080/"
        },
        "id": "Exys8bf_UG0t",
        "outputId": "8d8b75f5-d8e3-4986-d1e7-a5d9eb023eae"
      },
      "source": [
        "data = np.array([3.4, 5.7, 1.8, 4]) #float64\n",
        "data.dtype"
      ],
      "execution_count": 11,
      "outputs": [
        {
          "output_type": "execute_result",
          "data": {
            "text/plain": [
              "dtype('float64')"
            ]
          },
          "metadata": {},
          "execution_count": 11
        }
      ]
    },
    {
      "cell_type": "code",
      "metadata": {
        "colab": {
          "base_uri": "https://localhost:8080/"
        },
        "id": "nMXqHplQUVQc",
        "outputId": "0a2cee42-d297-4dc1-a7f9-28d4e738c976"
      },
      "source": [
        "int_data = data.astype(np.int64)\n",
        "int_data.dtype"
      ],
      "execution_count": 14,
      "outputs": [
        {
          "output_type": "execute_result",
          "data": {
            "text/plain": [
              "dtype('int64')"
            ]
          },
          "metadata": {},
          "execution_count": 14
        }
      ]
    },
    {
      "cell_type": "code",
      "metadata": {
        "id": "Qbx3zgaKUfQc"
      },
      "source": [
        ""
      ],
      "execution_count": null,
      "outputs": []
    }
  ]
}