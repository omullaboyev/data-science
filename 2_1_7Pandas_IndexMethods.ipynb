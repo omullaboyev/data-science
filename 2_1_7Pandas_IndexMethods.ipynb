{
  "nbformat": 4,
  "nbformat_minor": 0,
  "metadata": {
    "colab": {
      "name": "2.1.7Pandas-IndexMethods.ipynb",
      "provenance": [],
      "collapsed_sections": [],
      "authorship_tag": "ABX9TyMnqqC7xCQ1A6ANg1Cb8pHp",
      "include_colab_link": true
    },
    "kernelspec": {
      "name": "python3",
      "display_name": "Python 3"
    },
    "language_info": {
      "name": "python"
    }
  },
  "cells": [
    {
      "cell_type": "markdown",
      "metadata": {
        "id": "view-in-github",
        "colab_type": "text"
      },
      "source": [
        "<a href=\"https://colab.research.google.com/github/omullaboyev/data-science/blob/main/2_1_7Pandas_IndexMethods.ipynb\" target=\"_parent\"><img src=\"https://colab.research.google.com/assets/colab-badge.svg\" alt=\"Open In Colab\"/></a>"
      ]
    },
    {
      "cell_type": "markdown",
      "metadata": {
        "id": "a1xrlsZwBYh-"
      },
      "source": [
        "#Data Science va Sun'iy Intellekt Praktikum"
      ]
    },
    {
      "cell_type": "markdown",
      "metadata": {
        "id": "ZCL1vGLiBeGs"
      },
      "source": [
        "Ma'lumotlar Tahlili. Pandas kutubxonasi"
      ]
    },
    {
      "cell_type": "markdown",
      "metadata": {
        "id": "RlnppCJNBbdM"
      },
      "source": [
        "2.1 Pandas kutubxonasi bilan ishlash."
      ]
    },
    {
      "cell_type": "markdown",
      "metadata": {
        "id": "fYI6Yw0GD3j7"
      },
      "source": [
        "2.1.1 Indeks metodlari"
      ]
    },
    {
      "cell_type": "code",
      "metadata": {
        "id": "3U49DMkdBSwm"
      },
      "source": [
        "import pandas as pd"
      ],
      "execution_count": 1,
      "outputs": []
    },
    {
      "cell_type": "markdown",
      "metadata": {
        "id": "umPANbLpEy6p"
      },
      "source": [
        "Lug'atlar lug'atini yaratib olamiz"
      ]
    },
    {
      "cell_type": "code",
      "metadata": {
        "id": "kWN8yIwxD78y"
      },
      "source": [
        "# data\n",
        "usernames = {\"anvar\": \"anvarbek223\", \"olim\": \"olimtoy\", \"maryam\": \"mary334455\", \"javohir\": \"javohir445\"} # usernames lug'ati\n",
        "emails = {\"anvar\": \"anvar@gmail.com\", \"olim\": \"olim@mail.ru\", \"maryam\": \"mary33@gmail.com\", \"javohir\": \"javohir445@gmail.com\"} # emails lug'ati\n",
        "          \n",
        "data = {\n",
        "        \"username\": usernames,\n",
        "        \"email\": emails\n",
        "        } # usernames va emails lug'atlaridan tashkil topgan data lug'ati\n",
        "df = pd.DataFrame(data) # data lug'atidan df DataFrame yaratamiz"
      ],
      "execution_count": 2,
      "outputs": []
    },
    {
      "cell_type": "code",
      "metadata": {
        "colab": {
          "base_uri": "https://localhost:8080/",
          "height": 173
        },
        "id": "OJGGesJFFDY5",
        "outputId": "7d3b6a89-5993-446e-e7de-bd155ce01cd6"
      },
      "source": [
        "df"
      ],
      "execution_count": 3,
      "outputs": [
        {
          "output_type": "execute_result",
          "data": {
            "text/html": [
              "<div>\n",
              "<style scoped>\n",
              "    .dataframe tbody tr th:only-of-type {\n",
              "        vertical-align: middle;\n",
              "    }\n",
              "\n",
              "    .dataframe tbody tr th {\n",
              "        vertical-align: top;\n",
              "    }\n",
              "\n",
              "    .dataframe thead th {\n",
              "        text-align: right;\n",
              "    }\n",
              "</style>\n",
              "<table border=\"1\" class=\"dataframe\">\n",
              "  <thead>\n",
              "    <tr style=\"text-align: right;\">\n",
              "      <th></th>\n",
              "      <th>username</th>\n",
              "      <th>email</th>\n",
              "    </tr>\n",
              "  </thead>\n",
              "  <tbody>\n",
              "    <tr>\n",
              "      <th>anvar</th>\n",
              "      <td>anvarbek223</td>\n",
              "      <td>anvar@gmail.com</td>\n",
              "    </tr>\n",
              "    <tr>\n",
              "      <th>olim</th>\n",
              "      <td>olimtoy</td>\n",
              "      <td>olim@mail.ru</td>\n",
              "    </tr>\n",
              "    <tr>\n",
              "      <th>maryam</th>\n",
              "      <td>mary334455</td>\n",
              "      <td>mary33@gmail.com</td>\n",
              "    </tr>\n",
              "    <tr>\n",
              "      <th>javohir</th>\n",
              "      <td>javohir445</td>\n",
              "      <td>javohir445@gmail.com</td>\n",
              "    </tr>\n",
              "  </tbody>\n",
              "</table>\n",
              "</div>"
            ],
            "text/plain": [
              "            username                 email\n",
              "anvar    anvarbek223       anvar@gmail.com\n",
              "olim         olimtoy          olim@mail.ru\n",
              "maryam    mary334455      mary33@gmail.com\n",
              "javohir   javohir445  javohir445@gmail.com"
            ]
          },
          "metadata": {},
          "execution_count": 3
        }
      ]
    },
    {
      "cell_type": "markdown",
      "metadata": {
        "id": "tkv17dqQFWJS"
      },
      "source": [
        "**DataFrame da indekslar takrorlanishi mumkin**"
      ]
    },
    {
      "cell_type": "code",
      "metadata": {
        "colab": {
          "base_uri": "https://localhost:8080/"
        },
        "id": "ZX7QQ4dyFER_",
        "outputId": "bff6f85d-a865-4429-bf98-cbd98a6e1149"
      },
      "source": [
        "df.index"
      ],
      "execution_count": 4,
      "outputs": [
        {
          "output_type": "execute_result",
          "data": {
            "text/plain": [
              "Index(['anvar', 'olim', 'maryam', 'javohir'], dtype='object')"
            ]
          },
          "metadata": {},
          "execution_count": 4
        }
      ]
    },
    {
      "cell_type": "markdown",
      "metadata": {
        "id": "wg32JaXkFq0l"
      },
      "source": [
        "**Ro'yhat (List) larda esa indeks takrorlanmaydi.**"
      ]
    },
    {
      "cell_type": "code",
      "metadata": {
        "id": "h1j9Ycd_FeHI"
      },
      "source": [
        "arr = ['anvar', 'olim', 'maryam', 'javohir']"
      ],
      "execution_count": 5,
      "outputs": []
    },
    {
      "cell_type": "code",
      "metadata": {
        "colab": {
          "base_uri": "https://localhost:8080/",
          "height": 35
        },
        "id": "iu-SEC1SF3gR",
        "outputId": "20b0c7ce-6167-4af8-ff46-c8c7e8135636"
      },
      "source": [
        "arr[0]"
      ],
      "execution_count": 6,
      "outputs": [
        {
          "output_type": "execute_result",
          "data": {
            "application/vnd.google.colaboratory.intrinsic+json": {
              "type": "string"
            },
            "text/plain": [
              "'anvar'"
            ]
          },
          "metadata": {},
          "execution_count": 6
        }
      ]
    },
    {
      "cell_type": "code",
      "metadata": {
        "colab": {
          "base_uri": "https://localhost:8080/",
          "height": 35
        },
        "id": "REgWAqZmF4hA",
        "outputId": "12b34cc0-5d18-4bfe-b8b0-ac0e67040d47"
      },
      "source": [
        "arr[1]"
      ],
      "execution_count": 7,
      "outputs": [
        {
          "output_type": "execute_result",
          "data": {
            "application/vnd.google.colaboratory.intrinsic+json": {
              "type": "string"
            },
            "text/plain": [
              "'olim'"
            ]
          },
          "metadata": {},
          "execution_count": 7
        }
      ]
    },
    {
      "cell_type": "code",
      "metadata": {
        "id": "-vzOCnJ_F5fP"
      },
      "source": [
        "data2 = {\n",
        "    \"username\": {\"olim\": \"olimjon21\", \"maryam\": \"maryam2020\"}, # username lug'ati\n",
        "    \"email\": {\"olim\": \"olimjon21@mail.ru\", \"maryam\": \"maryam20@gmail.com\"} # email lug'ati\n",
        "    \n",
        "} # username va email lug'atlaridan tashkil topgan data2 lug'ati"
      ],
      "execution_count": 19,
      "outputs": []
    },
    {
      "cell_type": "markdown",
      "metadata": {
        "id": "2_1K2CVnHHmN"
      },
      "source": [
        "#`append` metodi"
      ]
    },
    {
      "cell_type": "code",
      "metadata": {
        "id": "VVUFSrdYGTcJ"
      },
      "source": [
        "df2 = df.append(pd.DataFrame(data2)) # df DataFrame ga data2 lug'atini qo'shib df2 DataFrame yaratdik"
      ],
      "execution_count": 20,
      "outputs": []
    },
    {
      "cell_type": "code",
      "metadata": {
        "colab": {
          "base_uri": "https://localhost:8080/",
          "height": 235
        },
        "id": "L9Kg3Rz_GjvG",
        "outputId": "9ff79b71-97bc-4529-84f1-105b1c4d021d"
      },
      "source": [
        "df2"
      ],
      "execution_count": 21,
      "outputs": [
        {
          "output_type": "execute_result",
          "data": {
            "text/html": [
              "<div>\n",
              "<style scoped>\n",
              "    .dataframe tbody tr th:only-of-type {\n",
              "        vertical-align: middle;\n",
              "    }\n",
              "\n",
              "    .dataframe tbody tr th {\n",
              "        vertical-align: top;\n",
              "    }\n",
              "\n",
              "    .dataframe thead th {\n",
              "        text-align: right;\n",
              "    }\n",
              "</style>\n",
              "<table border=\"1\" class=\"dataframe\">\n",
              "  <thead>\n",
              "    <tr style=\"text-align: right;\">\n",
              "      <th></th>\n",
              "      <th>username</th>\n",
              "      <th>email</th>\n",
              "    </tr>\n",
              "  </thead>\n",
              "  <tbody>\n",
              "    <tr>\n",
              "      <th>anvar</th>\n",
              "      <td>anvarbek223</td>\n",
              "      <td>anvar@gmail.com</td>\n",
              "    </tr>\n",
              "    <tr>\n",
              "      <th>olim</th>\n",
              "      <td>olimtoy</td>\n",
              "      <td>olim@mail.ru</td>\n",
              "    </tr>\n",
              "    <tr>\n",
              "      <th>maryam</th>\n",
              "      <td>mary334455</td>\n",
              "      <td>mary33@gmail.com</td>\n",
              "    </tr>\n",
              "    <tr>\n",
              "      <th>javohir</th>\n",
              "      <td>javohir445</td>\n",
              "      <td>javohir445@gmail.com</td>\n",
              "    </tr>\n",
              "    <tr>\n",
              "      <th>olim</th>\n",
              "      <td>olimjon21</td>\n",
              "      <td>olimjon21@mail.ru</td>\n",
              "    </tr>\n",
              "    <tr>\n",
              "      <th>maryam</th>\n",
              "      <td>maryam2020</td>\n",
              "      <td>maryam20@gmail.com</td>\n",
              "    </tr>\n",
              "  </tbody>\n",
              "</table>\n",
              "</div>"
            ],
            "text/plain": [
              "            username                 email\n",
              "anvar    anvarbek223       anvar@gmail.com\n",
              "olim         olimtoy          olim@mail.ru\n",
              "maryam    mary334455      mary33@gmail.com\n",
              "javohir   javohir445  javohir445@gmail.com\n",
              "olim       olimjon21     olimjon21@mail.ru\n",
              "maryam    maryam2020    maryam20@gmail.com"
            ]
          },
          "metadata": {},
          "execution_count": 21
        }
      ]
    },
    {
      "cell_type": "code",
      "metadata": {
        "colab": {
          "base_uri": "https://localhost:8080/"
        },
        "id": "T1Oi8x4tGk72",
        "outputId": "e197b871-e24d-4980-94c1-2d49eddaed90"
      },
      "source": [
        "newind = pd.Index([\"olim\", \"nafisa\", \"hamida\"])\n",
        "newind"
      ],
      "execution_count": 22,
      "outputs": [
        {
          "output_type": "execute_result",
          "data": {
            "text/plain": [
              "Index(['olim', 'nafisa', 'hamida'], dtype='object')"
            ]
          },
          "metadata": {},
          "execution_count": 22
        }
      ]
    },
    {
      "cell_type": "markdown",
      "metadata": {
        "id": "vkmpTfv5HxAa"
      },
      "source": [
        "#`isin` metodi. Bir indeks boshqa indeksning ichida bormi?"
      ]
    },
    {
      "cell_type": "code",
      "metadata": {
        "colab": {
          "base_uri": "https://localhost:8080/"
        },
        "id": "NRaI3iNaHli2",
        "outputId": "d7d7a043-f981-43b5-821e-c4cb061e0365"
      },
      "source": [
        "newind.isin(df2.index)"
      ],
      "execution_count": 23,
      "outputs": [
        {
          "output_type": "execute_result",
          "data": {
            "text/plain": [
              "array([ True, False, False])"
            ]
          },
          "metadata": {},
          "execution_count": 23
        }
      ]
    },
    {
      "cell_type": "markdown",
      "metadata": {
        "id": "em2TSJ2MIPMl"
      },
      "source": [
        "#`difference` metodi. Indekslar orasidagi farqni topish."
      ]
    },
    {
      "cell_type": "code",
      "metadata": {
        "colab": {
          "base_uri": "https://localhost:8080/"
        },
        "id": "DwAzZs9eH7VX",
        "outputId": "df5e5a39-cd0f-4c6f-b061-4dfcce27a938"
      },
      "source": [
        "df2.index.difference(newind)"
      ],
      "execution_count": 24,
      "outputs": [
        {
          "output_type": "execute_result",
          "data": {
            "text/plain": [
              "Index(['anvar', 'javohir', 'maryam'], dtype='object')"
            ]
          },
          "metadata": {},
          "execution_count": 24
        }
      ]
    },
    {
      "cell_type": "code",
      "metadata": {
        "colab": {
          "base_uri": "https://localhost:8080/"
        },
        "id": "DLrWVr_0IWuv",
        "outputId": "b9d2aef5-9153-4513-9955-309ddd370f67"
      },
      "source": [
        "newind.difference(df2.index)"
      ],
      "execution_count": 25,
      "outputs": [
        {
          "output_type": "execute_result",
          "data": {
            "text/plain": [
              "Index(['hamida', 'nafisa'], dtype='object')"
            ]
          },
          "metadata": {},
          "execution_count": 25
        }
      ]
    },
    {
      "cell_type": "markdown",
      "metadata": {
        "id": "VPnP6rMsIodb"
      },
      "source": [
        "#`union` metodi. Indekslar elementlarini jamlash."
      ]
    },
    {
      "cell_type": "code",
      "metadata": {
        "colab": {
          "base_uri": "https://localhost:8080/"
        },
        "id": "Lgoi3JKIIh5P",
        "outputId": "988c9ea2-2e00-4adf-e700-70a9879d4bf4"
      },
      "source": [
        "df2.index.union(newind)"
      ],
      "execution_count": 26,
      "outputs": [
        {
          "output_type": "execute_result",
          "data": {
            "text/plain": [
              "Index(['anvar', 'hamida', 'javohir', 'maryam', 'maryam', 'nafisa', 'olim',\n",
              "       'olim'],\n",
              "      dtype='object')"
            ]
          },
          "metadata": {},
          "execution_count": 26
        }
      ]
    },
    {
      "cell_type": "markdown",
      "metadata": {
        "id": "_OUCki6gJBBF"
      },
      "source": [
        "#`delete` metodi. Indeksdagi biron bir elementni o'chirish."
      ]
    },
    {
      "cell_type": "code",
      "metadata": {
        "colab": {
          "base_uri": "https://localhost:8080/"
        },
        "id": "H0Z_LbtWIvrH",
        "outputId": "0c484b20-2142-4900-9ab1-5c56f4160a29"
      },
      "source": [
        "df2.index.delete(0)"
      ],
      "execution_count": 27,
      "outputs": [
        {
          "output_type": "execute_result",
          "data": {
            "text/plain": [
              "Index(['olim', 'maryam', 'javohir', 'olim', 'maryam'], dtype='object')"
            ]
          },
          "metadata": {},
          "execution_count": 27
        }
      ]
    },
    {
      "cell_type": "markdown",
      "metadata": {
        "id": "B_xNM7vYJSJr"
      },
      "source": [
        "#`drop` metodi. Indeksning ma'lum bir elementini tashlab yurborish (element qiymati orqali)"
      ]
    },
    {
      "cell_type": "code",
      "metadata": {
        "colab": {
          "base_uri": "https://localhost:8080/"
        },
        "id": "OUXkjen0JLmg",
        "outputId": "b400c0cc-19a4-4959-f150-e9354d201dcb"
      },
      "source": [
        "newind.drop(\"hamida\")"
      ],
      "execution_count": 28,
      "outputs": [
        {
          "output_type": "execute_result",
          "data": {
            "text/plain": [
              "Index(['olim', 'nafisa'], dtype='object')"
            ]
          },
          "metadata": {},
          "execution_count": 28
        }
      ]
    },
    {
      "cell_type": "markdown",
      "metadata": {
        "id": "jE61jRMXJoh2"
      },
      "source": [
        "#`insert` metodi. Indeksga yangi element qo'shish."
      ]
    },
    {
      "cell_type": "code",
      "metadata": {
        "colab": {
          "base_uri": "https://localhost:8080/"
        },
        "id": "_3qN9_GyJfyW",
        "outputId": "9426de67-efd9-49b0-a19a-c89db08af900"
      },
      "source": [
        "df2.index.insert(5, \"masha\") # 5-o'ringa mashani qo'shish"
      ],
      "execution_count": 29,
      "outputs": [
        {
          "output_type": "execute_result",
          "data": {
            "text/plain": [
              "Index(['anvar', 'olim', 'maryam', 'javohir', 'olim', 'masha', 'maryam'], dtype='object')"
            ]
          },
          "metadata": {},
          "execution_count": 29
        }
      ]
    },
    {
      "cell_type": "markdown",
      "metadata": {
        "id": "0ma201lHJ-14"
      },
      "source": [
        "#`is_monotonic` metodi - Indeksning elementlari bir xilmi?"
      ]
    },
    {
      "cell_type": "code",
      "metadata": {
        "colab": {
          "base_uri": "https://localhost:8080/"
        },
        "id": "CiZ6wRQ8J10O",
        "outputId": "a03b5c5a-ffb0-4d47-978b-5e48a59d5fd7"
      },
      "source": [
        "df2.index.is_monotonic # df2 ning indexlari bir xil emas"
      ],
      "execution_count": 31,
      "outputs": [
        {
          "output_type": "execute_result",
          "data": {
            "text/plain": [
              "False"
            ]
          },
          "metadata": {},
          "execution_count": 31
        }
      ]
    },
    {
      "cell_type": "markdown",
      "metadata": {
        "id": "pmxuSvErKKQ3"
      },
      "source": [
        "#`is_unique` metodi - Indeksning elementlari turfami?"
      ]
    },
    {
      "cell_type": "code",
      "metadata": {
        "colab": {
          "base_uri": "https://localhost:8080/"
        },
        "id": "bZ3fLif2KHke",
        "outputId": "ccca6b79-9fd1-4a9d-9683-b725f3029927"
      },
      "source": [
        "df2.index.is_unique # df2 ning indexlari turlicha emas"
      ],
      "execution_count": 34,
      "outputs": [
        {
          "output_type": "execute_result",
          "data": {
            "text/plain": [
              "False"
            ]
          },
          "metadata": {},
          "execution_count": 34
        }
      ]
    },
    {
      "cell_type": "code",
      "metadata": {
        "colab": {
          "base_uri": "https://localhost:8080/"
        },
        "id": "K40i_0LBKUKe",
        "outputId": "15a9f27b-ef3a-4473-f9ca-899262fae9e7"
      },
      "source": [
        "newind.is_unique # newindning barcha elementlari turlicha"
      ],
      "execution_count": 33,
      "outputs": [
        {
          "output_type": "execute_result",
          "data": {
            "text/plain": [
              "True"
            ]
          },
          "metadata": {},
          "execution_count": 33
        }
      ]
    },
    {
      "cell_type": "markdown",
      "metadata": {
        "id": "2DsJoctcKly5"
      },
      "source": [
        "#`unique` metodi - Indeksning takrorlanmas elementlari"
      ]
    },
    {
      "cell_type": "code",
      "metadata": {
        "colab": {
          "base_uri": "https://localhost:8080/"
        },
        "id": "HV0NJAw5KYRY",
        "outputId": "65480da2-f0cc-41d8-b4e9-a85ea61c81c7"
      },
      "source": [
        "df2.index.unique()"
      ],
      "execution_count": 35,
      "outputs": [
        {
          "output_type": "execute_result",
          "data": {
            "text/plain": [
              "Index(['anvar', 'olim', 'maryam', 'javohir'], dtype='object')"
            ]
          },
          "metadata": {},
          "execution_count": 35
        }
      ]
    },
    {
      "cell_type": "code",
      "metadata": {
        "colab": {
          "base_uri": "https://localhost:8080/"
        },
        "id": "zX-xQuSvKvpG",
        "outputId": "abef1819-8b78-46be-d81b-45f4f7059bd1"
      },
      "source": [
        "newind.unique()"
      ],
      "execution_count": 36,
      "outputs": [
        {
          "output_type": "execute_result",
          "data": {
            "text/plain": [
              "Index(['olim', 'nafisa', 'hamida'], dtype='object')"
            ]
          },
          "metadata": {},
          "execution_count": 36
        }
      ]
    },
    {
      "cell_type": "code",
      "metadata": {
        "id": "3QS9nFiBK3CG"
      },
      "source": [
        ""
      ],
      "execution_count": null,
      "outputs": []
    }
  ]
}