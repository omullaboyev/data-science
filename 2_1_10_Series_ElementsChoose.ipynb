{
  "nbformat": 4,
  "nbformat_minor": 0,
  "metadata": {
    "colab": {
      "name": "2.1.10.Series-ElementsChoose.ipynb",
      "provenance": [],
      "collapsed_sections": [],
      "include_colab_link": true
    },
    "kernelspec": {
      "name": "python3",
      "display_name": "Python 3"
    },
    "language_info": {
      "name": "python"
    }
  },
  "cells": [
    {
      "cell_type": "markdown",
      "metadata": {
        "id": "view-in-github",
        "colab_type": "text"
      },
      "source": [
        "<a href=\"https://colab.research.google.com/github/omullaboyev/data-science/blob/main/2_1_10_Series_ElementsChoose.ipynb\" target=\"_parent\"><img src=\"https://colab.research.google.com/assets/colab-badge.svg\" alt=\"Open In Colab\"/></a>"
      ]
    },
    {
      "cell_type": "markdown",
      "metadata": {
        "id": "RMzxxRKx-Bg3"
      },
      "source": [
        "#Data Science va Sun'iy Intellekt Praktikum"
      ]
    },
    {
      "cell_type": "markdown",
      "metadata": {
        "id": "tfoOs_Sd-EPH"
      },
      "source": [
        "Ma'lumotlar Tahlili. Pandas kutubxonasi"
      ]
    },
    {
      "cell_type": "markdown",
      "metadata": {
        "id": "SwzvMsZs-Gge"
      },
      "source": [
        "2.1 Pandas kutubxonasi bilan ishlash."
      ]
    },
    {
      "cell_type": "markdown",
      "metadata": {
        "id": "VRAw03LH-I1j"
      },
      "source": [
        "2.1.10 Series. Indekslash. Qator\\Ustun tanlash. Filtrlash."
      ]
    },
    {
      "cell_type": "code",
      "metadata": {
        "id": "LLMv9VOL99R1"
      },
      "source": [
        "# kutubxonalarni chaqirib olamiz\n",
        "import pandas as pd\n",
        "import numpy as np"
      ],
      "execution_count": 2,
      "outputs": []
    },
    {
      "cell_type": "code",
      "metadata": {
        "id": "ZKjTI7iK-LOL",
        "colab": {
          "base_uri": "https://localhost:8080/",
          "height": 297
        },
        "outputId": "1efe7412-1b22-4031-eba2-46a79bd6b827"
      },
      "source": [
        "# data\n",
        "data = {\n",
        "        \"Yil\": [2021, 2020, 2019, 2018, 2017, 2016, 2015, 2010],\n",
        "        \"Aholi soni\": [33.9, 33.5, 32.9, 32.5, 31.9, 31.4, 30.9, 28.5],\n",
        "        \"Temp\": [1.54, 1.48, 1.56, 1.62, 1.65, 1.66, 1.64, 1.53],\n",
        "        \"Zichlik\": [79.77, 78.68, 77.53, 76.34, 75.13, 73.91, 72.71, 67.03]\n",
        "} # Yillar bo'yicha O'zbekiston aholisining soni, o'sish tempi va zichligi lug'ati\n",
        "df = pd.DataFrame(data)\n",
        "df.index = [21, 20, 19, 18, 17, 16, 15, 10]\n",
        "df"
      ],
      "execution_count": 12,
      "outputs": [
        {
          "output_type": "execute_result",
          "data": {
            "text/html": [
              "<div>\n",
              "<style scoped>\n",
              "    .dataframe tbody tr th:only-of-type {\n",
              "        vertical-align: middle;\n",
              "    }\n",
              "\n",
              "    .dataframe tbody tr th {\n",
              "        vertical-align: top;\n",
              "    }\n",
              "\n",
              "    .dataframe thead th {\n",
              "        text-align: right;\n",
              "    }\n",
              "</style>\n",
              "<table border=\"1\" class=\"dataframe\">\n",
              "  <thead>\n",
              "    <tr style=\"text-align: right;\">\n",
              "      <th></th>\n",
              "      <th>Yil</th>\n",
              "      <th>Aholi soni</th>\n",
              "      <th>Temp</th>\n",
              "      <th>Zichlik</th>\n",
              "    </tr>\n",
              "  </thead>\n",
              "  <tbody>\n",
              "    <tr>\n",
              "      <th>21</th>\n",
              "      <td>2021</td>\n",
              "      <td>33.9</td>\n",
              "      <td>1.54</td>\n",
              "      <td>79.77</td>\n",
              "    </tr>\n",
              "    <tr>\n",
              "      <th>20</th>\n",
              "      <td>2020</td>\n",
              "      <td>33.5</td>\n",
              "      <td>1.48</td>\n",
              "      <td>78.68</td>\n",
              "    </tr>\n",
              "    <tr>\n",
              "      <th>19</th>\n",
              "      <td>2019</td>\n",
              "      <td>32.9</td>\n",
              "      <td>1.56</td>\n",
              "      <td>77.53</td>\n",
              "    </tr>\n",
              "    <tr>\n",
              "      <th>18</th>\n",
              "      <td>2018</td>\n",
              "      <td>32.5</td>\n",
              "      <td>1.62</td>\n",
              "      <td>76.34</td>\n",
              "    </tr>\n",
              "    <tr>\n",
              "      <th>17</th>\n",
              "      <td>2017</td>\n",
              "      <td>31.9</td>\n",
              "      <td>1.65</td>\n",
              "      <td>75.13</td>\n",
              "    </tr>\n",
              "    <tr>\n",
              "      <th>16</th>\n",
              "      <td>2016</td>\n",
              "      <td>31.4</td>\n",
              "      <td>1.66</td>\n",
              "      <td>73.91</td>\n",
              "    </tr>\n",
              "    <tr>\n",
              "      <th>15</th>\n",
              "      <td>2015</td>\n",
              "      <td>30.9</td>\n",
              "      <td>1.64</td>\n",
              "      <td>72.71</td>\n",
              "    </tr>\n",
              "    <tr>\n",
              "      <th>10</th>\n",
              "      <td>2010</td>\n",
              "      <td>28.5</td>\n",
              "      <td>1.53</td>\n",
              "      <td>67.03</td>\n",
              "    </tr>\n",
              "  </tbody>\n",
              "</table>\n",
              "</div>"
            ],
            "text/plain": [
              "     Yil  Aholi soni  Temp  Zichlik\n",
              "21  2021        33.9  1.54    79.77\n",
              "20  2020        33.5  1.48    78.68\n",
              "19  2019        32.9  1.56    77.53\n",
              "18  2018        32.5  1.62    76.34\n",
              "17  2017        31.9  1.65    75.13\n",
              "16  2016        31.4  1.66    73.91\n",
              "15  2015        30.9  1.64    72.71\n",
              "10  2010        28.5  1.53    67.03"
            ]
          },
          "metadata": {},
          "execution_count": 12
        }
      ]
    },
    {
      "cell_type": "markdown",
      "metadata": {
        "id": "CtW1DoMHm4a2"
      },
      "source": [
        "**`DataFrame` ning har bir ustuni alohida `Series` obyekti hisoblanadi.**"
      ]
    },
    {
      "cell_type": "markdown",
      "metadata": {
        "id": "LbyE4zv0nsmE"
      },
      "source": [
        "#DataFrame ning ustunini Series sifatida ko'chirib olish"
      ]
    },
    {
      "cell_type": "code",
      "metadata": {
        "colab": {
          "base_uri": "https://localhost:8080/"
        },
        "id": "2mVnujKgmn6-",
        "outputId": "41434eed-5d09-4907-fde4-6f9ab03e8c96"
      },
      "source": [
        "data = df[\"Aholi soni\"] # df ning \"Aholi soni\" ustunini data nomli Series obyektiga yuklab olish\n",
        "data"
      ],
      "execution_count": 20,
      "outputs": [
        {
          "output_type": "execute_result",
          "data": {
            "text/plain": [
              "21    33.9\n",
              "20    33.5\n",
              "19    32.9\n",
              "18    32.5\n",
              "17    31.9\n",
              "16    31.4\n",
              "15    30.9\n",
              "10    28.5\n",
              "Name: Aholi soni, dtype: float64"
            ]
          },
          "metadata": {},
          "execution_count": 20
        }
      ]
    },
    {
      "cell_type": "code",
      "metadata": {
        "colab": {
          "base_uri": "https://localhost:8080/"
        },
        "id": "iHeyth9YnCWU",
        "outputId": "6aff1ac3-9d52-42f0-a833-dae17006228a"
      },
      "source": [
        "type(data) # data ning toifasi pandaS.Series"
      ],
      "execution_count": 21,
      "outputs": [
        {
          "output_type": "execute_result",
          "data": {
            "text/plain": [
              "pandas.core.series.Series"
            ]
          },
          "metadata": {},
          "execution_count": 21
        }
      ]
    },
    {
      "cell_type": "code",
      "metadata": {
        "colab": {
          "base_uri": "https://localhost:8080/"
        },
        "id": "WeCPWKxIn778",
        "outputId": "854b75c8-dab2-4e66-ffba-dbcaa087c37c"
      },
      "source": [
        "data[21] # data Series ning 21 indeksli elementini olamiz"
      ],
      "execution_count": 26,
      "outputs": [
        {
          "output_type": "execute_result",
          "data": {
            "text/plain": [
              "33.9"
            ]
          },
          "metadata": {},
          "execution_count": 26
        }
      ]
    },
    {
      "cell_type": "code",
      "metadata": {
        "colab": {
          "base_uri": "https://localhost:8080/"
        },
        "id": "1RBHAv6Xoz_U",
        "outputId": "6ce0fd0c-c869-4f68-bdea-0c2be08f26bc"
      },
      "source": [
        "type(data[21]) # toifasi oddiy float64"
      ],
      "execution_count": 27,
      "outputs": [
        {
          "output_type": "execute_result",
          "data": {
            "text/plain": [
              "numpy.float64"
            ]
          },
          "metadata": {},
          "execution_count": 27
        }
      ]
    },
    {
      "cell_type": "code",
      "metadata": {
        "colab": {
          "base_uri": "https://localhost:8080/"
        },
        "id": "zlXOvdS3pe87",
        "outputId": "296b7398-cc82-4bc1-d13d-f9b175b8062a"
      },
      "source": [
        "data[[21]] # data Seriesdan olingan ma'lumot Series ko'rinishida"
      ],
      "execution_count": 30,
      "outputs": [
        {
          "output_type": "execute_result",
          "data": {
            "text/plain": [
              "21    33.9\n",
              "Name: Aholi soni, dtype: float64"
            ]
          },
          "metadata": {},
          "execution_count": 30
        }
      ]
    },
    {
      "cell_type": "code",
      "metadata": {
        "colab": {
          "base_uri": "https://localhost:8080/"
        },
        "id": "yngM9gCjpGor",
        "outputId": "c7838e9b-daec-4597-ad94-367a9398918d"
      },
      "source": [
        "type(data[[21]]) # toifasi pandas.Series"
      ],
      "execution_count": 32,
      "outputs": [
        {
          "output_type": "execute_result",
          "data": {
            "text/plain": [
              "pandas.core.series.Series"
            ]
          },
          "metadata": {},
          "execution_count": 32
        }
      ]
    },
    {
      "cell_type": "markdown",
      "metadata": {
        "id": "U8hKSrY8p-Pd"
      },
      "source": [
        "#Series dan bir nechta qiymatni ajratib olish."
      ]
    },
    {
      "cell_type": "markdown",
      "metadata": {
        "id": "Z-Z9eIFDqCAa"
      },
      "source": [
        "Buning uchun indekslar 0 dan boshlab hisoblanadi."
      ]
    },
    {
      "cell_type": "code",
      "metadata": {
        "colab": {
          "base_uri": "https://localhost:8080/"
        },
        "id": "PM235LtupahE",
        "outputId": "a23fbd03-9e9c-4e99-fa26-680f0f1f9603"
      },
      "source": [
        "data"
      ],
      "execution_count": 33,
      "outputs": [
        {
          "output_type": "execute_result",
          "data": {
            "text/plain": [
              "21    33.9\n",
              "20    33.5\n",
              "19    32.9\n",
              "18    32.5\n",
              "17    31.9\n",
              "16    31.4\n",
              "15    30.9\n",
              "10    28.5\n",
              "Name: Aholi soni, dtype: float64"
            ]
          },
          "metadata": {},
          "execution_count": 33
        }
      ]
    },
    {
      "cell_type": "code",
      "metadata": {
        "colab": {
          "base_uri": "https://localhost:8080/"
        },
        "id": "okRTrrGgqLQu",
        "outputId": "d629945e-3ead-47d1-c069-545a703a300b"
      },
      "source": [
        "data[0:4] # 0 dan 4 gacha indeksli qiymatlarni ajratib olish"
      ],
      "execution_count": 34,
      "outputs": [
        {
          "output_type": "execute_result",
          "data": {
            "text/plain": [
              "21    33.9\n",
              "20    33.5\n",
              "19    32.9\n",
              "18    32.5\n",
              "Name: Aholi soni, dtype: float64"
            ]
          },
          "metadata": {},
          "execution_count": 34
        }
      ]
    },
    {
      "cell_type": "markdown",
      "metadata": {
        "id": "hjf04KUAqaLC"
      },
      "source": [
        "#O'zimiz bergan indekslar orqali jaratish uchun \"ichkari ro'yhat\" dan foydalanamiz."
      ]
    },
    {
      "cell_type": "markdown",
      "metadata": {
        "id": "sGeg_rjWqq4b"
      },
      "source": [
        "Parametr sifatida o'zimiz belgilagan indekslar ro'yhatini uzatamiz"
      ]
    },
    {
      "cell_type": "code",
      "metadata": {
        "colab": {
          "base_uri": "https://localhost:8080/"
        },
        "id": "8RfDlgVkqRRr",
        "outputId": "7cad5902-1ad2-4e48-b121-54fef71bbfeb"
      },
      "source": [
        "data[[21, 20, 19, 18]]"
      ],
      "execution_count": 35,
      "outputs": [
        {
          "output_type": "execute_result",
          "data": {
            "text/plain": [
              "21    33.9\n",
              "20    33.5\n",
              "19    32.9\n",
              "18    32.5\n",
              "Name: Aholi soni, dtype: float64"
            ]
          },
          "metadata": {},
          "execution_count": 35
        }
      ]
    },
    {
      "cell_type": "code",
      "metadata": {
        "id": "kOxtD5Loqmqb"
      },
      "source": [
        "obj = pd.Series(np.arange(8.), index = [\"a\", \"b\", \"c\", \"d\", \"e\", \"f\", \"g\", \"h\"])"
      ],
      "execution_count": 36,
      "outputs": []
    },
    {
      "cell_type": "code",
      "metadata": {
        "colab": {
          "base_uri": "https://localhost:8080/"
        },
        "id": "60yavCrHrLbE",
        "outputId": "6cf7bc5f-b9b6-429d-c3d6-04ee6041d811"
      },
      "source": [
        "obj"
      ],
      "execution_count": 37,
      "outputs": [
        {
          "output_type": "execute_result",
          "data": {
            "text/plain": [
              "a    0.0\n",
              "b    1.0\n",
              "c    2.0\n",
              "d    3.0\n",
              "e    4.0\n",
              "f    5.0\n",
              "g    6.0\n",
              "h    7.0\n",
              "dtype: float64"
            ]
          },
          "metadata": {},
          "execution_count": 37
        }
      ]
    },
    {
      "cell_type": "code",
      "metadata": {
        "colab": {
          "base_uri": "https://localhost:8080/"
        },
        "id": "BxQDlL_6rOLM",
        "outputId": "00664eec-a7f9-4b8c-8a7a-56c584d60de9"
      },
      "source": [
        "obj[\"a\"] # toifasi float"
      ],
      "execution_count": 38,
      "outputs": [
        {
          "output_type": "execute_result",
          "data": {
            "text/plain": [
              "0.0"
            ]
          },
          "metadata": {},
          "execution_count": 38
        }
      ]
    },
    {
      "cell_type": "code",
      "metadata": {
        "colab": {
          "base_uri": "https://localhost:8080/"
        },
        "id": "vxkMdT0ArT_c",
        "outputId": "ac8420db-3890-4b91-be31-8c06495f5443"
      },
      "source": [
        "obj[[\"a\", \"b\", \"c\", \"d\"]]"
      ],
      "execution_count": 41,
      "outputs": [
        {
          "output_type": "execute_result",
          "data": {
            "text/plain": [
              "a    0.0\n",
              "b    1.0\n",
              "c    2.0\n",
              "d    3.0\n",
              "dtype: float64"
            ]
          },
          "metadata": {},
          "execution_count": 41
        }
      ]
    },
    {
      "cell_type": "code",
      "metadata": {
        "colab": {
          "base_uri": "https://localhost:8080/"
        },
        "id": "CJMpj76ErbAN",
        "outputId": "3e407c7d-5199-4ce0-f54f-4e7e30b103f7"
      },
      "source": [
        "obj[0:4]"
      ],
      "execution_count": 42,
      "outputs": [
        {
          "output_type": "execute_result",
          "data": {
            "text/plain": [
              "a    0.0\n",
              "b    1.0\n",
              "c    2.0\n",
              "d    3.0\n",
              "dtype: float64"
            ]
          },
          "metadata": {},
          "execution_count": 42
        }
      ]
    },
    {
      "cell_type": "markdown",
      "metadata": {
        "id": "YWpee7ALrq3w"
      },
      "source": [
        "#Harfli indekslarga : orqali murojaat qilish ham mumkin."
      ]
    },
    {
      "cell_type": "code",
      "metadata": {
        "colab": {
          "base_uri": "https://localhost:8080/"
        },
        "id": "qRfVtuIvrd-M",
        "outputId": "cca59e71-c79e-440b-b2ed-887b79bdeb02"
      },
      "source": [
        "obj[\"a\":\"f\"]"
      ],
      "execution_count": 43,
      "outputs": [
        {
          "output_type": "execute_result",
          "data": {
            "text/plain": [
              "a    0.0\n",
              "b    1.0\n",
              "c    2.0\n",
              "d    3.0\n",
              "e    4.0\n",
              "f    5.0\n",
              "dtype: float64"
            ]
          },
          "metadata": {},
          "execution_count": 43
        }
      ]
    },
    {
      "cell_type": "code",
      "metadata": {
        "colab": {
          "base_uri": "https://localhost:8080/"
        },
        "id": "DsxdlXyIrjDc",
        "outputId": "e9aa8aa1-30eb-47c2-9f54-1d59ff32b381"
      },
      "source": [
        "obj[\"c\":\"h\"]"
      ],
      "execution_count": 44,
      "outputs": [
        {
          "output_type": "execute_result",
          "data": {
            "text/plain": [
              "c    2.0\n",
              "d    3.0\n",
              "e    4.0\n",
              "f    5.0\n",
              "g    6.0\n",
              "h    7.0\n",
              "dtype: float64"
            ]
          },
          "metadata": {},
          "execution_count": 44
        }
      ]
    },
    {
      "cell_type": "markdown",
      "metadata": {
        "id": "YlpXZqU0r8K0"
      },
      "source": [
        "#Indeks sonli bo'lganda o'zimiz bergan indeks bilan : orqali ishlamaydi."
      ]
    },
    {
      "cell_type": "code",
      "metadata": {
        "colab": {
          "base_uri": "https://localhost:8080/"
        },
        "id": "CsHoS0f3rpHM",
        "outputId": "66477d9d-96cd-433b-c787-e640567a1f09"
      },
      "source": [
        "data"
      ],
      "execution_count": 45,
      "outputs": [
        {
          "output_type": "execute_result",
          "data": {
            "text/plain": [
              "21    33.9\n",
              "20    33.5\n",
              "19    32.9\n",
              "18    32.5\n",
              "17    31.9\n",
              "16    31.4\n",
              "15    30.9\n",
              "10    28.5\n",
              "Name: Aholi soni, dtype: float64"
            ]
          },
          "metadata": {},
          "execution_count": 45
        }
      ]
    },
    {
      "cell_type": "code",
      "metadata": {
        "colab": {
          "base_uri": "https://localhost:8080/"
        },
        "id": "rl2Y8Q1yr7J0",
        "outputId": "dc21e48e-dd37-4503-b1b6-6d099b4d8f72"
      },
      "source": [
        "data[21:17] # bo'sh Series qaytaradi"
      ],
      "execution_count": 46,
      "outputs": [
        {
          "output_type": "execute_result",
          "data": {
            "text/plain": [
              "Series([], Name: Aholi soni, dtype: float64)"
            ]
          },
          "metadata": {},
          "execution_count": 46
        }
      ]
    },
    {
      "cell_type": "code",
      "metadata": {
        "colab": {
          "base_uri": "https://localhost:8080/"
        },
        "id": "v2Evb2jmsGNT",
        "outputId": "5b91f5e1-5785-4434-fda3-be2623980a30"
      },
      "source": [
        "data[17:21] # bo'sh Series qaytaradi"
      ],
      "execution_count": 47,
      "outputs": [
        {
          "output_type": "execute_result",
          "data": {
            "text/plain": [
              "Series([], Name: Aholi soni, dtype: float64)"
            ]
          },
          "metadata": {},
          "execution_count": 47
        }
      ]
    },
    {
      "cell_type": "code",
      "metadata": {
        "colab": {
          "base_uri": "https://localhost:8080/"
        },
        "id": "NrHIIZz5sw_8",
        "outputId": "876dc013-fdd4-4926-8f92-66288169ccb9"
      },
      "source": [
        "obj"
      ],
      "execution_count": 49,
      "outputs": [
        {
          "output_type": "execute_result",
          "data": {
            "text/plain": [
              "a    0.0\n",
              "b    1.0\n",
              "c    2.0\n",
              "d    3.0\n",
              "e    4.0\n",
              "f    5.0\n",
              "g    6.0\n",
              "h    7.0\n",
              "dtype: float64"
            ]
          },
          "metadata": {},
          "execution_count": 49
        }
      ]
    },
    {
      "cell_type": "code",
      "metadata": {
        "colab": {
          "base_uri": "https://localhost:8080/"
        },
        "id": "U506cUDksKSb",
        "outputId": "3e24e653-982c-4091-fb06-3b15b846b245"
      },
      "source": [
        "obj[[1,5]] # 1 va 5 tartib raqamidagi indekslarni olish"
      ],
      "execution_count": 48,
      "outputs": [
        {
          "output_type": "execute_result",
          "data": {
            "text/plain": [
              "b    1.0\n",
              "f    5.0\n",
              "dtype: float64"
            ]
          },
          "metadata": {},
          "execution_count": 48
        }
      ]
    },
    {
      "cell_type": "code",
      "metadata": {
        "colab": {
          "base_uri": "https://localhost:8080/"
        },
        "id": "l2C_S5Gcsp4E",
        "outputId": "2b0b5fd7-2344-43bf-e05e-93a2f94f1261"
      },
      "source": [
        "obj[[\"a\", \"g\"]] # a va g indeksli qiymatlarni olish"
      ],
      "execution_count": 51,
      "outputs": [
        {
          "output_type": "execute_result",
          "data": {
            "text/plain": [
              "a    0.0\n",
              "g    6.0\n",
              "dtype: float64"
            ]
          },
          "metadata": {},
          "execution_count": 51
        }
      ]
    },
    {
      "cell_type": "markdown",
      "metadata": {
        "id": "WeJkBN35tClo"
      },
      "source": [
        "#Index orqali qiymatlarni o'zgartirish"
      ]
    },
    {
      "cell_type": "code",
      "metadata": {
        "id": "aOZDJQwMs3Sz"
      },
      "source": [
        "obj[\"a\":\"c\"] = 15 # a dan c gacha oraliqda bo'lgan indeksli qiymatlarni 15 ga almashtirish"
      ],
      "execution_count": 56,
      "outputs": []
    },
    {
      "cell_type": "code",
      "metadata": {
        "colab": {
          "base_uri": "https://localhost:8080/"
        },
        "id": "bE5FG-XEtJP7",
        "outputId": "4563e1e2-f441-468c-b139-edb763f22dc9"
      },
      "source": [
        "obj"
      ],
      "execution_count": 55,
      "outputs": [
        {
          "output_type": "execute_result",
          "data": {
            "text/plain": [
              "a    15.0\n",
              "b    15.0\n",
              "c    15.0\n",
              "d     3.0\n",
              "e     4.0\n",
              "f     5.0\n",
              "g     6.0\n",
              "h     7.0\n",
              "dtype: float64"
            ]
          },
          "metadata": {},
          "execution_count": 55
        }
      ]
    },
    {
      "cell_type": "markdown",
      "metadata": {
        "id": "FwvRXNwitYlp"
      },
      "source": [
        "#Filtrlash"
      ]
    },
    {
      "cell_type": "code",
      "metadata": {
        "colab": {
          "base_uri": "https://localhost:8080/"
        },
        "id": "hxohvb1WtKKL",
        "outputId": "2150e342-763c-4ca6-f86f-7f1927530900"
      },
      "source": [
        "obj[obj < 15] # obj Seriesning 15 dan kichik qiymatga ega elementlarini filtrlab olish"
      ],
      "execution_count": 57,
      "outputs": [
        {
          "output_type": "execute_result",
          "data": {
            "text/plain": [
              "d    3.0\n",
              "e    4.0\n",
              "f    5.0\n",
              "g    6.0\n",
              "h    7.0\n",
              "dtype: float64"
            ]
          },
          "metadata": {},
          "execution_count": 57
        }
      ]
    },
    {
      "cell_type": "code",
      "metadata": {
        "colab": {
          "base_uri": "https://localhost:8080/"
        },
        "id": "HfPGy0gRth7j",
        "outputId": "b35b9171-4fdb-491f-f7dc-b4fe58dd4ba9"
      },
      "source": [
        "obj[obj == 15] # obj Seriesning 15 ga teng qiymatga ega elementlarini filtrlab olish"
      ],
      "execution_count": 58,
      "outputs": [
        {
          "output_type": "execute_result",
          "data": {
            "text/plain": [
              "a    15.0\n",
              "b    15.0\n",
              "c    15.0\n",
              "dtype: float64"
            ]
          },
          "metadata": {},
          "execution_count": 58
        }
      ]
    },
    {
      "cell_type": "code",
      "metadata": {
        "colab": {
          "base_uri": "https://localhost:8080/"
        },
        "id": "PyYKmbMKtoYT",
        "outputId": "153f61c9-e5cf-4206-ba6d-5cea14170271"
      },
      "source": [
        "obj[obj > 15] # obj Seriesning 15 dan katta qiymatga ega elementlarini filtrlab olish"
      ],
      "execution_count": 59,
      "outputs": [
        {
          "output_type": "execute_result",
          "data": {
            "text/plain": [
              "Series([], dtype: float64)"
            ]
          },
          "metadata": {},
          "execution_count": 59
        }
      ]
    },
    {
      "cell_type": "code",
      "metadata": {
        "colab": {
          "base_uri": "https://localhost:8080/"
        },
        "id": "yJxnV4UEtsVz",
        "outputId": "0647029d-cf8c-4a02-f608-becc0b1f88fb"
      },
      "source": [
        "obj[obj < 7] # obj Seriesning 7 dan kichik qiymatga ega elementlarini filtrlab olish"
      ],
      "execution_count": 61,
      "outputs": [
        {
          "output_type": "execute_result",
          "data": {
            "text/plain": [
              "d    3.0\n",
              "e    4.0\n",
              "f    5.0\n",
              "g    6.0\n",
              "dtype: float64"
            ]
          },
          "metadata": {},
          "execution_count": 61
        }
      ]
    },
    {
      "cell_type": "code",
      "metadata": {
        "id": "-pd9ZWSAtxPr"
      },
      "source": [
        ""
      ],
      "execution_count": null,
      "outputs": []
    }
  ]
}