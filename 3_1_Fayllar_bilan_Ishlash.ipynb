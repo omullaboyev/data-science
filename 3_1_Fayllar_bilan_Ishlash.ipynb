{
  "nbformat": 4,
  "nbformat_minor": 0,
  "metadata": {
    "colab": {
      "name": "3.1_Fayllar_bilan_Ishlash.ipynb",
      "provenance": [],
      "collapsed_sections": [],
      "authorship_tag": "ABX9TyPPG9UKNo8MTuXfL8s7WoCB",
      "include_colab_link": true
    },
    "kernelspec": {
      "name": "python3",
      "display_name": "Python 3"
    },
    "language_info": {
      "name": "python"
    }
  },
  "cells": [
    {
      "cell_type": "markdown",
      "metadata": {
        "id": "view-in-github",
        "colab_type": "text"
      },
      "source": [
        "<a href=\"https://colab.research.google.com/github/omullaboyev/data-science/blob/main/3_1_Fayllar_bilan_Ishlash.ipynb\" target=\"_parent\"><img src=\"https://colab.research.google.com/assets/colab-badge.svg\" alt=\"Open In Colab\"/></a>"
      ]
    },
    {
      "cell_type": "code",
      "execution_count": 1,
      "metadata": {
        "id": "tf84YPnTReOk"
      },
      "outputs": [],
      "source": [
        "import pandas as pd\n",
        "import numpy as np"
      ]
    },
    {
      "cell_type": "markdown",
      "source": [
        "# pandas kutubxonasi fayllar bilan ishlash funksiyalari\n",
        "read_csv - csv, vergul bilan ajratilgan jadval fayllarini o'qish\n",
        "\n",
        "read_table - probel bilan ajratilgan jadval fayllarni o'qish\n",
        "\n",
        "read_excel - excel (xls, xlsx) fayllarni o'qish\n",
        "\n",
        "read_clipboard - bufer obmenadan o'qish\n",
        "\n",
        "read_hdf - hdf5 fayllarni o'qish\n",
        "\n",
        "read_html - HTML dagi barcha jadvallarni o'qish\n",
        "\n",
        "read_json - JSON ma'lumotlarni o'qish\n",
        "\n",
        "read_pickle - pickle formatdagi fayllarni o'qish\n",
        "\n",
        "read_sql - SQL dan qaytgan ma'lumotlarni o'qish\n",
        "\n",
        "\n"
      ],
      "metadata": {
        "id": "HHmUoxtiSD3t"
      }
    },
    {
      "cell_type": "code",
      "source": [
        ""
      ],
      "metadata": {
        "id": "4x6l2VAvRmJ3"
      },
      "execution_count": null,
      "outputs": []
    },
    {
      "cell_type": "markdown",
      "source": [
        "Internetdan fayl yuklab olish\n"
      ],
      "metadata": {
        "id": "opQNajcOUU1F"
      }
    },
    {
      "cell_type": "markdown",
      "source": [
        "`!wget fayl_adresi` - berilgan adresdagi faylni yuklab oladi"
      ],
      "metadata": {
        "id": "0mMqdOMNUz17"
      }
    },
    {
      "cell_type": "markdown",
      "source": [
        "`!git clone repositoriy adresi` - repositoriy adresidagi barcha fayllarni yuklab oladi"
      ],
      "metadata": {
        "id": "0BRDzNRmUuKk"
      }
    }
  ]
}