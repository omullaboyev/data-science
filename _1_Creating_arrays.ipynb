{
  "nbformat": 4,
  "nbformat_minor": 0,
  "metadata": {
    "colab": {
      "name": "#1_Creating_arrays.ipynb",
      "provenance": [],
      "collapsed_sections": [
        "0yuf18N89EcE",
        "lDNcXZyc9KtD",
        "KXCI4cUa_SSL"
      ],
      "authorship_tag": "ABX9TyN1p6MMQGk3TDkGz816lAox",
      "include_colab_link": true
    },
    "kernelspec": {
      "name": "python3",
      "display_name": "Python 3"
    },
    "language_info": {
      "name": "python"
    }
  },
  "cells": [
    {
      "cell_type": "markdown",
      "metadata": {
        "id": "view-in-github",
        "colab_type": "text"
      },
      "source": [
        "<a href=\"https://colab.research.google.com/github/omullaboyev/data-science/blob/main/_1_Creating_arrays.ipynb\" target=\"_parent\"><img src=\"https://colab.research.google.com/assets/colab-badge.svg\" alt=\"Open In Colab\"/></a>"
      ]
    },
    {
      "cell_type": "markdown",
      "metadata": {
        "id": "0yuf18N89EcE"
      },
      "source": [
        "# Data Science va Sun'iy Intellekt Praktikum"
      ]
    },
    {
      "cell_type": "markdown",
      "metadata": {
        "id": "lDNcXZyc9KtD"
      },
      "source": [
        "#Ma'lumotlar Tahlili"
      ]
    },
    {
      "cell_type": "markdown",
      "metadata": {
        "id": "PdBu6Zqf9TWl"
      },
      "source": [
        "2.1 NumPy kutubxonasi bilan ishlash"
      ]
    },
    {
      "cell_type": "markdown",
      "metadata": {
        "id": "KFzK9PA-9iwd"
      },
      "source": [
        "NumPy kutubxonasini chaqirib olish"
      ]
    },
    {
      "cell_type": "code",
      "metadata": {
        "id": "YXE332sA88rC"
      },
      "source": [
        "import numpy as np"
      ],
      "execution_count": 1,
      "outputs": []
    },
    {
      "cell_type": "markdown",
      "metadata": {
        "id": "7IsbPv5R9ty4"
      },
      "source": [
        "2.1.1 N -o'lchamli massiv (array)larga ishlov berish"
      ]
    },
    {
      "cell_type": "markdown",
      "metadata": {
        "id": "wYrU_4849261"
      },
      "source": [
        "NumPy da massiv yaratishning eng oson yo'llaridan biri bu array funksiyasi yordamida amalga oshiriladi.  Va ushbu funksiya har qanday turdagi ketma-ket ma'lumotlarni qabul qilib, uni yangi NumPy arrayiga o'girib beradi."
      ]
    },
    {
      "cell_type": "code",
      "metadata": {
        "id": "i3Z1S9mX-nT9"
      },
      "source": [
        "data1 = [3.5, 5, 6, 2] # list\n",
        "arr1 = np.array(data1)"
      ],
      "execution_count": 9,
      "outputs": []
    },
    {
      "cell_type": "code",
      "metadata": {
        "colab": {
          "base_uri": "https://localhost:8080/"
        },
        "id": "WPZ2k0vu-11W",
        "outputId": "be5e6ca0-75e9-47de-8bcd-4c19db235294"
      },
      "source": [
        "arr1"
      ],
      "execution_count": 10,
      "outputs": [
        {
          "output_type": "execute_result",
          "data": {
            "text/plain": [
              "array([3.5, 5. , 6. , 2. ])"
            ]
          },
          "metadata": {},
          "execution_count": 10
        }
      ]
    },
    {
      "cell_type": "code",
      "metadata": {
        "id": "LD9Y7SiG-3hr"
      },
      "source": [
        "data2 = (4, 5, 3.2, 7) # tuple\n",
        "arr2 = np.array(data2)"
      ],
      "execution_count": 11,
      "outputs": []
    },
    {
      "cell_type": "code",
      "metadata": {
        "colab": {
          "base_uri": "https://localhost:8080/"
        },
        "id": "xi3rVETh_KmN",
        "outputId": "0edfa6e7-7def-416e-c701-d6af6ee8a587"
      },
      "source": [
        "arr2"
      ],
      "execution_count": 7,
      "outputs": [
        {
          "output_type": "execute_result",
          "data": {
            "text/plain": [
              "array([4. , 5. , 3.2, 7. ])"
            ]
          },
          "metadata": {},
          "execution_count": 7
        }
      ]
    },
    {
      "cell_type": "markdown",
      "metadata": {
        "id": "KXCI4cUa_SSL"
      },
      "source": [
        "#Massiv o'lchami"
      ]
    },
    {
      "cell_type": "code",
      "metadata": {
        "colab": {
          "base_uri": "https://localhost:8080/"
        },
        "id": "sgLE7iyn_MQc",
        "outputId": "3883f3d8-7b82-4312-a5a3-cf461e9f7b4a"
      },
      "source": [
        "arr1.ndim # arr1 ning o'lchami"
      ],
      "execution_count": 12,
      "outputs": [
        {
          "output_type": "execute_result",
          "data": {
            "text/plain": [
              "1"
            ]
          },
          "metadata": {},
          "execution_count": 12
        }
      ]
    },
    {
      "cell_type": "code",
      "metadata": {
        "colab": {
          "base_uri": "https://localhost:8080/"
        },
        "id": "infe2cII_lt7",
        "outputId": "32cdf3d3-58a1-4e63-b49d-990460187a9d"
      },
      "source": [
        "arr2.ndim # arr2 ning o'lchami"
      ],
      "execution_count": 14,
      "outputs": [
        {
          "output_type": "execute_result",
          "data": {
            "text/plain": [
              "1"
            ]
          },
          "metadata": {},
          "execution_count": 14
        }
      ]
    },
    {
      "cell_type": "markdown",
      "metadata": {
        "id": "jh3B02UVALpe"
      },
      "source": [
        "#Ikki va undan katta o'lchamli massivlar"
      ]
    },
    {
      "cell_type": "code",
      "metadata": {
        "id": "08y1P_OI_9_j"
      },
      "source": [
        "data3 = [[1, 2, 3, 4], [5, 6, 7, 8]] # list ichidagi list (nested list)\n",
        "arr3 = np.array(data3) # array3"
      ],
      "execution_count": 15,
      "outputs": []
    },
    {
      "cell_type": "code",
      "metadata": {
        "colab": {
          "base_uri": "https://localhost:8080/"
        },
        "id": "HlVHbvy8AyNi",
        "outputId": "b4453a9e-1bb8-4d7e-a00d-3ad273d63f66"
      },
      "source": [
        "arr3"
      ],
      "execution_count": 17,
      "outputs": [
        {
          "output_type": "execute_result",
          "data": {
            "text/plain": [
              "array([[1, 2, 3, 4],\n",
              "       [5, 6, 7, 8]])"
            ]
          },
          "metadata": {},
          "execution_count": 17
        }
      ]
    },
    {
      "cell_type": "code",
      "metadata": {
        "colab": {
          "base_uri": "https://localhost:8080/"
        },
        "id": "BtFi1PPjA0u7",
        "outputId": "fddf8f8f-1bc0-454c-a109-254d7a0b086e"
      },
      "source": [
        "arr3.ndim #array3 ning o'lchami"
      ],
      "execution_count": 19,
      "outputs": [
        {
          "output_type": "execute_result",
          "data": {
            "text/plain": [
              "2"
            ]
          },
          "metadata": {},
          "execution_count": 19
        }
      ]
    },
    {
      "cell_type": "markdown",
      "metadata": {
        "id": "k99a3eAlCjHC"
      },
      "source": [
        "#Uch o'lchamli massiv"
      ]
    },
    {
      "cell_type": "code",
      "metadata": {
        "id": "6LzoF2uYA8oS"
      },
      "source": [
        "data4 = [[[1, 2], [3, 4], [5, 6], [7, 8]], [[9, 10], [11, 12], [13, 14], [15, 16]], [[17, 18], [19, 20], [21, 22], [23, 24]]]\n",
        "arr4 = np.array(data4)"
      ],
      "execution_count": 25,
      "outputs": []
    },
    {
      "cell_type": "code",
      "metadata": {
        "colab": {
          "base_uri": "https://localhost:8080/"
        },
        "id": "dSmSOzGyBczc",
        "outputId": "bbfe6531-0885-4262-f73e-47ba17e4d433"
      },
      "source": [
        "data4"
      ],
      "execution_count": 26,
      "outputs": [
        {
          "output_type": "execute_result",
          "data": {
            "text/plain": [
              "[[[1, 2], [3, 4], [5, 6], [7, 8]],\n",
              " [[9, 10], [11, 12], [13, 14], [15, 16]],\n",
              " [[17, 18], [19, 20], [21, 22], [23, 24]]]"
            ]
          },
          "metadata": {},
          "execution_count": 26
        }
      ]
    },
    {
      "cell_type": "code",
      "metadata": {
        "colab": {
          "base_uri": "https://localhost:8080/"
        },
        "id": "6bUdZEh3CdZy",
        "outputId": "3330fd76-1928-4801-810e-f7362a0de223"
      },
      "source": [
        "arr4"
      ],
      "execution_count": 27,
      "outputs": [
        {
          "output_type": "execute_result",
          "data": {
            "text/plain": [
              "array([[[ 1,  2],\n",
              "        [ 3,  4],\n",
              "        [ 5,  6],\n",
              "        [ 7,  8]],\n",
              "\n",
              "       [[ 9, 10],\n",
              "        [11, 12],\n",
              "        [13, 14],\n",
              "        [15, 16]],\n",
              "\n",
              "       [[17, 18],\n",
              "        [19, 20],\n",
              "        [21, 22],\n",
              "        [23, 24]]])"
            ]
          },
          "metadata": {},
          "execution_count": 27
        }
      ]
    },
    {
      "cell_type": "code",
      "metadata": {
        "colab": {
          "base_uri": "https://localhost:8080/"
        },
        "id": "OPsEKJq2Cedi",
        "outputId": "a0f6d793-8332-4880-a68c-7e2ea996773f"
      },
      "source": [
        "arr4.ndim"
      ],
      "execution_count": 28,
      "outputs": [
        {
          "output_type": "execute_result",
          "data": {
            "text/plain": [
              "3"
            ]
          },
          "metadata": {},
          "execution_count": 28
        }
      ]
    },
    {
      "cell_type": "markdown",
      "metadata": {
        "id": "q22_LSXEGooH"
      },
      "source": [
        "#shape, size metodlari\n",
        "shape - massivning qator va ustunlariz\n",
        "size - massivdagi elementlar soni"
      ]
    },
    {
      "cell_type": "code",
      "metadata": {
        "colab": {
          "base_uri": "https://localhost:8080/"
        },
        "id": "eOx2xg7YCghC",
        "outputId": "40923c1a-4dda-43af-8463-420db108c4fe"
      },
      "source": [
        "arr3"
      ],
      "execution_count": 29,
      "outputs": [
        {
          "output_type": "execute_result",
          "data": {
            "text/plain": [
              "array([[1, 2, 3, 4],\n",
              "       [5, 6, 7, 8]])"
            ]
          },
          "metadata": {},
          "execution_count": 29
        }
      ]
    },
    {
      "cell_type": "code",
      "metadata": {
        "colab": {
          "base_uri": "https://localhost:8080/"
        },
        "id": "TB2ieKxjG9uB",
        "outputId": "85d18644-deb1-46dc-fb51-9b826d35fd3c"
      },
      "source": [
        "arr3.shape # qator va ustunlar (q, u)"
      ],
      "execution_count": 31,
      "outputs": [
        {
          "output_type": "execute_result",
          "data": {
            "text/plain": [
              "(2, 4)"
            ]
          },
          "metadata": {},
          "execution_count": 31
        }
      ]
    },
    {
      "cell_type": "code",
      "metadata": {
        "colab": {
          "base_uri": "https://localhost:8080/"
        },
        "id": "0R3B3OmaHIZJ",
        "outputId": "5161827b-2f73-4c49-f015-f0f598f1814a"
      },
      "source": [
        "arr3.size # elementlar soni"
      ],
      "execution_count": 33,
      "outputs": [
        {
          "output_type": "execute_result",
          "data": {
            "text/plain": [
              "8"
            ]
          },
          "metadata": {},
          "execution_count": 33
        }
      ]
    },
    {
      "cell_type": "markdown",
      "metadata": {
        "id": "mt6l9B10HZIr"
      },
      "source": [
        "N - o'lchamli massivlar yaratishning boshqa usullari\n",
        "\n",
        "zeros va ones funksiyalari yordamida massivlar yaratish"
      ]
    },
    {
      "cell_type": "code",
      "metadata": {
        "colab": {
          "base_uri": "https://localhost:8080/"
        },
        "id": "yjwgPKUHHP9q",
        "outputId": "5e4e58c3-ba2f-46cb-a9ee-bf08c2640a60"
      },
      "source": [
        "arr4 = np.zeros(shape = (2, 4)) # barcha elementlari 0 ga teng bo'lgan (2, 4)\n",
        "arr4\n",
        "arr4 = np.zeros(shape = (2, 4)) # barcha elementlari 0 ga teng bo'lgan (2, 4)\n",
        "arr4"
      ],
      "execution_count": 45,
      "outputs": [
        {
          "output_type": "execute_result",
          "data": {
            "text/plain": [
              "array([[0., 0., 0., 0.],\n",
              "       [0., 0., 0., 0.]])"
            ]
          },
          "metadata": {},
          "execution_count": 45
        }
      ]
    },
    {
      "cell_type": "code",
      "metadata": {
        "colab": {
          "base_uri": "https://localhost:8080/"
        },
        "id": "Z77gUEvWH_OR",
        "outputId": "750a01e9-049a-4af6-8e7a-26406e61dc8e"
      },
      "source": [
        "arr5 = np.ones(shape = (2, 4)) # barcha elementlari 1 ga teng bo'lgan (2, 4)\n",
        "arr5\n",
        "arr5= np.ones((2, 4)) # barcha elementlari 1 ga teng bo'lgan (2, 4)\n",
        "arr5"
      ],
      "execution_count": 46,
      "outputs": [
        {
          "output_type": "execute_result",
          "data": {
            "text/plain": [
              "array([[1., 1., 1., 1.],\n",
              "       [1., 1., 1., 1.]])"
            ]
          },
          "metadata": {},
          "execution_count": 46
        }
      ]
    },
    {
      "cell_type": "markdown",
      "metadata": {
        "id": "PVhB4wBiIXcn"
      },
      "source": [
        "arange funksiyasi yordamida yaratish"
      ]
    },
    {
      "cell_type": "code",
      "metadata": {
        "colab": {
          "base_uri": "https://localhost:8080/"
        },
        "id": "gB_S1IRzIHip",
        "outputId": "8bd04c3a-aae9-40d9-d15b-0b2b675f6fed"
      },
      "source": [
        "arr6 = np.arange(4, 20, 2) # 4 dan 20 gacha bo'lgan qiymatlarni 2 qadam bilan massivga joylab beradi\n",
        "arr6"
      ],
      "execution_count": 47,
      "outputs": [
        {
          "output_type": "execute_result",
          "data": {
            "text/plain": [
              "array([ 4,  6,  8, 10, 12, 14, 16, 18])"
            ]
          },
          "metadata": {},
          "execution_count": 47
        }
      ]
    },
    {
      "cell_type": "code",
      "metadata": {
        "colab": {
          "base_uri": "https://localhost:8080/"
        },
        "id": "Z41YloY5IsZh",
        "outputId": "8e0027ad-9ad8-4df9-fe16-50e79d1ce17d"
      },
      "source": [
        "arr7 = np.arange(20) # 0 dan 20 gacha bo'lgan qiymatlarni 1 qadam bilan massivga joylab beradi\n",
        "arr7"
      ],
      "execution_count": 48,
      "outputs": [
        {
          "output_type": "execute_result",
          "data": {
            "text/plain": [
              "array([ 0,  1,  2,  3,  4,  5,  6,  7,  8,  9, 10, 11, 12, 13, 14, 15, 16,\n",
              "       17, 18, 19])"
            ]
          },
          "metadata": {},
          "execution_count": 48
        }
      ]
    },
    {
      "cell_type": "code",
      "metadata": {
        "id": "8qSlxW-PJZnd"
      },
      "source": [
        ""
      ],
      "execution_count": null,
      "outputs": []
    }
  ]
}