{
  "nbformat": 4,
  "nbformat_minor": 0,
  "metadata": {
    "colab": {
      "name": "2.1.3.Pandas_Series_Methods.ipynb",
      "provenance": [],
      "collapsed_sections": [],
      "authorship_tag": "ABX9TyPVMfNtSls/sTrHNNgoAsm7",
      "include_colab_link": true
    },
    "kernelspec": {
      "name": "python3",
      "display_name": "Python 3"
    },
    "language_info": {
      "name": "python"
    }
  },
  "cells": [
    {
      "cell_type": "markdown",
      "metadata": {
        "id": "view-in-github",
        "colab_type": "text"
      },
      "source": [
        "<a href=\"https://colab.research.google.com/github/omullaboyev/data-science/blob/main/2_1_3_Pandas_Series_Methods.ipynb\" target=\"_parent\"><img src=\"https://colab.research.google.com/assets/colab-badge.svg\" alt=\"Open In Colab\"/></a>"
      ]
    },
    {
      "cell_type": "markdown",
      "metadata": {
        "id": "uv0vg53PpTkO"
      },
      "source": [
        "#Data Science va Sun'iy Intellekt Praktikum"
      ]
    },
    {
      "cell_type": "markdown",
      "metadata": {
        "id": "tV7jc462psPt"
      },
      "source": [
        "#Ma'lumotlar Tahlili. Pandas kutubxonasi"
      ]
    },
    {
      "cell_type": "markdown",
      "metadata": {
        "id": "k8lhv6Gtpvlh"
      },
      "source": [
        "2.1 Pandas kutubxonasi bilan ishlash."
      ]
    },
    {
      "cell_type": "markdown",
      "metadata": {
        "id": "XBQCJCGcp1hF"
      },
      "source": [
        "2.1.3 Series metodlari"
      ]
    },
    {
      "cell_type": "code",
      "metadata": {
        "id": "fDsEO1trpO0L"
      },
      "source": [
        "import pandas as pd # pandas kutubxonasini chaqirish"
      ],
      "execution_count": 1,
      "outputs": []
    },
    {
      "cell_type": "code",
      "metadata": {
        "id": "pZZz6ofZqF9Q"
      },
      "source": [
        "import numpy as np # numpy kutubxonasini chaqirish"
      ],
      "execution_count": 2,
      "outputs": []
    },
    {
      "cell_type": "code",
      "metadata": {
        "id": "g2tA5SxbqHzH"
      },
      "source": [
        "from pandas import Series # Series"
      ],
      "execution_count": 3,
      "outputs": []
    },
    {
      "cell_type": "code",
      "metadata": {
        "id": "hEMa1TmCqJTW"
      },
      "source": [
        "# Lug'at (dictionary)\n",
        "cars_dict = {\"Malibu\": 40000, \"Lacetti\": 20000, \"Toyota\": 45000, \"Mazda\": 52000, \"Honda\": 38000}"
      ],
      "execution_count": 6,
      "outputs": []
    },
    {
      "cell_type": "code",
      "metadata": {
        "colab": {
          "base_uri": "https://localhost:8080/"
        },
        "id": "6_MDkxy-qLzW",
        "outputId": "f271233c-fc90-431e-e653-d990c0211610"
      },
      "source": [
        "cars_dict"
      ],
      "execution_count": 8,
      "outputs": [
        {
          "output_type": "execute_result",
          "data": {
            "text/plain": [
              "{'Honda': 38000,\n",
              " 'Lacetti': 20000,\n",
              " 'Malibu': 40000,\n",
              " 'Mazda': 52000,\n",
              " 'Toyota': 45000}"
            ]
          },
          "metadata": {},
          "execution_count": 8
        }
      ]
    },
    {
      "cell_type": "code",
      "metadata": {
        "id": "8ZaF_pO8sY4x"
      },
      "source": [
        "cars1 = Series(cars_dict) # cars_dict lug'atidan cars1 obyektini yaratish"
      ],
      "execution_count": 16,
      "outputs": []
    },
    {
      "cell_type": "code",
      "metadata": {
        "id": "E82k9OlQqQGm"
      },
      "source": [
        "models = [\"Honda\", \"Mazda\", \"Lacetti\", \"Jaguar\", \"Malibu\", \"Toyota\", \"BMW\", \"Mercedes\"]"
      ],
      "execution_count": 9,
      "outputs": []
    },
    {
      "cell_type": "code",
      "metadata": {
        "id": "yfn_eo9vqs-W"
      },
      "source": [
        "cars2 = Series(cars_dict, index = models)"
      ],
      "execution_count": 10,
      "outputs": []
    },
    {
      "cell_type": "code",
      "metadata": {
        "colab": {
          "base_uri": "https://localhost:8080/"
        },
        "id": "NK1aReDVqu5-",
        "outputId": "3421e7f7-abc6-4b79-9e38-b1372f241344"
      },
      "source": [
        "cars2"
      ],
      "execution_count": 11,
      "outputs": [
        {
          "output_type": "execute_result",
          "data": {
            "text/plain": [
              "Honda       38000.0\n",
              "Mazda       52000.0\n",
              "Lacetti     20000.0\n",
              "Jaguar          NaN\n",
              "Malibu      40000.0\n",
              "Toyota      45000.0\n",
              "BMW             NaN\n",
              "Mercedes        NaN\n",
              "dtype: float64"
            ]
          },
          "metadata": {},
          "execution_count": 11
        }
      ]
    },
    {
      "cell_type": "markdown",
      "metadata": {
        "id": "QJsUKe2zrKxs"
      },
      "source": [
        "#`isnull` metodi (mavjud bo'lmagan qiymatni tekshiradi)"
      ]
    },
    {
      "cell_type": "code",
      "metadata": {
        "colab": {
          "base_uri": "https://localhost:8080/"
        },
        "id": "6dNAWVOpqxom",
        "outputId": "696454bd-c182-462c-d699-6513d7a044b1"
      },
      "source": [
        "cars2.isnull() # qiymat mavjud bo'lmasa True, mavjud bo'lsa False"
      ],
      "execution_count": 12,
      "outputs": [
        {
          "output_type": "execute_result",
          "data": {
            "text/plain": [
              "Honda       False\n",
              "Mazda       False\n",
              "Lacetti     False\n",
              "Jaguar       True\n",
              "Malibu      False\n",
              "Toyota      False\n",
              "BMW          True\n",
              "Mercedes     True\n",
              "dtype: bool"
            ]
          },
          "metadata": {},
          "execution_count": 12
        }
      ]
    },
    {
      "cell_type": "markdown",
      "metadata": {
        "id": "jHsEMeURreeH"
      },
      "source": [
        "#`notnull` methodi (mavjud bo'lgan qiymatni tekshiradi)"
      ]
    },
    {
      "cell_type": "code",
      "metadata": {
        "colab": {
          "base_uri": "https://localhost:8080/"
        },
        "id": "iIHJFP7MrSOd",
        "outputId": "38b1d7a7-ea3f-4e4d-f90e-6ceba4f6e92a"
      },
      "source": [
        "cars2.notnull() # qiymat mavjud bo'lsa True, mavjud bo'lmasa False"
      ],
      "execution_count": 14,
      "outputs": [
        {
          "output_type": "execute_result",
          "data": {
            "text/plain": [
              "Honda        True\n",
              "Mazda        True\n",
              "Lacetti      True\n",
              "Jaguar      False\n",
              "Malibu       True\n",
              "Toyota       True\n",
              "BMW         False\n",
              "Mercedes    False\n",
              "dtype: bool"
            ]
          },
          "metadata": {},
          "execution_count": 14
        }
      ]
    },
    {
      "cell_type": "code",
      "metadata": {
        "colab": {
          "base_uri": "https://localhost:8080/"
        },
        "id": "lrsF5mh8rppD",
        "outputId": "ed042f39-65b4-4909-9382-3ad9aa3a2ac0"
      },
      "source": [
        "cars2"
      ],
      "execution_count": 15,
      "outputs": [
        {
          "output_type": "execute_result",
          "data": {
            "text/plain": [
              "Honda       38000.0\n",
              "Mazda       52000.0\n",
              "Lacetti     20000.0\n",
              "Jaguar          NaN\n",
              "Malibu      40000.0\n",
              "Toyota      45000.0\n",
              "BMW             NaN\n",
              "Mercedes        NaN\n",
              "dtype: float64"
            ]
          },
          "metadata": {},
          "execution_count": 15
        }
      ]
    },
    {
      "cell_type": "code",
      "metadata": {
        "colab": {
          "base_uri": "https://localhost:8080/"
        },
        "id": "mXesviPGsHJU",
        "outputId": "68cad0d6-c9e8-4fee-d595-4e7757c25d1e"
      },
      "source": [
        "cars1"
      ],
      "execution_count": 17,
      "outputs": [
        {
          "output_type": "execute_result",
          "data": {
            "text/plain": [
              "Malibu     40000\n",
              "Lacetti    20000\n",
              "Toyota     45000\n",
              "Mazda      52000\n",
              "Honda      38000\n",
              "dtype: int64"
            ]
          },
          "metadata": {},
          "execution_count": 17
        }
      ]
    },
    {
      "cell_type": "markdown",
      "metadata": {
        "id": "wekUH8UkslAO"
      },
      "source": [
        "#Series ustida arifmetik amallar"
      ]
    },
    {
      "cell_type": "markdown",
      "metadata": {
        "id": "qbNHCJ28srQv"
      },
      "source": [
        "#Qo'shish (+) Series elementlari qiymatlarini indekslari bo'yicha qo'shadi"
      ]
    },
    {
      "cell_type": "code",
      "metadata": {
        "colab": {
          "base_uri": "https://localhost:8080/"
        },
        "id": "IfYEibxSsbCU",
        "outputId": "7069a284-3198-4305-cc9f-1fea012b5185"
      },
      "source": [
        "cars1 + cars2 # cars1 va cars2 qiymatlarini indekslari bo'yicha qo'shadi"
      ],
      "execution_count": 18,
      "outputs": [
        {
          "output_type": "execute_result",
          "data": {
            "text/plain": [
              "BMW              NaN\n",
              "Honda        76000.0\n",
              "Jaguar           NaN\n",
              "Lacetti      40000.0\n",
              "Malibu       80000.0\n",
              "Mazda       104000.0\n",
              "Mercedes         NaN\n",
              "Toyota       90000.0\n",
              "dtype: float64"
            ]
          },
          "metadata": {},
          "execution_count": 18
        }
      ]
    },
    {
      "cell_type": "markdown",
      "metadata": {
        "id": "YaMpSwortJQb"
      },
      "source": [
        "#`name` - Seriesga nom berish"
      ]
    },
    {
      "cell_type": "code",
      "metadata": {
        "id": "mR9EU7XAs62F"
      },
      "source": [
        "cars2.name = \"Avtosalon\""
      ],
      "execution_count": 20,
      "outputs": []
    },
    {
      "cell_type": "markdown",
      "metadata": {
        "id": "aUj2SS7ztbn2"
      },
      "source": [
        "#`Series.index.name` - Seriesning indekslariga nom berish"
      ]
    },
    {
      "cell_type": "code",
      "metadata": {
        "id": "UMniXA_YtTel"
      },
      "source": [
        "cars2.index.name = \"Modellar\""
      ],
      "execution_count": 21,
      "outputs": []
    },
    {
      "cell_type": "code",
      "metadata": {
        "colab": {
          "base_uri": "https://localhost:8080/"
        },
        "id": "7pCP4pnhtkpE",
        "outputId": "40e8cb9a-5261-4abc-c2ac-9457d6fba284"
      },
      "source": [
        "cars2"
      ],
      "execution_count": 22,
      "outputs": [
        {
          "output_type": "execute_result",
          "data": {
            "text/plain": [
              "Modellar\n",
              "Honda       38000.0\n",
              "Mazda       52000.0\n",
              "Lacetti     20000.0\n",
              "Jaguar          NaN\n",
              "Malibu      40000.0\n",
              "Toyota      45000.0\n",
              "BMW             NaN\n",
              "Mercedes        NaN\n",
              "Name: Avtosalon, dtype: float64"
            ]
          },
          "metadata": {},
          "execution_count": 22
        }
      ]
    },
    {
      "cell_type": "code",
      "metadata": {
        "id": "vH8IO71LtrMk"
      },
      "source": [
        ""
      ],
      "execution_count": null,
      "outputs": []
    }
  ]
}