{
  "nbformat": 4,
  "nbformat_minor": 0,
  "metadata": {
    "colab": {
      "name": "Copy of DS_pandas_2_amaliyot_df.ipynb",
      "provenance": [],
      "collapsed_sections": [
        "JcTMlkCwbTEU",
        "JbPS2YtQbTEV",
        "yYiCi_tcbTEX",
        "XIU3p0uhbTEY",
        "0sdqJZvQbTEZ",
        "Aupn9gG8bTEa",
        "883sDJVYbTEb",
        "-pzMjaCObTEc",
        "3QKsAC8obTEd",
        "X9wuwe-4bTEe",
        "Qn9q7fVsbTEe",
        "t6YAfZ9ObTEf",
        "uzCwhvwabTEg",
        "7rXDF1sebTEg",
        "otLYgx8GbTEh",
        "IaAP18C6bTEi"
      ],
      "include_colab_link": true
    },
    "kernelspec": {
      "display_name": "Python 3",
      "language": "python",
      "name": "python3"
    },
    "language_info": {
      "codemirror_mode": {
        "name": "ipython",
        "version": 3
      },
      "file_extension": ".py",
      "mimetype": "text/x-python",
      "name": "python",
      "nbconvert_exporter": "python",
      "pygments_lexer": "ipython3",
      "version": "3.8.8"
    }
  },
  "cells": [
    {
      "cell_type": "markdown",
      "metadata": {
        "id": "view-in-github",
        "colab_type": "text"
      },
      "source": [
        "<a href=\"https://colab.research.google.com/github/omullaboyev/data-science/blob/main/Copy_of_DS_pandas_2_amaliyot_df.ipynb\" target=\"_parent\"><img src=\"https://colab.research.google.com/assets/colab-badge.svg\" alt=\"Open In Colab\"/></a>"
      ]
    },
    {
      "cell_type": "markdown",
      "metadata": {
        "id": "WyTfPJtEqH5C"
      },
      "source": [
        "# ![Imgur](https://i.imgur.com/5pXzCIu.png)\n",
        "\n",
        "# **DATA SCIENCE VA SUN'IY INTELLEKT PRAKTIKUM**\n",
        "\n",
        "## Ma'lumotlar tahlili. Pandas kutubxonasi.\n",
        "\n",
        "# **AMALIYOT**\n",
        "## DataFrame"
      ]
    },
    {
      "cell_type": "markdown",
      "metadata": {
        "id": "FNLOb9yhxI0b"
      },
      "source": [
        "### **1-mashq**. `Pandas` kutubxonasini `pd`, `numpy` kutubxonasini `np` deb chaqirib oling"
      ]
    },
    {
      "cell_type": "code",
      "metadata": {
        "id": "GrbBfqRpxIFr"
      },
      "source": [
        "# Javobni shuyerga yozing\n",
        "import pandas as pd\n",
        "import numpy as np"
      ],
      "execution_count": null,
      "outputs": []
    },
    {
      "cell_type": "code",
      "metadata": {
        "code_folding": [
          0
        ],
        "id": "24df0gBjIppl"
      },
      "source": [
        "#@title **To'g'ri javob**\n",
        "import pandas as pd\n",
        "import numpy as np"
      ],
      "execution_count": null,
      "outputs": []
    },
    {
      "cell_type": "markdown",
      "metadata": {
        "id": "QJT0KIgcN79b"
      },
      "source": [
        "### **2-mashq.** Quyida ko'rsatilgan dataframeni yarating va `df` deb nomlang"
      ]
    },
    {
      "cell_type": "code",
      "metadata": {
        "code_folding": [],
        "id": "6WL4EWf3l7vL",
        "colab": {
          "base_uri": "https://localhost:8080/",
          "height": 457
        },
        "outputId": "b74d4cba-2f66-4a72-8f47-c8f0919d7922"
      },
      "source": [
        "# Javobni shuyerga yozing\n",
        "viloyatlar = [\n",
        "    \"Andijon viloyati\",\n",
        "    \"Buxoro viloyati\",\n",
        "    \"Fargona viloyati\",\n",
        "    \"Jizzax viloyati\",\n",
        "    \"Xorazm viloyati\",\n",
        "    \"Namangan viloyati\",\n",
        "    \"Navoiy viloyati\",\n",
        "    \"Qashqadaryo viloyati\",\n",
        "    \"Qoraqalpogʻiston Respublikasi\",\n",
        "    \"Samarqand viloyati\",\n",
        "    \"Sirdaryo viloyati\",\n",
        "    \"Surxondaryo viloyati\",\n",
        "    \"Toshkent viloyati\",\n",
        "]\n",
        "markazlar = [\n",
        "    \"Andijon shahri\",\n",
        "    \"Buxoro shahri\",\n",
        "    \"Fargona shahri\",\n",
        "    \"Jizzax shahri\",\n",
        "    \"Urganch shahri\",\n",
        "    \"Namangan shahri\",\n",
        "    \"Navoiy shahri\",\n",
        "    \"Qarshi shahri\",\n",
        "    \"Nukus shahri\",\n",
        "    \"Samarqand shahri\",\n",
        "    \"Guliston shahri\",\n",
        "    \"Termiz shahri\",\n",
        "    \"Nurafshon shahri\",\n",
        "]\n",
        "maydonlar = [\n",
        "    4200,\n",
        "    39400,\n",
        "    6800,\n",
        "    20500,\n",
        "    6300,\n",
        "    7900,\n",
        "    110800,\n",
        "    28400,\n",
        "    160000,\n",
        "    16400,\n",
        "    5100,\n",
        "    20800,\n",
        "    15300,\n",
        "]\n",
        "aholi = [\n",
        "    1899000,\n",
        "    1384700,\n",
        "    2597000,\n",
        "    910500,\n",
        "    1200000,\n",
        "    1862000,\n",
        "    767500,\n",
        "    2029000,\n",
        "    1200000,\n",
        "    2322000,\n",
        "    648100,\n",
        "    1676000,\n",
        "    4450000,\n",
        "]\n",
        "data = {\n",
        "    \"Hudud\":viloyatlar,\n",
        "    \"Markaz\":markazlar,\n",
        "    \"Maydoni\":maydonlar,\n",
        "    \"Aholisi\":aholi\n",
        "}\n",
        "df = pd.DataFrame(data)\n",
        "df"
      ],
      "execution_count": null,
      "outputs": [
        {
          "output_type": "execute_result",
          "data": {
            "text/html": [
              "<div>\n",
              "<style scoped>\n",
              "    .dataframe tbody tr th:only-of-type {\n",
              "        vertical-align: middle;\n",
              "    }\n",
              "\n",
              "    .dataframe tbody tr th {\n",
              "        vertical-align: top;\n",
              "    }\n",
              "\n",
              "    .dataframe thead th {\n",
              "        text-align: right;\n",
              "    }\n",
              "</style>\n",
              "<table border=\"1\" class=\"dataframe\">\n",
              "  <thead>\n",
              "    <tr style=\"text-align: right;\">\n",
              "      <th></th>\n",
              "      <th>Hudud</th>\n",
              "      <th>Markaz</th>\n",
              "      <th>Maydoni</th>\n",
              "      <th>Aholisi</th>\n",
              "    </tr>\n",
              "  </thead>\n",
              "  <tbody>\n",
              "    <tr>\n",
              "      <th>0</th>\n",
              "      <td>Andijon viloyati</td>\n",
              "      <td>Andijon shahri</td>\n",
              "      <td>4200</td>\n",
              "      <td>1899000</td>\n",
              "    </tr>\n",
              "    <tr>\n",
              "      <th>1</th>\n",
              "      <td>Buxoro viloyati</td>\n",
              "      <td>Buxoro shahri</td>\n",
              "      <td>39400</td>\n",
              "      <td>1384700</td>\n",
              "    </tr>\n",
              "    <tr>\n",
              "      <th>2</th>\n",
              "      <td>Fargona viloyati</td>\n",
              "      <td>Fargona shahri</td>\n",
              "      <td>6800</td>\n",
              "      <td>2597000</td>\n",
              "    </tr>\n",
              "    <tr>\n",
              "      <th>3</th>\n",
              "      <td>Jizzax viloyati</td>\n",
              "      <td>Jizzax shahri</td>\n",
              "      <td>20500</td>\n",
              "      <td>910500</td>\n",
              "    </tr>\n",
              "    <tr>\n",
              "      <th>4</th>\n",
              "      <td>Xorazm viloyati</td>\n",
              "      <td>Urganch shahri</td>\n",
              "      <td>6300</td>\n",
              "      <td>1200000</td>\n",
              "    </tr>\n",
              "    <tr>\n",
              "      <th>5</th>\n",
              "      <td>Namangan viloyati</td>\n",
              "      <td>Namangan shahri</td>\n",
              "      <td>7900</td>\n",
              "      <td>1862000</td>\n",
              "    </tr>\n",
              "    <tr>\n",
              "      <th>6</th>\n",
              "      <td>Navoiy viloyati</td>\n",
              "      <td>Navoiy shahri</td>\n",
              "      <td>110800</td>\n",
              "      <td>767500</td>\n",
              "    </tr>\n",
              "    <tr>\n",
              "      <th>7</th>\n",
              "      <td>Qashqadaryo viloyati</td>\n",
              "      <td>Qarshi shahri</td>\n",
              "      <td>28400</td>\n",
              "      <td>2029000</td>\n",
              "    </tr>\n",
              "    <tr>\n",
              "      <th>8</th>\n",
              "      <td>Qoraqalpogʻiston Respublikasi</td>\n",
              "      <td>Nukus shahri</td>\n",
              "      <td>160000</td>\n",
              "      <td>1200000</td>\n",
              "    </tr>\n",
              "    <tr>\n",
              "      <th>9</th>\n",
              "      <td>Samarqand viloyati</td>\n",
              "      <td>Samarqand shahri</td>\n",
              "      <td>16400</td>\n",
              "      <td>2322000</td>\n",
              "    </tr>\n",
              "    <tr>\n",
              "      <th>10</th>\n",
              "      <td>Sirdaryo viloyati</td>\n",
              "      <td>Guliston shahri</td>\n",
              "      <td>5100</td>\n",
              "      <td>648100</td>\n",
              "    </tr>\n",
              "    <tr>\n",
              "      <th>11</th>\n",
              "      <td>Surxondaryo viloyati</td>\n",
              "      <td>Termiz shahri</td>\n",
              "      <td>20800</td>\n",
              "      <td>1676000</td>\n",
              "    </tr>\n",
              "    <tr>\n",
              "      <th>12</th>\n",
              "      <td>Toshkent viloyati</td>\n",
              "      <td>Nurafshon shahri</td>\n",
              "      <td>15300</td>\n",
              "      <td>4450000</td>\n",
              "    </tr>\n",
              "  </tbody>\n",
              "</table>\n",
              "</div>"
            ],
            "text/plain": [
              "                            Hudud            Markaz  Maydoni  Aholisi\n",
              "0                Andijon viloyati    Andijon shahri     4200  1899000\n",
              "1                 Buxoro viloyati     Buxoro shahri    39400  1384700\n",
              "2                Fargona viloyati    Fargona shahri     6800  2597000\n",
              "3                 Jizzax viloyati     Jizzax shahri    20500   910500\n",
              "4                 Xorazm viloyati    Urganch shahri     6300  1200000\n",
              "5               Namangan viloyati   Namangan shahri     7900  1862000\n",
              "6                 Navoiy viloyati     Navoiy shahri   110800   767500\n",
              "7            Qashqadaryo viloyati     Qarshi shahri    28400  2029000\n",
              "8   Qoraqalpogʻiston Respublikasi      Nukus shahri   160000  1200000\n",
              "9              Samarqand viloyati  Samarqand shahri    16400  2322000\n",
              "10              Sirdaryo viloyati   Guliston shahri     5100   648100\n",
              "11           Surxondaryo viloyati     Termiz shahri    20800  1676000\n",
              "12              Toshkent viloyati  Nurafshon shahri    15300  4450000"
            ]
          },
          "metadata": {},
          "execution_count": 2
        }
      ]
    },
    {
      "cell_type": "code",
      "metadata": {
        "code_folding": [
          0
        ],
        "id": "PD7qQQH9oA87",
        "colab": {
          "base_uri": "https://localhost:8080/",
          "height": 457
        },
        "outputId": "c83feffa-f496-424f-ecbd-0b79d8f6be92"
      },
      "source": [
        "# @title **To'g'ri javob**\n",
        "viloyatlar = [\n",
        "    \"Andijon viloyati\",\n",
        "    \"Buxoro viloyati\",\n",
        "    \"Fargona viloyati\",\n",
        "    \"Jizzax viloyati\",\n",
        "    \"Xorazm viloyati\",\n",
        "    \"Namangan viloyati\",\n",
        "    \"Navoiy viloyati\",\n",
        "    \"Qashqadaryo viloyati\",\n",
        "    \"Qoraqalpogʻiston Respublikasi\",\n",
        "    \"Samarqand viloyati\",\n",
        "    \"Sirdaryo viloyati\",\n",
        "    \"Surxondaryo viloyati\",\n",
        "    \"Toshkent viloyati\",\n",
        "]\n",
        "markazlar = [\n",
        "    \"Andijon shahri\",\n",
        "    \"Buxoro shahri\",\n",
        "    \"Fargona shahri\",\n",
        "    \"Jizzax shahri\",\n",
        "    \"Urganch shahri\",\n",
        "    \"Namangan shahri\",\n",
        "    \"Navoiy shahri\",\n",
        "    \"Qarshi shahri\",\n",
        "    \"Nukus shahri\",\n",
        "    \"Samarqand shahri\",\n",
        "    \"Guliston shahri\",\n",
        "    \"Termiz shahri\",\n",
        "    \"Nurafshon shahri\",\n",
        "]\n",
        "maydonlar = [\n",
        "    4200,\n",
        "    39400,\n",
        "    6800,\n",
        "    20500,\n",
        "    6300,\n",
        "    7900,\n",
        "    110800,\n",
        "    28400,\n",
        "    160000,\n",
        "    16400,\n",
        "    5100,\n",
        "    20800,\n",
        "    15300,\n",
        "]\n",
        "aholi = [\n",
        "    1899000,\n",
        "    1384700,\n",
        "    2597000,\n",
        "    910500,\n",
        "    1200000,\n",
        "    1862000,\n",
        "    767500,\n",
        "    2029000,\n",
        "    1200000,\n",
        "    2322000,\n",
        "    648100,\n",
        "    1676000,\n",
        "    4450000,\n",
        "]\n",
        "data = {\n",
        "    \"Hudud\":viloyatlar,\n",
        "    \"Markaz\":markazlar,\n",
        "    \"Maydoni\":maydonlar,\n",
        "    \"Aholisi\":aholi\n",
        "}\n",
        "df = pd.DataFrame(data)\n",
        "df"
      ],
      "execution_count": null,
      "outputs": [
        {
          "output_type": "execute_result",
          "data": {
            "text/html": [
              "<div>\n",
              "<style scoped>\n",
              "    .dataframe tbody tr th:only-of-type {\n",
              "        vertical-align: middle;\n",
              "    }\n",
              "\n",
              "    .dataframe tbody tr th {\n",
              "        vertical-align: top;\n",
              "    }\n",
              "\n",
              "    .dataframe thead th {\n",
              "        text-align: right;\n",
              "    }\n",
              "</style>\n",
              "<table border=\"1\" class=\"dataframe\">\n",
              "  <thead>\n",
              "    <tr style=\"text-align: right;\">\n",
              "      <th></th>\n",
              "      <th>Hudud</th>\n",
              "      <th>Markaz</th>\n",
              "      <th>Maydoni</th>\n",
              "      <th>Aholisi</th>\n",
              "    </tr>\n",
              "  </thead>\n",
              "  <tbody>\n",
              "    <tr>\n",
              "      <th>0</th>\n",
              "      <td>Andijon viloyati</td>\n",
              "      <td>Andijon shahri</td>\n",
              "      <td>4200</td>\n",
              "      <td>1899000</td>\n",
              "    </tr>\n",
              "    <tr>\n",
              "      <th>1</th>\n",
              "      <td>Buxoro viloyati</td>\n",
              "      <td>Buxoro shahri</td>\n",
              "      <td>39400</td>\n",
              "      <td>1384700</td>\n",
              "    </tr>\n",
              "    <tr>\n",
              "      <th>2</th>\n",
              "      <td>Fargona viloyati</td>\n",
              "      <td>Fargona shahri</td>\n",
              "      <td>6800</td>\n",
              "      <td>2597000</td>\n",
              "    </tr>\n",
              "    <tr>\n",
              "      <th>3</th>\n",
              "      <td>Jizzax viloyati</td>\n",
              "      <td>Jizzax shahri</td>\n",
              "      <td>20500</td>\n",
              "      <td>910500</td>\n",
              "    </tr>\n",
              "    <tr>\n",
              "      <th>4</th>\n",
              "      <td>Xorazm viloyati</td>\n",
              "      <td>Urganch shahri</td>\n",
              "      <td>6300</td>\n",
              "      <td>1200000</td>\n",
              "    </tr>\n",
              "    <tr>\n",
              "      <th>5</th>\n",
              "      <td>Namangan viloyati</td>\n",
              "      <td>Namangan shahri</td>\n",
              "      <td>7900</td>\n",
              "      <td>1862000</td>\n",
              "    </tr>\n",
              "    <tr>\n",
              "      <th>6</th>\n",
              "      <td>Navoiy viloyati</td>\n",
              "      <td>Navoiy shahri</td>\n",
              "      <td>110800</td>\n",
              "      <td>767500</td>\n",
              "    </tr>\n",
              "    <tr>\n",
              "      <th>7</th>\n",
              "      <td>Qashqadaryo viloyati</td>\n",
              "      <td>Qarshi shahri</td>\n",
              "      <td>28400</td>\n",
              "      <td>2029000</td>\n",
              "    </tr>\n",
              "    <tr>\n",
              "      <th>8</th>\n",
              "      <td>Qoraqalpogʻiston Respublikasi</td>\n",
              "      <td>Nukus shahri</td>\n",
              "      <td>160000</td>\n",
              "      <td>1200000</td>\n",
              "    </tr>\n",
              "    <tr>\n",
              "      <th>9</th>\n",
              "      <td>Samarqand viloyati</td>\n",
              "      <td>Samarqand shahri</td>\n",
              "      <td>16400</td>\n",
              "      <td>2322000</td>\n",
              "    </tr>\n",
              "    <tr>\n",
              "      <th>10</th>\n",
              "      <td>Sirdaryo viloyati</td>\n",
              "      <td>Guliston shahri</td>\n",
              "      <td>5100</td>\n",
              "      <td>648100</td>\n",
              "    </tr>\n",
              "    <tr>\n",
              "      <th>11</th>\n",
              "      <td>Surxondaryo viloyati</td>\n",
              "      <td>Termiz shahri</td>\n",
              "      <td>20800</td>\n",
              "      <td>1676000</td>\n",
              "    </tr>\n",
              "    <tr>\n",
              "      <th>12</th>\n",
              "      <td>Toshkent viloyati</td>\n",
              "      <td>Nurafshon shahri</td>\n",
              "      <td>15300</td>\n",
              "      <td>4450000</td>\n",
              "    </tr>\n",
              "  </tbody>\n",
              "</table>\n",
              "</div>"
            ],
            "text/plain": [
              "                            Hudud            Markaz  Maydoni  Aholisi\n",
              "0                Andijon viloyati    Andijon shahri     4200  1899000\n",
              "1                 Buxoro viloyati     Buxoro shahri    39400  1384700\n",
              "2                Fargona viloyati    Fargona shahri     6800  2597000\n",
              "3                 Jizzax viloyati     Jizzax shahri    20500   910500\n",
              "4                 Xorazm viloyati    Urganch shahri     6300  1200000\n",
              "5               Namangan viloyati   Namangan shahri     7900  1862000\n",
              "6                 Navoiy viloyati     Navoiy shahri   110800   767500\n",
              "7            Qashqadaryo viloyati     Qarshi shahri    28400  2029000\n",
              "8   Qoraqalpogʻiston Respublikasi      Nukus shahri   160000  1200000\n",
              "9              Samarqand viloyati  Samarqand shahri    16400  2322000\n",
              "10              Sirdaryo viloyati   Guliston shahri     5100   648100\n",
              "11           Surxondaryo viloyati     Termiz shahri    20800  1676000\n",
              "12              Toshkent viloyati  Nurafshon shahri    15300  4450000"
            ]
          },
          "metadata": {},
          "execution_count": 18
        }
      ]
    },
    {
      "cell_type": "markdown",
      "metadata": {
        "id": "6w4ZZF1TbTEN"
      },
      "source": [
        "### **2-mashq.** Yuqoridagi df ning yuqorisidan 5 ta qator chiqaring"
      ]
    },
    {
      "cell_type": "code",
      "metadata": {
        "id": "faBix0PdbTEO",
        "colab": {
          "base_uri": "https://localhost:8080/",
          "height": 206
        },
        "outputId": "23191a02-ede6-45a0-8fb3-2d21476578b4"
      },
      "source": [
        "# Javobni shuyerga yozing\n",
        "df.head()"
      ],
      "execution_count": null,
      "outputs": [
        {
          "output_type": "execute_result",
          "data": {
            "text/html": [
              "<div>\n",
              "<style scoped>\n",
              "    .dataframe tbody tr th:only-of-type {\n",
              "        vertical-align: middle;\n",
              "    }\n",
              "\n",
              "    .dataframe tbody tr th {\n",
              "        vertical-align: top;\n",
              "    }\n",
              "\n",
              "    .dataframe thead th {\n",
              "        text-align: right;\n",
              "    }\n",
              "</style>\n",
              "<table border=\"1\" class=\"dataframe\">\n",
              "  <thead>\n",
              "    <tr style=\"text-align: right;\">\n",
              "      <th></th>\n",
              "      <th>Hudud</th>\n",
              "      <th>Markaz</th>\n",
              "      <th>Maydoni</th>\n",
              "      <th>Aholisi</th>\n",
              "    </tr>\n",
              "  </thead>\n",
              "  <tbody>\n",
              "    <tr>\n",
              "      <th>0</th>\n",
              "      <td>Andijon viloyati</td>\n",
              "      <td>Andijon shahri</td>\n",
              "      <td>4200</td>\n",
              "      <td>1899000</td>\n",
              "    </tr>\n",
              "    <tr>\n",
              "      <th>1</th>\n",
              "      <td>Buxoro viloyati</td>\n",
              "      <td>Buxoro shahri</td>\n",
              "      <td>39400</td>\n",
              "      <td>1384700</td>\n",
              "    </tr>\n",
              "    <tr>\n",
              "      <th>2</th>\n",
              "      <td>Fargona viloyati</td>\n",
              "      <td>Fargona shahri</td>\n",
              "      <td>6800</td>\n",
              "      <td>2597000</td>\n",
              "    </tr>\n",
              "    <tr>\n",
              "      <th>3</th>\n",
              "      <td>Jizzax viloyati</td>\n",
              "      <td>Jizzax shahri</td>\n",
              "      <td>20500</td>\n",
              "      <td>910500</td>\n",
              "    </tr>\n",
              "    <tr>\n",
              "      <th>4</th>\n",
              "      <td>Xorazm viloyati</td>\n",
              "      <td>Urganch shahri</td>\n",
              "      <td>6300</td>\n",
              "      <td>1200000</td>\n",
              "    </tr>\n",
              "  </tbody>\n",
              "</table>\n",
              "</div>"
            ],
            "text/plain": [
              "              Hudud          Markaz  Maydoni  Aholisi\n",
              "0  Andijon viloyati  Andijon shahri     4200  1899000\n",
              "1   Buxoro viloyati   Buxoro shahri    39400  1384700\n",
              "2  Fargona viloyati  Fargona shahri     6800  2597000\n",
              "3   Jizzax viloyati   Jizzax shahri    20500   910500\n",
              "4   Xorazm viloyati  Urganch shahri     6300  1200000"
            ]
          },
          "metadata": {},
          "execution_count": 3
        }
      ]
    },
    {
      "cell_type": "code",
      "metadata": {
        "code_folding": [
          0
        ],
        "scrolled": true,
        "id": "4cyfTN2ubTEQ",
        "outputId": "0d5cae40-fa30-4055-e84a-36e184e324d8"
      },
      "source": [
        "#@title **To'g'ri javob**\n",
        "df.head()"
      ],
      "execution_count": null,
      "outputs": [
        {
          "data": {
            "text/html": [
              "<div>\n",
              "<style scoped>\n",
              "    .dataframe tbody tr th:only-of-type {\n",
              "        vertical-align: middle;\n",
              "    }\n",
              "\n",
              "    .dataframe tbody tr th {\n",
              "        vertical-align: top;\n",
              "    }\n",
              "\n",
              "    .dataframe thead th {\n",
              "        text-align: right;\n",
              "    }\n",
              "</style>\n",
              "<table border=\"1\" class=\"dataframe\">\n",
              "  <thead>\n",
              "    <tr style=\"text-align: right;\">\n",
              "      <th></th>\n",
              "      <th>Hudud</th>\n",
              "      <th>Markaz</th>\n",
              "      <th>Maydoni</th>\n",
              "      <th>Aholisi</th>\n",
              "    </tr>\n",
              "  </thead>\n",
              "  <tbody>\n",
              "    <tr>\n",
              "      <th>0</th>\n",
              "      <td>Andijon viloyati</td>\n",
              "      <td>Andijon shahri</td>\n",
              "      <td>4200</td>\n",
              "      <td>1899000</td>\n",
              "    </tr>\n",
              "    <tr>\n",
              "      <th>1</th>\n",
              "      <td>Buxoro viloyati</td>\n",
              "      <td>Buxoro shahri</td>\n",
              "      <td>39400</td>\n",
              "      <td>1384700</td>\n",
              "    </tr>\n",
              "    <tr>\n",
              "      <th>2</th>\n",
              "      <td>Fargʻona viloyati</td>\n",
              "      <td>Fargʻona shahri</td>\n",
              "      <td>6800</td>\n",
              "      <td>2597000</td>\n",
              "    </tr>\n",
              "    <tr>\n",
              "      <th>3</th>\n",
              "      <td>Jizzax viloyati</td>\n",
              "      <td>Jizzax shahri</td>\n",
              "      <td>20500</td>\n",
              "      <td>910500</td>\n",
              "    </tr>\n",
              "    <tr>\n",
              "      <th>4</th>\n",
              "      <td>Xorazm viloyati</td>\n",
              "      <td>Urganch shahri</td>\n",
              "      <td>6300</td>\n",
              "      <td>1200000</td>\n",
              "    </tr>\n",
              "  </tbody>\n",
              "</table>\n",
              "</div>"
            ],
            "text/plain": [
              "               Hudud           Markaz  Maydoni  Aholisi\n",
              "0   Andijon viloyati   Andijon shahri     4200  1899000\n",
              "1    Buxoro viloyati    Buxoro shahri    39400  1384700\n",
              "2  Fargʻona viloyati  Fargʻona shahri     6800  2597000\n",
              "3    Jizzax viloyati    Jizzax shahri    20500   910500\n",
              "4    Xorazm viloyati   Urganch shahri     6300  1200000"
            ]
          },
          "execution_count": 8,
          "metadata": {},
          "output_type": "execute_result"
        }
      ]
    },
    {
      "cell_type": "markdown",
      "metadata": {
        "id": "11QVlvbbbTER"
      },
      "source": [
        "### **3-mashq.** Yuqoridagi df dan tasodifiy 3 ta qator chiqaring"
      ]
    },
    {
      "cell_type": "code",
      "metadata": {
        "id": "wubE5L_pbTER",
        "colab": {
          "base_uri": "https://localhost:8080/",
          "height": 143
        },
        "outputId": "f3437fea-914d-4544-8723-c6cb820a74a0"
      },
      "source": [
        "# Javobni shuyerga yozing\n",
        "df.sample(3)"
      ],
      "execution_count": null,
      "outputs": [
        {
          "output_type": "execute_result",
          "data": {
            "text/html": [
              "<div>\n",
              "<style scoped>\n",
              "    .dataframe tbody tr th:only-of-type {\n",
              "        vertical-align: middle;\n",
              "    }\n",
              "\n",
              "    .dataframe tbody tr th {\n",
              "        vertical-align: top;\n",
              "    }\n",
              "\n",
              "    .dataframe thead th {\n",
              "        text-align: right;\n",
              "    }\n",
              "</style>\n",
              "<table border=\"1\" class=\"dataframe\">\n",
              "  <thead>\n",
              "    <tr style=\"text-align: right;\">\n",
              "      <th></th>\n",
              "      <th>Hudud</th>\n",
              "      <th>Markaz</th>\n",
              "      <th>Maydoni</th>\n",
              "      <th>Aholisi</th>\n",
              "    </tr>\n",
              "  </thead>\n",
              "  <tbody>\n",
              "    <tr>\n",
              "      <th>12</th>\n",
              "      <td>Toshkent viloyati</td>\n",
              "      <td>Nurafshon shahri</td>\n",
              "      <td>15300</td>\n",
              "      <td>4450000</td>\n",
              "    </tr>\n",
              "    <tr>\n",
              "      <th>1</th>\n",
              "      <td>Buxoro viloyati</td>\n",
              "      <td>Buxoro shahri</td>\n",
              "      <td>39400</td>\n",
              "      <td>1384700</td>\n",
              "    </tr>\n",
              "    <tr>\n",
              "      <th>4</th>\n",
              "      <td>Xorazm viloyati</td>\n",
              "      <td>Urganch shahri</td>\n",
              "      <td>6300</td>\n",
              "      <td>1200000</td>\n",
              "    </tr>\n",
              "  </tbody>\n",
              "</table>\n",
              "</div>"
            ],
            "text/plain": [
              "                Hudud            Markaz  Maydoni  Aholisi\n",
              "12  Toshkent viloyati  Nurafshon shahri    15300  4450000\n",
              "1     Buxoro viloyati     Buxoro shahri    39400  1384700\n",
              "4     Xorazm viloyati    Urganch shahri     6300  1200000"
            ]
          },
          "metadata": {},
          "execution_count": 4
        }
      ]
    },
    {
      "cell_type": "code",
      "metadata": {
        "code_folding": [
          0
        ],
        "id": "LSEr8RzQbTES",
        "outputId": "8239b07c-aa61-4ab5-e120-28b951a4f6f8"
      },
      "source": [
        "#@title **To'g'ri javob**\n",
        "df.sample(3)"
      ],
      "execution_count": null,
      "outputs": [
        {
          "data": {
            "text/html": [
              "<div>\n",
              "<style scoped>\n",
              "    .dataframe tbody tr th:only-of-type {\n",
              "        vertical-align: middle;\n",
              "    }\n",
              "\n",
              "    .dataframe tbody tr th {\n",
              "        vertical-align: top;\n",
              "    }\n",
              "\n",
              "    .dataframe thead th {\n",
              "        text-align: right;\n",
              "    }\n",
              "</style>\n",
              "<table border=\"1\" class=\"dataframe\">\n",
              "  <thead>\n",
              "    <tr style=\"text-align: right;\">\n",
              "      <th></th>\n",
              "      <th>Hudud</th>\n",
              "      <th>Markaz</th>\n",
              "      <th>Maydoni</th>\n",
              "      <th>Aholisi</th>\n",
              "    </tr>\n",
              "  </thead>\n",
              "  <tbody>\n",
              "    <tr>\n",
              "      <th>0</th>\n",
              "      <td>Andijon viloyati</td>\n",
              "      <td>Andijon shahri</td>\n",
              "      <td>4200</td>\n",
              "      <td>1899000</td>\n",
              "    </tr>\n",
              "    <tr>\n",
              "      <th>3</th>\n",
              "      <td>Jizzax viloyati</td>\n",
              "      <td>Jizzax shahri</td>\n",
              "      <td>20500</td>\n",
              "      <td>910500</td>\n",
              "    </tr>\n",
              "    <tr>\n",
              "      <th>8</th>\n",
              "      <td>Qoraqalpogʻiston Respublikasi</td>\n",
              "      <td>Nukus shahri</td>\n",
              "      <td>160000</td>\n",
              "      <td>1200000</td>\n",
              "    </tr>\n",
              "  </tbody>\n",
              "</table>\n",
              "</div>"
            ],
            "text/plain": [
              "                           Hudud          Markaz  Maydoni  Aholisi\n",
              "0               Andijon viloyati  Andijon shahri     4200  1899000\n",
              "3                Jizzax viloyati   Jizzax shahri    20500   910500\n",
              "8  Qoraqalpogʻiston Respublikasi    Nukus shahri   160000  1200000"
            ]
          },
          "execution_count": 11,
          "metadata": {},
          "output_type": "execute_result"
        }
      ]
    },
    {
      "cell_type": "markdown",
      "metadata": {
        "id": "2ftSGA_DbTES"
      },
      "source": [
        "### **4-mashq.** Yuqoridagi df ning 'Hudud' va 'Aholisi' ustinlarini alohida df ko'rinishida chiqaring"
      ]
    },
    {
      "cell_type": "code",
      "metadata": {
        "id": "zEQOfLCtbTET",
        "colab": {
          "base_uri": "https://localhost:8080/",
          "height": 457
        },
        "outputId": "cf7af06c-e049-4de8-b158-bc06604c0eda"
      },
      "source": [
        "# Javobni shuyerga yozing\n",
        "df[[\"Hudud\", \"Aholisi\"]]"
      ],
      "execution_count": null,
      "outputs": [
        {
          "output_type": "execute_result",
          "data": {
            "text/html": [
              "<div>\n",
              "<style scoped>\n",
              "    .dataframe tbody tr th:only-of-type {\n",
              "        vertical-align: middle;\n",
              "    }\n",
              "\n",
              "    .dataframe tbody tr th {\n",
              "        vertical-align: top;\n",
              "    }\n",
              "\n",
              "    .dataframe thead th {\n",
              "        text-align: right;\n",
              "    }\n",
              "</style>\n",
              "<table border=\"1\" class=\"dataframe\">\n",
              "  <thead>\n",
              "    <tr style=\"text-align: right;\">\n",
              "      <th></th>\n",
              "      <th>Hudud</th>\n",
              "      <th>Aholisi</th>\n",
              "    </tr>\n",
              "  </thead>\n",
              "  <tbody>\n",
              "    <tr>\n",
              "      <th>0</th>\n",
              "      <td>Andijon viloyati</td>\n",
              "      <td>1899000</td>\n",
              "    </tr>\n",
              "    <tr>\n",
              "      <th>1</th>\n",
              "      <td>Buxoro viloyati</td>\n",
              "      <td>1384700</td>\n",
              "    </tr>\n",
              "    <tr>\n",
              "      <th>2</th>\n",
              "      <td>Fargona viloyati</td>\n",
              "      <td>2597000</td>\n",
              "    </tr>\n",
              "    <tr>\n",
              "      <th>3</th>\n",
              "      <td>Jizzax viloyati</td>\n",
              "      <td>910500</td>\n",
              "    </tr>\n",
              "    <tr>\n",
              "      <th>4</th>\n",
              "      <td>Xorazm viloyati</td>\n",
              "      <td>1200000</td>\n",
              "    </tr>\n",
              "    <tr>\n",
              "      <th>5</th>\n",
              "      <td>Namangan viloyati</td>\n",
              "      <td>1862000</td>\n",
              "    </tr>\n",
              "    <tr>\n",
              "      <th>6</th>\n",
              "      <td>Navoiy viloyati</td>\n",
              "      <td>767500</td>\n",
              "    </tr>\n",
              "    <tr>\n",
              "      <th>7</th>\n",
              "      <td>Qashqadaryo viloyati</td>\n",
              "      <td>2029000</td>\n",
              "    </tr>\n",
              "    <tr>\n",
              "      <th>8</th>\n",
              "      <td>Qoraqalpogʻiston Respublikasi</td>\n",
              "      <td>1200000</td>\n",
              "    </tr>\n",
              "    <tr>\n",
              "      <th>9</th>\n",
              "      <td>Samarqand viloyati</td>\n",
              "      <td>2322000</td>\n",
              "    </tr>\n",
              "    <tr>\n",
              "      <th>10</th>\n",
              "      <td>Sirdaryo viloyati</td>\n",
              "      <td>648100</td>\n",
              "    </tr>\n",
              "    <tr>\n",
              "      <th>11</th>\n",
              "      <td>Surxondaryo viloyati</td>\n",
              "      <td>1676000</td>\n",
              "    </tr>\n",
              "    <tr>\n",
              "      <th>12</th>\n",
              "      <td>Toshkent viloyati</td>\n",
              "      <td>4450000</td>\n",
              "    </tr>\n",
              "  </tbody>\n",
              "</table>\n",
              "</div>"
            ],
            "text/plain": [
              "                            Hudud  Aholisi\n",
              "0                Andijon viloyati  1899000\n",
              "1                 Buxoro viloyati  1384700\n",
              "2                Fargona viloyati  2597000\n",
              "3                 Jizzax viloyati   910500\n",
              "4                 Xorazm viloyati  1200000\n",
              "5               Namangan viloyati  1862000\n",
              "6                 Navoiy viloyati   767500\n",
              "7            Qashqadaryo viloyati  2029000\n",
              "8   Qoraqalpogʻiston Respublikasi  1200000\n",
              "9              Samarqand viloyati  2322000\n",
              "10              Sirdaryo viloyati   648100\n",
              "11           Surxondaryo viloyati  1676000\n",
              "12              Toshkent viloyati  4450000"
            ]
          },
          "metadata": {},
          "execution_count": 5
        }
      ]
    },
    {
      "cell_type": "code",
      "metadata": {
        "code_folding": [
          0
        ],
        "scrolled": true,
        "id": "KbNvXkTnbTET",
        "outputId": "d8d91c4a-e0f4-4ecd-86ae-b4e04e55ccab"
      },
      "source": [
        "#@title **To'g'ri javob**\n",
        "df[['Hudud','Aholisi']]"
      ],
      "execution_count": null,
      "outputs": [
        {
          "data": {
            "text/html": [
              "<div>\n",
              "<style scoped>\n",
              "    .dataframe tbody tr th:only-of-type {\n",
              "        vertical-align: middle;\n",
              "    }\n",
              "\n",
              "    .dataframe tbody tr th {\n",
              "        vertical-align: top;\n",
              "    }\n",
              "\n",
              "    .dataframe thead th {\n",
              "        text-align: right;\n",
              "    }\n",
              "</style>\n",
              "<table border=\"1\" class=\"dataframe\">\n",
              "  <thead>\n",
              "    <tr style=\"text-align: right;\">\n",
              "      <th></th>\n",
              "      <th>Hudud</th>\n",
              "      <th>Aholisi</th>\n",
              "    </tr>\n",
              "  </thead>\n",
              "  <tbody>\n",
              "    <tr>\n",
              "      <th>0</th>\n",
              "      <td>Andijon viloyati</td>\n",
              "      <td>1899000</td>\n",
              "    </tr>\n",
              "    <tr>\n",
              "      <th>1</th>\n",
              "      <td>Buxoro viloyati</td>\n",
              "      <td>1384700</td>\n",
              "    </tr>\n",
              "    <tr>\n",
              "      <th>2</th>\n",
              "      <td>Fargʻona viloyati</td>\n",
              "      <td>2597000</td>\n",
              "    </tr>\n",
              "    <tr>\n",
              "      <th>3</th>\n",
              "      <td>Jizzax viloyati</td>\n",
              "      <td>910500</td>\n",
              "    </tr>\n",
              "    <tr>\n",
              "      <th>4</th>\n",
              "      <td>Xorazm viloyati</td>\n",
              "      <td>1200000</td>\n",
              "    </tr>\n",
              "    <tr>\n",
              "      <th>5</th>\n",
              "      <td>Namangan viloyati</td>\n",
              "      <td>1862000</td>\n",
              "    </tr>\n",
              "    <tr>\n",
              "      <th>6</th>\n",
              "      <td>Navoiy viloyati</td>\n",
              "      <td>767500</td>\n",
              "    </tr>\n",
              "    <tr>\n",
              "      <th>7</th>\n",
              "      <td>Qashqadaryo viloyati</td>\n",
              "      <td>2029000</td>\n",
              "    </tr>\n",
              "    <tr>\n",
              "      <th>8</th>\n",
              "      <td>Qoraqalpogʻiston Respublikasi</td>\n",
              "      <td>1200000</td>\n",
              "    </tr>\n",
              "    <tr>\n",
              "      <th>9</th>\n",
              "      <td>Samarqand viloyati</td>\n",
              "      <td>2322000</td>\n",
              "    </tr>\n",
              "    <tr>\n",
              "      <th>10</th>\n",
              "      <td>Sirdaryo viloyati</td>\n",
              "      <td>648100</td>\n",
              "    </tr>\n",
              "    <tr>\n",
              "      <th>11</th>\n",
              "      <td>Surxondaryo viloyati</td>\n",
              "      <td>1676000</td>\n",
              "    </tr>\n",
              "    <tr>\n",
              "      <th>12</th>\n",
              "      <td>Toshkent viloyati</td>\n",
              "      <td>4450000</td>\n",
              "    </tr>\n",
              "  </tbody>\n",
              "</table>\n",
              "</div>"
            ],
            "text/plain": [
              "                            Hudud  Aholisi\n",
              "0                Andijon viloyati  1899000\n",
              "1                 Buxoro viloyati  1384700\n",
              "2               Fargʻona viloyati  2597000\n",
              "3                 Jizzax viloyati   910500\n",
              "4                 Xorazm viloyati  1200000\n",
              "5               Namangan viloyati  1862000\n",
              "6                 Navoiy viloyati   767500\n",
              "7            Qashqadaryo viloyati  2029000\n",
              "8   Qoraqalpogʻiston Respublikasi  1200000\n",
              "9              Samarqand viloyati  2322000\n",
              "10              Sirdaryo viloyati   648100\n",
              "11           Surxondaryo viloyati  1676000\n",
              "12              Toshkent viloyati  4450000"
            ]
          },
          "execution_count": 12,
          "metadata": {},
          "output_type": "execute_result"
        }
      ]
    },
    {
      "cell_type": "markdown",
      "metadata": {
        "id": "JcTMlkCwbTEU"
      },
      "source": [
        "### **5-mashq.** Yuqoridagi df ning `Markaz` ustunini Series obyekti \n",
        "\n",
        "---\n",
        "\n",
        "ko'rinishida chiqaring"
      ]
    },
    {
      "cell_type": "code",
      "metadata": {
        "id": "yJN_gUfBbTEU",
        "colab": {
          "base_uri": "https://localhost:8080/"
        },
        "outputId": "dbb8c118-672d-42e4-a396-60855186341f"
      },
      "source": [
        "# Javobni shuyerga yozing\n",
        "df.Markaz"
      ],
      "execution_count": null,
      "outputs": [
        {
          "output_type": "execute_result",
          "data": {
            "text/plain": [
              "0       Andijon shahri\n",
              "1        Buxoro shahri\n",
              "2       Fargona shahri\n",
              "3        Jizzax shahri\n",
              "4       Urganch shahri\n",
              "5      Namangan shahri\n",
              "6        Navoiy shahri\n",
              "7        Qarshi shahri\n",
              "8         Nukus shahri\n",
              "9     Samarqand shahri\n",
              "10     Guliston shahri\n",
              "11       Termiz shahri\n",
              "12    Nurafshon shahri\n",
              "Name: Markaz, dtype: object"
            ]
          },
          "metadata": {},
          "execution_count": 6
        }
      ]
    },
    {
      "cell_type": "code",
      "metadata": {
        "code_folding": [
          0
        ],
        "scrolled": false,
        "id": "Ca6ENpqdbTEV",
        "outputId": "8e1555ef-ad06-45dc-b48e-0a8bd87b2e24"
      },
      "source": [
        "#@title **To'g'ri javob**\n",
        "df.Markaz"
      ],
      "execution_count": null,
      "outputs": [
        {
          "data": {
            "text/plain": [
              "0       Andijon shahri\n",
              "1        Buxoro shahri\n",
              "2      Fargʻona shahri\n",
              "3        Jizzax shahri\n",
              "4       Urganch shahri\n",
              "5      Namangan shahri\n",
              "6        Navoiy shahri\n",
              "7        Qarshi shahri\n",
              "8         Nukus shahri\n",
              "9     Samarqand shahri\n",
              "10     Guliston shahri\n",
              "11       Termiz shahri\n",
              "12    Nurafshon shahri\n",
              "Name: Markaz, dtype: object"
            ]
          },
          "execution_count": 13,
          "metadata": {},
          "output_type": "execute_result"
        }
      ]
    },
    {
      "cell_type": "markdown",
      "metadata": {
        "id": "JbPS2YtQbTEV"
      },
      "source": [
        "### **6-mashq.** Yuqoridagi df dan aholi soni 2 milliondan oshiq bo'lgan hududlarni chiqaring"
      ]
    },
    {
      "cell_type": "code",
      "metadata": {
        "id": "HuG7PcWMbTEW",
        "colab": {
          "base_uri": "https://localhost:8080/",
          "height": 175
        },
        "outputId": "52ff7bce-f3c7-417e-8d82-fe0e0c6edb3b"
      },
      "source": [
        "# Javobni shuyerga yozing\n",
        "df[df.Aholisi > 2000000]"
      ],
      "execution_count": null,
      "outputs": [
        {
          "output_type": "execute_result",
          "data": {
            "text/html": [
              "<div>\n",
              "<style scoped>\n",
              "    .dataframe tbody tr th:only-of-type {\n",
              "        vertical-align: middle;\n",
              "    }\n",
              "\n",
              "    .dataframe tbody tr th {\n",
              "        vertical-align: top;\n",
              "    }\n",
              "\n",
              "    .dataframe thead th {\n",
              "        text-align: right;\n",
              "    }\n",
              "</style>\n",
              "<table border=\"1\" class=\"dataframe\">\n",
              "  <thead>\n",
              "    <tr style=\"text-align: right;\">\n",
              "      <th></th>\n",
              "      <th>Hudud</th>\n",
              "      <th>Markaz</th>\n",
              "      <th>Maydoni</th>\n",
              "      <th>Aholisi</th>\n",
              "    </tr>\n",
              "  </thead>\n",
              "  <tbody>\n",
              "    <tr>\n",
              "      <th>2</th>\n",
              "      <td>Fargona viloyati</td>\n",
              "      <td>Fargona shahri</td>\n",
              "      <td>6800</td>\n",
              "      <td>2597000</td>\n",
              "    </tr>\n",
              "    <tr>\n",
              "      <th>7</th>\n",
              "      <td>Qashqadaryo viloyati</td>\n",
              "      <td>Qarshi shahri</td>\n",
              "      <td>28400</td>\n",
              "      <td>2029000</td>\n",
              "    </tr>\n",
              "    <tr>\n",
              "      <th>9</th>\n",
              "      <td>Samarqand viloyati</td>\n",
              "      <td>Samarqand shahri</td>\n",
              "      <td>16400</td>\n",
              "      <td>2322000</td>\n",
              "    </tr>\n",
              "    <tr>\n",
              "      <th>12</th>\n",
              "      <td>Toshkent viloyati</td>\n",
              "      <td>Nurafshon shahri</td>\n",
              "      <td>15300</td>\n",
              "      <td>4450000</td>\n",
              "    </tr>\n",
              "  </tbody>\n",
              "</table>\n",
              "</div>"
            ],
            "text/plain": [
              "                   Hudud            Markaz  Maydoni  Aholisi\n",
              "2       Fargona viloyati    Fargona shahri     6800  2597000\n",
              "7   Qashqadaryo viloyati     Qarshi shahri    28400  2029000\n",
              "9     Samarqand viloyati  Samarqand shahri    16400  2322000\n",
              "12     Toshkent viloyati  Nurafshon shahri    15300  4450000"
            ]
          },
          "metadata": {},
          "execution_count": 7
        }
      ]
    },
    {
      "cell_type": "code",
      "metadata": {
        "code_folding": [
          0
        ],
        "scrolled": true,
        "id": "jlNFOfMqbTEW",
        "outputId": "4c7420e2-ccfb-40b1-aa90-76301cd2e9bb"
      },
      "source": [
        "#@title **To'g'ri javob**\n",
        "df[df.Aholisi>2_000_000]"
      ],
      "execution_count": null,
      "outputs": [
        {
          "data": {
            "text/html": [
              "<div>\n",
              "<style scoped>\n",
              "    .dataframe tbody tr th:only-of-type {\n",
              "        vertical-align: middle;\n",
              "    }\n",
              "\n",
              "    .dataframe tbody tr th {\n",
              "        vertical-align: top;\n",
              "    }\n",
              "\n",
              "    .dataframe thead th {\n",
              "        text-align: right;\n",
              "    }\n",
              "</style>\n",
              "<table border=\"1\" class=\"dataframe\">\n",
              "  <thead>\n",
              "    <tr style=\"text-align: right;\">\n",
              "      <th></th>\n",
              "      <th>Hudud</th>\n",
              "      <th>Markaz</th>\n",
              "      <th>Maydoni</th>\n",
              "      <th>Aholisi</th>\n",
              "    </tr>\n",
              "  </thead>\n",
              "  <tbody>\n",
              "    <tr>\n",
              "      <th>2</th>\n",
              "      <td>Fargʻona viloyati</td>\n",
              "      <td>Fargʻona shahri</td>\n",
              "      <td>6800</td>\n",
              "      <td>2597000</td>\n",
              "    </tr>\n",
              "    <tr>\n",
              "      <th>7</th>\n",
              "      <td>Qashqadaryo viloyati</td>\n",
              "      <td>Qarshi shahri</td>\n",
              "      <td>28400</td>\n",
              "      <td>2029000</td>\n",
              "    </tr>\n",
              "    <tr>\n",
              "      <th>9</th>\n",
              "      <td>Samarqand viloyati</td>\n",
              "      <td>Samarqand shahri</td>\n",
              "      <td>16400</td>\n",
              "      <td>2322000</td>\n",
              "    </tr>\n",
              "    <tr>\n",
              "      <th>12</th>\n",
              "      <td>Toshkent viloyati</td>\n",
              "      <td>Nurafshon shahri</td>\n",
              "      <td>15300</td>\n",
              "      <td>4450000</td>\n",
              "    </tr>\n",
              "  </tbody>\n",
              "</table>\n",
              "</div>"
            ],
            "text/plain": [
              "                   Hudud            Markaz  Maydoni  Aholisi\n",
              "2      Fargʻona viloyati   Fargʻona shahri     6800  2597000\n",
              "7   Qashqadaryo viloyati     Qarshi shahri    28400  2029000\n",
              "9     Samarqand viloyati  Samarqand shahri    16400  2322000\n",
              "12     Toshkent viloyati  Nurafshon shahri    15300  4450000"
            ]
          },
          "execution_count": 20,
          "metadata": {},
          "output_type": "execute_result"
        }
      ]
    },
    {
      "cell_type": "markdown",
      "metadata": {
        "id": "yYiCi_tcbTEX"
      },
      "source": [
        "### **7-mashq.** Yuqoridagi df dan maydoni 10000kv.km dan kichik bo'lgan hududlarni chiqaring"
      ]
    },
    {
      "cell_type": "code",
      "metadata": {
        "id": "1a38YzMAbTEX",
        "colab": {
          "base_uri": "https://localhost:8080/",
          "height": 206
        },
        "outputId": "ccfecd52-a32e-495c-d992-f666e1941eb9"
      },
      "source": [
        "# Javobni shuyerga yozing\n",
        "df[df.Maydoni<10000]"
      ],
      "execution_count": null,
      "outputs": [
        {
          "output_type": "execute_result",
          "data": {
            "text/html": [
              "<div>\n",
              "<style scoped>\n",
              "    .dataframe tbody tr th:only-of-type {\n",
              "        vertical-align: middle;\n",
              "    }\n",
              "\n",
              "    .dataframe tbody tr th {\n",
              "        vertical-align: top;\n",
              "    }\n",
              "\n",
              "    .dataframe thead th {\n",
              "        text-align: right;\n",
              "    }\n",
              "</style>\n",
              "<table border=\"1\" class=\"dataframe\">\n",
              "  <thead>\n",
              "    <tr style=\"text-align: right;\">\n",
              "      <th></th>\n",
              "      <th>Hudud</th>\n",
              "      <th>Markaz</th>\n",
              "      <th>Maydoni</th>\n",
              "      <th>Aholisi</th>\n",
              "    </tr>\n",
              "  </thead>\n",
              "  <tbody>\n",
              "    <tr>\n",
              "      <th>0</th>\n",
              "      <td>Andijon viloyati</td>\n",
              "      <td>Andijon shahri</td>\n",
              "      <td>4200</td>\n",
              "      <td>1899000</td>\n",
              "    </tr>\n",
              "    <tr>\n",
              "      <th>2</th>\n",
              "      <td>Fargona viloyati</td>\n",
              "      <td>Fargona shahri</td>\n",
              "      <td>6800</td>\n",
              "      <td>2597000</td>\n",
              "    </tr>\n",
              "    <tr>\n",
              "      <th>4</th>\n",
              "      <td>Xorazm viloyati</td>\n",
              "      <td>Urganch shahri</td>\n",
              "      <td>6300</td>\n",
              "      <td>1200000</td>\n",
              "    </tr>\n",
              "    <tr>\n",
              "      <th>5</th>\n",
              "      <td>Namangan viloyati</td>\n",
              "      <td>Namangan shahri</td>\n",
              "      <td>7900</td>\n",
              "      <td>1862000</td>\n",
              "    </tr>\n",
              "    <tr>\n",
              "      <th>10</th>\n",
              "      <td>Sirdaryo viloyati</td>\n",
              "      <td>Guliston shahri</td>\n",
              "      <td>5100</td>\n",
              "      <td>648100</td>\n",
              "    </tr>\n",
              "  </tbody>\n",
              "</table>\n",
              "</div>"
            ],
            "text/plain": [
              "                Hudud           Markaz  Maydoni  Aholisi\n",
              "0    Andijon viloyati   Andijon shahri     4200  1899000\n",
              "2    Fargona viloyati   Fargona shahri     6800  2597000\n",
              "4     Xorazm viloyati   Urganch shahri     6300  1200000\n",
              "5   Namangan viloyati  Namangan shahri     7900  1862000\n",
              "10  Sirdaryo viloyati  Guliston shahri     5100   648100"
            ]
          },
          "metadata": {},
          "execution_count": 8
        }
      ]
    },
    {
      "cell_type": "code",
      "metadata": {
        "code_folding": [
          0
        ],
        "scrolled": false,
        "id": "ai32i5_SbTEY",
        "outputId": "8b7d8442-5bce-4d30-a2d5-ee05d696ee24"
      },
      "source": [
        "#@title **To'g'ri javob**\n",
        "df[df.Maydoni<10000]"
      ],
      "execution_count": null,
      "outputs": [
        {
          "data": {
            "text/html": [
              "<div>\n",
              "<style scoped>\n",
              "    .dataframe tbody tr th:only-of-type {\n",
              "        vertical-align: middle;\n",
              "    }\n",
              "\n",
              "    .dataframe tbody tr th {\n",
              "        vertical-align: top;\n",
              "    }\n",
              "\n",
              "    .dataframe thead th {\n",
              "        text-align: right;\n",
              "    }\n",
              "</style>\n",
              "<table border=\"1\" class=\"dataframe\">\n",
              "  <thead>\n",
              "    <tr style=\"text-align: right;\">\n",
              "      <th></th>\n",
              "      <th>Hudud</th>\n",
              "      <th>Markaz</th>\n",
              "      <th>Maydoni</th>\n",
              "      <th>Aholisi</th>\n",
              "    </tr>\n",
              "  </thead>\n",
              "  <tbody>\n",
              "    <tr>\n",
              "      <th>0</th>\n",
              "      <td>Andijon viloyati</td>\n",
              "      <td>Andijon shahri</td>\n",
              "      <td>4200</td>\n",
              "      <td>1899000</td>\n",
              "    </tr>\n",
              "    <tr>\n",
              "      <th>2</th>\n",
              "      <td>Fargona viloyati</td>\n",
              "      <td>Fargona shahri</td>\n",
              "      <td>6800</td>\n",
              "      <td>2597000</td>\n",
              "    </tr>\n",
              "    <tr>\n",
              "      <th>4</th>\n",
              "      <td>Xorazm viloyati</td>\n",
              "      <td>Urganch shahri</td>\n",
              "      <td>6300</td>\n",
              "      <td>1200000</td>\n",
              "    </tr>\n",
              "    <tr>\n",
              "      <th>5</th>\n",
              "      <td>Namangan viloyati</td>\n",
              "      <td>Namangan shahri</td>\n",
              "      <td>7900</td>\n",
              "      <td>1862000</td>\n",
              "    </tr>\n",
              "    <tr>\n",
              "      <th>10</th>\n",
              "      <td>Sirdaryo viloyati</td>\n",
              "      <td>Guliston shahri</td>\n",
              "      <td>5100</td>\n",
              "      <td>648100</td>\n",
              "    </tr>\n",
              "  </tbody>\n",
              "</table>\n",
              "</div>"
            ],
            "text/plain": [
              "                Hudud           Markaz  Maydoni  Aholisi\n",
              "0    Andijon viloyati   Andijon shahri     4200  1899000\n",
              "2    Fargona viloyati   Fargona shahri     6800  2597000\n",
              "4     Xorazm viloyati   Urganch shahri     6300  1200000\n",
              "5   Namangan viloyati  Namangan shahri     7900  1862000\n",
              "10  Sirdaryo viloyati  Guliston shahri     5100   648100"
            ]
          },
          "execution_count": 72,
          "metadata": {},
          "output_type": "execute_result"
        }
      ]
    },
    {
      "cell_type": "markdown",
      "metadata": {
        "id": "XIU3p0uhbTEY"
      },
      "source": [
        "### **8-mashq.** Yuqoridagi df ning birinchi ustunini df ning indeksi sifatida ishlating\n",
        "Ishora:\n",
        "1. Yoki df ni qayta yarating\n",
        "2. Yoki `set_index()` metodidan foydalaning"
      ]
    },
    {
      "cell_type": "code",
      "metadata": {
        "id": "hKnJp-v9bTEY",
        "colab": {
          "base_uri": "https://localhost:8080/",
          "height": 238
        },
        "outputId": "1c72c1dc-a3a9-4607-fa12-add32e2b68f3"
      },
      "source": [
        "# Javobni shuyerga yozing\n",
        "df.set_index(df.columns[0], inplace = True)\n",
        "df.head()"
      ],
      "execution_count": null,
      "outputs": [
        {
          "output_type": "execute_result",
          "data": {
            "text/html": [
              "<div>\n",
              "<style scoped>\n",
              "    .dataframe tbody tr th:only-of-type {\n",
              "        vertical-align: middle;\n",
              "    }\n",
              "\n",
              "    .dataframe tbody tr th {\n",
              "        vertical-align: top;\n",
              "    }\n",
              "\n",
              "    .dataframe thead th {\n",
              "        text-align: right;\n",
              "    }\n",
              "</style>\n",
              "<table border=\"1\" class=\"dataframe\">\n",
              "  <thead>\n",
              "    <tr style=\"text-align: right;\">\n",
              "      <th></th>\n",
              "      <th>Maydoni</th>\n",
              "      <th>Aholisi</th>\n",
              "    </tr>\n",
              "    <tr>\n",
              "      <th>Markaz</th>\n",
              "      <th></th>\n",
              "      <th></th>\n",
              "    </tr>\n",
              "  </thead>\n",
              "  <tbody>\n",
              "    <tr>\n",
              "      <th>Andijon shahri</th>\n",
              "      <td>4200</td>\n",
              "      <td>1899000</td>\n",
              "    </tr>\n",
              "    <tr>\n",
              "      <th>Buxoro shahri</th>\n",
              "      <td>39400</td>\n",
              "      <td>1384700</td>\n",
              "    </tr>\n",
              "    <tr>\n",
              "      <th>Fargona shahri</th>\n",
              "      <td>6800</td>\n",
              "      <td>2597000</td>\n",
              "    </tr>\n",
              "    <tr>\n",
              "      <th>Jizzax shahri</th>\n",
              "      <td>20500</td>\n",
              "      <td>910500</td>\n",
              "    </tr>\n",
              "    <tr>\n",
              "      <th>Urganch shahri</th>\n",
              "      <td>6300</td>\n",
              "      <td>1200000</td>\n",
              "    </tr>\n",
              "  </tbody>\n",
              "</table>\n",
              "</div>"
            ],
            "text/plain": [
              "                Maydoni  Aholisi\n",
              "Markaz                          \n",
              "Andijon shahri     4200  1899000\n",
              "Buxoro shahri     39400  1384700\n",
              "Fargona shahri     6800  2597000\n",
              "Jizzax shahri     20500   910500\n",
              "Urganch shahri     6300  1200000"
            ]
          },
          "metadata": {},
          "execution_count": 10
        }
      ]
    },
    {
      "cell_type": "code",
      "metadata": {
        "code_folding": [
          0
        ],
        "scrolled": true,
        "id": "445IehXZbTEZ",
        "colab": {
          "base_uri": "https://localhost:8080/",
          "height": 238
        },
        "outputId": "69937f5a-23b3-4317-dd37-4997d75a79b0"
      },
      "source": [
        "#@title **To'g'ri javob**\n",
        "df.set_index(df.columns[0], inplace=True)\n",
        "df.head()"
      ],
      "execution_count": null,
      "outputs": [
        {
          "output_type": "execute_result",
          "data": {
            "text/html": [
              "<div>\n",
              "<style scoped>\n",
              "    .dataframe tbody tr th:only-of-type {\n",
              "        vertical-align: middle;\n",
              "    }\n",
              "\n",
              "    .dataframe tbody tr th {\n",
              "        vertical-align: top;\n",
              "    }\n",
              "\n",
              "    .dataframe thead th {\n",
              "        text-align: right;\n",
              "    }\n",
              "</style>\n",
              "<table border=\"1\" class=\"dataframe\">\n",
              "  <thead>\n",
              "    <tr style=\"text-align: right;\">\n",
              "      <th></th>\n",
              "      <th>Markaz</th>\n",
              "      <th>Maydoni</th>\n",
              "      <th>Aholisi</th>\n",
              "    </tr>\n",
              "    <tr>\n",
              "      <th>Hudud</th>\n",
              "      <th></th>\n",
              "      <th></th>\n",
              "      <th></th>\n",
              "    </tr>\n",
              "  </thead>\n",
              "  <tbody>\n",
              "    <tr>\n",
              "      <th>Andijon viloyati</th>\n",
              "      <td>Andijon shahri</td>\n",
              "      <td>4200</td>\n",
              "      <td>1899000</td>\n",
              "    </tr>\n",
              "    <tr>\n",
              "      <th>Buxoro viloyati</th>\n",
              "      <td>Buxoro shahri</td>\n",
              "      <td>39400</td>\n",
              "      <td>1384700</td>\n",
              "    </tr>\n",
              "    <tr>\n",
              "      <th>Fargona viloyati</th>\n",
              "      <td>Fargona shahri</td>\n",
              "      <td>6800</td>\n",
              "      <td>2597000</td>\n",
              "    </tr>\n",
              "    <tr>\n",
              "      <th>Jizzax viloyati</th>\n",
              "      <td>Jizzax shahri</td>\n",
              "      <td>20500</td>\n",
              "      <td>910500</td>\n",
              "    </tr>\n",
              "    <tr>\n",
              "      <th>Xorazm viloyati</th>\n",
              "      <td>Urganch shahri</td>\n",
              "      <td>6300</td>\n",
              "      <td>1200000</td>\n",
              "    </tr>\n",
              "  </tbody>\n",
              "</table>\n",
              "</div>"
            ],
            "text/plain": [
              "                          Markaz  Maydoni  Aholisi\n",
              "Hudud                                             \n",
              "Andijon viloyati  Andijon shahri     4200  1899000\n",
              "Buxoro viloyati    Buxoro shahri    39400  1384700\n",
              "Fargona viloyati  Fargona shahri     6800  2597000\n",
              "Jizzax viloyati    Jizzax shahri    20500   910500\n",
              "Xorazm viloyati   Urganch shahri     6300  1200000"
            ]
          },
          "metadata": {},
          "execution_count": 21
        }
      ]
    },
    {
      "cell_type": "markdown",
      "metadata": {
        "id": "0sdqJZvQbTEZ"
      },
      "source": [
        "### **9-mashq.** Yuqoridagi df dan, Aholisi 2 milliondan oshiq hududlar orasida Samarqand viloyati bor yoki yo'qligini tekshiring"
      ]
    },
    {
      "cell_type": "code",
      "metadata": {
        "id": "gYc-UTPzbTEZ",
        "colab": {
          "base_uri": "https://localhost:8080/"
        },
        "outputId": "202ee5e7-0e3e-479f-9560-4b04dddd6dea"
      },
      "source": [
        "# Javobni shuyerga yozing\n",
        "\"Samarqand viloyati\" in df[df.Aholisi>2_000_000].index"
      ],
      "execution_count": null,
      "outputs": [
        {
          "output_type": "execute_result",
          "data": {
            "text/plain": [
              "True"
            ]
          },
          "metadata": {},
          "execution_count": 22
        }
      ]
    },
    {
      "cell_type": "code",
      "metadata": {
        "code_folding": [
          0
        ],
        "scrolled": true,
        "id": "d-dGU7T4bTEa",
        "colab": {
          "base_uri": "https://localhost:8080/"
        },
        "outputId": "eee73f36-b99d-4262-85e0-1284d7ecc820"
      },
      "source": [
        "#@title **To'g'ri javob**\n",
        "\"Samarqand viloyati\" in df[df.Aholisi>2_000_000].index"
      ],
      "execution_count": null,
      "outputs": [
        {
          "output_type": "execute_result",
          "data": {
            "text/plain": [
              "True"
            ]
          },
          "metadata": {},
          "execution_count": 23
        }
      ]
    },
    {
      "cell_type": "markdown",
      "metadata": {
        "id": "Aupn9gG8bTEa"
      },
      "source": [
        "### **10-mashq.**  Yuqoridagi df dan faqatgina Andijon, Farg'ona va Namangan viloyatlarini ajratib ko'rsating"
      ]
    },
    {
      "cell_type": "code",
      "metadata": {
        "id": "MnArtOpObTEb",
        "colab": {
          "base_uri": "https://localhost:8080/",
          "height": 175
        },
        "outputId": "767ecfa1-6f1c-4552-8f56-ec4134fa7286"
      },
      "source": [
        "# Javobni shuyerga yozing\n",
        "df.loc[[\"Andijon viloyati\",\"Fargona viloyati\",\"Namangan viloyati\"]]"
      ],
      "execution_count": null,
      "outputs": [
        {
          "output_type": "execute_result",
          "data": {
            "text/html": [
              "<div>\n",
              "<style scoped>\n",
              "    .dataframe tbody tr th:only-of-type {\n",
              "        vertical-align: middle;\n",
              "    }\n",
              "\n",
              "    .dataframe tbody tr th {\n",
              "        vertical-align: top;\n",
              "    }\n",
              "\n",
              "    .dataframe thead th {\n",
              "        text-align: right;\n",
              "    }\n",
              "</style>\n",
              "<table border=\"1\" class=\"dataframe\">\n",
              "  <thead>\n",
              "    <tr style=\"text-align: right;\">\n",
              "      <th></th>\n",
              "      <th>Markaz</th>\n",
              "      <th>Maydoni</th>\n",
              "      <th>Aholisi</th>\n",
              "    </tr>\n",
              "    <tr>\n",
              "      <th>Hudud</th>\n",
              "      <th></th>\n",
              "      <th></th>\n",
              "      <th></th>\n",
              "    </tr>\n",
              "  </thead>\n",
              "  <tbody>\n",
              "    <tr>\n",
              "      <th>Andijon viloyati</th>\n",
              "      <td>Andijon shahri</td>\n",
              "      <td>4200</td>\n",
              "      <td>1899000</td>\n",
              "    </tr>\n",
              "    <tr>\n",
              "      <th>Fargona viloyati</th>\n",
              "      <td>Fargona shahri</td>\n",
              "      <td>6800</td>\n",
              "      <td>2597000</td>\n",
              "    </tr>\n",
              "    <tr>\n",
              "      <th>Namangan viloyati</th>\n",
              "      <td>Namangan shahri</td>\n",
              "      <td>7900</td>\n",
              "      <td>1862000</td>\n",
              "    </tr>\n",
              "  </tbody>\n",
              "</table>\n",
              "</div>"
            ],
            "text/plain": [
              "                            Markaz  Maydoni  Aholisi\n",
              "Hudud                                               \n",
              "Andijon viloyati    Andijon shahri     4200  1899000\n",
              "Fargona viloyati    Fargona shahri     6800  2597000\n",
              "Namangan viloyati  Namangan shahri     7900  1862000"
            ]
          },
          "metadata": {},
          "execution_count": 24
        }
      ]
    },
    {
      "cell_type": "code",
      "metadata": {
        "code_folding": [
          0
        ],
        "scrolled": true,
        "id": "EOUc5nL3bTEb",
        "outputId": "8ab6853d-0144-4856-9d4e-6f31aacf4cbc"
      },
      "source": [
        "#@title **To'g'ri javob**\n",
        "df.loc[[\"Andijon viloyati\",\"Fargona viloyati\",\"Namangan viloyati\"]]"
      ],
      "execution_count": null,
      "outputs": [
        {
          "data": {
            "text/html": [
              "<div>\n",
              "<style scoped>\n",
              "    .dataframe tbody tr th:only-of-type {\n",
              "        vertical-align: middle;\n",
              "    }\n",
              "\n",
              "    .dataframe tbody tr th {\n",
              "        vertical-align: top;\n",
              "    }\n",
              "\n",
              "    .dataframe thead th {\n",
              "        text-align: right;\n",
              "    }\n",
              "</style>\n",
              "<table border=\"1\" class=\"dataframe\">\n",
              "  <thead>\n",
              "    <tr style=\"text-align: right;\">\n",
              "      <th></th>\n",
              "      <th>Markaz</th>\n",
              "      <th>Maydoni</th>\n",
              "      <th>Aholisi</th>\n",
              "    </tr>\n",
              "    <tr>\n",
              "      <th>Hudud</th>\n",
              "      <th></th>\n",
              "      <th></th>\n",
              "      <th></th>\n",
              "    </tr>\n",
              "  </thead>\n",
              "  <tbody>\n",
              "    <tr>\n",
              "      <th>Andijon viloyati</th>\n",
              "      <td>Andijon shahri</td>\n",
              "      <td>4200</td>\n",
              "      <td>1899000</td>\n",
              "    </tr>\n",
              "    <tr>\n",
              "      <th>Fargona viloyati</th>\n",
              "      <td>Fargona shahri</td>\n",
              "      <td>6800</td>\n",
              "      <td>2597000</td>\n",
              "    </tr>\n",
              "    <tr>\n",
              "      <th>Namangan viloyati</th>\n",
              "      <td>Namangan shahri</td>\n",
              "      <td>7900</td>\n",
              "      <td>1862000</td>\n",
              "    </tr>\n",
              "  </tbody>\n",
              "</table>\n",
              "</div>"
            ],
            "text/plain": [
              "                            Markaz  Maydoni  Aholisi\n",
              "Hudud                                               \n",
              "Andijon viloyati    Andijon shahri     4200  1899000\n",
              "Fargona viloyati    Fargona shahri     6800  2597000\n",
              "Namangan viloyati  Namangan shahri     7900  1862000"
            ]
          },
          "execution_count": 75,
          "metadata": {},
          "output_type": "execute_result"
        }
      ]
    },
    {
      "cell_type": "markdown",
      "metadata": {
        "id": "883sDJVYbTEb"
      },
      "source": [
        "### **11-mashq.**  Yuqoridagi df dan Samarqanda va Toshkent viloyatlarining aholisi va maydonini alohida df ko'rinishida chiqaring"
      ]
    },
    {
      "cell_type": "code",
      "metadata": {
        "id": "g14rPJZibTEc",
        "colab": {
          "base_uri": "https://localhost:8080/",
          "height": 143
        },
        "outputId": "d136337f-fc9d-486f-99cc-c1919bd404c6"
      },
      "source": [
        "# Javobni shuyerga yozing\n",
        "df.loc[[\"Toshkent viloyati\", \"Samarqand viloyati\"], [\"Maydoni\", \"Aholisi\"]]"
      ],
      "execution_count": null,
      "outputs": [
        {
          "output_type": "execute_result",
          "data": {
            "text/html": [
              "<div>\n",
              "<style scoped>\n",
              "    .dataframe tbody tr th:only-of-type {\n",
              "        vertical-align: middle;\n",
              "    }\n",
              "\n",
              "    .dataframe tbody tr th {\n",
              "        vertical-align: top;\n",
              "    }\n",
              "\n",
              "    .dataframe thead th {\n",
              "        text-align: right;\n",
              "    }\n",
              "</style>\n",
              "<table border=\"1\" class=\"dataframe\">\n",
              "  <thead>\n",
              "    <tr style=\"text-align: right;\">\n",
              "      <th></th>\n",
              "      <th>Maydoni</th>\n",
              "      <th>Aholisi</th>\n",
              "    </tr>\n",
              "    <tr>\n",
              "      <th>Hudud</th>\n",
              "      <th></th>\n",
              "      <th></th>\n",
              "    </tr>\n",
              "  </thead>\n",
              "  <tbody>\n",
              "    <tr>\n",
              "      <th>Toshkent viloyati</th>\n",
              "      <td>15300</td>\n",
              "      <td>4450000</td>\n",
              "    </tr>\n",
              "    <tr>\n",
              "      <th>Samarqand viloyati</th>\n",
              "      <td>16400</td>\n",
              "      <td>2322000</td>\n",
              "    </tr>\n",
              "  </tbody>\n",
              "</table>\n",
              "</div>"
            ],
            "text/plain": [
              "                    Maydoni  Aholisi\n",
              "Hudud                               \n",
              "Toshkent viloyati     15300  4450000\n",
              "Samarqand viloyati    16400  2322000"
            ]
          },
          "metadata": {},
          "execution_count": 25
        }
      ]
    },
    {
      "cell_type": "code",
      "metadata": {
        "code_folding": [
          0
        ],
        "scrolled": false,
        "id": "024zdDV9bTEc",
        "outputId": "8cd1ec33-97c2-4fa8-a62c-b1a7e3268548"
      },
      "source": [
        "#@title **To'g'ri javob**\n",
        "df.loc[['Toshkent viloyati','Samarqand viloyati'],['Maydoni','Aholisi']]"
      ],
      "execution_count": null,
      "outputs": [
        {
          "data": {
            "text/html": [
              "<div>\n",
              "<style scoped>\n",
              "    .dataframe tbody tr th:only-of-type {\n",
              "        vertical-align: middle;\n",
              "    }\n",
              "\n",
              "    .dataframe tbody tr th {\n",
              "        vertical-align: top;\n",
              "    }\n",
              "\n",
              "    .dataframe thead th {\n",
              "        text-align: right;\n",
              "    }\n",
              "</style>\n",
              "<table border=\"1\" class=\"dataframe\">\n",
              "  <thead>\n",
              "    <tr style=\"text-align: right;\">\n",
              "      <th></th>\n",
              "      <th>Maydoni</th>\n",
              "      <th>Aholisi</th>\n",
              "    </tr>\n",
              "    <tr>\n",
              "      <th>Hudud</th>\n",
              "      <th></th>\n",
              "      <th></th>\n",
              "    </tr>\n",
              "  </thead>\n",
              "  <tbody>\n",
              "    <tr>\n",
              "      <th>Toshkent viloyati</th>\n",
              "      <td>15300</td>\n",
              "      <td>4450000</td>\n",
              "    </tr>\n",
              "    <tr>\n",
              "      <th>Samarqand viloyati</th>\n",
              "      <td>16400</td>\n",
              "      <td>2322000</td>\n",
              "    </tr>\n",
              "  </tbody>\n",
              "</table>\n",
              "</div>"
            ],
            "text/plain": [
              "                    Maydoni  Aholisi\n",
              "Hudud                               \n",
              "Toshkent viloyati     15300  4450000\n",
              "Samarqand viloyati    16400  2322000"
            ]
          },
          "execution_count": 76,
          "metadata": {},
          "output_type": "execute_result"
        }
      ]
    },
    {
      "cell_type": "markdown",
      "metadata": {
        "id": "-pzMjaCObTEc"
      },
      "source": [
        "### **12-mashq.**  Yuqoridagi df dan yangi df_new DataFrame yarating. Yangi dataframega faqatgina aholisi 1.5mln dan kam bo'lgan hududlarni ko'chiring. "
      ]
    },
    {
      "cell_type": "code",
      "metadata": {
        "id": "6bT9WhtabTEd",
        "colab": {
          "base_uri": "https://localhost:8080/",
          "height": 269
        },
        "outputId": "4cec14fd-8d62-4d50-bd7f-12eff5deed41"
      },
      "source": [
        "# Javobni shuyerga yozing\n",
        "df_new = df[df.Aholisi < 1500000]\n",
        "df_new"
      ],
      "execution_count": null,
      "outputs": [
        {
          "output_type": "execute_result",
          "data": {
            "text/html": [
              "<div>\n",
              "<style scoped>\n",
              "    .dataframe tbody tr th:only-of-type {\n",
              "        vertical-align: middle;\n",
              "    }\n",
              "\n",
              "    .dataframe tbody tr th {\n",
              "        vertical-align: top;\n",
              "    }\n",
              "\n",
              "    .dataframe thead th {\n",
              "        text-align: right;\n",
              "    }\n",
              "</style>\n",
              "<table border=\"1\" class=\"dataframe\">\n",
              "  <thead>\n",
              "    <tr style=\"text-align: right;\">\n",
              "      <th></th>\n",
              "      <th>Markaz</th>\n",
              "      <th>Maydoni</th>\n",
              "      <th>Aholisi</th>\n",
              "    </tr>\n",
              "    <tr>\n",
              "      <th>Hudud</th>\n",
              "      <th></th>\n",
              "      <th></th>\n",
              "      <th></th>\n",
              "    </tr>\n",
              "  </thead>\n",
              "  <tbody>\n",
              "    <tr>\n",
              "      <th>Buxoro viloyati</th>\n",
              "      <td>Buxoro shahri</td>\n",
              "      <td>39400</td>\n",
              "      <td>1384700</td>\n",
              "    </tr>\n",
              "    <tr>\n",
              "      <th>Jizzax viloyati</th>\n",
              "      <td>Jizzax shahri</td>\n",
              "      <td>20500</td>\n",
              "      <td>910500</td>\n",
              "    </tr>\n",
              "    <tr>\n",
              "      <th>Xorazm viloyati</th>\n",
              "      <td>Urganch shahri</td>\n",
              "      <td>6300</td>\n",
              "      <td>1200000</td>\n",
              "    </tr>\n",
              "    <tr>\n",
              "      <th>Navoiy viloyati</th>\n",
              "      <td>Navoiy shahri</td>\n",
              "      <td>110800</td>\n",
              "      <td>767500</td>\n",
              "    </tr>\n",
              "    <tr>\n",
              "      <th>Qoraqalpogʻiston Respublikasi</th>\n",
              "      <td>Nukus shahri</td>\n",
              "      <td>160000</td>\n",
              "      <td>1200000</td>\n",
              "    </tr>\n",
              "    <tr>\n",
              "      <th>Sirdaryo viloyati</th>\n",
              "      <td>Guliston shahri</td>\n",
              "      <td>5100</td>\n",
              "      <td>648100</td>\n",
              "    </tr>\n",
              "  </tbody>\n",
              "</table>\n",
              "</div>"
            ],
            "text/plain": [
              "                                        Markaz  Maydoni  Aholisi\n",
              "Hudud                                                           \n",
              "Buxoro viloyati                  Buxoro shahri    39400  1384700\n",
              "Jizzax viloyati                  Jizzax shahri    20500   910500\n",
              "Xorazm viloyati                 Urganch shahri     6300  1200000\n",
              "Navoiy viloyati                  Navoiy shahri   110800   767500\n",
              "Qoraqalpogʻiston Respublikasi     Nukus shahri   160000  1200000\n",
              "Sirdaryo viloyati              Guliston shahri     5100   648100"
            ]
          },
          "metadata": {},
          "execution_count": 26
        }
      ]
    },
    {
      "cell_type": "code",
      "metadata": {
        "code_folding": [
          0
        ],
        "scrolled": true,
        "id": "-XPdYYnFbTEd",
        "outputId": "cec369d2-b1b2-4c0b-e480-02bfdc303e99"
      },
      "source": [
        "#@title **To'g'ri javob**\n",
        "df_new = df[df.Aholisi<1_500_000]\n",
        "df_new"
      ],
      "execution_count": null,
      "outputs": [
        {
          "data": {
            "text/html": [
              "<div>\n",
              "<style scoped>\n",
              "    .dataframe tbody tr th:only-of-type {\n",
              "        vertical-align: middle;\n",
              "    }\n",
              "\n",
              "    .dataframe tbody tr th {\n",
              "        vertical-align: top;\n",
              "    }\n",
              "\n",
              "    .dataframe thead th {\n",
              "        text-align: right;\n",
              "    }\n",
              "</style>\n",
              "<table border=\"1\" class=\"dataframe\">\n",
              "  <thead>\n",
              "    <tr style=\"text-align: right;\">\n",
              "      <th></th>\n",
              "      <th>Markaz</th>\n",
              "      <th>Maydoni</th>\n",
              "      <th>Aholisi</th>\n",
              "    </tr>\n",
              "    <tr>\n",
              "      <th>Hudud</th>\n",
              "      <th></th>\n",
              "      <th></th>\n",
              "      <th></th>\n",
              "    </tr>\n",
              "  </thead>\n",
              "  <tbody>\n",
              "    <tr>\n",
              "      <th>Buxoro viloyati</th>\n",
              "      <td>Buxoro shahri</td>\n",
              "      <td>39400</td>\n",
              "      <td>1384700</td>\n",
              "    </tr>\n",
              "    <tr>\n",
              "      <th>Jizzax viloyati</th>\n",
              "      <td>Jizzax shahri</td>\n",
              "      <td>20500</td>\n",
              "      <td>910500</td>\n",
              "    </tr>\n",
              "    <tr>\n",
              "      <th>Xorazm viloyati</th>\n",
              "      <td>Urganch shahri</td>\n",
              "      <td>6300</td>\n",
              "      <td>1200000</td>\n",
              "    </tr>\n",
              "    <tr>\n",
              "      <th>Navoiy viloyati</th>\n",
              "      <td>Navoiy shahri</td>\n",
              "      <td>110800</td>\n",
              "      <td>767500</td>\n",
              "    </tr>\n",
              "    <tr>\n",
              "      <th>Qoraqalpogʻiston Respublikasi</th>\n",
              "      <td>Nukus shahri</td>\n",
              "      <td>160000</td>\n",
              "      <td>1200000</td>\n",
              "    </tr>\n",
              "    <tr>\n",
              "      <th>Sirdaryo viloyati</th>\n",
              "      <td>Guliston shahri</td>\n",
              "      <td>5100</td>\n",
              "      <td>648100</td>\n",
              "    </tr>\n",
              "  </tbody>\n",
              "</table>\n",
              "</div>"
            ],
            "text/plain": [
              "                                        Markaz  Maydoni  Aholisi\n",
              "Hudud                                                           \n",
              "Buxoro viloyati                  Buxoro shahri    39400  1384700\n",
              "Jizzax viloyati                  Jizzax shahri    20500   910500\n",
              "Xorazm viloyati                 Urganch shahri     6300  1200000\n",
              "Navoiy viloyati                  Navoiy shahri   110800   767500\n",
              "Qoraqalpogʻiston Respublikasi     Nukus shahri   160000  1200000\n",
              "Sirdaryo viloyati              Guliston shahri     5100   648100"
            ]
          },
          "execution_count": 78,
          "metadata": {},
          "output_type": "execute_result"
        }
      ]
    },
    {
      "cell_type": "markdown",
      "metadata": {
        "id": "3QKsAC8obTEd"
      },
      "source": [
        "### **13-mashq.**  Yangi df qatorlari orasida Navoiy, Namangan va Xorazm viloyatlari borligini tekshiring"
      ]
    },
    {
      "cell_type": "code",
      "metadata": {
        "id": "NpESUhlbbTEd",
        "colab": {
          "base_uri": "https://localhost:8080/"
        },
        "outputId": "83e9d895-f913-48ba-82a7-84fc7340405b"
      },
      "source": [
        "# Javobni shuyerga yozing\n",
        "pd.Index([\"Navoiy viloyati\",\"Namangan viloyati\",\"Xorazm viloyati\"]).isin(df_new.index)"
      ],
      "execution_count": null,
      "outputs": [
        {
          "output_type": "execute_result",
          "data": {
            "text/plain": [
              "array([ True, False,  True])"
            ]
          },
          "metadata": {},
          "execution_count": 32
        }
      ]
    },
    {
      "cell_type": "code",
      "metadata": {
        "code_folding": [
          0
        ],
        "scrolled": true,
        "id": "kxOM5yUNbTEe",
        "colab": {
          "base_uri": "https://localhost:8080/"
        },
        "outputId": "bce36310-32e4-474e-d520-5400319d7367"
      },
      "source": [
        "#@title **To'g'ri javob**\n",
        "pd.Index(['Navoiy viloyati','Namangan viloyati','Xorazm viloyati']).isin(df_new.index)"
      ],
      "execution_count": null,
      "outputs": [
        {
          "output_type": "execute_result",
          "data": {
            "text/plain": [
              "array([ True, False,  True])"
            ]
          },
          "metadata": {},
          "execution_count": 28
        }
      ]
    },
    {
      "cell_type": "markdown",
      "metadata": {
        "id": "X9wuwe-4bTEe"
      },
      "source": [
        "### **14-mashq.**  Aholisi 1milliondan ko'p, lekin maydoni 10000kv.km dan kam hududlarni chiqaring"
      ]
    },
    {
      "cell_type": "code",
      "metadata": {
        "id": "b0U1kJvFbTEe",
        "colab": {
          "base_uri": "https://localhost:8080/",
          "height": 206
        },
        "outputId": "bcfcfeb8-aaa3-49c1-ea53-a216da2a260c"
      },
      "source": [
        "# Javobni shuyerga yozing\n",
        "df[(df.Aholisi > 1000000) & (df.Maydoni < 10000)]"
      ],
      "execution_count": null,
      "outputs": [
        {
          "output_type": "execute_result",
          "data": {
            "text/html": [
              "<div>\n",
              "<style scoped>\n",
              "    .dataframe tbody tr th:only-of-type {\n",
              "        vertical-align: middle;\n",
              "    }\n",
              "\n",
              "    .dataframe tbody tr th {\n",
              "        vertical-align: top;\n",
              "    }\n",
              "\n",
              "    .dataframe thead th {\n",
              "        text-align: right;\n",
              "    }\n",
              "</style>\n",
              "<table border=\"1\" class=\"dataframe\">\n",
              "  <thead>\n",
              "    <tr style=\"text-align: right;\">\n",
              "      <th></th>\n",
              "      <th>Markaz</th>\n",
              "      <th>Maydoni</th>\n",
              "      <th>Aholisi</th>\n",
              "    </tr>\n",
              "    <tr>\n",
              "      <th>Hudud</th>\n",
              "      <th></th>\n",
              "      <th></th>\n",
              "      <th></th>\n",
              "    </tr>\n",
              "  </thead>\n",
              "  <tbody>\n",
              "    <tr>\n",
              "      <th>Andijon viloyati</th>\n",
              "      <td>Andijon shahri</td>\n",
              "      <td>4200</td>\n",
              "      <td>1899000</td>\n",
              "    </tr>\n",
              "    <tr>\n",
              "      <th>Fargona viloyati</th>\n",
              "      <td>Fargona shahri</td>\n",
              "      <td>6800</td>\n",
              "      <td>2597000</td>\n",
              "    </tr>\n",
              "    <tr>\n",
              "      <th>Xorazm viloyati</th>\n",
              "      <td>Urganch shahri</td>\n",
              "      <td>6300</td>\n",
              "      <td>1200000</td>\n",
              "    </tr>\n",
              "    <tr>\n",
              "      <th>Namangan viloyati</th>\n",
              "      <td>Namangan shahri</td>\n",
              "      <td>7900</td>\n",
              "      <td>1862000</td>\n",
              "    </tr>\n",
              "  </tbody>\n",
              "</table>\n",
              "</div>"
            ],
            "text/plain": [
              "                            Markaz  Maydoni  Aholisi\n",
              "Hudud                                               \n",
              "Andijon viloyati    Andijon shahri     4200  1899000\n",
              "Fargona viloyati    Fargona shahri     6800  2597000\n",
              "Xorazm viloyati     Urganch shahri     6300  1200000\n",
              "Namangan viloyati  Namangan shahri     7900  1862000"
            ]
          },
          "metadata": {},
          "execution_count": 33
        }
      ]
    },
    {
      "cell_type": "code",
      "metadata": {
        "code_folding": [
          0
        ],
        "scrolled": false,
        "id": "4dRjQ7aTbTEe",
        "outputId": "d703846b-8f6e-4459-da4d-02a1ddd06076"
      },
      "source": [
        "#@title **To'g'ri javob**\n",
        "df[(df.Aholisi>1_000_000) & (df.Maydoni<10000)]"
      ],
      "execution_count": null,
      "outputs": [
        {
          "data": {
            "text/html": [
              "<div>\n",
              "<style scoped>\n",
              "    .dataframe tbody tr th:only-of-type {\n",
              "        vertical-align: middle;\n",
              "    }\n",
              "\n",
              "    .dataframe tbody tr th {\n",
              "        vertical-align: top;\n",
              "    }\n",
              "\n",
              "    .dataframe thead th {\n",
              "        text-align: right;\n",
              "    }\n",
              "</style>\n",
              "<table border=\"1\" class=\"dataframe\">\n",
              "  <thead>\n",
              "    <tr style=\"text-align: right;\">\n",
              "      <th></th>\n",
              "      <th>Markaz</th>\n",
              "      <th>Maydoni</th>\n",
              "      <th>Aholisi</th>\n",
              "    </tr>\n",
              "    <tr>\n",
              "      <th>Hudud</th>\n",
              "      <th></th>\n",
              "      <th></th>\n",
              "      <th></th>\n",
              "    </tr>\n",
              "  </thead>\n",
              "  <tbody>\n",
              "    <tr>\n",
              "      <th>Andijon viloyati</th>\n",
              "      <td>Andijon shahri</td>\n",
              "      <td>4200</td>\n",
              "      <td>1899000</td>\n",
              "    </tr>\n",
              "    <tr>\n",
              "      <th>Fargona viloyati</th>\n",
              "      <td>Fargona shahri</td>\n",
              "      <td>6800</td>\n",
              "      <td>2597000</td>\n",
              "    </tr>\n",
              "    <tr>\n",
              "      <th>Xorazm viloyati</th>\n",
              "      <td>Urganch shahri</td>\n",
              "      <td>6300</td>\n",
              "      <td>1200000</td>\n",
              "    </tr>\n",
              "    <tr>\n",
              "      <th>Namangan viloyati</th>\n",
              "      <td>Namangan shahri</td>\n",
              "      <td>7900</td>\n",
              "      <td>1862000</td>\n",
              "    </tr>\n",
              "  </tbody>\n",
              "</table>\n",
              "</div>"
            ],
            "text/plain": [
              "                            Markaz  Maydoni  Aholisi\n",
              "Hudud                                               \n",
              "Andijon viloyati    Andijon shahri     4200  1899000\n",
              "Fargona viloyati    Fargona shahri     6800  2597000\n",
              "Xorazm viloyati     Urganch shahri     6300  1200000\n",
              "Namangan viloyati  Namangan shahri     7900  1862000"
            ]
          },
          "execution_count": 96,
          "metadata": {},
          "output_type": "execute_result"
        }
      ]
    },
    {
      "cell_type": "markdown",
      "metadata": {
        "id": "Qn9q7fVsbTEe"
      },
      "source": [
        "### **15-mashq.**  Aholisi 1milliondan kam, lekin maydoni 10000kv.km dan ko'p hududlarni chiqaring"
      ]
    },
    {
      "cell_type": "code",
      "metadata": {
        "id": "sfXp0uGCbTEf",
        "colab": {
          "base_uri": "https://localhost:8080/",
          "height": 143
        },
        "outputId": "b5adec3b-f0c5-404b-f5e3-9705fd82d22e"
      },
      "source": [
        "# Javobni shuyerga yozing\n",
        "df[(df.Aholisi<1_000_000) & (df.Maydoni>10000)]"
      ],
      "execution_count": null,
      "outputs": [
        {
          "output_type": "execute_result",
          "data": {
            "text/html": [
              "<div>\n",
              "<style scoped>\n",
              "    .dataframe tbody tr th:only-of-type {\n",
              "        vertical-align: middle;\n",
              "    }\n",
              "\n",
              "    .dataframe tbody tr th {\n",
              "        vertical-align: top;\n",
              "    }\n",
              "\n",
              "    .dataframe thead th {\n",
              "        text-align: right;\n",
              "    }\n",
              "</style>\n",
              "<table border=\"1\" class=\"dataframe\">\n",
              "  <thead>\n",
              "    <tr style=\"text-align: right;\">\n",
              "      <th></th>\n",
              "      <th>Markaz</th>\n",
              "      <th>Maydoni</th>\n",
              "      <th>Aholisi</th>\n",
              "    </tr>\n",
              "    <tr>\n",
              "      <th>Hudud</th>\n",
              "      <th></th>\n",
              "      <th></th>\n",
              "      <th></th>\n",
              "    </tr>\n",
              "  </thead>\n",
              "  <tbody>\n",
              "    <tr>\n",
              "      <th>Jizzax viloyati</th>\n",
              "      <td>Jizzax shahri</td>\n",
              "      <td>20500</td>\n",
              "      <td>910500</td>\n",
              "    </tr>\n",
              "    <tr>\n",
              "      <th>Navoiy viloyati</th>\n",
              "      <td>Navoiy shahri</td>\n",
              "      <td>110800</td>\n",
              "      <td>767500</td>\n",
              "    </tr>\n",
              "  </tbody>\n",
              "</table>\n",
              "</div>"
            ],
            "text/plain": [
              "                        Markaz  Maydoni  Aholisi\n",
              "Hudud                                           \n",
              "Jizzax viloyati  Jizzax shahri    20500   910500\n",
              "Navoiy viloyati  Navoiy shahri   110800   767500"
            ]
          },
          "metadata": {},
          "execution_count": 34
        }
      ]
    },
    {
      "cell_type": "code",
      "metadata": {
        "code_folding": [
          0
        ],
        "scrolled": false,
        "id": "PffS--00bTEf",
        "outputId": "a8fb0742-4d17-45bf-aa46-2878166a5e11"
      },
      "source": [
        "#@title **To'g'ri javob**\n",
        "df[(df.Aholisi<1_000_000) & (df.Maydoni>10000)]"
      ],
      "execution_count": null,
      "outputs": [
        {
          "data": {
            "text/html": [
              "<div>\n",
              "<style scoped>\n",
              "    .dataframe tbody tr th:only-of-type {\n",
              "        vertical-align: middle;\n",
              "    }\n",
              "\n",
              "    .dataframe tbody tr th {\n",
              "        vertical-align: top;\n",
              "    }\n",
              "\n",
              "    .dataframe thead th {\n",
              "        text-align: right;\n",
              "    }\n",
              "</style>\n",
              "<table border=\"1\" class=\"dataframe\">\n",
              "  <thead>\n",
              "    <tr style=\"text-align: right;\">\n",
              "      <th></th>\n",
              "      <th>Markaz</th>\n",
              "      <th>Maydoni</th>\n",
              "      <th>Aholisi</th>\n",
              "    </tr>\n",
              "    <tr>\n",
              "      <th>Hudud</th>\n",
              "      <th></th>\n",
              "      <th></th>\n",
              "      <th></th>\n",
              "    </tr>\n",
              "  </thead>\n",
              "  <tbody>\n",
              "    <tr>\n",
              "      <th>Jizzax viloyati</th>\n",
              "      <td>Jizzax shahri</td>\n",
              "      <td>20500</td>\n",
              "      <td>910500</td>\n",
              "    </tr>\n",
              "    <tr>\n",
              "      <th>Navoiy viloyati</th>\n",
              "      <td>Navoiy shahri</td>\n",
              "      <td>110800</td>\n",
              "      <td>767500</td>\n",
              "    </tr>\n",
              "  </tbody>\n",
              "</table>\n",
              "</div>"
            ],
            "text/plain": [
              "                        Markaz  Maydoni  Aholisi\n",
              "Hudud                                           \n",
              "Jizzax viloyati  Jizzax shahri    20500   910500\n",
              "Navoiy viloyati  Navoiy shahri   110800   767500"
            ]
          },
          "execution_count": 97,
          "metadata": {},
          "output_type": "execute_result"
        }
      ]
    },
    {
      "cell_type": "markdown",
      "metadata": {
        "id": "t6YAfZ9ObTEf"
      },
      "source": [
        "### **16-mashq.**  Yuqoridagi df dan `Markaz` ustunini tashlab yuboring"
      ]
    },
    {
      "cell_type": "code",
      "metadata": {
        "id": "5QkxH-xpbTEf",
        "colab": {
          "base_uri": "https://localhost:8080/",
          "height": 488
        },
        "outputId": "21b6d5e7-06a5-4be4-9c95-b33981edc94a"
      },
      "source": [
        "# Javobni shuyerga yozing\n",
        "df.drop([\"Markaz\"], axis = 1)"
      ],
      "execution_count": null,
      "outputs": [
        {
          "output_type": "execute_result",
          "data": {
            "text/html": [
              "<div>\n",
              "<style scoped>\n",
              "    .dataframe tbody tr th:only-of-type {\n",
              "        vertical-align: middle;\n",
              "    }\n",
              "\n",
              "    .dataframe tbody tr th {\n",
              "        vertical-align: top;\n",
              "    }\n",
              "\n",
              "    .dataframe thead th {\n",
              "        text-align: right;\n",
              "    }\n",
              "</style>\n",
              "<table border=\"1\" class=\"dataframe\">\n",
              "  <thead>\n",
              "    <tr style=\"text-align: right;\">\n",
              "      <th></th>\n",
              "      <th>Maydoni</th>\n",
              "      <th>Aholisi</th>\n",
              "    </tr>\n",
              "    <tr>\n",
              "      <th>Hudud</th>\n",
              "      <th></th>\n",
              "      <th></th>\n",
              "    </tr>\n",
              "  </thead>\n",
              "  <tbody>\n",
              "    <tr>\n",
              "      <th>Andijon viloyati</th>\n",
              "      <td>4200</td>\n",
              "      <td>1899000</td>\n",
              "    </tr>\n",
              "    <tr>\n",
              "      <th>Buxoro viloyati</th>\n",
              "      <td>39400</td>\n",
              "      <td>1384700</td>\n",
              "    </tr>\n",
              "    <tr>\n",
              "      <th>Fargona viloyati</th>\n",
              "      <td>6800</td>\n",
              "      <td>2597000</td>\n",
              "    </tr>\n",
              "    <tr>\n",
              "      <th>Jizzax viloyati</th>\n",
              "      <td>20500</td>\n",
              "      <td>910500</td>\n",
              "    </tr>\n",
              "    <tr>\n",
              "      <th>Xorazm viloyati</th>\n",
              "      <td>6300</td>\n",
              "      <td>1200000</td>\n",
              "    </tr>\n",
              "    <tr>\n",
              "      <th>Namangan viloyati</th>\n",
              "      <td>7900</td>\n",
              "      <td>1862000</td>\n",
              "    </tr>\n",
              "    <tr>\n",
              "      <th>Navoiy viloyati</th>\n",
              "      <td>110800</td>\n",
              "      <td>767500</td>\n",
              "    </tr>\n",
              "    <tr>\n",
              "      <th>Qashqadaryo viloyati</th>\n",
              "      <td>28400</td>\n",
              "      <td>2029000</td>\n",
              "    </tr>\n",
              "    <tr>\n",
              "      <th>Qoraqalpogʻiston Respublikasi</th>\n",
              "      <td>160000</td>\n",
              "      <td>1200000</td>\n",
              "    </tr>\n",
              "    <tr>\n",
              "      <th>Samarqand viloyati</th>\n",
              "      <td>16400</td>\n",
              "      <td>2322000</td>\n",
              "    </tr>\n",
              "    <tr>\n",
              "      <th>Sirdaryo viloyati</th>\n",
              "      <td>5100</td>\n",
              "      <td>648100</td>\n",
              "    </tr>\n",
              "    <tr>\n",
              "      <th>Surxondaryo viloyati</th>\n",
              "      <td>20800</td>\n",
              "      <td>1676000</td>\n",
              "    </tr>\n",
              "    <tr>\n",
              "      <th>Toshkent viloyati</th>\n",
              "      <td>15300</td>\n",
              "      <td>4450000</td>\n",
              "    </tr>\n",
              "  </tbody>\n",
              "</table>\n",
              "</div>"
            ],
            "text/plain": [
              "                               Maydoni  Aholisi\n",
              "Hudud                                          \n",
              "Andijon viloyati                  4200  1899000\n",
              "Buxoro viloyati                  39400  1384700\n",
              "Fargona viloyati                  6800  2597000\n",
              "Jizzax viloyati                  20500   910500\n",
              "Xorazm viloyati                   6300  1200000\n",
              "Namangan viloyati                 7900  1862000\n",
              "Navoiy viloyati                 110800   767500\n",
              "Qashqadaryo viloyati             28400  2029000\n",
              "Qoraqalpogʻiston Respublikasi   160000  1200000\n",
              "Samarqand viloyati               16400  2322000\n",
              "Sirdaryo viloyati                 5100   648100\n",
              "Surxondaryo viloyati             20800  1676000\n",
              "Toshkent viloyati                15300  4450000"
            ]
          },
          "metadata": {},
          "execution_count": 35
        }
      ]
    },
    {
      "cell_type": "code",
      "metadata": {
        "code_folding": [
          0
        ],
        "scrolled": true,
        "id": "NuraucbrbTEg",
        "outputId": "ddb6e8df-47fa-4110-8e0d-cb6d2fb2241d"
      },
      "source": [
        "#@title **To'g'ri javob**\n",
        "df.drop(['Markaz'], axis=1)"
      ],
      "execution_count": null,
      "outputs": [
        {
          "data": {
            "text/html": [
              "<div>\n",
              "<style scoped>\n",
              "    .dataframe tbody tr th:only-of-type {\n",
              "        vertical-align: middle;\n",
              "    }\n",
              "\n",
              "    .dataframe tbody tr th {\n",
              "        vertical-align: top;\n",
              "    }\n",
              "\n",
              "    .dataframe thead th {\n",
              "        text-align: right;\n",
              "    }\n",
              "</style>\n",
              "<table border=\"1\" class=\"dataframe\">\n",
              "  <thead>\n",
              "    <tr style=\"text-align: right;\">\n",
              "      <th></th>\n",
              "      <th>Maydoni</th>\n",
              "      <th>Aholisi</th>\n",
              "    </tr>\n",
              "    <tr>\n",
              "      <th>Hudud</th>\n",
              "      <th></th>\n",
              "      <th></th>\n",
              "    </tr>\n",
              "  </thead>\n",
              "  <tbody>\n",
              "    <tr>\n",
              "      <th>Andijon viloyati</th>\n",
              "      <td>4200</td>\n",
              "      <td>1899000</td>\n",
              "    </tr>\n",
              "    <tr>\n",
              "      <th>Buxoro viloyati</th>\n",
              "      <td>39400</td>\n",
              "      <td>1384700</td>\n",
              "    </tr>\n",
              "    <tr>\n",
              "      <th>Fargona viloyati</th>\n",
              "      <td>6800</td>\n",
              "      <td>2597000</td>\n",
              "    </tr>\n",
              "    <tr>\n",
              "      <th>Jizzax viloyati</th>\n",
              "      <td>20500</td>\n",
              "      <td>910500</td>\n",
              "    </tr>\n",
              "    <tr>\n",
              "      <th>Xorazm viloyati</th>\n",
              "      <td>6300</td>\n",
              "      <td>1200000</td>\n",
              "    </tr>\n",
              "    <tr>\n",
              "      <th>Namangan viloyati</th>\n",
              "      <td>7900</td>\n",
              "      <td>1862000</td>\n",
              "    </tr>\n",
              "    <tr>\n",
              "      <th>Navoiy viloyati</th>\n",
              "      <td>110800</td>\n",
              "      <td>767500</td>\n",
              "    </tr>\n",
              "    <tr>\n",
              "      <th>Qashqadaryo viloyati</th>\n",
              "      <td>28400</td>\n",
              "      <td>2029000</td>\n",
              "    </tr>\n",
              "    <tr>\n",
              "      <th>Qoraqalpogʻiston Respublikasi</th>\n",
              "      <td>160000</td>\n",
              "      <td>1200000</td>\n",
              "    </tr>\n",
              "    <tr>\n",
              "      <th>Samarqand viloyati</th>\n",
              "      <td>16400</td>\n",
              "      <td>2322000</td>\n",
              "    </tr>\n",
              "    <tr>\n",
              "      <th>Sirdaryo viloyati</th>\n",
              "      <td>5100</td>\n",
              "      <td>648100</td>\n",
              "    </tr>\n",
              "    <tr>\n",
              "      <th>Surxondaryo viloyati</th>\n",
              "      <td>20800</td>\n",
              "      <td>1676000</td>\n",
              "    </tr>\n",
              "    <tr>\n",
              "      <th>Toshkent viloyati</th>\n",
              "      <td>15300</td>\n",
              "      <td>4450000</td>\n",
              "    </tr>\n",
              "  </tbody>\n",
              "</table>\n",
              "</div>"
            ],
            "text/plain": [
              "                               Maydoni  Aholisi\n",
              "Hudud                                          \n",
              "Andijon viloyati                  4200  1899000\n",
              "Buxoro viloyati                  39400  1384700\n",
              "Fargona viloyati                  6800  2597000\n",
              "Jizzax viloyati                  20500   910500\n",
              "Xorazm viloyati                   6300  1200000\n",
              "Namangan viloyati                 7900  1862000\n",
              "Navoiy viloyati                 110800   767500\n",
              "Qashqadaryo viloyati             28400  2029000\n",
              "Qoraqalpogʻiston Respublikasi   160000  1200000\n",
              "Samarqand viloyati               16400  2322000\n",
              "Sirdaryo viloyati                 5100   648100\n",
              "Surxondaryo viloyati             20800  1676000\n",
              "Toshkent viloyati                15300  4450000"
            ]
          },
          "execution_count": 99,
          "metadata": {},
          "output_type": "execute_result"
        }
      ]
    },
    {
      "cell_type": "markdown",
      "metadata": {
        "id": "uzCwhvwabTEg"
      },
      "source": [
        "### **17-mashq.**  Yuqoridagi df dan Sirdaryo viloyati aholisini chiqaring"
      ]
    },
    {
      "cell_type": "code",
      "metadata": {
        "id": "KaqM0GSIbTEg",
        "colab": {
          "base_uri": "https://localhost:8080/"
        },
        "outputId": "8f2aa7ae-d6b7-4432-c555-d6e20f4fd0a7"
      },
      "source": [
        "# Javobni shuyerga yozing\n",
        "df.at[\"Sirdaryo viloyati\", \"Aholisi\"]"
      ],
      "execution_count": null,
      "outputs": [
        {
          "output_type": "execute_result",
          "data": {
            "text/plain": [
              "648100"
            ]
          },
          "metadata": {},
          "execution_count": 36
        }
      ]
    },
    {
      "cell_type": "code",
      "metadata": {
        "code_folding": [
          0
        ],
        "scrolled": false,
        "id": "facbnsBUbTEg",
        "outputId": "43c7ce65-e2ab-41fb-c9d9-93ba29a53e5b"
      },
      "source": [
        "#@title **To'g'ri javob**\n",
        "df.at['Sirdaryo viloyati','Aholisi']"
      ],
      "execution_count": null,
      "outputs": [
        {
          "data": {
            "text/plain": [
              "648100"
            ]
          },
          "execution_count": 102,
          "metadata": {},
          "output_type": "execute_result"
        }
      ]
    },
    {
      "cell_type": "markdown",
      "metadata": {
        "id": "7rXDF1sebTEg"
      },
      "source": [
        "### **18-mashq.**  Yuqoridagi df dan Buxoro viloyati maydonini chiqaring"
      ]
    },
    {
      "cell_type": "code",
      "metadata": {
        "id": "BD47UVNtbTEh",
        "colab": {
          "base_uri": "https://localhost:8080/"
        },
        "outputId": "d5a71259-9082-4c39-cbf6-3a1d4bc8734a"
      },
      "source": [
        "# Javobni shuyerga yozing\n",
        "df.at[\"Buxoro viloyati\", \"Maydoni\"]"
      ],
      "execution_count": null,
      "outputs": [
        {
          "output_type": "execute_result",
          "data": {
            "text/plain": [
              "39400"
            ]
          },
          "metadata": {},
          "execution_count": 37
        }
      ]
    },
    {
      "cell_type": "code",
      "metadata": {
        "code_folding": [
          0
        ],
        "scrolled": true,
        "id": "ez426BAGbTEh",
        "outputId": "328eab95-216b-430c-936e-4fb58608af01"
      },
      "source": [
        "#@title **To'g'ri javob**\n",
        "df.at['Buxoro viloyati','Maydoni']"
      ],
      "execution_count": null,
      "outputs": [
        {
          "data": {
            "text/plain": [
              "39400"
            ]
          },
          "execution_count": 103,
          "metadata": {},
          "output_type": "execute_result"
        }
      ]
    },
    {
      "cell_type": "markdown",
      "metadata": {
        "id": "otLYgx8GbTEh"
      },
      "source": [
        "### **19-mashq.**  Yuqoridagi df dan Toshkent viloyati maydoni O'zbekiston Respublikasining necha fozini tashkil qilishini toping"
      ]
    },
    {
      "cell_type": "code",
      "metadata": {
        "id": "4wxsgZ6NbTEh",
        "colab": {
          "base_uri": "https://localhost:8080/"
        },
        "outputId": "93398dbb-f302-4bba-d689-ce02744cf26c"
      },
      "source": [
        "# Javobni shuyerga yozing\n",
        "print(f\"{100*df.at['Toshkent viloyati', 'Maydoni']/sum(df.Maydoni)}\")"
      ],
      "execution_count": null,
      "outputs": [
        {
          "output_type": "stream",
          "name": "stdout",
          "text": [
            "3.4623217922606924\n"
          ]
        }
      ]
    },
    {
      "cell_type": "code",
      "metadata": {
        "code_folding": [
          0
        ],
        "scrolled": false,
        "id": "PC9KTxJtbTEi",
        "outputId": "1b30e44b-0ba0-4b97-adff-551225844752"
      },
      "source": [
        "#@title **To'g'ri javob**\n",
        "tosh_area = df.at['Toshkent viloyati','Maydoni']\n",
        "uzb_area = sum(df.Maydoni) # yoki\n",
        "# uzb_area = df.Maydoni.sum()\n",
        "print(f\"Toshkent viloyati maydoni: {tosh_area} kv.km\")\n",
        "print(f\"O'zbekiston Respublikasi maydoni: {uzb_area} kv.km\")\n",
        "print(f\"Toshkent viloyati maydoni O'zbekiston respublikasining {round(tosh_area/uzb_area*100)}% ni tashkil qiladi\")"
      ],
      "execution_count": null,
      "outputs": [
        {
          "name": "stdout",
          "output_type": "stream",
          "text": [
            "Toshkent viloyati maydoni: 15300 kv.km\n",
            "O'zbekiston Respublikasi maydoni: 441900 kv.km\n",
            "Toshkent viloyati maydoni O'zbekiston respublikasining 3% ni tashkil qiladi\n"
          ]
        }
      ]
    },
    {
      "cell_type": "markdown",
      "metadata": {
        "id": "IaAP18C6bTEi"
      },
      "source": [
        "### **20-mashq.**  Yuqoridagi df dan Toshkent viloyati aholisi O'zbekiston Respublikasining necha fozini tashkil qilishini toping"
      ]
    },
    {
      "cell_type": "code",
      "metadata": {
        "id": "dE-3H14CbTEi",
        "colab": {
          "base_uri": "https://localhost:8080/"
        },
        "outputId": "25430621-5748-4c9a-dc21-fae460278a2d"
      },
      "source": [
        "# Javobni shuyerga yozing\n",
        "print(f\"{100*df.at['Toshkent viloyati', 'Aholisi']/sum(df.Aholisi)}\")"
      ],
      "execution_count": null,
      "outputs": [
        {
          "output_type": "stream",
          "name": "stdout",
          "text": [
            "19.39352735576881\n"
          ]
        }
      ]
    },
    {
      "cell_type": "code",
      "metadata": {
        "code_folding": [
          0
        ],
        "scrolled": false,
        "id": "UXnnJ-JBbTEi",
        "outputId": "7530ce4a-b6a6-44dc-936c-df6ed2006ea5"
      },
      "source": [
        "#@title **To'g'ri javob**\n",
        "tosh_area = df.at['Toshkent viloyati','Aholisi']\n",
        "uzb_area = sum(df.Aholisi) # yoki\n",
        "# uzb_area = df.Maydoni.sum()\n",
        "print(f\"Toshkent viloyati aholisi: {tosh_area} kishi\")\n",
        "print(f\"O'zbekiston Respublikasi aholisi: {uzb_area} kishi\")\n",
        "print(f\"Toshkent viloyati aholisi O'zbekiston respublikasining {round(tosh_area/uzb_area*100)}% ni tashkil qiladi\")"
      ],
      "execution_count": null,
      "outputs": [
        {
          "name": "stdout",
          "output_type": "stream",
          "text": [
            "Toshkent viloyati aholisi: 4450000 kishi\n",
            "O'zbekiston Respublikasi aholisi: 22945800 kishi\n",
            "Toshkent viloyati aholisi O'zbekiston respublikasining 19% ni tashkil qiladi\n"
          ]
        }
      ]
    }
  ]
}