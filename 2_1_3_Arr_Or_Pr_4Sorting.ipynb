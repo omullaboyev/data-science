{
  "nbformat": 4,
  "nbformat_minor": 0,
  "metadata": {
    "colab": {
      "name": "2.1.3_Arr_Or_Pr#4Sorting.ipynb",
      "provenance": [],
      "collapsed_sections": [],
      "authorship_tag": "ABX9TyNhe/Tmn7kYaP0GdNBKMtrO",
      "include_colab_link": true
    },
    "kernelspec": {
      "name": "python3",
      "display_name": "Python 3"
    },
    "language_info": {
      "name": "python"
    }
  },
  "cells": [
    {
      "cell_type": "markdown",
      "metadata": {
        "id": "view-in-github",
        "colab_type": "text"
      },
      "source": [
        "<a href=\"https://colab.research.google.com/github/omullaboyev/data-science/blob/main/2_1_3_Arr_Or_Pr_4Sorting.ipynb\" target=\"_parent\"><img src=\"https://colab.research.google.com/assets/colab-badge.svg\" alt=\"Open In Colab\"/></a>"
      ]
    },
    {
      "cell_type": "markdown",
      "metadata": {
        "id": "eRRHsj4ztYdb"
      },
      "source": [
        "#Data Science va Sun'iy Intellekt"
      ]
    },
    {
      "cell_type": "markdown",
      "metadata": {
        "id": "e60K4rVctcbG"
      },
      "source": [
        "№Ma'luimotlar Tahlili"
      ]
    },
    {
      "cell_type": "markdown",
      "metadata": {
        "id": "9Lq8UwBBtiXL"
      },
      "source": [
        "#2.1 Numpy kutubxonasi bilan ishlash"
      ]
    },
    {
      "cell_type": "markdown",
      "metadata": {
        "id": "1HGq3ggPtooz"
      },
      "source": [
        "#Numpy kutubxonasini chaqirib olish"
      ]
    },
    {
      "cell_type": "code",
      "metadata": {
        "id": "WE4Prxw_tMcT"
      },
      "source": [
        "import numpy as np"
      ],
      "execution_count": 1,
      "outputs": []
    },
    {
      "cell_type": "markdown",
      "metadata": {
        "id": "GAK8BtRttyG5"
      },
      "source": [
        "2.1.3 Massivga yo'nal;tirilgan dasturlash"
      ]
    },
    {
      "cell_type": "markdown",
      "metadata": {
        "id": "uLTGTvgpt2Ez"
      },
      "source": [
        "#Tartiblash (`Sorting`)"
      ]
    },
    {
      "cell_type": "code",
      "metadata": {
        "colab": {
          "base_uri": "https://localhost:8080/"
        },
        "id": "W5nNBrdktv-s",
        "outputId": "aeb33a77-242d-4a82-ab18-e282a5753fca"
      },
      "source": [
        "# data\n",
        "arr = np.random.rand(4) # 4 ta tahminiy elementlardan tashkil topgan massiv\n",
        "arr"
      ],
      "execution_count": 2,
      "outputs": [
        {
          "output_type": "execute_result",
          "data": {
            "text/plain": [
              "array([0.79253461, 0.02546188, 0.82653479, 0.27703287])"
            ]
          },
          "metadata": {},
          "execution_count": 2
        }
      ]
    },
    {
      "cell_type": "markdown",
      "metadata": {
        "id": "FC1B-AxnuX-1"
      },
      "source": [
        "#`sort` funksiyasi"
      ]
    },
    {
      "cell_type": "code",
      "metadata": {
        "colab": {
          "base_uri": "https://localhost:8080/"
        },
        "id": "1rTVMqtfuLoE",
        "outputId": "219b3736-a870-4c7c-8335-18e00eac57bb"
      },
      "source": [
        "# 1 usul\n",
        "sorted_arr = np.sort(arr) # arr massivimizning tartiblangan nusxasi\n",
        "sorted_arr"
      ],
      "execution_count": 3,
      "outputs": [
        {
          "output_type": "execute_result",
          "data": {
            "text/plain": [
              "array([0.02546188, 0.27703287, 0.79253461, 0.82653479])"
            ]
          },
          "metadata": {},
          "execution_count": 3
        }
      ]
    },
    {
      "cell_type": "code",
      "metadata": {
        "colab": {
          "base_uri": "https://localhost:8080/"
        },
        "id": "xJV0tbEau2Cu",
        "outputId": "cec12f1b-3655-4f8f-92cc-d5f7021e4d3a"
      },
      "source": [
        "# 2 usul\n",
        "arr.sort() # arr ning tartiblangan ko'rinishi\n",
        "arr"
      ],
      "execution_count": 4,
      "outputs": [
        {
          "output_type": "execute_result",
          "data": {
            "text/plain": [
              "array([0.02546188, 0.27703287, 0.79253461, 0.82653479])"
            ]
          },
          "metadata": {},
          "execution_count": 4
        }
      ]
    },
    {
      "cell_type": "code",
      "metadata": {
        "colab": {
          "base_uri": "https://localhost:8080/"
        },
        "id": "JKKQEem_vJWq",
        "outputId": "53c6d1ce-5442-4f16-87f7-4a03325eab8b"
      },
      "source": [
        "# teskari tartiblash\n",
        "rev_arr = -np.sort(-arr) # teskari tartibdagi arr\n",
        "rev_arr"
      ],
      "execution_count": 5,
      "outputs": [
        {
          "output_type": "execute_result",
          "data": {
            "text/plain": [
              "array([0.82653479, 0.79253461, 0.27703287, 0.02546188])"
            ]
          },
          "metadata": {},
          "execution_count": 5
        }
      ]
    },
    {
      "cell_type": "code",
      "metadata": {
        "colab": {
          "base_uri": "https://localhost:8080/"
        },
        "id": "44J0oC5MvamD",
        "outputId": "7b6f02b2-dff2-46ff-a8fa-42dcde2aa18c"
      },
      "source": [
        "# 2D array\n",
        "arr2d = np.random.randn(2, 4) # (2, 4) random array\n",
        "arr2d"
      ],
      "execution_count": 6,
      "outputs": [
        {
          "output_type": "execute_result",
          "data": {
            "text/plain": [
              "array([[-0.64457122, -0.59643937,  1.52086093, -0.10797423],\n",
              "       [-0.35192348, -0.74863215,  0.26421455, -2.14518994]])"
            ]
          },
          "metadata": {},
          "execution_count": 6
        }
      ]
    },
    {
      "cell_type": "code",
      "metadata": {
        "colab": {
          "base_uri": "https://localhost:8080/"
        },
        "id": "XwvFCK-mvopx",
        "outputId": "79ce6e2e-71ba-4ebe-8fea-33ffd71d54d2"
      },
      "source": [
        "arr2d.shape"
      ],
      "execution_count": 7,
      "outputs": [
        {
          "output_type": "execute_result",
          "data": {
            "text/plain": [
              "(2, 4)"
            ]
          },
          "metadata": {},
          "execution_count": 7
        }
      ]
    },
    {
      "cell_type": "code",
      "metadata": {
        "colab": {
          "base_uri": "https://localhost:8080/"
        },
        "id": "yqFJfSoTvq4D",
        "outputId": "b2e970a8-fbd4-4fe8-bde7-fb3c04a2c65b"
      },
      "source": [
        "# axis = 0 --> Qator\n",
        "row_srt = np.sort(arr2d, 0) # arr2d ning har bir qator bo'yicha tartiblangan ko'rinishi\n",
        "row_srt"
      ],
      "execution_count": 8,
      "outputs": [
        {
          "output_type": "execute_result",
          "data": {
            "text/plain": [
              "array([[-0.64457122, -0.74863215,  0.26421455, -2.14518994],\n",
              "       [-0.35192348, -0.59643937,  1.52086093, -0.10797423]])"
            ]
          },
          "metadata": {},
          "execution_count": 8
        }
      ]
    },
    {
      "cell_type": "code",
      "metadata": {
        "colab": {
          "base_uri": "https://localhost:8080/"
        },
        "id": "kP10Z4AbwEey",
        "outputId": "f04dead7-90b0-41d1-a6f0-415185f48ebc"
      },
      "source": [
        "# axis = 1 --> ustun\n",
        "col_str = np.sort(arr2d, 1) # arr2d ning har bir ustun bo'yicha tartiblangan ko'rinishi\n",
        "col_str"
      ],
      "execution_count": 10,
      "outputs": [
        {
          "output_type": "execute_result",
          "data": {
            "text/plain": [
              "array([[-0.64457122, -0.59643937, -0.10797423,  1.52086093],\n",
              "       [-2.14518994, -0.74863215, -0.35192348,  0.26421455]])"
            ]
          },
          "metadata": {},
          "execution_count": 10
        }
      ]
    },
    {
      "cell_type": "code",
      "metadata": {
        "id": "fiUqmzTiwTA7"
      },
      "source": [
        ""
      ],
      "execution_count": null,
      "outputs": []
    }
  ]
}