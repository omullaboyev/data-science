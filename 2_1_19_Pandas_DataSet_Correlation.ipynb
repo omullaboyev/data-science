{
  "nbformat": 4,
  "nbformat_minor": 0,
  "metadata": {
    "colab": {
      "name": "2.1.19.Pandas_DataSet_Correlation.ipynb",
      "provenance": [],
      "collapsed_sections": [],
      "include_colab_link": true
    },
    "kernelspec": {
      "name": "python3",
      "display_name": "Python 3"
    },
    "language_info": {
      "name": "python"
    }
  },
  "cells": [
    {
      "cell_type": "markdown",
      "metadata": {
        "id": "view-in-github",
        "colab_type": "text"
      },
      "source": [
        "<a href=\"https://colab.research.google.com/github/omullaboyev/data-science/blob/main/2_1_19_Pandas_DataSet_Correlation.ipynb\" target=\"_parent\"><img src=\"https://colab.research.google.com/assets/colab-badge.svg\" alt=\"Open In Colab\"/></a>"
      ]
    },
    {
      "cell_type": "markdown",
      "metadata": {
        "id": "RMzxxRKx-Bg3"
      },
      "source": [
        "#Data Science va Sun'iy Intellekt Praktikum"
      ]
    },
    {
      "cell_type": "markdown",
      "metadata": {
        "id": "tfoOs_Sd-EPH"
      },
      "source": [
        "Ma'lumotlar Tahlili. Pandas kutubxonasi"
      ]
    },
    {
      "cell_type": "markdown",
      "metadata": {
        "id": "SwzvMsZs-Gge"
      },
      "source": [
        "2.1 Pandas kutubxonasi bilan ishlash."
      ]
    },
    {
      "cell_type": "markdown",
      "metadata": {
        "id": "VRAw03LH-I1j"
      },
      "source": [
        "2.1.19 Dataset statistikasi: Korrelyasiya."
      ]
    },
    {
      "cell_type": "code",
      "metadata": {
        "id": "LLMv9VOL99R1"
      },
      "source": [
        "import pandas as pd\n",
        "import numpy as np"
      ],
      "execution_count": 1,
      "outputs": []
    },
    {
      "cell_type": "code",
      "metadata": {
        "id": "ZKjTI7iK-LOL",
        "colab": {
          "base_uri": "https://localhost:8080/",
          "height": 424
        },
        "outputId": "c27358ff-6e2e-4c32-a654-478b36ce17fa"
      },
      "source": [
        "df = pd.read_csv(\"https://raw.githubusercontent.com/anvarnarz/praktikum_datasets/main/merc.csv\")\n",
        "df"
      ],
      "execution_count": 8,
      "outputs": [
        {
          "output_type": "execute_result",
          "data": {
            "text/html": [
              "\n",
              "  <div id=\"df-ec2869b1-cacd-4327-bb09-94f12fddd83e\">\n",
              "    <div class=\"colab-df-container\">\n",
              "      <div>\n",
              "<style scoped>\n",
              "    .dataframe tbody tr th:only-of-type {\n",
              "        vertical-align: middle;\n",
              "    }\n",
              "\n",
              "    .dataframe tbody tr th {\n",
              "        vertical-align: top;\n",
              "    }\n",
              "\n",
              "    .dataframe thead th {\n",
              "        text-align: right;\n",
              "    }\n",
              "</style>\n",
              "<table border=\"1\" class=\"dataframe\">\n",
              "  <thead>\n",
              "    <tr style=\"text-align: right;\">\n",
              "      <th></th>\n",
              "      <th>model</th>\n",
              "      <th>year</th>\n",
              "      <th>price</th>\n",
              "      <th>transmission</th>\n",
              "      <th>mileage</th>\n",
              "      <th>fuelType</th>\n",
              "      <th>tax</th>\n",
              "      <th>mpg</th>\n",
              "      <th>engineSize</th>\n",
              "    </tr>\n",
              "  </thead>\n",
              "  <tbody>\n",
              "    <tr>\n",
              "      <th>0</th>\n",
              "      <td>SLK</td>\n",
              "      <td>2005</td>\n",
              "      <td>5200</td>\n",
              "      <td>Automatic</td>\n",
              "      <td>63000</td>\n",
              "      <td>Petrol</td>\n",
              "      <td>325</td>\n",
              "      <td>32.1</td>\n",
              "      <td>1.8</td>\n",
              "    </tr>\n",
              "    <tr>\n",
              "      <th>1</th>\n",
              "      <td>S Class</td>\n",
              "      <td>2017</td>\n",
              "      <td>34948</td>\n",
              "      <td>Automatic</td>\n",
              "      <td>27000</td>\n",
              "      <td>Hybrid</td>\n",
              "      <td>20</td>\n",
              "      <td>61.4</td>\n",
              "      <td>2.1</td>\n",
              "    </tr>\n",
              "    <tr>\n",
              "      <th>2</th>\n",
              "      <td>SL CLASS</td>\n",
              "      <td>2016</td>\n",
              "      <td>49948</td>\n",
              "      <td>Automatic</td>\n",
              "      <td>6200</td>\n",
              "      <td>Petrol</td>\n",
              "      <td>555</td>\n",
              "      <td>28.0</td>\n",
              "      <td>5.5</td>\n",
              "    </tr>\n",
              "    <tr>\n",
              "      <th>3</th>\n",
              "      <td>G Class</td>\n",
              "      <td>2016</td>\n",
              "      <td>61948</td>\n",
              "      <td>Automatic</td>\n",
              "      <td>16000</td>\n",
              "      <td>Petrol</td>\n",
              "      <td>325</td>\n",
              "      <td>30.4</td>\n",
              "      <td>4.0</td>\n",
              "    </tr>\n",
              "    <tr>\n",
              "      <th>4</th>\n",
              "      <td>G Class</td>\n",
              "      <td>2016</td>\n",
              "      <td>73948</td>\n",
              "      <td>Automatic</td>\n",
              "      <td>4000</td>\n",
              "      <td>Petrol</td>\n",
              "      <td>325</td>\n",
              "      <td>30.1</td>\n",
              "      <td>4.0</td>\n",
              "    </tr>\n",
              "    <tr>\n",
              "      <th>...</th>\n",
              "      <td>...</td>\n",
              "      <td>...</td>\n",
              "      <td>...</td>\n",
              "      <td>...</td>\n",
              "      <td>...</td>\n",
              "      <td>...</td>\n",
              "      <td>...</td>\n",
              "      <td>...</td>\n",
              "      <td>...</td>\n",
              "    </tr>\n",
              "    <tr>\n",
              "      <th>13114</th>\n",
              "      <td>C Class</td>\n",
              "      <td>2020</td>\n",
              "      <td>35999</td>\n",
              "      <td>Automatic</td>\n",
              "      <td>500</td>\n",
              "      <td>Diesel</td>\n",
              "      <td>145</td>\n",
              "      <td>55.4</td>\n",
              "      <td>2.0</td>\n",
              "    </tr>\n",
              "    <tr>\n",
              "      <th>13115</th>\n",
              "      <td>B Class</td>\n",
              "      <td>2020</td>\n",
              "      <td>24699</td>\n",
              "      <td>Automatic</td>\n",
              "      <td>2500</td>\n",
              "      <td>Diesel</td>\n",
              "      <td>145</td>\n",
              "      <td>55.4</td>\n",
              "      <td>2.0</td>\n",
              "    </tr>\n",
              "    <tr>\n",
              "      <th>13116</th>\n",
              "      <td>GLC Class</td>\n",
              "      <td>2019</td>\n",
              "      <td>30999</td>\n",
              "      <td>Automatic</td>\n",
              "      <td>11612</td>\n",
              "      <td>Diesel</td>\n",
              "      <td>145</td>\n",
              "      <td>41.5</td>\n",
              "      <td>2.1</td>\n",
              "    </tr>\n",
              "    <tr>\n",
              "      <th>13117</th>\n",
              "      <td>CLS Class</td>\n",
              "      <td>2019</td>\n",
              "      <td>37990</td>\n",
              "      <td>Automatic</td>\n",
              "      <td>2426</td>\n",
              "      <td>Diesel</td>\n",
              "      <td>145</td>\n",
              "      <td>45.6</td>\n",
              "      <td>2.0</td>\n",
              "    </tr>\n",
              "    <tr>\n",
              "      <th>13118</th>\n",
              "      <td>S Class</td>\n",
              "      <td>2019</td>\n",
              "      <td>54999</td>\n",
              "      <td>Automatic</td>\n",
              "      <td>2075</td>\n",
              "      <td>Diesel</td>\n",
              "      <td>145</td>\n",
              "      <td>52.3</td>\n",
              "      <td>2.9</td>\n",
              "    </tr>\n",
              "  </tbody>\n",
              "</table>\n",
              "<p>13119 rows × 9 columns</p>\n",
              "</div>\n",
              "      <button class=\"colab-df-convert\" onclick=\"convertToInteractive('df-ec2869b1-cacd-4327-bb09-94f12fddd83e')\"\n",
              "              title=\"Convert this dataframe to an interactive table.\"\n",
              "              style=\"display:none;\">\n",
              "        \n",
              "  <svg xmlns=\"http://www.w3.org/2000/svg\" height=\"24px\"viewBox=\"0 0 24 24\"\n",
              "       width=\"24px\">\n",
              "    <path d=\"M0 0h24v24H0V0z\" fill=\"none\"/>\n",
              "    <path d=\"M18.56 5.44l.94 2.06.94-2.06 2.06-.94-2.06-.94-.94-2.06-.94 2.06-2.06.94zm-11 1L8.5 8.5l.94-2.06 2.06-.94-2.06-.94L8.5 2.5l-.94 2.06-2.06.94zm10 10l.94 2.06.94-2.06 2.06-.94-2.06-.94-.94-2.06-.94 2.06-2.06.94z\"/><path d=\"M17.41 7.96l-1.37-1.37c-.4-.4-.92-.59-1.43-.59-.52 0-1.04.2-1.43.59L10.3 9.45l-7.72 7.72c-.78.78-.78 2.05 0 2.83L4 21.41c.39.39.9.59 1.41.59.51 0 1.02-.2 1.41-.59l7.78-7.78 2.81-2.81c.8-.78.8-2.07 0-2.86zM5.41 20L4 18.59l7.72-7.72 1.47 1.35L5.41 20z\"/>\n",
              "  </svg>\n",
              "      </button>\n",
              "      \n",
              "  <style>\n",
              "    .colab-df-container {\n",
              "      display:flex;\n",
              "      flex-wrap:wrap;\n",
              "      gap: 12px;\n",
              "    }\n",
              "\n",
              "    .colab-df-convert {\n",
              "      background-color: #E8F0FE;\n",
              "      border: none;\n",
              "      border-radius: 50%;\n",
              "      cursor: pointer;\n",
              "      display: none;\n",
              "      fill: #1967D2;\n",
              "      height: 32px;\n",
              "      padding: 0 0 0 0;\n",
              "      width: 32px;\n",
              "    }\n",
              "\n",
              "    .colab-df-convert:hover {\n",
              "      background-color: #E2EBFA;\n",
              "      box-shadow: 0px 1px 2px rgba(60, 64, 67, 0.3), 0px 1px 3px 1px rgba(60, 64, 67, 0.15);\n",
              "      fill: #174EA6;\n",
              "    }\n",
              "\n",
              "    [theme=dark] .colab-df-convert {\n",
              "      background-color: #3B4455;\n",
              "      fill: #D2E3FC;\n",
              "    }\n",
              "\n",
              "    [theme=dark] .colab-df-convert:hover {\n",
              "      background-color: #434B5C;\n",
              "      box-shadow: 0px 1px 3px 1px rgba(0, 0, 0, 0.15);\n",
              "      filter: drop-shadow(0px 1px 2px rgba(0, 0, 0, 0.3));\n",
              "      fill: #FFFFFF;\n",
              "    }\n",
              "  </style>\n",
              "\n",
              "      <script>\n",
              "        const buttonEl =\n",
              "          document.querySelector('#df-ec2869b1-cacd-4327-bb09-94f12fddd83e button.colab-df-convert');\n",
              "        buttonEl.style.display =\n",
              "          google.colab.kernel.accessAllowed ? 'block' : 'none';\n",
              "\n",
              "        async function convertToInteractive(key) {\n",
              "          const element = document.querySelector('#df-ec2869b1-cacd-4327-bb09-94f12fddd83e');\n",
              "          const dataTable =\n",
              "            await google.colab.kernel.invokeFunction('convertToInteractive',\n",
              "                                                     [key], {});\n",
              "          if (!dataTable) return;\n",
              "\n",
              "          const docLinkHtml = 'Like what you see? Visit the ' +\n",
              "            '<a target=\"_blank\" href=https://colab.research.google.com/notebooks/data_table.ipynb>data table notebook</a>'\n",
              "            + ' to learn more about interactive tables.';\n",
              "          element.innerHTML = '';\n",
              "          dataTable['output_type'] = 'display_data';\n",
              "          await google.colab.output.renderOutput(dataTable, element);\n",
              "          const docLink = document.createElement('div');\n",
              "          docLink.innerHTML = docLinkHtml;\n",
              "          element.appendChild(docLink);\n",
              "        }\n",
              "      </script>\n",
              "    </div>\n",
              "  </div>\n",
              "  "
            ],
            "text/plain": [
              "            model  year  price transmission  ...  fuelType  tax   mpg  engineSize\n",
              "0             SLK  2005   5200    Automatic  ...    Petrol  325  32.1         1.8\n",
              "1         S Class  2017  34948    Automatic  ...    Hybrid   20  61.4         2.1\n",
              "2        SL CLASS  2016  49948    Automatic  ...    Petrol  555  28.0         5.5\n",
              "3         G Class  2016  61948    Automatic  ...    Petrol  325  30.4         4.0\n",
              "4         G Class  2016  73948    Automatic  ...    Petrol  325  30.1         4.0\n",
              "...           ...   ...    ...          ...  ...       ...  ...   ...         ...\n",
              "13114     C Class  2020  35999    Automatic  ...    Diesel  145  55.4         2.0\n",
              "13115     B Class  2020  24699    Automatic  ...    Diesel  145  55.4         2.0\n",
              "13116   GLC Class  2019  30999    Automatic  ...    Diesel  145  41.5         2.1\n",
              "13117   CLS Class  2019  37990    Automatic  ...    Diesel  145  45.6         2.0\n",
              "13118     S Class  2019  54999    Automatic  ...    Diesel  145  52.3         2.9\n",
              "\n",
              "[13119 rows x 9 columns]"
            ]
          },
          "metadata": {},
          "execution_count": 8
        }
      ]
    },
    {
      "cell_type": "markdown",
      "source": [
        "#**`Korrelyatsiya` - ikkita ma'lumot orasidagi o'xshashlik (bog'liqlik)ni tekshirish uchun ishlatiladi.**"
      ],
      "metadata": {
        "id": "cqbXc4BH5YFV"
      }
    },
    {
      "cell_type": "markdown",
      "source": [
        "Korrelyatsiya -1 va 1 orasida bo'ladi.\n",
        "- -1: 100 % lik manfiy (biri ortsa ikkinchisi kamayadi)\n",
        "- 0: korrelyatsiya yo'q\n",
        "- 1: 100 foizlik musbat (biri ortsa ikkinchisiyam ortadi)"
      ],
      "metadata": {
        "id": "W8uT9l4N9Yvk"
      }
    },
    {
      "cell_type": "code",
      "source": [
        "data = {\n",
        "    \"age\": [10, 20, 30, 40, 50, 60],\n",
        "    \"year\": [2010, 2000, 1990, 1980, 1970, 1960]\n",
        "}\n",
        "\n",
        "obj = pd.DataFrame(data)\n",
        "obj"
      ],
      "metadata": {
        "colab": {
          "base_uri": "https://localhost:8080/",
          "height": 238
        },
        "id": "1XS076FE5HaR",
        "outputId": "2a849f11-93aa-4eea-d996-998a9c73d76c"
      },
      "execution_count": 5,
      "outputs": [
        {
          "output_type": "execute_result",
          "data": {
            "text/html": [
              "\n",
              "  <div id=\"df-02ff7509-6219-48e2-8a6a-3f53666980e0\">\n",
              "    <div class=\"colab-df-container\">\n",
              "      <div>\n",
              "<style scoped>\n",
              "    .dataframe tbody tr th:only-of-type {\n",
              "        vertical-align: middle;\n",
              "    }\n",
              "\n",
              "    .dataframe tbody tr th {\n",
              "        vertical-align: top;\n",
              "    }\n",
              "\n",
              "    .dataframe thead th {\n",
              "        text-align: right;\n",
              "    }\n",
              "</style>\n",
              "<table border=\"1\" class=\"dataframe\">\n",
              "  <thead>\n",
              "    <tr style=\"text-align: right;\">\n",
              "      <th></th>\n",
              "      <th>age</th>\n",
              "      <th>year</th>\n",
              "    </tr>\n",
              "  </thead>\n",
              "  <tbody>\n",
              "    <tr>\n",
              "      <th>0</th>\n",
              "      <td>10</td>\n",
              "      <td>2010</td>\n",
              "    </tr>\n",
              "    <tr>\n",
              "      <th>1</th>\n",
              "      <td>20</td>\n",
              "      <td>2000</td>\n",
              "    </tr>\n",
              "    <tr>\n",
              "      <th>2</th>\n",
              "      <td>30</td>\n",
              "      <td>1990</td>\n",
              "    </tr>\n",
              "    <tr>\n",
              "      <th>3</th>\n",
              "      <td>40</td>\n",
              "      <td>1980</td>\n",
              "    </tr>\n",
              "    <tr>\n",
              "      <th>4</th>\n",
              "      <td>50</td>\n",
              "      <td>1970</td>\n",
              "    </tr>\n",
              "    <tr>\n",
              "      <th>5</th>\n",
              "      <td>60</td>\n",
              "      <td>1960</td>\n",
              "    </tr>\n",
              "  </tbody>\n",
              "</table>\n",
              "</div>\n",
              "      <button class=\"colab-df-convert\" onclick=\"convertToInteractive('df-02ff7509-6219-48e2-8a6a-3f53666980e0')\"\n",
              "              title=\"Convert this dataframe to an interactive table.\"\n",
              "              style=\"display:none;\">\n",
              "        \n",
              "  <svg xmlns=\"http://www.w3.org/2000/svg\" height=\"24px\"viewBox=\"0 0 24 24\"\n",
              "       width=\"24px\">\n",
              "    <path d=\"M0 0h24v24H0V0z\" fill=\"none\"/>\n",
              "    <path d=\"M18.56 5.44l.94 2.06.94-2.06 2.06-.94-2.06-.94-.94-2.06-.94 2.06-2.06.94zm-11 1L8.5 8.5l.94-2.06 2.06-.94-2.06-.94L8.5 2.5l-.94 2.06-2.06.94zm10 10l.94 2.06.94-2.06 2.06-.94-2.06-.94-.94-2.06-.94 2.06-2.06.94z\"/><path d=\"M17.41 7.96l-1.37-1.37c-.4-.4-.92-.59-1.43-.59-.52 0-1.04.2-1.43.59L10.3 9.45l-7.72 7.72c-.78.78-.78 2.05 0 2.83L4 21.41c.39.39.9.59 1.41.59.51 0 1.02-.2 1.41-.59l7.78-7.78 2.81-2.81c.8-.78.8-2.07 0-2.86zM5.41 20L4 18.59l7.72-7.72 1.47 1.35L5.41 20z\"/>\n",
              "  </svg>\n",
              "      </button>\n",
              "      \n",
              "  <style>\n",
              "    .colab-df-container {\n",
              "      display:flex;\n",
              "      flex-wrap:wrap;\n",
              "      gap: 12px;\n",
              "    }\n",
              "\n",
              "    .colab-df-convert {\n",
              "      background-color: #E8F0FE;\n",
              "      border: none;\n",
              "      border-radius: 50%;\n",
              "      cursor: pointer;\n",
              "      display: none;\n",
              "      fill: #1967D2;\n",
              "      height: 32px;\n",
              "      padding: 0 0 0 0;\n",
              "      width: 32px;\n",
              "    }\n",
              "\n",
              "    .colab-df-convert:hover {\n",
              "      background-color: #E2EBFA;\n",
              "      box-shadow: 0px 1px 2px rgba(60, 64, 67, 0.3), 0px 1px 3px 1px rgba(60, 64, 67, 0.15);\n",
              "      fill: #174EA6;\n",
              "    }\n",
              "\n",
              "    [theme=dark] .colab-df-convert {\n",
              "      background-color: #3B4455;\n",
              "      fill: #D2E3FC;\n",
              "    }\n",
              "\n",
              "    [theme=dark] .colab-df-convert:hover {\n",
              "      background-color: #434B5C;\n",
              "      box-shadow: 0px 1px 3px 1px rgba(0, 0, 0, 0.15);\n",
              "      filter: drop-shadow(0px 1px 2px rgba(0, 0, 0, 0.3));\n",
              "      fill: #FFFFFF;\n",
              "    }\n",
              "  </style>\n",
              "\n",
              "      <script>\n",
              "        const buttonEl =\n",
              "          document.querySelector('#df-02ff7509-6219-48e2-8a6a-3f53666980e0 button.colab-df-convert');\n",
              "        buttonEl.style.display =\n",
              "          google.colab.kernel.accessAllowed ? 'block' : 'none';\n",
              "\n",
              "        async function convertToInteractive(key) {\n",
              "          const element = document.querySelector('#df-02ff7509-6219-48e2-8a6a-3f53666980e0');\n",
              "          const dataTable =\n",
              "            await google.colab.kernel.invokeFunction('convertToInteractive',\n",
              "                                                     [key], {});\n",
              "          if (!dataTable) return;\n",
              "\n",
              "          const docLinkHtml = 'Like what you see? Visit the ' +\n",
              "            '<a target=\"_blank\" href=https://colab.research.google.com/notebooks/data_table.ipynb>data table notebook</a>'\n",
              "            + ' to learn more about interactive tables.';\n",
              "          element.innerHTML = '';\n",
              "          dataTable['output_type'] = 'display_data';\n",
              "          await google.colab.output.renderOutput(dataTable, element);\n",
              "          const docLink = document.createElement('div');\n",
              "          docLink.innerHTML = docLinkHtml;\n",
              "          element.appendChild(docLink);\n",
              "        }\n",
              "      </script>\n",
              "    </div>\n",
              "  </div>\n",
              "  "
            ],
            "text/plain": [
              "   age  year\n",
              "0   10  2010\n",
              "1   20  2000\n",
              "2   30  1990\n",
              "3   40  1980\n",
              "4   50  1970\n",
              "5   60  1960"
            ]
          },
          "metadata": {},
          "execution_count": 5
        }
      ]
    },
    {
      "cell_type": "code",
      "source": [
        "obj[\"age\"].corr(obj[\"year\"]) # Korrelyatsiyani tekshirish"
      ],
      "metadata": {
        "colab": {
          "base_uri": "https://localhost:8080/"
        },
        "id": "HxiIa5LS5vNx",
        "outputId": "c8b649a7-29f0-48e8-b424-0ddc91e28403"
      },
      "execution_count": 6,
      "outputs": [
        {
          "output_type": "execute_result",
          "data": {
            "text/plain": [
              "-0.9999999999999998"
            ]
          },
          "metadata": {},
          "execution_count": 6
        }
      ]
    },
    {
      "cell_type": "markdown",
      "source": [
        "`-0.99999998` - Bu degani `yosh` va `yil` ustunlari orasidagi bo'g'liqlik deyarli 100% degani. \"-\" Manfiy bog'liqlik.\n",
        "- `Manfiy bog'liqlik` - bittasi ortsa ikkinchisi kamayadi degani.\n",
        "- `Musbat bog'liqlik` - bittasi ortsa ikkinchisi ham ortadi, kamaysa kamayadi degani."
      ],
      "metadata": {
        "id": "L7dYG0Rv6WUr"
      }
    },
    {
      "cell_type": "markdown",
      "source": [
        "# Mashinaning ishlab chiqilgan yili (year) va bosib o'tgan yo'li (milage) orasida bog'liqlik bor."
      ],
      "metadata": {
        "id": "eORLy8sl6zOY"
      }
    },
    {
      "cell_type": "code",
      "source": [
        "df[\"year\"].corr(df[\"mileage\"]) # year va mileage orasidagi bog'liqlik"
      ],
      "metadata": {
        "colab": {
          "base_uri": "https://localhost:8080/"
        },
        "id": "ZaZcy1rx6PXw",
        "outputId": "d4d1c963-124c-48a9-a571-50e7a4e96bd4"
      },
      "execution_count": 10,
      "outputs": [
        {
          "output_type": "execute_result",
          "data": {
            "text/plain": [
              "-0.7380268515364232"
            ]
          },
          "metadata": {},
          "execution_count": 10
        }
      ]
    },
    {
      "cell_type": "markdown",
      "source": [
        "Year va mileage orasida ham manfiy korrelyatsiya bor va u -0.73"
      ],
      "metadata": {
        "id": "7CLpl6B87nsQ"
      }
    },
    {
      "cell_type": "code",
      "source": [
        "df[\"price\"].corr(df[\"mileage\"]) # price va mileage orasidagi bog'liqlik"
      ],
      "metadata": {
        "colab": {
          "base_uri": "https://localhost:8080/"
        },
        "id": "dVQz-yTe7Yan",
        "outputId": "05d8cbae-974a-44c9-98ca-5b1762ac9bda"
      },
      "execution_count": 11,
      "outputs": [
        {
          "output_type": "execute_result",
          "data": {
            "text/plain": [
              "-0.537214124104646"
            ]
          },
          "metadata": {},
          "execution_count": 11
        }
      ]
    },
    {
      "cell_type": "markdown",
      "source": [
        "-0.53  demak narhi oshgan sari kilometraji kamayadi yoki kilometraj oshgan sari narxi tushadi."
      ],
      "metadata": {
        "id": "CPhwGA6t8PE2"
      }
    },
    {
      "cell_type": "code",
      "source": [
        "df[\"price\"].corr(df[\"engineSize\"]) # price va engineSize orasidagi bog'liqlik"
      ],
      "metadata": {
        "colab": {
          "base_uri": "https://localhost:8080/"
        },
        "id": "Aqe8KM2b8G4R",
        "outputId": "785d9c9b-8646-40fb-8b1b-360565b6ea97"
      },
      "execution_count": 12,
      "outputs": [
        {
          "output_type": "execute_result",
          "data": {
            "text/plain": [
              "0.5161257786169436"
            ]
          },
          "metadata": {},
          "execution_count": 12
        }
      ]
    },
    {
      "cell_type": "markdown",
      "source": [
        "0.51 - Musbat bo'g'liqlik. Narhi oshgan sari motor hajmi hamn ortadi, yoki aksincha, motor hajmi ortgan sari narhi ham ortadi."
      ],
      "metadata": {
        "id": "I6R3Ty6U8iQQ"
      }
    },
    {
      "cell_type": "markdown",
      "source": [
        "#`corr` - Barcha ustunlarni bir biri bilan solishtirish"
      ],
      "metadata": {
        "id": "ZJLZ7LeV8zjn"
      }
    },
    {
      "cell_type": "code",
      "source": [
        "df.corr() # df ning barcha ustunlarini bir-biri bilan solishtiradi."
      ],
      "metadata": {
        "colab": {
          "base_uri": "https://localhost:8080/",
          "height": 238
        },
        "id": "tV983G7Y8gdZ",
        "outputId": "370d4bdd-e8c1-44e6-b855-f585dbad0ab4"
      },
      "execution_count": 13,
      "outputs": [
        {
          "output_type": "execute_result",
          "data": {
            "text/html": [
              "\n",
              "  <div id=\"df-317d8c59-fd7f-486c-a284-bd86d516695c\">\n",
              "    <div class=\"colab-df-container\">\n",
              "      <div>\n",
              "<style scoped>\n",
              "    .dataframe tbody tr th:only-of-type {\n",
              "        vertical-align: middle;\n",
              "    }\n",
              "\n",
              "    .dataframe tbody tr th {\n",
              "        vertical-align: top;\n",
              "    }\n",
              "\n",
              "    .dataframe thead th {\n",
              "        text-align: right;\n",
              "    }\n",
              "</style>\n",
              "<table border=\"1\" class=\"dataframe\">\n",
              "  <thead>\n",
              "    <tr style=\"text-align: right;\">\n",
              "      <th></th>\n",
              "      <th>year</th>\n",
              "      <th>price</th>\n",
              "      <th>mileage</th>\n",
              "      <th>tax</th>\n",
              "      <th>mpg</th>\n",
              "      <th>engineSize</th>\n",
              "    </tr>\n",
              "  </thead>\n",
              "  <tbody>\n",
              "    <tr>\n",
              "      <th>year</th>\n",
              "      <td>1.000000</td>\n",
              "      <td>0.520712</td>\n",
              "      <td>-0.738027</td>\n",
              "      <td>0.012480</td>\n",
              "      <td>-0.094626</td>\n",
              "      <td>-0.142147</td>\n",
              "    </tr>\n",
              "    <tr>\n",
              "      <th>price</th>\n",
              "      <td>0.520712</td>\n",
              "      <td>1.000000</td>\n",
              "      <td>-0.537214</td>\n",
              "      <td>0.268717</td>\n",
              "      <td>-0.438445</td>\n",
              "      <td>0.516126</td>\n",
              "    </tr>\n",
              "    <tr>\n",
              "      <th>mileage</th>\n",
              "      <td>-0.738027</td>\n",
              "      <td>-0.537214</td>\n",
              "      <td>1.000000</td>\n",
              "      <td>-0.160223</td>\n",
              "      <td>0.202850</td>\n",
              "      <td>0.063652</td>\n",
              "    </tr>\n",
              "    <tr>\n",
              "      <th>tax</th>\n",
              "      <td>0.012480</td>\n",
              "      <td>0.268717</td>\n",
              "      <td>-0.160223</td>\n",
              "      <td>1.000000</td>\n",
              "      <td>-0.513742</td>\n",
              "      <td>0.338341</td>\n",
              "    </tr>\n",
              "    <tr>\n",
              "      <th>mpg</th>\n",
              "      <td>-0.094626</td>\n",
              "      <td>-0.438445</td>\n",
              "      <td>0.202850</td>\n",
              "      <td>-0.513742</td>\n",
              "      <td>1.000000</td>\n",
              "      <td>-0.339862</td>\n",
              "    </tr>\n",
              "    <tr>\n",
              "      <th>engineSize</th>\n",
              "      <td>-0.142147</td>\n",
              "      <td>0.516126</td>\n",
              "      <td>0.063652</td>\n",
              "      <td>0.338341</td>\n",
              "      <td>-0.339862</td>\n",
              "      <td>1.000000</td>\n",
              "    </tr>\n",
              "  </tbody>\n",
              "</table>\n",
              "</div>\n",
              "      <button class=\"colab-df-convert\" onclick=\"convertToInteractive('df-317d8c59-fd7f-486c-a284-bd86d516695c')\"\n",
              "              title=\"Convert this dataframe to an interactive table.\"\n",
              "              style=\"display:none;\">\n",
              "        \n",
              "  <svg xmlns=\"http://www.w3.org/2000/svg\" height=\"24px\"viewBox=\"0 0 24 24\"\n",
              "       width=\"24px\">\n",
              "    <path d=\"M0 0h24v24H0V0z\" fill=\"none\"/>\n",
              "    <path d=\"M18.56 5.44l.94 2.06.94-2.06 2.06-.94-2.06-.94-.94-2.06-.94 2.06-2.06.94zm-11 1L8.5 8.5l.94-2.06 2.06-.94-2.06-.94L8.5 2.5l-.94 2.06-2.06.94zm10 10l.94 2.06.94-2.06 2.06-.94-2.06-.94-.94-2.06-.94 2.06-2.06.94z\"/><path d=\"M17.41 7.96l-1.37-1.37c-.4-.4-.92-.59-1.43-.59-.52 0-1.04.2-1.43.59L10.3 9.45l-7.72 7.72c-.78.78-.78 2.05 0 2.83L4 21.41c.39.39.9.59 1.41.59.51 0 1.02-.2 1.41-.59l7.78-7.78 2.81-2.81c.8-.78.8-2.07 0-2.86zM5.41 20L4 18.59l7.72-7.72 1.47 1.35L5.41 20z\"/>\n",
              "  </svg>\n",
              "      </button>\n",
              "      \n",
              "  <style>\n",
              "    .colab-df-container {\n",
              "      display:flex;\n",
              "      flex-wrap:wrap;\n",
              "      gap: 12px;\n",
              "    }\n",
              "\n",
              "    .colab-df-convert {\n",
              "      background-color: #E8F0FE;\n",
              "      border: none;\n",
              "      border-radius: 50%;\n",
              "      cursor: pointer;\n",
              "      display: none;\n",
              "      fill: #1967D2;\n",
              "      height: 32px;\n",
              "      padding: 0 0 0 0;\n",
              "      width: 32px;\n",
              "    }\n",
              "\n",
              "    .colab-df-convert:hover {\n",
              "      background-color: #E2EBFA;\n",
              "      box-shadow: 0px 1px 2px rgba(60, 64, 67, 0.3), 0px 1px 3px 1px rgba(60, 64, 67, 0.15);\n",
              "      fill: #174EA6;\n",
              "    }\n",
              "\n",
              "    [theme=dark] .colab-df-convert {\n",
              "      background-color: #3B4455;\n",
              "      fill: #D2E3FC;\n",
              "    }\n",
              "\n",
              "    [theme=dark] .colab-df-convert:hover {\n",
              "      background-color: #434B5C;\n",
              "      box-shadow: 0px 1px 3px 1px rgba(0, 0, 0, 0.15);\n",
              "      filter: drop-shadow(0px 1px 2px rgba(0, 0, 0, 0.3));\n",
              "      fill: #FFFFFF;\n",
              "    }\n",
              "  </style>\n",
              "\n",
              "      <script>\n",
              "        const buttonEl =\n",
              "          document.querySelector('#df-317d8c59-fd7f-486c-a284-bd86d516695c button.colab-df-convert');\n",
              "        buttonEl.style.display =\n",
              "          google.colab.kernel.accessAllowed ? 'block' : 'none';\n",
              "\n",
              "        async function convertToInteractive(key) {\n",
              "          const element = document.querySelector('#df-317d8c59-fd7f-486c-a284-bd86d516695c');\n",
              "          const dataTable =\n",
              "            await google.colab.kernel.invokeFunction('convertToInteractive',\n",
              "                                                     [key], {});\n",
              "          if (!dataTable) return;\n",
              "\n",
              "          const docLinkHtml = 'Like what you see? Visit the ' +\n",
              "            '<a target=\"_blank\" href=https://colab.research.google.com/notebooks/data_table.ipynb>data table notebook</a>'\n",
              "            + ' to learn more about interactive tables.';\n",
              "          element.innerHTML = '';\n",
              "          dataTable['output_type'] = 'display_data';\n",
              "          await google.colab.output.renderOutput(dataTable, element);\n",
              "          const docLink = document.createElement('div');\n",
              "          docLink.innerHTML = docLinkHtml;\n",
              "          element.appendChild(docLink);\n",
              "        }\n",
              "      </script>\n",
              "    </div>\n",
              "  </div>\n",
              "  "
            ],
            "text/plain": [
              "                year     price   mileage       tax       mpg  engineSize\n",
              "year        1.000000  0.520712 -0.738027  0.012480 -0.094626   -0.142147\n",
              "price       0.520712  1.000000 -0.537214  0.268717 -0.438445    0.516126\n",
              "mileage    -0.738027 -0.537214  1.000000 -0.160223  0.202850    0.063652\n",
              "tax         0.012480  0.268717 -0.160223  1.000000 -0.513742    0.338341\n",
              "mpg        -0.094626 -0.438445  0.202850 -0.513742  1.000000   -0.339862\n",
              "engineSize -0.142147  0.516126  0.063652  0.338341 -0.339862    1.000000"
            ]
          },
          "metadata": {},
          "execution_count": 13
        }
      ]
    },
    {
      "cell_type": "markdown",
      "source": [
        "#`corrwith` - barcha ustunlarni bitta ustun bilan solishtirish"
      ],
      "metadata": {
        "id": "MQ-76W929yDP"
      }
    },
    {
      "cell_type": "code",
      "source": [
        "df.corrwith(df[\"price\"]) # barcha ustunlarni price ustuni bilan solishtiramiz"
      ],
      "metadata": {
        "colab": {
          "base_uri": "https://localhost:8080/"
        },
        "id": "X4gnb8gy87lo",
        "outputId": "dd258dde-a674-404f-abe1-96c22b0a76ff"
      },
      "execution_count": 14,
      "outputs": [
        {
          "output_type": "execute_result",
          "data": {
            "text/plain": [
              "year          0.520712\n",
              "price         1.000000\n",
              "mileage      -0.537214\n",
              "tax           0.268717\n",
              "mpg          -0.438445\n",
              "engineSize    0.516126\n",
              "dtype: float64"
            ]
          },
          "metadata": {},
          "execution_count": 14
        }
      ]
    },
    {
      "cell_type": "code",
      "source": [
        ""
      ],
      "metadata": {
        "id": "b1lHuhz7-BDP"
      },
      "execution_count": null,
      "outputs": []
    }
  ]
}