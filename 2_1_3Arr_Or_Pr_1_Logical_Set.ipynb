{
  "nbformat": 4,
  "nbformat_minor": 0,
  "metadata": {
    "colab": {
      "name": "2.1.3Arr_Or_Pr#1_Logical_Set.ipynb",
      "provenance": [],
      "collapsed_sections": [],
      "authorship_tag": "ABX9TyPBJbXNBFld7en5yBF+gAA6",
      "include_colab_link": true
    },
    "kernelspec": {
      "name": "python3",
      "display_name": "Python 3"
    },
    "language_info": {
      "name": "python"
    }
  },
  "cells": [
    {
      "cell_type": "markdown",
      "metadata": {
        "id": "view-in-github",
        "colab_type": "text"
      },
      "source": [
        "<a href=\"https://colab.research.google.com/github/omullaboyev/data-science/blob/main/2_1_3Arr_Or_Pr_1_Logical_Set.ipynb\" target=\"_parent\"><img src=\"https://colab.research.google.com/assets/colab-badge.svg\" alt=\"Open In Colab\"/></a>"
      ]
    },
    {
      "cell_type": "markdown",
      "metadata": {
        "id": "GM2rpo4SVph3"
      },
      "source": [
        "#Data Science va Sun'iy Intellekt Praktikum"
      ]
    },
    {
      "cell_type": "markdown",
      "metadata": {
        "id": "V74KSH7aVuYM"
      },
      "source": [
        ""
      ]
    },
    {
      "cell_type": "markdown",
      "metadata": {
        "id": "AWcm9M1ZVufz"
      },
      "source": [
        "#Ma'lumotlar Tahlili"
      ]
    },
    {
      "cell_type": "markdown",
      "metadata": {
        "id": "0LtJDdfwVxwu"
      },
      "source": [
        "#2.1 Numpy kutubxonasi bilan ishlash"
      ]
    },
    {
      "cell_type": "markdown",
      "metadata": {
        "id": "hc4ON-fiV1Vk"
      },
      "source": [
        "Numpy kutubxonasini chaqirib olish"
      ]
    },
    {
      "cell_type": "code",
      "metadata": {
        "id": "d0wdLIHRVe-_"
      },
      "source": [
        "import numpy as np"
      ],
      "execution_count": 1,
      "outputs": []
    },
    {
      "cell_type": "markdown",
      "metadata": {
        "id": "xOjWUDujV9FH"
      },
      "source": [
        "2.1.3 Massivga yo'naltirilgan dasturlash"
      ]
    },
    {
      "cell_type": "markdown",
      "metadata": {
        "id": "QwOGRAV9WDdm"
      },
      "source": [
        "Mantiqiy shart operatorlarni massiv operator sifatida qo'llash"
      ]
    },
    {
      "cell_type": "markdown",
      "metadata": {
        "id": "Ei2jRUq_WTgT"
      },
      "source": [
        "Shart operatori sifatida `where` dan foydalanish"
      ]
    },
    {
      "cell_type": "markdown",
      "metadata": {
        "id": "TfsKhXqkWds5"
      },
      "source": [
        "Tasavvur qiling bizda ikkita ma'lumotlar (massivlar) to'plami mavjud bular: `xarr` va `yarr`. Agar shart `True`ni qanoatlantirsa `xarr` elementini qabul qilgan aksincha esa `yarr` elementini qabul qilgan yangi massiv hosil qilinsin."
      ]
    },
    {
      "cell_type": "code",
      "metadata": {
        "id": "h1FUYWooWqxQ"
      },
      "source": [
        "# Massivlar\n",
        "xarr = np.array([1.1, 1.2, 1.3, 1.4, 1.5]) # xarr\n",
        "yarr = np.array([2.1, 2.2, 2.3, 2.4, 2.5]) # yarr"
      ],
      "execution_count": 2,
      "outputs": []
    },
    {
      "cell_type": "code",
      "metadata": {
        "id": "HgGtYbnlXUIN"
      },
      "source": [
        "# Shart\n",
        "cond = np.array([True, False, True, True, False])"
      ],
      "execution_count": 3,
      "outputs": []
    },
    {
      "cell_type": "code",
      "metadata": {
        "colab": {
          "base_uri": "https://localhost:8080/"
        },
        "id": "737cBw29X5Wa",
        "outputId": "19fbd05c-8935-4fc7-d848-72baece93b8f"
      },
      "source": [
        "# where\n",
        "result = np.where(cond, xarr, yarr) # cont == True : xarr elementi, cond == False : yarr elementi\n",
        "result"
      ],
      "execution_count": 4,
      "outputs": [
        {
          "output_type": "execute_result",
          "data": {
            "text/plain": [
              "array([1.1, 2.2, 1.3, 1.4, 2.5])"
            ]
          },
          "metadata": {},
          "execution_count": 4
        }
      ]
    },
    {
      "cell_type": "code",
      "metadata": {
        "colab": {
          "base_uri": "https://localhost:8080/"
        },
        "id": "f35P8jzWYgbR",
        "outputId": "5e742ef4-2aba-4538-dbf9-ff45c79c78b6"
      },
      "source": [
        "arr = np.random.randn(4, 4) # (4, 4) tahminiy massiv\n",
        "arr"
      ],
      "execution_count": 5,
      "outputs": [
        {
          "output_type": "execute_result",
          "data": {
            "text/plain": [
              "array([[ 1.33799872,  0.46626033,  1.77932983, -0.81846101],\n",
              "       [ 0.21951172,  0.27894767, -0.29208565,  1.01105846],\n",
              "       [-0.17839134, -0.27511146, -0.05850491, -0.09775747],\n",
              "       [-0.80548178, -0.70872238, -0.10422076,  0.18424564]])"
            ]
          },
          "metadata": {},
          "execution_count": 5
        }
      ]
    },
    {
      "cell_type": "code",
      "metadata": {
        "colab": {
          "base_uri": "https://localhost:8080/"
        },
        "id": "epK5SqooaCRX",
        "outputId": "0429a754-2efc-4a05-bdce-b541b3cc1c1b"
      },
      "source": [
        "# where\n",
        "results = np.where(arr < 0, -2, 2) # arr ning manfiy elemnentlarini -2 ga, musbat elementlarini esa 2 ga almashtirish\n",
        "results"
      ],
      "execution_count": 6,
      "outputs": [
        {
          "output_type": "execute_result",
          "data": {
            "text/plain": [
              "array([[ 2,  2,  2, -2],\n",
              "       [ 2,  2, -2,  2],\n",
              "       [-2, -2, -2, -2],\n",
              "       [-2, -2, -2,  2]])"
            ]
          },
          "metadata": {},
          "execution_count": 6
        }
      ]
    },
    {
      "cell_type": "code",
      "metadata": {
        "id": "pjLWAawWaY_K"
      },
      "source": [
        ""
      ],
      "execution_count": null,
      "outputs": []
    }
  ]
}