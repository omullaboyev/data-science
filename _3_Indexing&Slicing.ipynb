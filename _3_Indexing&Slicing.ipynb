{
  "nbformat": 4,
  "nbformat_minor": 0,
  "metadata": {
    "colab": {
      "name": "#3_Indexing&Slicing.ipynb",
      "provenance": [],
      "collapsed_sections": [],
      "authorship_tag": "ABX9TyNdjbCkgFfdveS5T10Q3cq9",
      "include_colab_link": true
    },
    "kernelspec": {
      "name": "python3",
      "display_name": "Python 3"
    },
    "language_info": {
      "name": "python"
    }
  },
  "cells": [
    {
      "cell_type": "markdown",
      "metadata": {
        "id": "view-in-github",
        "colab_type": "text"
      },
      "source": [
        "<a href=\"https://colab.research.google.com/github/omullaboyev/data-science/blob/main/_3_Indexing%26Slicing.ipynb\" target=\"_parent\"><img src=\"https://colab.research.google.com/assets/colab-badge.svg\" alt=\"Open In Colab\"/></a>"
      ]
    },
    {
      "cell_type": "markdown",
      "metadata": {
        "id": "aWgggHeW9P70"
      },
      "source": [
        "#Data Science va Sun'iy Intellect Praktikum"
      ]
    },
    {
      "cell_type": "markdown",
      "metadata": {
        "id": "u3l604Z79W5e"
      },
      "source": [
        "# Ma'lumotlar Tahlili"
      ]
    },
    {
      "cell_type": "markdown",
      "metadata": {
        "id": "4PmVQ4ULkIUq"
      },
      "source": [
        "2.1 Numpy kutubxonasi bilan ishlash"
      ]
    },
    {
      "cell_type": "code",
      "metadata": {
        "id": "mILpOMW29GZN"
      },
      "source": [
        "import numpy as np"
      ],
      "execution_count": 2,
      "outputs": []
    },
    {
      "cell_type": "markdown",
      "metadata": {
        "id": "i8Ls5gOxkPHw"
      },
      "source": [
        "2.1.1 N o'lchovli massiv (array)larga ishlov berish"
      ]
    },
    {
      "cell_type": "markdown",
      "metadata": {
        "id": "16q36eSAkVa9"
      },
      "source": [
        "Index va kesib olish asoslari"
      ]
    },
    {
      "cell_type": "code",
      "metadata": {
        "id": "wXgH8ZQg9Mmg",
        "colab": {
          "base_uri": "https://localhost:8080/"
        },
        "outputId": "daf88dd0-6051-4150-e264-ccddbe2170bb"
      },
      "source": [
        "arr = np.arange(10, 100, 10)\n",
        "arr[-2]"
      ],
      "execution_count": 3,
      "outputs": [
        {
          "output_type": "execute_result",
          "data": {
            "text/plain": [
              "80"
            ]
          },
          "metadata": {},
          "execution_count": 3
        }
      ]
    },
    {
      "cell_type": "code",
      "metadata": {
        "id": "DUXS4W3GlIob",
        "colab": {
          "base_uri": "https://localhost:8080/"
        },
        "outputId": "7920a73d-ac71-4952-d2df-cca6e6be5cc2"
      },
      "source": [
        "arr"
      ],
      "execution_count": 5,
      "outputs": [
        {
          "output_type": "execute_result",
          "data": {
            "text/plain": [
              "array([10, 20, 30, 40, 50, 60, 70, 80, 90])"
            ]
          },
          "metadata": {},
          "execution_count": 5
        }
      ]
    },
    {
      "cell_type": "code",
      "metadata": {
        "colab": {
          "base_uri": "https://localhost:8080/"
        },
        "id": "qcAeqzcaIrlB",
        "outputId": "97fb410e-539a-4999-dd43-255298b18182"
      },
      "source": [
        "arr[3:5] # 3 dan 5 gacha bo'lgan elementlar"
      ],
      "execution_count": 7,
      "outputs": [
        {
          "output_type": "execute_result",
          "data": {
            "text/plain": [
              "array([40, 50])"
            ]
          },
          "metadata": {},
          "execution_count": 7
        }
      ]
    },
    {
      "cell_type": "markdown",
      "metadata": {
        "id": "ly17LpFsI6uK"
      },
      "source": [
        "Numpy kutubxonasida massivning kesib olingan qismiga o'zgartirish kiritilsa , asosiy manba massivga ta'sir qiladi"
      ]
    },
    {
      "cell_type": "code",
      "metadata": {
        "colab": {
          "base_uri": "https://localhost:8080/"
        },
        "id": "hpbK1K_bIyRu",
        "outputId": "041cc742-6355-46cd-a098-3885040737a3"
      },
      "source": [
        "arr"
      ],
      "execution_count": 8,
      "outputs": [
        {
          "output_type": "execute_result",
          "data": {
            "text/plain": [
              "array([10, 20, 30, 40, 50, 60, 70, 80, 90])"
            ]
          },
          "metadata": {},
          "execution_count": 8
        }
      ]
    },
    {
      "cell_type": "code",
      "metadata": {
        "colab": {
          "base_uri": "https://localhost:8080/"
        },
        "id": "ts_fc7OyJZlf",
        "outputId": "a2ab6e20-7d9e-49de-805c-904ba9bc9e0f"
      },
      "source": [
        "sliced_arr = arr[3:5]\n",
        "sliced_arr[:] = 0\n",
        "sliced_arr"
      ],
      "execution_count": 10,
      "outputs": [
        {
          "output_type": "execute_result",
          "data": {
            "text/plain": [
              "array([0, 0])"
            ]
          },
          "metadata": {},
          "execution_count": 10
        }
      ]
    },
    {
      "cell_type": "code",
      "metadata": {
        "colab": {
          "base_uri": "https://localhost:8080/"
        },
        "id": "MczCKzQUJgos",
        "outputId": "68761bc4-1733-4db1-a38b-53db00c50996"
      },
      "source": [
        "arr"
      ],
      "execution_count": 11,
      "outputs": [
        {
          "output_type": "execute_result",
          "data": {
            "text/plain": [
              "array([10, 20, 30,  0,  0, 60, 70, 80, 90])"
            ]
          },
          "metadata": {},
          "execution_count": 11
        }
      ]
    },
    {
      "cell_type": "markdown",
      "metadata": {
        "id": "2IHrii82Jze1"
      },
      "source": [
        "**copy** usuli haqida"
      ]
    },
    {
      "cell_type": "code",
      "metadata": {
        "colab": {
          "base_uri": "https://localhost:8080/"
        },
        "id": "BrICSvlqJmP_",
        "outputId": "1ec337ba-d377-4588-ed96-2ccd8cfc35e2"
      },
      "source": [
        "arr1 = np.arange(10, 100, 10)\n",
        "arr1"
      ],
      "execution_count": 12,
      "outputs": [
        {
          "output_type": "execute_result",
          "data": {
            "text/plain": [
              "array([10, 20, 30, 40, 50, 60, 70, 80, 90])"
            ]
          },
          "metadata": {},
          "execution_count": 12
        }
      ]
    },
    {
      "cell_type": "code",
      "metadata": {
        "colab": {
          "base_uri": "https://localhost:8080/"
        },
        "id": "OH_LOgyeJ-ey",
        "outputId": "8957da4e-5869-41d8-e651-d3bb4ce7ddd5"
      },
      "source": [
        "sliced_arr1 = arr1[3:5].copy()\n",
        "sliced_arr1[:] = 0\n",
        "sliced_arr1"
      ],
      "execution_count": 14,
      "outputs": [
        {
          "output_type": "execute_result",
          "data": {
            "text/plain": [
              "array([0, 0])"
            ]
          },
          "metadata": {},
          "execution_count": 14
        }
      ]
    },
    {
      "cell_type": "code",
      "metadata": {
        "colab": {
          "base_uri": "https://localhost:8080/"
        },
        "id": "SLkfrvykKNKN",
        "outputId": "8c266345-dca4-4cac-a42b-d57778cad9df"
      },
      "source": [
        "arr1"
      ],
      "execution_count": 15,
      "outputs": [
        {
          "output_type": "execute_result",
          "data": {
            "text/plain": [
              "array([10, 20, 30, 40, 50, 60, 70, 80, 90])"
            ]
          },
          "metadata": {},
          "execution_count": 15
        }
      ]
    },
    {
      "cell_type": "markdown",
      "metadata": {
        "id": "e8Q4ZPHRKZJ1"
      },
      "source": [
        "2 o'lchamli (2d array) massivlarda index va kesib olish"
      ]
    },
    {
      "cell_type": "code",
      "metadata": {
        "colab": {
          "base_uri": "https://localhost:8080/"
        },
        "id": "shpcFATtKSZM",
        "outputId": "e3dde3f5-9563-4dfc-f8d6-b20605dc3e89"
      },
      "source": [
        "arr2d = np.array([[1, 2, 3], [4, 5, 6], [7, 8, 9]]) # (3, 3) o'lchamli massiv\n",
        "arr2d.ndim"
      ],
      "execution_count": 17,
      "outputs": [
        {
          "output_type": "execute_result",
          "data": {
            "text/plain": [
              "2"
            ]
          },
          "metadata": {},
          "execution_count": 17
        }
      ]
    },
    {
      "cell_type": "code",
      "metadata": {
        "colab": {
          "base_uri": "https://localhost:8080/"
        },
        "id": "dW7RH9CMKuWl",
        "outputId": "a011b05b-2306-4747-c064-f3e1b823fc52"
      },
      "source": [
        "  arr2d"
      ],
      "execution_count": 19,
      "outputs": [
        {
          "output_type": "execute_result",
          "data": {
            "text/plain": [
              "array([[1, 2, 3],\n",
              "       [4, 5, 6],\n",
              "       [7, 8, 9]])"
            ]
          },
          "metadata": {},
          "execution_count": 19
        }
      ]
    },
    {
      "cell_type": "code",
      "metadata": {
        "colab": {
          "base_uri": "https://localhost:8080/"
        },
        "id": "7PqkdmvFLXGi",
        "outputId": "99e10306-8acf-40be-f460-a9111df86135"
      },
      "source": [
        "arr2d[1, 1]"
      ],
      "execution_count": 20,
      "outputs": [
        {
          "output_type": "execute_result",
          "data": {
            "text/plain": [
              "5"
            ]
          },
          "metadata": {},
          "execution_count": 20
        }
      ]
    },
    {
      "cell_type": "code",
      "metadata": {
        "colab": {
          "base_uri": "https://localhost:8080/"
        },
        "id": "JW7d3K-PLcGK",
        "outputId": "e913468d-b136-473e-bc22-e215bc852c08"
      },
      "source": [
        "arr2d[2, 2]"
      ],
      "execution_count": 21,
      "outputs": [
        {
          "output_type": "execute_result",
          "data": {
            "text/plain": [
              "9"
            ]
          },
          "metadata": {},
          "execution_count": 21
        }
      ]
    },
    {
      "cell_type": "markdown",
      "metadata": {
        "id": "31ywbCbTLs1V"
      },
      "source": [
        "2 o'lchamli massivlarning bir nechta elementlarini kesib olish"
      ]
    },
    {
      "cell_type": "code",
      "metadata": {
        "colab": {
          "base_uri": "https://localhost:8080/"
        },
        "id": "WONIBYngLjlU",
        "outputId": "5f9e2d69-840c-4272-c9a6-1fdf41c62657"
      },
      "source": [
        "sl_arr2d  = arr2d[2, 1:]\n",
        "sl_arr2d"
      ],
      "execution_count": 26,
      "outputs": [
        {
          "output_type": "execute_result",
          "data": {
            "text/plain": [
              "array([8, 9])"
            ]
          },
          "metadata": {},
          "execution_count": 26
        }
      ]
    },
    {
      "cell_type": "markdown",
      "metadata": {
        "id": "Q-C3kGLeN96R"
      },
      "source": [
        "3 o'lchamli massivlarda index va kesib olish asoslari"
      ]
    },
    {
      "cell_type": "code",
      "metadata": {
        "colab": {
          "base_uri": "https://localhost:8080/"
        },
        "id": "1qCiOyz-MZry",
        "outputId": "f531cf64-ff52-4c4e-a4b7-d7b0ae7da3c1"
      },
      "source": [
        "# 3D array\n",
        "arr3d = np.array([[[0, 1, 2],\n",
        "                   [3, 4, 5],\n",
        "                   [6, 7, 8]],\n",
        "                  [[9, 10, 11],\n",
        "                   [12, 13, 14],\n",
        "                   [15, 16, 17]],\n",
        "                  [[18, 19, 20],\n",
        "                   [21, 22, 23],\n",
        "                   [24, 25, 26]]])\n",
        "arr3d"
      ],
      "execution_count": 30,
      "outputs": [
        {
          "output_type": "execute_result",
          "data": {
            "text/plain": [
              "array([[[ 0,  1,  2],\n",
              "        [ 3,  4,  5],\n",
              "        [ 6,  7,  8]],\n",
              "\n",
              "       [[ 9, 10, 11],\n",
              "        [12, 13, 14],\n",
              "        [15, 16, 17]],\n",
              "\n",
              "       [[18, 19, 20],\n",
              "        [21, 22, 23],\n",
              "        [24, 25, 26]]])"
            ]
          },
          "metadata": {},
          "execution_count": 30
        }
      ]
    },
    {
      "cell_type": "code",
      "metadata": {
        "colab": {
          "base_uri": "https://localhost:8080/"
        },
        "id": "186ah1gBO8aS",
        "outputId": "6967b7e1-8596-4b7d-d9d6-5597d8295183"
      },
      "source": [
        "arr3d[0][1, 1]"
      ],
      "execution_count": 39,
      "outputs": [
        {
          "output_type": "execute_result",
          "data": {
            "text/plain": [
              "4"
            ]
          },
          "metadata": {},
          "execution_count": 39
        }
      ]
    },
    {
      "cell_type": "code",
      "metadata": {
        "colab": {
          "base_uri": "https://localhost:8080/"
        },
        "id": "MhvlOR9_PSdx",
        "outputId": "68dd1df1-69ee-40e8-be00-1d37f97e64f1"
      },
      "source": [
        "arr3d[1][2, 1:]"
      ],
      "execution_count": 40,
      "outputs": [
        {
          "output_type": "execute_result",
          "data": {
            "text/plain": [
              "array([16, 17])"
            ]
          },
          "metadata": {},
          "execution_count": 40
        }
      ]
    },
    {
      "cell_type": "code",
      "metadata": {
        "colab": {
          "base_uri": "https://localhost:8080/"
        },
        "id": "XcXAtoCMPueh",
        "outputId": "597184d3-7625-4304-d17b-32576da26652"
      },
      "source": [
        "arr3d[2][0, :2]"
      ],
      "execution_count": 43,
      "outputs": [
        {
          "output_type": "execute_result",
          "data": {
            "text/plain": [
              "array([18, 19])"
            ]
          },
          "metadata": {},
          "execution_count": 43
        }
      ]
    },
    {
      "cell_type": "code",
      "metadata": {
        "id": "VA0k3cZxP0-B"
      },
      "source": [
        ""
      ],
      "execution_count": null,
      "outputs": []
    }
  ]
}