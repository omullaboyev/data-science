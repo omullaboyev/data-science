{
  "nbformat": 4,
  "nbformat_minor": 0,
  "metadata": {
    "colab": {
      "name": "2.1.2.Pandas-Series-from-Dictionary.ipynb",
      "provenance": [],
      "collapsed_sections": [],
      "authorship_tag": "ABX9TyNmkRIrxWh6n/5FjFiExvbT",
      "include_colab_link": true
    },
    "kernelspec": {
      "name": "python3",
      "display_name": "Python 3"
    },
    "language_info": {
      "name": "python"
    }
  },
  "cells": [
    {
      "cell_type": "markdown",
      "metadata": {
        "id": "view-in-github",
        "colab_type": "text"
      },
      "source": [
        "<a href=\"https://colab.research.google.com/github/omullaboyev/data-science/blob/main/2_1_2_Pandas_Series_from_Dictionary.ipynb\" target=\"_parent\"><img src=\"https://colab.research.google.com/assets/colab-badge.svg\" alt=\"Open In Colab\"/></a>"
      ]
    },
    {
      "cell_type": "markdown",
      "metadata": {
        "id": "B3hx9-nCKLsW"
      },
      "source": [
        "#Data Science va Sun'iy Intellekt Praktikum"
      ]
    },
    {
      "cell_type": "markdown",
      "metadata": {
        "id": "gAC7V66JKQny"
      },
      "source": [
        "#Ma'lumotlar Tahlili. Pandas kutubxonasi."
      ]
    },
    {
      "cell_type": "markdown",
      "metadata": {
        "id": "As7fbAAwKjBu"
      },
      "source": [
        "2.1 Pandas kutubxonasi bilan ishlash."
      ]
    },
    {
      "cell_type": "markdown",
      "metadata": {
        "id": "Kp8qacH-Kmkv"
      },
      "source": [
        "2.1.2 Lug'atdan Series yaratish"
      ]
    },
    {
      "cell_type": "code",
      "metadata": {
        "id": "8tvwqHLjKDsx"
      },
      "source": [
        "import pandas as pd # pandas kutubxonasini chaqirish"
      ],
      "execution_count": 3,
      "outputs": []
    },
    {
      "cell_type": "code",
      "metadata": {
        "id": "gb6fRx__K0dM"
      },
      "source": [
        "import numpy as np # numpy kutubxonasini chaqirish"
      ],
      "execution_count": 2,
      "outputs": []
    },
    {
      "cell_type": "code",
      "metadata": {
        "id": "2yECMMOhK2dy"
      },
      "source": [
        "from pandas import Series # Series"
      ],
      "execution_count": 5,
      "outputs": []
    },
    {
      "cell_type": "markdown",
      "metadata": {
        "id": "quDZW5EOLrCR"
      },
      "source": [
        "Series toifali obyekt yaratish"
      ]
    },
    {
      "cell_type": "code",
      "metadata": {
        "id": "zuyWH-k0LQXa"
      },
      "source": [
        "obj2 = Series([6, 3, 2, 1], index = ['a', 'b', 'c', 'd'])"
      ],
      "execution_count": 6,
      "outputs": []
    },
    {
      "cell_type": "code",
      "metadata": {
        "colab": {
          "base_uri": "https://localhost:8080/"
        },
        "id": "1EWOaSxWLwfT",
        "outputId": "73c79b1d-b397-404b-dd19-ad7d3f97f050"
      },
      "source": [
        "obj2"
      ],
      "execution_count": 7,
      "outputs": [
        {
          "output_type": "execute_result",
          "data": {
            "text/plain": [
              "a    6\n",
              "b    3\n",
              "c    2\n",
              "d    1\n",
              "dtype: int64"
            ]
          },
          "metadata": {},
          "execution_count": 7
        }
      ]
    },
    {
      "cell_type": "code",
      "metadata": {
        "colab": {
          "base_uri": "https://localhost:8080/"
        },
        "id": "MMWjhc4eLzCj",
        "outputId": "6944fe0c-b0fa-4766-bc85-478a40e6cfb5"
      },
      "source": [
        "obj2['a']"
      ],
      "execution_count": 8,
      "outputs": [
        {
          "output_type": "execute_result",
          "data": {
            "text/plain": [
              "6"
            ]
          },
          "metadata": {},
          "execution_count": 8
        }
      ]
    },
    {
      "cell_type": "code",
      "metadata": {
        "id": "5kDYDOahL016"
      },
      "source": [
        "# Lug'at (dictionary)\n",
        "cars_dict = {\"Malibu\": 40000, \"Lacetti\": 20000, \"Toyota\": 45000, \"Mazda\": 52000, \"Honda\": 38000}"
      ],
      "execution_count": 9,
      "outputs": []
    },
    {
      "cell_type": "code",
      "metadata": {
        "colab": {
          "base_uri": "https://localhost:8080/"
        },
        "id": "S_IeZHvuMOnL",
        "outputId": "8bf5f483-39e4-4951-e80f-1198d5ee8fd8"
      },
      "source": [
        "type(cars_dict)"
      ],
      "execution_count": 10,
      "outputs": [
        {
          "output_type": "execute_result",
          "data": {
            "text/plain": [
              "dict"
            ]
          },
          "metadata": {},
          "execution_count": 10
        }
      ]
    },
    {
      "cell_type": "markdown",
      "metadata": {
        "id": "AdFJkfC9XtXZ"
      },
      "source": [
        "Lug'atdan Series toifali obyect yaratish"
      ]
    },
    {
      "cell_type": "code",
      "metadata": {
        "id": "Q4QLhTJIMQRa"
      },
      "source": [
        "cars1 = Series(cars_dict) # cars_dict lug'atidan cars1 obyektini yaratish"
      ],
      "execution_count": 11,
      "outputs": []
    },
    {
      "cell_type": "code",
      "metadata": {
        "colab": {
          "base_uri": "https://localhost:8080/"
        },
        "id": "zdDTtKG8X2LA",
        "outputId": "58bb002f-130b-40d0-c311-e2a2d4736265"
      },
      "source": [
        "cars1"
      ],
      "execution_count": 12,
      "outputs": [
        {
          "output_type": "execute_result",
          "data": {
            "text/plain": [
              "Malibu     40000\n",
              "Lacetti    20000\n",
              "Toyota     45000\n",
              "Mazda      52000\n",
              "Honda      38000\n",
              "dtype: int64"
            ]
          },
          "metadata": {},
          "execution_count": 12
        }
      ]
    },
    {
      "cell_type": "code",
      "metadata": {
        "colab": {
          "base_uri": "https://localhost:8080/"
        },
        "id": "Y0iosrO8X3b_",
        "outputId": "83a5ad29-d7d2-4033-ceea-f45058e7832b"
      },
      "source": [
        "type(cars1)"
      ],
      "execution_count": 13,
      "outputs": [
        {
          "output_type": "execute_result",
          "data": {
            "text/plain": [
              "pandas.core.series.Series"
            ]
          },
          "metadata": {},
          "execution_count": 13
        }
      ]
    },
    {
      "cell_type": "code",
      "metadata": {
        "id": "16d1XVJqX8uI"
      },
      "source": [
        "cars1 = Series({\"Malibu\": 40000, \"Lacetti\": 20000, \"Toyota\": 45000, \"Mazda\": 52000, \"Honda\": 38000}) # object yaratishda to'g'ridan to'g'ri lug'at uzatish mumkin"
      ],
      "execution_count": 17,
      "outputs": []
    },
    {
      "cell_type": "code",
      "metadata": {
        "colab": {
          "base_uri": "https://localhost:8080/"
        },
        "id": "nChoUo9OYNdH",
        "outputId": "4f72f95a-396d-4076-96bc-cf39ed6a2881"
      },
      "source": [
        "cars1"
      ],
      "execution_count": 18,
      "outputs": [
        {
          "output_type": "execute_result",
          "data": {
            "text/plain": [
              "Malibu     40000\n",
              "Lacetti    20000\n",
              "Toyota     45000\n",
              "Mazda      52000\n",
              "Honda      38000\n",
              "dtype: int64"
            ]
          },
          "metadata": {},
          "execution_count": 18
        }
      ]
    },
    {
      "cell_type": "markdown",
      "metadata": {
        "id": "6z8wtDeabr_x"
      },
      "source": [
        "Mantiqiy amallar"
      ]
    },
    {
      "cell_type": "code",
      "metadata": {
        "colab": {
          "base_uri": "https://localhost:8080/"
        },
        "id": "qJLr_ogtYPjP",
        "outputId": "cfa17c8e-f262-4f5e-d330-f991ee33b304"
      },
      "source": [
        "\"Malibu\" in cars1 # cars1 nind ichida Malibu bormi? - True"
      ],
      "execution_count": 20,
      "outputs": [
        {
          "output_type": "execute_result",
          "data": {
            "text/plain": [
              "True"
            ]
          },
          "metadata": {},
          "execution_count": 20
        }
      ]
    },
    {
      "cell_type": "code",
      "metadata": {
        "colab": {
          "base_uri": "https://localhost:8080/"
        },
        "id": "JrejP3l0bxf5",
        "outputId": "2907c801-3725-40b5-ad0c-6826605c6826"
      },
      "source": [
        "\"BMW\" in cars1 # cars1 nin ichida BMW bormi? - False"
      ],
      "execution_count": 22,
      "outputs": [
        {
          "output_type": "execute_result",
          "data": {
            "text/plain": [
              "False"
            ]
          },
          "metadata": {},
          "execution_count": 22
        }
      ]
    },
    {
      "cell_type": "code",
      "metadata": {
        "colab": {
          "base_uri": "https://localhost:8080/"
        },
        "id": "Oy6OaMJEb9jK",
        "outputId": "5758fab1-f082-4422-d7d3-da2993c56e90"
      },
      "source": [
        "cars1[\"Toyota\"]"
      ],
      "execution_count": 23,
      "outputs": [
        {
          "output_type": "execute_result",
          "data": {
            "text/plain": [
              "45000"
            ]
          },
          "metadata": {},
          "execution_count": 23
        }
      ]
    },
    {
      "cell_type": "markdown",
      "metadata": {
        "id": "pxmuIclRckCh"
      },
      "source": [
        "Yangi tartibdagi indekslar bilan Series yaratish"
      ]
    },
    {
      "cell_type": "code",
      "metadata": {
        "id": "mKVE64vlcDHx"
      },
      "source": [
        "models = [\"Honda\", \"Mazda\", \"Lacetti\", \"Jaguar\", \"Malibu\", \"Toyota\", \"BMW\", \"Mercedes\"]"
      ],
      "execution_count": 27,
      "outputs": []
    },
    {
      "cell_type": "code",
      "metadata": {
        "id": "apc4SVsycY2Y"
      },
      "source": [
        "cars2 = Series(cars_dict, index = models)"
      ],
      "execution_count": 28,
      "outputs": []
    },
    {
      "cell_type": "code",
      "metadata": {
        "colab": {
          "base_uri": "https://localhost:8080/"
        },
        "id": "kcdybFyIco5g",
        "outputId": "0fcc5505-c721-4fea-c4da-baf43d64ca87"
      },
      "source": [
        "cars2"
      ],
      "execution_count": 29,
      "outputs": [
        {
          "output_type": "execute_result",
          "data": {
            "text/plain": [
              "Honda       38000.0\n",
              "Mazda       52000.0\n",
              "Lacetti     20000.0\n",
              "Jaguar          NaN\n",
              "Malibu      40000.0\n",
              "Toyota      45000.0\n",
              "BMW             NaN\n",
              "Mercedes        NaN\n",
              "dtype: float64"
            ]
          },
          "metadata": {},
          "execution_count": 29
        }
      ]
    },
    {
      "cell_type": "code",
      "metadata": {
        "id": "yYptCN3gcp9h"
      },
      "source": [
        ""
      ],
      "execution_count": null,
      "outputs": []
    }
  ]
}