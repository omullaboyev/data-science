{
  "nbformat": 4,
  "nbformat_minor": 0,
  "metadata": {
    "colab": {
      "name": "2.1.5.Pandas-DataFrame_Columns.ipynb",
      "provenance": [],
      "collapsed_sections": [],
      "authorship_tag": "ABX9TyNDpa6aJiM85wBupa4o3uKz",
      "include_colab_link": true
    },
    "kernelspec": {
      "name": "python3",
      "display_name": "Python 3"
    },
    "language_info": {
      "name": "python"
    }
  },
  "cells": [
    {
      "cell_type": "markdown",
      "metadata": {
        "id": "view-in-github",
        "colab_type": "text"
      },
      "source": [
        "<a href=\"https://colab.research.google.com/github/omullaboyev/data-science/blob/main/2_1_5_Pandas_DataFrame_Columns.ipynb\" target=\"_parent\"><img src=\"https://colab.research.google.com/assets/colab-badge.svg\" alt=\"Open In Colab\"/></a>"
      ]
    },
    {
      "cell_type": "markdown",
      "metadata": {
        "id": "RTKjAI2mRteQ"
      },
      "source": [
        "#Data Science va Sun'iy Intellekt Praktikum"
      ]
    },
    {
      "cell_type": "markdown",
      "metadata": {
        "id": "V99A4rI5RyV_"
      },
      "source": [
        "#Ma'lumotlar Tahlili. Pandas kutubxonasi"
      ]
    },
    {
      "cell_type": "markdown",
      "metadata": {
        "id": "wzYL3mJlR05r"
      },
      "source": [
        "**2.1 Pandas kutubxonasi bilan ishlash.**"
      ]
    },
    {
      "cell_type": "markdown",
      "metadata": {
        "id": "TbAqyzyKR34o"
      },
      "source": [
        "**2.1.5 `DataFrame` ustunlari (columns)**"
      ]
    },
    {
      "cell_type": "code",
      "metadata": {
        "id": "K1W9-dqRRn52"
      },
      "source": [
        "import pandas as pd # pandas kutubxonasini chaqirish"
      ],
      "execution_count": 2,
      "outputs": []
    },
    {
      "cell_type": "markdown",
      "metadata": {
        "id": "z8TmGhdfSKIa"
      },
      "source": [
        "Lug'at yaratamiz"
      ]
    },
    {
      "cell_type": "code",
      "metadata": {
        "id": "qRsB_9i4R9Za"
      },
      "source": [
        "# data\n",
        "data = {\n",
        "        \"Yil\": [2021, 2020, 2019, 2018, 2017, 2016, 2015, 2010],\n",
        "        \"Aholi soni\": [33.9, 33.5, 32.9, 32.5, 31.9, 31.4, 30.9, 28.5],\n",
        "        \"Temp\": [1.54, 1.48, 1.56, 1.62, 1.65, 1.66, 1.64, 1.53]\n",
        "} # Yillar bo'yicha O'zbekiston aholisining soni va o'sish tempi lug'ati"
      ],
      "execution_count": 3,
      "outputs": []
    },
    {
      "cell_type": "markdown",
      "metadata": {
        "id": "17-wZ8pqSO3W"
      },
      "source": [
        "Lug'atdan DataFrame yaratish (ustunlar ketma-ketligi lug'atda qanday bo'lsa shunday)"
      ]
    },
    {
      "cell_type": "code",
      "metadata": {
        "id": "JxPD_ATpSIuw"
      },
      "source": [
        "df = pd.DataFrame(data) # Lug'atdan dataframe yaratish (ustunlar ketma-ketligi lug'atda qanday bo'lsa shunday)"
      ],
      "execution_count": 8,
      "outputs": []
    },
    {
      "cell_type": "code",
      "metadata": {
        "colab": {
          "base_uri": "https://localhost:8080/",
          "height": 294
        },
        "id": "HEv822GrSRKo",
        "outputId": "e436dbfa-c94a-4038-f5bf-18db09acf12c"
      },
      "source": [
        "df"
      ],
      "execution_count": 9,
      "outputs": [
        {
          "output_type": "execute_result",
          "data": {
            "text/html": [
              "<div>\n",
              "<style scoped>\n",
              "    .dataframe tbody tr th:only-of-type {\n",
              "        vertical-align: middle;\n",
              "    }\n",
              "\n",
              "    .dataframe tbody tr th {\n",
              "        vertical-align: top;\n",
              "    }\n",
              "\n",
              "    .dataframe thead th {\n",
              "        text-align: right;\n",
              "    }\n",
              "</style>\n",
              "<table border=\"1\" class=\"dataframe\">\n",
              "  <thead>\n",
              "    <tr style=\"text-align: right;\">\n",
              "      <th></th>\n",
              "      <th>Yil</th>\n",
              "      <th>Aholi soni</th>\n",
              "      <th>Temp</th>\n",
              "    </tr>\n",
              "  </thead>\n",
              "  <tbody>\n",
              "    <tr>\n",
              "      <th>0</th>\n",
              "      <td>2021</td>\n",
              "      <td>33.9</td>\n",
              "      <td>1.54</td>\n",
              "    </tr>\n",
              "    <tr>\n",
              "      <th>1</th>\n",
              "      <td>2020</td>\n",
              "      <td>33.5</td>\n",
              "      <td>1.48</td>\n",
              "    </tr>\n",
              "    <tr>\n",
              "      <th>2</th>\n",
              "      <td>2019</td>\n",
              "      <td>32.9</td>\n",
              "      <td>1.56</td>\n",
              "    </tr>\n",
              "    <tr>\n",
              "      <th>3</th>\n",
              "      <td>2018</td>\n",
              "      <td>32.5</td>\n",
              "      <td>1.62</td>\n",
              "    </tr>\n",
              "    <tr>\n",
              "      <th>4</th>\n",
              "      <td>2017</td>\n",
              "      <td>31.9</td>\n",
              "      <td>1.65</td>\n",
              "    </tr>\n",
              "    <tr>\n",
              "      <th>5</th>\n",
              "      <td>2016</td>\n",
              "      <td>31.4</td>\n",
              "      <td>1.66</td>\n",
              "    </tr>\n",
              "    <tr>\n",
              "      <th>6</th>\n",
              "      <td>2015</td>\n",
              "      <td>30.9</td>\n",
              "      <td>1.64</td>\n",
              "    </tr>\n",
              "    <tr>\n",
              "      <th>7</th>\n",
              "      <td>2010</td>\n",
              "      <td>28.5</td>\n",
              "      <td>1.53</td>\n",
              "    </tr>\n",
              "  </tbody>\n",
              "</table>\n",
              "</div>"
            ],
            "text/plain": [
              "    Yil  Aholi soni  Temp\n",
              "0  2021        33.9  1.54\n",
              "1  2020        33.5  1.48\n",
              "2  2019        32.9  1.56\n",
              "3  2018        32.5  1.62\n",
              "4  2017        31.9  1.65\n",
              "5  2016        31.4  1.66\n",
              "6  2015        30.9  1.64\n",
              "7  2010        28.5  1.53"
            ]
          },
          "metadata": {},
          "execution_count": 9
        }
      ]
    },
    {
      "cell_type": "markdown",
      "metadata": {
        "id": "pSchB5U-Sudq"
      },
      "source": [
        "#`columns` - Ustunlar ketma ketligini belgilash"
      ]
    },
    {
      "cell_type": "code",
      "metadata": {
        "id": "-ewRDMmxSSpY"
      },
      "source": [
        "df = pd.DataFrame(data, columns=[\"Yil\", \"Temp\", \"Aholi soni\"]) # DataFrame yaratishda ustunlar ketma-ketligini o'zimiz belgiladik"
      ],
      "execution_count": 10,
      "outputs": []
    },
    {
      "cell_type": "code",
      "metadata": {
        "colab": {
          "base_uri": "https://localhost:8080/",
          "height": 202
        },
        "id": "fc1m7VL0TA8R",
        "outputId": "4f0aeed2-ae0d-4a64-df69-093b90086ab8"
      },
      "source": [
        "df.head()"
      ],
      "execution_count": 12,
      "outputs": [
        {
          "output_type": "execute_result",
          "data": {
            "text/html": [
              "<div>\n",
              "<style scoped>\n",
              "    .dataframe tbody tr th:only-of-type {\n",
              "        vertical-align: middle;\n",
              "    }\n",
              "\n",
              "    .dataframe tbody tr th {\n",
              "        vertical-align: top;\n",
              "    }\n",
              "\n",
              "    .dataframe thead th {\n",
              "        text-align: right;\n",
              "    }\n",
              "</style>\n",
              "<table border=\"1\" class=\"dataframe\">\n",
              "  <thead>\n",
              "    <tr style=\"text-align: right;\">\n",
              "      <th></th>\n",
              "      <th>Yil</th>\n",
              "      <th>Temp</th>\n",
              "      <th>Aholi soni</th>\n",
              "    </tr>\n",
              "  </thead>\n",
              "  <tbody>\n",
              "    <tr>\n",
              "      <th>0</th>\n",
              "      <td>2021</td>\n",
              "      <td>1.54</td>\n",
              "      <td>33.9</td>\n",
              "    </tr>\n",
              "    <tr>\n",
              "      <th>1</th>\n",
              "      <td>2020</td>\n",
              "      <td>1.48</td>\n",
              "      <td>33.5</td>\n",
              "    </tr>\n",
              "    <tr>\n",
              "      <th>2</th>\n",
              "      <td>2019</td>\n",
              "      <td>1.56</td>\n",
              "      <td>32.9</td>\n",
              "    </tr>\n",
              "    <tr>\n",
              "      <th>3</th>\n",
              "      <td>2018</td>\n",
              "      <td>1.62</td>\n",
              "      <td>32.5</td>\n",
              "    </tr>\n",
              "    <tr>\n",
              "      <th>4</th>\n",
              "      <td>2017</td>\n",
              "      <td>1.65</td>\n",
              "      <td>31.9</td>\n",
              "    </tr>\n",
              "  </tbody>\n",
              "</table>\n",
              "</div>"
            ],
            "text/plain": [
              "    Yil  Temp  Aholi soni\n",
              "0  2021  1.54        33.9\n",
              "1  2020  1.48        33.5\n",
              "2  2019  1.56        32.9\n",
              "3  2018  1.62        32.5\n",
              "4  2017  1.65        31.9"
            ]
          },
          "metadata": {},
          "execution_count": 12
        }
      ]
    },
    {
      "cell_type": "markdown",
      "metadata": {
        "id": "DiaHBRWPTUYd"
      },
      "source": [
        "#Mavjud bo'lmagan ustun nomini berish"
      ]
    },
    {
      "cell_type": "code",
      "metadata": {
        "id": "d9QIbGooTBjI"
      },
      "source": [
        "df = pd.DataFrame(data, columns=[\"Yil\", \"Temp\", \"Aholi soni\", \"YAIM\"]) # DataFrame yaratishda ustunlar ketma-ketligini o'zimiz belgiladik, lug'atda mavjud bo'lmagan ustun nomi qo'shdik"
      ],
      "execution_count": 13,
      "outputs": []
    },
    {
      "cell_type": "code",
      "metadata": {
        "colab": {
          "base_uri": "https://localhost:8080/",
          "height": 294
        },
        "id": "uPPZ0vGkTh8b",
        "outputId": "4a4320bf-3427-4276-911a-f543eadd8659"
      },
      "source": [
        "df"
      ],
      "execution_count": 14,
      "outputs": [
        {
          "output_type": "execute_result",
          "data": {
            "text/html": [
              "<div>\n",
              "<style scoped>\n",
              "    .dataframe tbody tr th:only-of-type {\n",
              "        vertical-align: middle;\n",
              "    }\n",
              "\n",
              "    .dataframe tbody tr th {\n",
              "        vertical-align: top;\n",
              "    }\n",
              "\n",
              "    .dataframe thead th {\n",
              "        text-align: right;\n",
              "    }\n",
              "</style>\n",
              "<table border=\"1\" class=\"dataframe\">\n",
              "  <thead>\n",
              "    <tr style=\"text-align: right;\">\n",
              "      <th></th>\n",
              "      <th>Yil</th>\n",
              "      <th>Temp</th>\n",
              "      <th>Aholi soni</th>\n",
              "      <th>YAIM</th>\n",
              "    </tr>\n",
              "  </thead>\n",
              "  <tbody>\n",
              "    <tr>\n",
              "      <th>0</th>\n",
              "      <td>2021</td>\n",
              "      <td>1.54</td>\n",
              "      <td>33.9</td>\n",
              "      <td>NaN</td>\n",
              "    </tr>\n",
              "    <tr>\n",
              "      <th>1</th>\n",
              "      <td>2020</td>\n",
              "      <td>1.48</td>\n",
              "      <td>33.5</td>\n",
              "      <td>NaN</td>\n",
              "    </tr>\n",
              "    <tr>\n",
              "      <th>2</th>\n",
              "      <td>2019</td>\n",
              "      <td>1.56</td>\n",
              "      <td>32.9</td>\n",
              "      <td>NaN</td>\n",
              "    </tr>\n",
              "    <tr>\n",
              "      <th>3</th>\n",
              "      <td>2018</td>\n",
              "      <td>1.62</td>\n",
              "      <td>32.5</td>\n",
              "      <td>NaN</td>\n",
              "    </tr>\n",
              "    <tr>\n",
              "      <th>4</th>\n",
              "      <td>2017</td>\n",
              "      <td>1.65</td>\n",
              "      <td>31.9</td>\n",
              "      <td>NaN</td>\n",
              "    </tr>\n",
              "    <tr>\n",
              "      <th>5</th>\n",
              "      <td>2016</td>\n",
              "      <td>1.66</td>\n",
              "      <td>31.4</td>\n",
              "      <td>NaN</td>\n",
              "    </tr>\n",
              "    <tr>\n",
              "      <th>6</th>\n",
              "      <td>2015</td>\n",
              "      <td>1.64</td>\n",
              "      <td>30.9</td>\n",
              "      <td>NaN</td>\n",
              "    </tr>\n",
              "    <tr>\n",
              "      <th>7</th>\n",
              "      <td>2010</td>\n",
              "      <td>1.53</td>\n",
              "      <td>28.5</td>\n",
              "      <td>NaN</td>\n",
              "    </tr>\n",
              "  </tbody>\n",
              "</table>\n",
              "</div>"
            ],
            "text/plain": [
              "    Yil  Temp  Aholi soni YAIM\n",
              "0  2021  1.54        33.9  NaN\n",
              "1  2020  1.48        33.5  NaN\n",
              "2  2019  1.56        32.9  NaN\n",
              "3  2018  1.62        32.5  NaN\n",
              "4  2017  1.65        31.9  NaN\n",
              "5  2016  1.66        31.4  NaN\n",
              "6  2015  1.64        30.9  NaN\n",
              "7  2010  1.53        28.5  NaN"
            ]
          },
          "metadata": {},
          "execution_count": 14
        }
      ]
    },
    {
      "cell_type": "markdown",
      "metadata": {
        "id": "JSnY2khhTsOA"
      },
      "source": [
        "#index - DataFrame yaratishda indekslarni belgilash"
      ]
    },
    {
      "cell_type": "code",
      "metadata": {
        "id": "E7BUL4B-TigA"
      },
      "source": [
        "df = pd.DataFrame(data, columns=[\"Yil\", \"Temp\", \"Aholi soni\", \"YAIM\"], index = [21, 20, 19, 18, 17, 16, 15, 10]) # DataFrame yaratishda indekslarni o'zimiz ko'rsatdik"
      ],
      "execution_count": 21,
      "outputs": []
    },
    {
      "cell_type": "code",
      "metadata": {
        "colab": {
          "base_uri": "https://localhost:8080/",
          "height": 294
        },
        "id": "V3H1MTsDT6bC",
        "outputId": "9c2743a2-fb8f-401f-de28-ce8d5f52c5a4"
      },
      "source": [
        "df"
      ],
      "execution_count": 22,
      "outputs": [
        {
          "output_type": "execute_result",
          "data": {
            "text/html": [
              "<div>\n",
              "<style scoped>\n",
              "    .dataframe tbody tr th:only-of-type {\n",
              "        vertical-align: middle;\n",
              "    }\n",
              "\n",
              "    .dataframe tbody tr th {\n",
              "        vertical-align: top;\n",
              "    }\n",
              "\n",
              "    .dataframe thead th {\n",
              "        text-align: right;\n",
              "    }\n",
              "</style>\n",
              "<table border=\"1\" class=\"dataframe\">\n",
              "  <thead>\n",
              "    <tr style=\"text-align: right;\">\n",
              "      <th></th>\n",
              "      <th>Yil</th>\n",
              "      <th>Temp</th>\n",
              "      <th>Aholi soni</th>\n",
              "      <th>YAIM</th>\n",
              "    </tr>\n",
              "  </thead>\n",
              "  <tbody>\n",
              "    <tr>\n",
              "      <th>21</th>\n",
              "      <td>2021</td>\n",
              "      <td>1.54</td>\n",
              "      <td>33.9</td>\n",
              "      <td>NaN</td>\n",
              "    </tr>\n",
              "    <tr>\n",
              "      <th>20</th>\n",
              "      <td>2020</td>\n",
              "      <td>1.48</td>\n",
              "      <td>33.5</td>\n",
              "      <td>NaN</td>\n",
              "    </tr>\n",
              "    <tr>\n",
              "      <th>19</th>\n",
              "      <td>2019</td>\n",
              "      <td>1.56</td>\n",
              "      <td>32.9</td>\n",
              "      <td>NaN</td>\n",
              "    </tr>\n",
              "    <tr>\n",
              "      <th>18</th>\n",
              "      <td>2018</td>\n",
              "      <td>1.62</td>\n",
              "      <td>32.5</td>\n",
              "      <td>NaN</td>\n",
              "    </tr>\n",
              "    <tr>\n",
              "      <th>17</th>\n",
              "      <td>2017</td>\n",
              "      <td>1.65</td>\n",
              "      <td>31.9</td>\n",
              "      <td>NaN</td>\n",
              "    </tr>\n",
              "    <tr>\n",
              "      <th>16</th>\n",
              "      <td>2016</td>\n",
              "      <td>1.66</td>\n",
              "      <td>31.4</td>\n",
              "      <td>NaN</td>\n",
              "    </tr>\n",
              "    <tr>\n",
              "      <th>15</th>\n",
              "      <td>2015</td>\n",
              "      <td>1.64</td>\n",
              "      <td>30.9</td>\n",
              "      <td>NaN</td>\n",
              "    </tr>\n",
              "    <tr>\n",
              "      <th>10</th>\n",
              "      <td>2010</td>\n",
              "      <td>1.53</td>\n",
              "      <td>28.5</td>\n",
              "      <td>NaN</td>\n",
              "    </tr>\n",
              "  </tbody>\n",
              "</table>\n",
              "</div>"
            ],
            "text/plain": [
              "     Yil  Temp  Aholi soni YAIM\n",
              "21  2021  1.54        33.9  NaN\n",
              "20  2020  1.48        33.5  NaN\n",
              "19  2019  1.56        32.9  NaN\n",
              "18  2018  1.62        32.5  NaN\n",
              "17  2017  1.65        31.9  NaN\n",
              "16  2016  1.66        31.4  NaN\n",
              "15  2015  1.64        30.9  NaN\n",
              "10  2010  1.53        28.5  NaN"
            ]
          },
          "metadata": {},
          "execution_count": 22
        }
      ]
    },
    {
      "cell_type": "markdown",
      "metadata": {
        "id": "GkxoluZAUOOT"
      },
      "source": [
        "#Alohida ustunga murojaat qilish"
      ]
    },
    {
      "cell_type": "code",
      "metadata": {
        "colab": {
          "base_uri": "https://localhost:8080/"
        },
        "id": "_eCVNcw3UIJp",
        "outputId": "715d7456-1dcb-469c-e473-fb38bdadd28a"
      },
      "source": [
        "df[\"Aholi soni\"] # df nin faqat \"Aholi soni\" ustunini ko'rish"
      ],
      "execution_count": 24,
      "outputs": [
        {
          "output_type": "execute_result",
          "data": {
            "text/plain": [
              "21    33.9\n",
              "20    33.5\n",
              "19    32.9\n",
              "18    32.5\n",
              "17    31.9\n",
              "16    31.4\n",
              "15    30.9\n",
              "10    28.5\n",
              "Name: Aholi soni, dtype: float64"
            ]
          },
          "metadata": {},
          "execution_count": 24
        }
      ]
    },
    {
      "cell_type": "markdown",
      "metadata": {
        "id": "tJ_4u6FhUilq"
      },
      "source": [
        "#DataFrame ning alohida bitta ustunining toifasi `Series` bo'ladi"
      ]
    },
    {
      "cell_type": "code",
      "metadata": {
        "id": "MYvPh7OFUURQ"
      },
      "source": [
        "aholi = df[\"Aholi soni\"]"
      ],
      "execution_count": 25,
      "outputs": []
    },
    {
      "cell_type": "code",
      "metadata": {
        "colab": {
          "base_uri": "https://localhost:8080/"
        },
        "id": "54uRBlGoUugR",
        "outputId": "bdac8dd8-0812-4077-ee27-a874d58f3ad7"
      },
      "source": [
        "aholi"
      ],
      "execution_count": 27,
      "outputs": [
        {
          "output_type": "execute_result",
          "data": {
            "text/plain": [
              "21    33.9\n",
              "20    33.5\n",
              "19    32.9\n",
              "18    32.5\n",
              "17    31.9\n",
              "16    31.4\n",
              "15    30.9\n",
              "10    28.5\n",
              "Name: Aholi soni, dtype: float64"
            ]
          },
          "metadata": {},
          "execution_count": 27
        }
      ]
    },
    {
      "cell_type": "code",
      "metadata": {
        "colab": {
          "base_uri": "https://localhost:8080/"
        },
        "id": "bvsCYhZqUvDw",
        "outputId": "f642cceb-2b4a-4c58-8427-ca78c5c4c734"
      },
      "source": [
        "type(aholi)"
      ],
      "execution_count": 28,
      "outputs": [
        {
          "output_type": "execute_result",
          "data": {
            "text/plain": [
              "pandas.core.series.Series"
            ]
          },
          "metadata": {},
          "execution_count": 28
        }
      ]
    },
    {
      "cell_type": "markdown",
      "metadata": {
        "id": "51Qy1wjdU61x"
      },
      "source": [
        "#Agar ustun nomi pythondagi o'zgaruvchilarga qo'yilgan talablarga javob bersa unga to'g'ridan to'g'ri (paramertr ko'rinishida) murojaat qilish ham mumkin."
      ]
    },
    {
      "cell_type": "code",
      "metadata": {
        "colab": {
          "base_uri": "https://localhost:8080/"
        },
        "id": "aay7ztqZUx_w",
        "outputId": "90e8a610-5c9f-4838-bbbc-8a4d024ecc67"
      },
      "source": [
        "df.Temp # df DataFramening \"Temp\" uztuniga df.Temp (parametr kabi) murojaat qilsa bo'ladi"
      ],
      "execution_count": 30,
      "outputs": [
        {
          "output_type": "execute_result",
          "data": {
            "text/plain": [
              "21    1.54\n",
              "20    1.48\n",
              "19    1.56\n",
              "18    1.62\n",
              "17    1.65\n",
              "16    1.66\n",
              "15    1.64\n",
              "10    1.53\n",
              "Name: Temp, dtype: float64"
            ]
          },
          "metadata": {},
          "execution_count": 30
        }
      ]
    },
    {
      "cell_type": "code",
      "metadata": {
        "colab": {
          "base_uri": "https://localhost:8080/"
        },
        "id": "bqvTzEROVHFA",
        "outputId": "faa2234b-49c3-46d9-d6cc-f09c9d700c2c"
      },
      "source": [
        "df.Yil # df DataFramening \"Yil\" uztuniga df.Yil (parametr kabi) murojaat qilsa bo'ladi"
      ],
      "execution_count": 32,
      "outputs": [
        {
          "output_type": "execute_result",
          "data": {
            "text/plain": [
              "21    2021\n",
              "20    2020\n",
              "19    2019\n",
              "18    2018\n",
              "17    2017\n",
              "16    2016\n",
              "15    2015\n",
              "10    2010\n",
              "Name: Yil, dtype: int64"
            ]
          },
          "metadata": {},
          "execution_count": 32
        }
      ]
    },
    {
      "cell_type": "markdown",
      "metadata": {
        "id": "6ziJlrAOVsBN"
      },
      "source": [
        "#Ustunning qiymatlarini o'zgartirish"
      ]
    },
    {
      "cell_type": "code",
      "metadata": {
        "colab": {
          "base_uri": "https://localhost:8080/",
          "height": 294
        },
        "id": "bBsuC6z3VPZI",
        "outputId": "300ce178-3bde-4231-c51c-047e87749be0"
      },
      "source": [
        "df"
      ],
      "execution_count": 33,
      "outputs": [
        {
          "output_type": "execute_result",
          "data": {
            "text/html": [
              "<div>\n",
              "<style scoped>\n",
              "    .dataframe tbody tr th:only-of-type {\n",
              "        vertical-align: middle;\n",
              "    }\n",
              "\n",
              "    .dataframe tbody tr th {\n",
              "        vertical-align: top;\n",
              "    }\n",
              "\n",
              "    .dataframe thead th {\n",
              "        text-align: right;\n",
              "    }\n",
              "</style>\n",
              "<table border=\"1\" class=\"dataframe\">\n",
              "  <thead>\n",
              "    <tr style=\"text-align: right;\">\n",
              "      <th></th>\n",
              "      <th>Yil</th>\n",
              "      <th>Temp</th>\n",
              "      <th>Aholi soni</th>\n",
              "      <th>YAIM</th>\n",
              "    </tr>\n",
              "  </thead>\n",
              "  <tbody>\n",
              "    <tr>\n",
              "      <th>21</th>\n",
              "      <td>2021</td>\n",
              "      <td>1.54</td>\n",
              "      <td>33.9</td>\n",
              "      <td>NaN</td>\n",
              "    </tr>\n",
              "    <tr>\n",
              "      <th>20</th>\n",
              "      <td>2020</td>\n",
              "      <td>1.48</td>\n",
              "      <td>33.5</td>\n",
              "      <td>NaN</td>\n",
              "    </tr>\n",
              "    <tr>\n",
              "      <th>19</th>\n",
              "      <td>2019</td>\n",
              "      <td>1.56</td>\n",
              "      <td>32.9</td>\n",
              "      <td>NaN</td>\n",
              "    </tr>\n",
              "    <tr>\n",
              "      <th>18</th>\n",
              "      <td>2018</td>\n",
              "      <td>1.62</td>\n",
              "      <td>32.5</td>\n",
              "      <td>NaN</td>\n",
              "    </tr>\n",
              "    <tr>\n",
              "      <th>17</th>\n",
              "      <td>2017</td>\n",
              "      <td>1.65</td>\n",
              "      <td>31.9</td>\n",
              "      <td>NaN</td>\n",
              "    </tr>\n",
              "    <tr>\n",
              "      <th>16</th>\n",
              "      <td>2016</td>\n",
              "      <td>1.66</td>\n",
              "      <td>31.4</td>\n",
              "      <td>NaN</td>\n",
              "    </tr>\n",
              "    <tr>\n",
              "      <th>15</th>\n",
              "      <td>2015</td>\n",
              "      <td>1.64</td>\n",
              "      <td>30.9</td>\n",
              "      <td>NaN</td>\n",
              "    </tr>\n",
              "    <tr>\n",
              "      <th>10</th>\n",
              "      <td>2010</td>\n",
              "      <td>1.53</td>\n",
              "      <td>28.5</td>\n",
              "      <td>NaN</td>\n",
              "    </tr>\n",
              "  </tbody>\n",
              "</table>\n",
              "</div>"
            ],
            "text/plain": [
              "     Yil  Temp  Aholi soni YAIM\n",
              "21  2021  1.54        33.9  NaN\n",
              "20  2020  1.48        33.5  NaN\n",
              "19  2019  1.56        32.9  NaN\n",
              "18  2018  1.62        32.5  NaN\n",
              "17  2017  1.65        31.9  NaN\n",
              "16  2016  1.66        31.4  NaN\n",
              "15  2015  1.64        30.9  NaN\n",
              "10  2010  1.53        28.5  NaN"
            ]
          },
          "metadata": {},
          "execution_count": 33
        }
      ]
    },
    {
      "cell_type": "code",
      "metadata": {
        "id": "lA7IBTXQVyMh"
      },
      "source": [
        "df.YAIM = 0 # df ning \"YAIM\" ustunidagi barcha qiymatlarni 0 ga o'zgartirish"
      ],
      "execution_count": 35,
      "outputs": []
    },
    {
      "cell_type": "code",
      "metadata": {
        "colab": {
          "base_uri": "https://localhost:8080/",
          "height": 294
        },
        "id": "rOUX4ElsV3Pg",
        "outputId": "1c8c38a8-e825-4973-be7d-b9ee6e022a58"
      },
      "source": [
        "df"
      ],
      "execution_count": 36,
      "outputs": [
        {
          "output_type": "execute_result",
          "data": {
            "text/html": [
              "<div>\n",
              "<style scoped>\n",
              "    .dataframe tbody tr th:only-of-type {\n",
              "        vertical-align: middle;\n",
              "    }\n",
              "\n",
              "    .dataframe tbody tr th {\n",
              "        vertical-align: top;\n",
              "    }\n",
              "\n",
              "    .dataframe thead th {\n",
              "        text-align: right;\n",
              "    }\n",
              "</style>\n",
              "<table border=\"1\" class=\"dataframe\">\n",
              "  <thead>\n",
              "    <tr style=\"text-align: right;\">\n",
              "      <th></th>\n",
              "      <th>Yil</th>\n",
              "      <th>Temp</th>\n",
              "      <th>Aholi soni</th>\n",
              "      <th>YAIM</th>\n",
              "    </tr>\n",
              "  </thead>\n",
              "  <tbody>\n",
              "    <tr>\n",
              "      <th>21</th>\n",
              "      <td>2021</td>\n",
              "      <td>1.54</td>\n",
              "      <td>33.9</td>\n",
              "      <td>0</td>\n",
              "    </tr>\n",
              "    <tr>\n",
              "      <th>20</th>\n",
              "      <td>2020</td>\n",
              "      <td>1.48</td>\n",
              "      <td>33.5</td>\n",
              "      <td>0</td>\n",
              "    </tr>\n",
              "    <tr>\n",
              "      <th>19</th>\n",
              "      <td>2019</td>\n",
              "      <td>1.56</td>\n",
              "      <td>32.9</td>\n",
              "      <td>0</td>\n",
              "    </tr>\n",
              "    <tr>\n",
              "      <th>18</th>\n",
              "      <td>2018</td>\n",
              "      <td>1.62</td>\n",
              "      <td>32.5</td>\n",
              "      <td>0</td>\n",
              "    </tr>\n",
              "    <tr>\n",
              "      <th>17</th>\n",
              "      <td>2017</td>\n",
              "      <td>1.65</td>\n",
              "      <td>31.9</td>\n",
              "      <td>0</td>\n",
              "    </tr>\n",
              "    <tr>\n",
              "      <th>16</th>\n",
              "      <td>2016</td>\n",
              "      <td>1.66</td>\n",
              "      <td>31.4</td>\n",
              "      <td>0</td>\n",
              "    </tr>\n",
              "    <tr>\n",
              "      <th>15</th>\n",
              "      <td>2015</td>\n",
              "      <td>1.64</td>\n",
              "      <td>30.9</td>\n",
              "      <td>0</td>\n",
              "    </tr>\n",
              "    <tr>\n",
              "      <th>10</th>\n",
              "      <td>2010</td>\n",
              "      <td>1.53</td>\n",
              "      <td>28.5</td>\n",
              "      <td>0</td>\n",
              "    </tr>\n",
              "  </tbody>\n",
              "</table>\n",
              "</div>"
            ],
            "text/plain": [
              "     Yil  Temp  Aholi soni  YAIM\n",
              "21  2021  1.54        33.9     0\n",
              "20  2020  1.48        33.5     0\n",
              "19  2019  1.56        32.9     0\n",
              "18  2018  1.62        32.5     0\n",
              "17  2017  1.65        31.9     0\n",
              "16  2016  1.66        31.4     0\n",
              "15  2015  1.64        30.9     0\n",
              "10  2010  1.53        28.5     0"
            ]
          },
          "metadata": {},
          "execution_count": 36
        }
      ]
    },
    {
      "cell_type": "markdown",
      "metadata": {
        "id": "ebUHqGJpWJbC"
      },
      "source": [
        "#Ma'lum bir qiymatlarni o'zgartirish uchun `Series` dan foydalanamiz"
      ]
    },
    {
      "cell_type": "code",
      "metadata": {
        "id": "UUOmNa2bV-wg"
      },
      "source": [
        "val = pd.Series([1700, 1650, 1300], index = [21, 20, 10]) # 21, 20, 10 yillar uchun qiymatlar kiritdik. index ga kerakli indekslarni ko'rsatdik"
      ],
      "execution_count": 37,
      "outputs": []
    },
    {
      "cell_type": "code",
      "metadata": {
        "id": "udRss5A4WwGy"
      },
      "source": [
        "df.YAIM = val # df ning YAIM ustunidagi qiymatlarni val ga o'zgartirdik"
      ],
      "execution_count": 38,
      "outputs": []
    },
    {
      "cell_type": "code",
      "metadata": {
        "colab": {
          "base_uri": "https://localhost:8080/",
          "height": 294
        },
        "id": "YluYHye_W3FQ",
        "outputId": "6d48fc84-6809-4e09-f30f-f0c7bd3b871f"
      },
      "source": [
        "df"
      ],
      "execution_count": 39,
      "outputs": [
        {
          "output_type": "execute_result",
          "data": {
            "text/html": [
              "<div>\n",
              "<style scoped>\n",
              "    .dataframe tbody tr th:only-of-type {\n",
              "        vertical-align: middle;\n",
              "    }\n",
              "\n",
              "    .dataframe tbody tr th {\n",
              "        vertical-align: top;\n",
              "    }\n",
              "\n",
              "    .dataframe thead th {\n",
              "        text-align: right;\n",
              "    }\n",
              "</style>\n",
              "<table border=\"1\" class=\"dataframe\">\n",
              "  <thead>\n",
              "    <tr style=\"text-align: right;\">\n",
              "      <th></th>\n",
              "      <th>Yil</th>\n",
              "      <th>Temp</th>\n",
              "      <th>Aholi soni</th>\n",
              "      <th>YAIM</th>\n",
              "    </tr>\n",
              "  </thead>\n",
              "  <tbody>\n",
              "    <tr>\n",
              "      <th>21</th>\n",
              "      <td>2021</td>\n",
              "      <td>1.54</td>\n",
              "      <td>33.9</td>\n",
              "      <td>1700.0</td>\n",
              "    </tr>\n",
              "    <tr>\n",
              "      <th>20</th>\n",
              "      <td>2020</td>\n",
              "      <td>1.48</td>\n",
              "      <td>33.5</td>\n",
              "      <td>1650.0</td>\n",
              "    </tr>\n",
              "    <tr>\n",
              "      <th>19</th>\n",
              "      <td>2019</td>\n",
              "      <td>1.56</td>\n",
              "      <td>32.9</td>\n",
              "      <td>NaN</td>\n",
              "    </tr>\n",
              "    <tr>\n",
              "      <th>18</th>\n",
              "      <td>2018</td>\n",
              "      <td>1.62</td>\n",
              "      <td>32.5</td>\n",
              "      <td>NaN</td>\n",
              "    </tr>\n",
              "    <tr>\n",
              "      <th>17</th>\n",
              "      <td>2017</td>\n",
              "      <td>1.65</td>\n",
              "      <td>31.9</td>\n",
              "      <td>NaN</td>\n",
              "    </tr>\n",
              "    <tr>\n",
              "      <th>16</th>\n",
              "      <td>2016</td>\n",
              "      <td>1.66</td>\n",
              "      <td>31.4</td>\n",
              "      <td>NaN</td>\n",
              "    </tr>\n",
              "    <tr>\n",
              "      <th>15</th>\n",
              "      <td>2015</td>\n",
              "      <td>1.64</td>\n",
              "      <td>30.9</td>\n",
              "      <td>NaN</td>\n",
              "    </tr>\n",
              "    <tr>\n",
              "      <th>10</th>\n",
              "      <td>2010</td>\n",
              "      <td>1.53</td>\n",
              "      <td>28.5</td>\n",
              "      <td>1300.0</td>\n",
              "    </tr>\n",
              "  </tbody>\n",
              "</table>\n",
              "</div>"
            ],
            "text/plain": [
              "     Yil  Temp  Aholi soni    YAIM\n",
              "21  2021  1.54        33.9  1700.0\n",
              "20  2020  1.48        33.5  1650.0\n",
              "19  2019  1.56        32.9     NaN\n",
              "18  2018  1.62        32.5     NaN\n",
              "17  2017  1.65        31.9     NaN\n",
              "16  2016  1.66        31.4     NaN\n",
              "15  2015  1.64        30.9     NaN\n",
              "10  2010  1.53        28.5  1300.0"
            ]
          },
          "metadata": {},
          "execution_count": 39
        }
      ]
    },
    {
      "cell_type": "markdown",
      "metadata": {
        "id": "gFBJW2TGXBxt"
      },
      "source": [
        "#Barcha qiymatlarni o'zgartirish uchun shu uzunlikdagi ro'yhat (List) ni uzatamiz"
      ]
    },
    {
      "cell_type": "markdown",
      "metadata": {
        "id": "dCnLS4fLXygL"
      },
      "source": [
        "**Ro'yhat uzunligi df ustunining qatorlari soniga teng bo'lishi shart**"
      ]
    },
    {
      "cell_type": "code",
      "metadata": {
        "id": "Al5M9fEUW3qA"
      },
      "source": [
        "val = [1700, 1650, 1600, 1590, 1400, 1300, 1350, 1360] # ustunning barcha elementlari uchun ro'yhat tayyorladik"
      ],
      "execution_count": 40,
      "outputs": []
    },
    {
      "cell_type": "code",
      "metadata": {
        "id": "AC9Vo4fQXbRk"
      },
      "source": [
        "df.YAIM = val # df ning YAIM ustuni qiymatlarini val ro'yhati ga almashtirdik"
      ],
      "execution_count": 41,
      "outputs": []
    },
    {
      "cell_type": "code",
      "metadata": {
        "colab": {
          "base_uri": "https://localhost:8080/",
          "height": 294
        },
        "id": "78GwRkuuXq7Q",
        "outputId": "8de5812b-4ab2-48bb-d816-823aa122e24b"
      },
      "source": [
        "df"
      ],
      "execution_count": 42,
      "outputs": [
        {
          "output_type": "execute_result",
          "data": {
            "text/html": [
              "<div>\n",
              "<style scoped>\n",
              "    .dataframe tbody tr th:only-of-type {\n",
              "        vertical-align: middle;\n",
              "    }\n",
              "\n",
              "    .dataframe tbody tr th {\n",
              "        vertical-align: top;\n",
              "    }\n",
              "\n",
              "    .dataframe thead th {\n",
              "        text-align: right;\n",
              "    }\n",
              "</style>\n",
              "<table border=\"1\" class=\"dataframe\">\n",
              "  <thead>\n",
              "    <tr style=\"text-align: right;\">\n",
              "      <th></th>\n",
              "      <th>Yil</th>\n",
              "      <th>Temp</th>\n",
              "      <th>Aholi soni</th>\n",
              "      <th>YAIM</th>\n",
              "    </tr>\n",
              "  </thead>\n",
              "  <tbody>\n",
              "    <tr>\n",
              "      <th>21</th>\n",
              "      <td>2021</td>\n",
              "      <td>1.54</td>\n",
              "      <td>33.9</td>\n",
              "      <td>1700</td>\n",
              "    </tr>\n",
              "    <tr>\n",
              "      <th>20</th>\n",
              "      <td>2020</td>\n",
              "      <td>1.48</td>\n",
              "      <td>33.5</td>\n",
              "      <td>1650</td>\n",
              "    </tr>\n",
              "    <tr>\n",
              "      <th>19</th>\n",
              "      <td>2019</td>\n",
              "      <td>1.56</td>\n",
              "      <td>32.9</td>\n",
              "      <td>1600</td>\n",
              "    </tr>\n",
              "    <tr>\n",
              "      <th>18</th>\n",
              "      <td>2018</td>\n",
              "      <td>1.62</td>\n",
              "      <td>32.5</td>\n",
              "      <td>1590</td>\n",
              "    </tr>\n",
              "    <tr>\n",
              "      <th>17</th>\n",
              "      <td>2017</td>\n",
              "      <td>1.65</td>\n",
              "      <td>31.9</td>\n",
              "      <td>1400</td>\n",
              "    </tr>\n",
              "    <tr>\n",
              "      <th>16</th>\n",
              "      <td>2016</td>\n",
              "      <td>1.66</td>\n",
              "      <td>31.4</td>\n",
              "      <td>1300</td>\n",
              "    </tr>\n",
              "    <tr>\n",
              "      <th>15</th>\n",
              "      <td>2015</td>\n",
              "      <td>1.64</td>\n",
              "      <td>30.9</td>\n",
              "      <td>1350</td>\n",
              "    </tr>\n",
              "    <tr>\n",
              "      <th>10</th>\n",
              "      <td>2010</td>\n",
              "      <td>1.53</td>\n",
              "      <td>28.5</td>\n",
              "      <td>1360</td>\n",
              "    </tr>\n",
              "  </tbody>\n",
              "</table>\n",
              "</div>"
            ],
            "text/plain": [
              "     Yil  Temp  Aholi soni  YAIM\n",
              "21  2021  1.54        33.9  1700\n",
              "20  2020  1.48        33.5  1650\n",
              "19  2019  1.56        32.9  1600\n",
              "18  2018  1.62        32.5  1590\n",
              "17  2017  1.65        31.9  1400\n",
              "16  2016  1.66        31.4  1300\n",
              "15  2015  1.64        30.9  1350\n",
              "10  2010  1.53        28.5  1360"
            ]
          },
          "metadata": {},
          "execution_count": 42
        }
      ]
    },
    {
      "cell_type": "markdown",
      "metadata": {
        "id": "40xyOHS-YD1I"
      },
      "source": [
        "#DataFrame ga yangi ustun qo'shish"
      ]
    },
    {
      "cell_type": "code",
      "metadata": {
        "id": "q8Wb-sGFXrsI"
      },
      "source": [
        "df[\"1500+\"] = df.YAIM > 1500 # df.YAIM 1500 dan katta bo'lsa True, aks holda False qiymatlari bo'lgan \"1500+\" nomli ustun qo'shdik"
      ],
      "execution_count": 43,
      "outputs": []
    },
    {
      "cell_type": "code",
      "metadata": {
        "colab": {
          "base_uri": "https://localhost:8080/",
          "height": 294
        },
        "id": "ziajVIWmYabZ",
        "outputId": "ab15cc92-7bbb-4037-8f68-39c984226437"
      },
      "source": [
        "df"
      ],
      "execution_count": 44,
      "outputs": [
        {
          "output_type": "execute_result",
          "data": {
            "text/html": [
              "<div>\n",
              "<style scoped>\n",
              "    .dataframe tbody tr th:only-of-type {\n",
              "        vertical-align: middle;\n",
              "    }\n",
              "\n",
              "    .dataframe tbody tr th {\n",
              "        vertical-align: top;\n",
              "    }\n",
              "\n",
              "    .dataframe thead th {\n",
              "        text-align: right;\n",
              "    }\n",
              "</style>\n",
              "<table border=\"1\" class=\"dataframe\">\n",
              "  <thead>\n",
              "    <tr style=\"text-align: right;\">\n",
              "      <th></th>\n",
              "      <th>Yil</th>\n",
              "      <th>Temp</th>\n",
              "      <th>Aholi soni</th>\n",
              "      <th>YAIM</th>\n",
              "      <th>1500+</th>\n",
              "    </tr>\n",
              "  </thead>\n",
              "  <tbody>\n",
              "    <tr>\n",
              "      <th>21</th>\n",
              "      <td>2021</td>\n",
              "      <td>1.54</td>\n",
              "      <td>33.9</td>\n",
              "      <td>1700</td>\n",
              "      <td>True</td>\n",
              "    </tr>\n",
              "    <tr>\n",
              "      <th>20</th>\n",
              "      <td>2020</td>\n",
              "      <td>1.48</td>\n",
              "      <td>33.5</td>\n",
              "      <td>1650</td>\n",
              "      <td>True</td>\n",
              "    </tr>\n",
              "    <tr>\n",
              "      <th>19</th>\n",
              "      <td>2019</td>\n",
              "      <td>1.56</td>\n",
              "      <td>32.9</td>\n",
              "      <td>1600</td>\n",
              "      <td>True</td>\n",
              "    </tr>\n",
              "    <tr>\n",
              "      <th>18</th>\n",
              "      <td>2018</td>\n",
              "      <td>1.62</td>\n",
              "      <td>32.5</td>\n",
              "      <td>1590</td>\n",
              "      <td>True</td>\n",
              "    </tr>\n",
              "    <tr>\n",
              "      <th>17</th>\n",
              "      <td>2017</td>\n",
              "      <td>1.65</td>\n",
              "      <td>31.9</td>\n",
              "      <td>1400</td>\n",
              "      <td>False</td>\n",
              "    </tr>\n",
              "    <tr>\n",
              "      <th>16</th>\n",
              "      <td>2016</td>\n",
              "      <td>1.66</td>\n",
              "      <td>31.4</td>\n",
              "      <td>1300</td>\n",
              "      <td>False</td>\n",
              "    </tr>\n",
              "    <tr>\n",
              "      <th>15</th>\n",
              "      <td>2015</td>\n",
              "      <td>1.64</td>\n",
              "      <td>30.9</td>\n",
              "      <td>1350</td>\n",
              "      <td>False</td>\n",
              "    </tr>\n",
              "    <tr>\n",
              "      <th>10</th>\n",
              "      <td>2010</td>\n",
              "      <td>1.53</td>\n",
              "      <td>28.5</td>\n",
              "      <td>1360</td>\n",
              "      <td>False</td>\n",
              "    </tr>\n",
              "  </tbody>\n",
              "</table>\n",
              "</div>"
            ],
            "text/plain": [
              "     Yil  Temp  Aholi soni  YAIM  1500+\n",
              "21  2021  1.54        33.9  1700   True\n",
              "20  2020  1.48        33.5  1650   True\n",
              "19  2019  1.56        32.9  1600   True\n",
              "18  2018  1.62        32.5  1590   True\n",
              "17  2017  1.65        31.9  1400  False\n",
              "16  2016  1.66        31.4  1300  False\n",
              "15  2015  1.64        30.9  1350  False\n",
              "10  2010  1.53        28.5  1360  False"
            ]
          },
          "metadata": {},
          "execution_count": 44
        }
      ]
    },
    {
      "cell_type": "markdown",
      "metadata": {
        "id": "G7n6_kYvYq1B"
      },
      "source": [
        "#Ustunlarni o'chirish"
      ]
    },
    {
      "cell_type": "markdown",
      "metadata": {
        "id": "vmpFIPmMYtaI"
      },
      "source": [
        "**Huddi lug'at bilan ishlaganday uztunlarni o'chirish mumkin**"
      ]
    },
    {
      "cell_type": "code",
      "metadata": {
        "id": "eldPScNAYbP4"
      },
      "source": [
        "del df[\"1500+\"] # df ning \"1500+\" ustunini o'chirish"
      ],
      "execution_count": 45,
      "outputs": []
    },
    {
      "cell_type": "code",
      "metadata": {
        "colab": {
          "base_uri": "https://localhost:8080/",
          "height": 294
        },
        "id": "MGOgl5-LY3VR",
        "outputId": "cd5d4e31-91bc-4f26-d0ac-d6bfbc593ad2"
      },
      "source": [
        "df"
      ],
      "execution_count": 46,
      "outputs": [
        {
          "output_type": "execute_result",
          "data": {
            "text/html": [
              "<div>\n",
              "<style scoped>\n",
              "    .dataframe tbody tr th:only-of-type {\n",
              "        vertical-align: middle;\n",
              "    }\n",
              "\n",
              "    .dataframe tbody tr th {\n",
              "        vertical-align: top;\n",
              "    }\n",
              "\n",
              "    .dataframe thead th {\n",
              "        text-align: right;\n",
              "    }\n",
              "</style>\n",
              "<table border=\"1\" class=\"dataframe\">\n",
              "  <thead>\n",
              "    <tr style=\"text-align: right;\">\n",
              "      <th></th>\n",
              "      <th>Yil</th>\n",
              "      <th>Temp</th>\n",
              "      <th>Aholi soni</th>\n",
              "      <th>YAIM</th>\n",
              "    </tr>\n",
              "  </thead>\n",
              "  <tbody>\n",
              "    <tr>\n",
              "      <th>21</th>\n",
              "      <td>2021</td>\n",
              "      <td>1.54</td>\n",
              "      <td>33.9</td>\n",
              "      <td>1700</td>\n",
              "    </tr>\n",
              "    <tr>\n",
              "      <th>20</th>\n",
              "      <td>2020</td>\n",
              "      <td>1.48</td>\n",
              "      <td>33.5</td>\n",
              "      <td>1650</td>\n",
              "    </tr>\n",
              "    <tr>\n",
              "      <th>19</th>\n",
              "      <td>2019</td>\n",
              "      <td>1.56</td>\n",
              "      <td>32.9</td>\n",
              "      <td>1600</td>\n",
              "    </tr>\n",
              "    <tr>\n",
              "      <th>18</th>\n",
              "      <td>2018</td>\n",
              "      <td>1.62</td>\n",
              "      <td>32.5</td>\n",
              "      <td>1590</td>\n",
              "    </tr>\n",
              "    <tr>\n",
              "      <th>17</th>\n",
              "      <td>2017</td>\n",
              "      <td>1.65</td>\n",
              "      <td>31.9</td>\n",
              "      <td>1400</td>\n",
              "    </tr>\n",
              "    <tr>\n",
              "      <th>16</th>\n",
              "      <td>2016</td>\n",
              "      <td>1.66</td>\n",
              "      <td>31.4</td>\n",
              "      <td>1300</td>\n",
              "    </tr>\n",
              "    <tr>\n",
              "      <th>15</th>\n",
              "      <td>2015</td>\n",
              "      <td>1.64</td>\n",
              "      <td>30.9</td>\n",
              "      <td>1350</td>\n",
              "    </tr>\n",
              "    <tr>\n",
              "      <th>10</th>\n",
              "      <td>2010</td>\n",
              "      <td>1.53</td>\n",
              "      <td>28.5</td>\n",
              "      <td>1360</td>\n",
              "    </tr>\n",
              "  </tbody>\n",
              "</table>\n",
              "</div>"
            ],
            "text/plain": [
              "     Yil  Temp  Aholi soni  YAIM\n",
              "21  2021  1.54        33.9  1700\n",
              "20  2020  1.48        33.5  1650\n",
              "19  2019  1.56        32.9  1600\n",
              "18  2018  1.62        32.5  1590\n",
              "17  2017  1.65        31.9  1400\n",
              "16  2016  1.66        31.4  1300\n",
              "15  2015  1.64        30.9  1350\n",
              "10  2010  1.53        28.5  1360"
            ]
          },
          "metadata": {},
          "execution_count": 46
        }
      ]
    },
    {
      "cell_type": "code",
      "metadata": {
        "id": "j5ILbiAiY31Y"
      },
      "source": [
        ""
      ],
      "execution_count": null,
      "outputs": []
    }
  ]
}