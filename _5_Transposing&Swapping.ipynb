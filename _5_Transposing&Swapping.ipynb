{
  "nbformat": 4,
  "nbformat_minor": 0,
  "metadata": {
    "colab": {
      "name": "#5_Transposing&Swapping.ipynb",
      "provenance": [],
      "collapsed_sections": [],
      "authorship_tag": "ABX9TyPClGvRI9IQCpERR9S8J32S",
      "include_colab_link": true
    },
    "kernelspec": {
      "name": "python3",
      "display_name": "Python 3"
    },
    "language_info": {
      "name": "python"
    }
  },
  "cells": [
    {
      "cell_type": "markdown",
      "metadata": {
        "id": "view-in-github",
        "colab_type": "text"
      },
      "source": [
        "<a href=\"https://colab.research.google.com/github/omullaboyev/data-science/blob/main/_5_Transposing%26Swapping.ipynb\" target=\"_parent\"><img src=\"https://colab.research.google.com/assets/colab-badge.svg\" alt=\"Open In Colab\"/></a>"
      ]
    },
    {
      "cell_type": "markdown",
      "metadata": {
        "id": "pKd5II1-paHl"
      },
      "source": [
        "#Data Science va Sun'iy Intellekt Praktikum"
      ]
    },
    {
      "cell_type": "markdown",
      "metadata": {
        "id": "kpvxpkydpgWw"
      },
      "source": [
        "#Ma'lumotlar Tahlili"
      ]
    },
    {
      "cell_type": "markdown",
      "metadata": {
        "id": "28AZJR7HpjP3"
      },
      "source": [
        "#2.1 Numpy kutubxonasi bilan ishlash"
      ]
    },
    {
      "cell_type": "markdown",
      "metadata": {
        "id": "7osRte9rpm19"
      },
      "source": [
        "Numpy kutubxonasini chaqirib olish"
      ]
    },
    {
      "cell_type": "code",
      "metadata": {
        "id": "eBIzR4WrpVdK"
      },
      "source": [
        "import numpy as np"
      ],
      "execution_count": 1,
      "outputs": []
    },
    {
      "cell_type": "markdown",
      "metadata": {
        "id": "qUNpFMDGpvL-"
      },
      "source": [
        "2.1.1. N - o'lchamli massiv (array)larga ishlov berish"
      ]
    },
    {
      "cell_type": "markdown",
      "metadata": {
        "id": "kPVoPesEp4Zi"
      },
      "source": [
        "# Massivlar pozitsiyasini ko'chirish **`Transpose`** va o'qlar o'rnin almashtirish **`Swapping axes`**"
      ]
    },
    {
      "cell_type": "markdown",
      "metadata": {
        "id": "liZKOW52rFKj"
      },
      "source": [
        "# **`reshape`** metodi"
      ]
    },
    {
      "cell_type": "code",
      "metadata": {
        "colab": {
          "base_uri": "https://localhost:8080/"
        },
        "id": "1SMWCIlnps0F",
        "outputId": "10e67a03-6f84-492c-a2f5-457a5767a264"
      },
      "source": [
        "A = np.arange(6).reshape(3, 2) # A massiv : Elementlari 0~6, shape (3, 2)\n",
        "A"
      ],
      "execution_count": 4,
      "outputs": [
        {
          "output_type": "execute_result",
          "data": {
            "text/plain": [
              "array([[0, 1],\n",
              "       [2, 3],\n",
              "       [4, 5]])"
            ]
          },
          "metadata": {},
          "execution_count": 4
        }
      ]
    },
    {
      "cell_type": "code",
      "metadata": {
        "colab": {
          "base_uri": "https://localhost:8080/"
        },
        "id": "EgLqAwZgrgCG",
        "outputId": "9e7b4ac3-ca4b-4f32-f8f9-736f1c0b7c10"
      },
      "source": [
        "A.T # A massivning Transpose ko'rinishi"
      ],
      "execution_count": 5,
      "outputs": [
        {
          "output_type": "execute_result",
          "data": {
            "text/plain": [
              "array([[0, 2, 4],\n",
              "       [1, 3, 5]])"
            ]
          },
          "metadata": {},
          "execution_count": 5
        }
      ]
    },
    {
      "cell_type": "markdown",
      "metadata": {
        "id": "cdY7lnDDsJ9c"
      },
      "source": [
        "# **`swapping axes`**"
      ]
    },
    {
      "cell_type": "code",
      "metadata": {
        "colab": {
          "base_uri": "https://localhost:8080/"
        },
        "id": "KKDSRrqXsBWd",
        "outputId": "2b88d314-146b-4381-e576-20e25b454469"
      },
      "source": [
        "A"
      ],
      "execution_count": 6,
      "outputs": [
        {
          "output_type": "execute_result",
          "data": {
            "text/plain": [
              "array([[0, 1],\n",
              "       [2, 3],\n",
              "       [4, 5]])"
            ]
          },
          "metadata": {},
          "execution_count": 6
        }
      ]
    },
    {
      "cell_type": "code",
      "metadata": {
        "colab": {
          "base_uri": "https://localhost:8080/"
        },
        "id": "vlQJWllMskSN",
        "outputId": "7302bb30-fac1-468b-d292-bea243b6de5e"
      },
      "source": [
        "A.swapaxes(1, 0) # A massivning Transpose ko'rinishini beradi"
      ],
      "execution_count": 8,
      "outputs": [
        {
          "output_type": "execute_result",
          "data": {
            "text/plain": [
              "array([[0, 2, 4],\n",
              "       [1, 3, 5]])"
            ]
          },
          "metadata": {},
          "execution_count": 8
        }
      ]
    },
    {
      "cell_type": "markdown",
      "metadata": {
        "id": "ArvQkn59uvs6"
      },
      "source": [
        "# **`Transpose`**ning ishlatiolishiga bir misol AA*T*"
      ]
    },
    {
      "cell_type": "code",
      "metadata": {
        "colab": {
          "base_uri": "https://localhost:8080/"
        },
        "id": "J0ycveGOubrs",
        "outputId": "a12741da-2b57-4e2b-ada8-34ca3b213e82"
      },
      "source": [
        "A"
      ],
      "execution_count": 9,
      "outputs": [
        {
          "output_type": "execute_result",
          "data": {
            "text/plain": [
              "array([[0, 1],\n",
              "       [2, 3],\n",
              "       [4, 5]])"
            ]
          },
          "metadata": {},
          "execution_count": 9
        }
      ]
    },
    {
      "cell_type": "code",
      "metadata": {
        "colab": {
          "base_uri": "https://localhost:8080/"
        },
        "id": "KUIsQT-hvF2r",
        "outputId": "2abd0019-8f7b-4797-cfe0-bfee6cec4bce"
      },
      "source": [
        "np.dot(A, A.T) # AA^T dan hosil bo'lgan massiv"
      ],
      "execution_count": 10,
      "outputs": [
        {
          "output_type": "execute_result",
          "data": {
            "text/plain": [
              "array([[ 1,  3,  5],\n",
              "       [ 3, 13, 23],\n",
              "       [ 5, 23, 41]])"
            ]
          },
          "metadata": {},
          "execution_count": 10
        }
      ]
    },
    {
      "cell_type": "code",
      "metadata": {
        "id": "UWruep1AvNcL"
      },
      "source": [
        ""
      ],
      "execution_count": null,
      "outputs": []
    }
  ]
}