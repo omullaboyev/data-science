{
  "nbformat": 4,
  "nbformat_minor": 0,
  "metadata": {
    "colab": {
      "name": "2.1.14.Pandas_UsingFunctions.ipynb",
      "provenance": [],
      "collapsed_sections": [],
      "include_colab_link": true
    },
    "kernelspec": {
      "name": "python3",
      "display_name": "Python 3"
    },
    "language_info": {
      "name": "python"
    }
  },
  "cells": [
    {
      "cell_type": "markdown",
      "metadata": {
        "id": "view-in-github",
        "colab_type": "text"
      },
      "source": [
        "<a href=\"https://colab.research.google.com/github/omullaboyev/data-science/blob/main/2_1_14_Pandas_UsingFunctions.ipynb\" target=\"_parent\"><img src=\"https://colab.research.google.com/assets/colab-badge.svg\" alt=\"Open In Colab\"/></a>"
      ]
    },
    {
      "cell_type": "markdown",
      "metadata": {
        "id": "RMzxxRKx-Bg3"
      },
      "source": [
        "#Data Science va Sun'iy Intellekt Praktikum"
      ]
    },
    {
      "cell_type": "markdown",
      "metadata": {
        "id": "tfoOs_Sd-EPH"
      },
      "source": [
        "Ma'lumotlar Tahlili. Pandas kutubxonasi"
      ]
    },
    {
      "cell_type": "markdown",
      "metadata": {
        "id": "SwzvMsZs-Gge"
      },
      "source": [
        "2.1 Pandas kutubxonasi bilan ishlash."
      ]
    },
    {
      "cell_type": "markdown",
      "metadata": {
        "id": "VRAw03LH-I1j"
      },
      "source": [
        "2.1.14 Pandas obyekti elementlariga funksiyalarni qo'llash"
      ]
    },
    {
      "cell_type": "code",
      "metadata": {
        "id": "LLMv9VOL99R1"
      },
      "source": [
        "import pandas as pd\n",
        "import numpy as np"
      ],
      "execution_count": 2,
      "outputs": []
    },
    {
      "cell_type": "code",
      "metadata": {
        "id": "ZKjTI7iK-LOL",
        "colab": {
          "base_uri": "https://localhost:8080/",
          "height": 143
        },
        "outputId": "43f970ba-e9c7-44ed-d6dd-69e11e8d1346"
      },
      "source": [
        "df = pd.DataFrame(np.random.randn(3, 4), index = list(\"abc\"), columns = [\"Olma\", \"Anor\", \"Qovun\", \"Anjir\"])\n",
        "df"
      ],
      "execution_count": 3,
      "outputs": [
        {
          "output_type": "execute_result",
          "data": {
            "text/html": [
              "<div>\n",
              "<style scoped>\n",
              "    .dataframe tbody tr th:only-of-type {\n",
              "        vertical-align: middle;\n",
              "    }\n",
              "\n",
              "    .dataframe tbody tr th {\n",
              "        vertical-align: top;\n",
              "    }\n",
              "\n",
              "    .dataframe thead th {\n",
              "        text-align: right;\n",
              "    }\n",
              "</style>\n",
              "<table border=\"1\" class=\"dataframe\">\n",
              "  <thead>\n",
              "    <tr style=\"text-align: right;\">\n",
              "      <th></th>\n",
              "      <th>Olma</th>\n",
              "      <th>Anor</th>\n",
              "      <th>Qovun</th>\n",
              "      <th>Anjir</th>\n",
              "    </tr>\n",
              "  </thead>\n",
              "  <tbody>\n",
              "    <tr>\n",
              "      <th>a</th>\n",
              "      <td>-0.565162</td>\n",
              "      <td>-1.274727</td>\n",
              "      <td>-0.022798</td>\n",
              "      <td>2.144151</td>\n",
              "    </tr>\n",
              "    <tr>\n",
              "      <th>b</th>\n",
              "      <td>-0.179773</td>\n",
              "      <td>-0.816861</td>\n",
              "      <td>0.263601</td>\n",
              "      <td>-1.727007</td>\n",
              "    </tr>\n",
              "    <tr>\n",
              "      <th>c</th>\n",
              "      <td>-1.443683</td>\n",
              "      <td>-0.042873</td>\n",
              "      <td>-0.323427</td>\n",
              "      <td>-0.792112</td>\n",
              "    </tr>\n",
              "  </tbody>\n",
              "</table>\n",
              "</div>"
            ],
            "text/plain": [
              "       Olma      Anor     Qovun     Anjir\n",
              "a -0.565162 -1.274727 -0.022798  2.144151\n",
              "b -0.179773 -0.816861  0.263601 -1.727007\n",
              "c -1.443683 -0.042873 -0.323427 -0.792112"
            ]
          },
          "metadata": {},
          "execution_count": 3
        }
      ]
    },
    {
      "cell_type": "markdown",
      "source": [
        "# `np.abs` - absolyut qiymat. DataFramening barcha elementlarining absolyut qiymati. DataFrame o'zgarmaydi."
      ],
      "metadata": {
        "id": "vu49iy5HXCpf"
      }
    },
    {
      "cell_type": "code",
      "source": [
        "np.abs(df) # df ning barcha elementlarining absolyut qiymati"
      ],
      "metadata": {
        "colab": {
          "base_uri": "https://localhost:8080/",
          "height": 143
        },
        "id": "iPfdPrXuWolM",
        "outputId": "8670381b-c471-46d4-8f39-ccd8d00bbe0e"
      },
      "execution_count": 4,
      "outputs": [
        {
          "output_type": "execute_result",
          "data": {
            "text/html": [
              "<div>\n",
              "<style scoped>\n",
              "    .dataframe tbody tr th:only-of-type {\n",
              "        vertical-align: middle;\n",
              "    }\n",
              "\n",
              "    .dataframe tbody tr th {\n",
              "        vertical-align: top;\n",
              "    }\n",
              "\n",
              "    .dataframe thead th {\n",
              "        text-align: right;\n",
              "    }\n",
              "</style>\n",
              "<table border=\"1\" class=\"dataframe\">\n",
              "  <thead>\n",
              "    <tr style=\"text-align: right;\">\n",
              "      <th></th>\n",
              "      <th>Olma</th>\n",
              "      <th>Anor</th>\n",
              "      <th>Qovun</th>\n",
              "      <th>Anjir</th>\n",
              "    </tr>\n",
              "  </thead>\n",
              "  <tbody>\n",
              "    <tr>\n",
              "      <th>a</th>\n",
              "      <td>0.565162</td>\n",
              "      <td>1.274727</td>\n",
              "      <td>0.022798</td>\n",
              "      <td>2.144151</td>\n",
              "    </tr>\n",
              "    <tr>\n",
              "      <th>b</th>\n",
              "      <td>0.179773</td>\n",
              "      <td>0.816861</td>\n",
              "      <td>0.263601</td>\n",
              "      <td>1.727007</td>\n",
              "    </tr>\n",
              "    <tr>\n",
              "      <th>c</th>\n",
              "      <td>1.443683</td>\n",
              "      <td>0.042873</td>\n",
              "      <td>0.323427</td>\n",
              "      <td>0.792112</td>\n",
              "    </tr>\n",
              "  </tbody>\n",
              "</table>\n",
              "</div>"
            ],
            "text/plain": [
              "       Olma      Anor     Qovun     Anjir\n",
              "a  0.565162  1.274727  0.022798  2.144151\n",
              "b  0.179773  0.816861  0.263601  1.727007\n",
              "c  1.443683  0.042873  0.323427  0.792112"
            ]
          },
          "metadata": {},
          "execution_count": 4
        }
      ]
    },
    {
      "cell_type": "markdown",
      "source": [
        "#`np.round` - yaxlitlash. DataFramening barcha elementlarini yaxlitlaydi. DataFrame o'zgarmaydi."
      ],
      "metadata": {
        "id": "4RJ92PMJXY0m"
      }
    },
    {
      "cell_type": "code",
      "source": [
        "np.round(df) # df ning barcha elementlarini yaxlitlash"
      ],
      "metadata": {
        "colab": {
          "base_uri": "https://localhost:8080/",
          "height": 143
        },
        "id": "EOmO102VXNYJ",
        "outputId": "2452cea1-b675-4c00-89bb-fa8e029a576d"
      },
      "execution_count": 5,
      "outputs": [
        {
          "output_type": "execute_result",
          "data": {
            "text/html": [
              "<div>\n",
              "<style scoped>\n",
              "    .dataframe tbody tr th:only-of-type {\n",
              "        vertical-align: middle;\n",
              "    }\n",
              "\n",
              "    .dataframe tbody tr th {\n",
              "        vertical-align: top;\n",
              "    }\n",
              "\n",
              "    .dataframe thead th {\n",
              "        text-align: right;\n",
              "    }\n",
              "</style>\n",
              "<table border=\"1\" class=\"dataframe\">\n",
              "  <thead>\n",
              "    <tr style=\"text-align: right;\">\n",
              "      <th></th>\n",
              "      <th>Olma</th>\n",
              "      <th>Anor</th>\n",
              "      <th>Qovun</th>\n",
              "      <th>Anjir</th>\n",
              "    </tr>\n",
              "  </thead>\n",
              "  <tbody>\n",
              "    <tr>\n",
              "      <th>a</th>\n",
              "      <td>-1.0</td>\n",
              "      <td>-1.0</td>\n",
              "      <td>-0.0</td>\n",
              "      <td>2.0</td>\n",
              "    </tr>\n",
              "    <tr>\n",
              "      <th>b</th>\n",
              "      <td>-0.0</td>\n",
              "      <td>-1.0</td>\n",
              "      <td>0.0</td>\n",
              "      <td>-2.0</td>\n",
              "    </tr>\n",
              "    <tr>\n",
              "      <th>c</th>\n",
              "      <td>-1.0</td>\n",
              "      <td>-0.0</td>\n",
              "      <td>-0.0</td>\n",
              "      <td>-1.0</td>\n",
              "    </tr>\n",
              "  </tbody>\n",
              "</table>\n",
              "</div>"
            ],
            "text/plain": [
              "   Olma  Anor  Qovun  Anjir\n",
              "a  -1.0  -1.0   -0.0    2.0\n",
              "b  -0.0  -1.0    0.0   -2.0\n",
              "c  -1.0  -0.0   -0.0   -1.0"
            ]
          },
          "metadata": {},
          "execution_count": 5
        }
      ]
    },
    {
      "cell_type": "code",
      "source": [
        "df # asl DataFrame o'zgarmadi"
      ],
      "metadata": {
        "colab": {
          "base_uri": "https://localhost:8080/",
          "height": 143
        },
        "id": "cSuOE_tgXkV2",
        "outputId": "74441fa7-2627-4b41-d539-77eeb93f7eb7"
      },
      "execution_count": 7,
      "outputs": [
        {
          "output_type": "execute_result",
          "data": {
            "text/html": [
              "<div>\n",
              "<style scoped>\n",
              "    .dataframe tbody tr th:only-of-type {\n",
              "        vertical-align: middle;\n",
              "    }\n",
              "\n",
              "    .dataframe tbody tr th {\n",
              "        vertical-align: top;\n",
              "    }\n",
              "\n",
              "    .dataframe thead th {\n",
              "        text-align: right;\n",
              "    }\n",
              "</style>\n",
              "<table border=\"1\" class=\"dataframe\">\n",
              "  <thead>\n",
              "    <tr style=\"text-align: right;\">\n",
              "      <th></th>\n",
              "      <th>Olma</th>\n",
              "      <th>Anor</th>\n",
              "      <th>Qovun</th>\n",
              "      <th>Anjir</th>\n",
              "    </tr>\n",
              "  </thead>\n",
              "  <tbody>\n",
              "    <tr>\n",
              "      <th>a</th>\n",
              "      <td>-0.565162</td>\n",
              "      <td>-1.274727</td>\n",
              "      <td>-0.022798</td>\n",
              "      <td>2.144151</td>\n",
              "    </tr>\n",
              "    <tr>\n",
              "      <th>b</th>\n",
              "      <td>-0.179773</td>\n",
              "      <td>-0.816861</td>\n",
              "      <td>0.263601</td>\n",
              "      <td>-1.727007</td>\n",
              "    </tr>\n",
              "    <tr>\n",
              "      <th>c</th>\n",
              "      <td>-1.443683</td>\n",
              "      <td>-0.042873</td>\n",
              "      <td>-0.323427</td>\n",
              "      <td>-0.792112</td>\n",
              "    </tr>\n",
              "  </tbody>\n",
              "</table>\n",
              "</div>"
            ],
            "text/plain": [
              "       Olma      Anor     Qovun     Anjir\n",
              "a -0.565162 -1.274727 -0.022798  2.144151\n",
              "b -0.179773 -0.816861  0.263601 -1.727007\n",
              "c -1.443683 -0.042873 -0.323427 -0.792112"
            ]
          },
          "metadata": {},
          "execution_count": 7
        }
      ]
    },
    {
      "cell_type": "markdown",
      "source": [
        "#`DataFrame.mean` - o'rtacha qiymat. Default - by column."
      ],
      "metadata": {
        "id": "44k07skAX95l"
      }
    },
    {
      "cell_type": "code",
      "source": [
        "df.mean() # df ning ustunlar bo'yicha o'rtacha qiymati"
      ],
      "metadata": {
        "colab": {
          "base_uri": "https://localhost:8080/"
        },
        "id": "odqkMhrCX3Ji",
        "outputId": "9e805edc-661f-4cc7-89e9-73015ca61371"
      },
      "execution_count": 8,
      "outputs": [
        {
          "output_type": "execute_result",
          "data": {
            "text/plain": [
              "Olma    -0.729539\n",
              "Anor    -0.711487\n",
              "Qovun   -0.027541\n",
              "Anjir   -0.124989\n",
              "dtype: float64"
            ]
          },
          "metadata": {},
          "execution_count": 8
        }
      ]
    },
    {
      "cell_type": "code",
      "source": [
        "df.mean(axis = 1) # df ning qatorlar bo'yicha o'rtacha qiymati"
      ],
      "metadata": {
        "colab": {
          "base_uri": "https://localhost:8080/"
        },
        "id": "X8pLJ-FYYHuy",
        "outputId": "47cbb0b5-0a92-4328-f6f7-c5caa2165a1e"
      },
      "execution_count": 9,
      "outputs": [
        {
          "output_type": "execute_result",
          "data": {
            "text/plain": [
              "a    0.070366\n",
              "b   -0.615010\n",
              "c   -0.650524\n",
              "dtype: float64"
            ]
          },
          "metadata": {},
          "execution_count": 9
        }
      ]
    },
    {
      "cell_type": "markdown",
      "source": [
        "#`DataFrame.apply` - kerakli funksiyani qo'llash"
      ],
      "metadata": {
        "id": "Dg0ykQtcYput"
      }
    },
    {
      "cell_type": "code",
      "source": [
        "df.apply(np.abs) # Numpy dagi abs (absolyut qiymat) funksiyasini qo'llash"
      ],
      "metadata": {
        "colab": {
          "base_uri": "https://localhost:8080/",
          "height": 143
        },
        "id": "cX8rlE1LYbED",
        "outputId": "d83b43dc-2101-49b6-e22e-159ff1a64eca"
      },
      "execution_count": 11,
      "outputs": [
        {
          "output_type": "execute_result",
          "data": {
            "text/html": [
              "<div>\n",
              "<style scoped>\n",
              "    .dataframe tbody tr th:only-of-type {\n",
              "        vertical-align: middle;\n",
              "    }\n",
              "\n",
              "    .dataframe tbody tr th {\n",
              "        vertical-align: top;\n",
              "    }\n",
              "\n",
              "    .dataframe thead th {\n",
              "        text-align: right;\n",
              "    }\n",
              "</style>\n",
              "<table border=\"1\" class=\"dataframe\">\n",
              "  <thead>\n",
              "    <tr style=\"text-align: right;\">\n",
              "      <th></th>\n",
              "      <th>Olma</th>\n",
              "      <th>Anor</th>\n",
              "      <th>Qovun</th>\n",
              "      <th>Anjir</th>\n",
              "    </tr>\n",
              "  </thead>\n",
              "  <tbody>\n",
              "    <tr>\n",
              "      <th>a</th>\n",
              "      <td>0.565162</td>\n",
              "      <td>1.274727</td>\n",
              "      <td>0.022798</td>\n",
              "      <td>2.144151</td>\n",
              "    </tr>\n",
              "    <tr>\n",
              "      <th>b</th>\n",
              "      <td>0.179773</td>\n",
              "      <td>0.816861</td>\n",
              "      <td>0.263601</td>\n",
              "      <td>1.727007</td>\n",
              "    </tr>\n",
              "    <tr>\n",
              "      <th>c</th>\n",
              "      <td>1.443683</td>\n",
              "      <td>0.042873</td>\n",
              "      <td>0.323427</td>\n",
              "      <td>0.792112</td>\n",
              "    </tr>\n",
              "  </tbody>\n",
              "</table>\n",
              "</div>"
            ],
            "text/plain": [
              "       Olma      Anor     Qovun     Anjir\n",
              "a  0.565162  1.274727  0.022798  2.144151\n",
              "b  0.179773  0.816861  0.263601  1.727007\n",
              "c  1.443683  0.042873  0.323427  0.792112"
            ]
          },
          "metadata": {},
          "execution_count": 11
        }
      ]
    },
    {
      "cell_type": "code",
      "source": [
        "df.apply(np.round) # Numpy dagi round (yaxlitlash) funksiyasini qo'llash"
      ],
      "metadata": {
        "colab": {
          "base_uri": "https://localhost:8080/",
          "height": 143
        },
        "id": "qk3Siz0fYyxr",
        "outputId": "29c43a5f-5db9-41de-eb63-fe1f51256c96"
      },
      "execution_count": 12,
      "outputs": [
        {
          "output_type": "execute_result",
          "data": {
            "text/html": [
              "<div>\n",
              "<style scoped>\n",
              "    .dataframe tbody tr th:only-of-type {\n",
              "        vertical-align: middle;\n",
              "    }\n",
              "\n",
              "    .dataframe tbody tr th {\n",
              "        vertical-align: top;\n",
              "    }\n",
              "\n",
              "    .dataframe thead th {\n",
              "        text-align: right;\n",
              "    }\n",
              "</style>\n",
              "<table border=\"1\" class=\"dataframe\">\n",
              "  <thead>\n",
              "    <tr style=\"text-align: right;\">\n",
              "      <th></th>\n",
              "      <th>Olma</th>\n",
              "      <th>Anor</th>\n",
              "      <th>Qovun</th>\n",
              "      <th>Anjir</th>\n",
              "    </tr>\n",
              "  </thead>\n",
              "  <tbody>\n",
              "    <tr>\n",
              "      <th>a</th>\n",
              "      <td>-1.0</td>\n",
              "      <td>-1.0</td>\n",
              "      <td>-0.0</td>\n",
              "      <td>2.0</td>\n",
              "    </tr>\n",
              "    <tr>\n",
              "      <th>b</th>\n",
              "      <td>-0.0</td>\n",
              "      <td>-1.0</td>\n",
              "      <td>0.0</td>\n",
              "      <td>-2.0</td>\n",
              "    </tr>\n",
              "    <tr>\n",
              "      <th>c</th>\n",
              "      <td>-1.0</td>\n",
              "      <td>-0.0</td>\n",
              "      <td>-0.0</td>\n",
              "      <td>-1.0</td>\n",
              "    </tr>\n",
              "  </tbody>\n",
              "</table>\n",
              "</div>"
            ],
            "text/plain": [
              "   Olma  Anor  Qovun  Anjir\n",
              "a  -1.0  -1.0   -0.0    2.0\n",
              "b  -0.0  -1.0    0.0   -2.0\n",
              "c  -1.0  -0.0   -0.0   -1.0"
            ]
          },
          "metadata": {},
          "execution_count": 12
        }
      ]
    },
    {
      "cell_type": "code",
      "source": [
        "df.apply(sum) # qatorlar bo'yicha yig'indi"
      ],
      "metadata": {
        "colab": {
          "base_uri": "https://localhost:8080/"
        },
        "id": "DQgs1VqPfecD",
        "outputId": "778d6998-9c85-4fe7-e155-111825d67eec"
      },
      "execution_count": 14,
      "outputs": [
        {
          "output_type": "execute_result",
          "data": {
            "text/plain": [
              "Olma    -2.188618\n",
              "Anor    -2.134460\n",
              "Qovun   -0.082623\n",
              "Anjir   -0.374968\n",
              "dtype: float64"
            ]
          },
          "metadata": {},
          "execution_count": 14
        }
      ]
    },
    {
      "cell_type": "code",
      "source": [
        "df.apply(sum, axis = 1) # ustunlar bo'yicha yig'indi"
      ],
      "metadata": {
        "colab": {
          "base_uri": "https://localhost:8080/"
        },
        "id": "II5R8Jnbfw5x",
        "outputId": "d32d616a-5dd3-4ffd-de3a-94e369b1b081"
      },
      "execution_count": 15,
      "outputs": [
        {
          "output_type": "execute_result",
          "data": {
            "text/plain": [
              "a    0.281464\n",
              "b   -2.460039\n",
              "c   -2.602094\n",
              "dtype: float64"
            ]
          },
          "metadata": {},
          "execution_count": 15
        }
      ]
    },
    {
      "cell_type": "code",
      "source": [
        "# lambda funksiya\n",
        "f = lambda x: x.max() - x.min()"
      ],
      "metadata": {
        "id": "kzXAhM-Tf-nh"
      },
      "execution_count": 16,
      "outputs": []
    },
    {
      "cell_type": "code",
      "source": [
        "df.apply(f) # yuqorida yozilgan lambda funksiyani qo'llaymiz"
      ],
      "metadata": {
        "colab": {
          "base_uri": "https://localhost:8080/"
        },
        "id": "iHtZeSNEgTzR",
        "outputId": "c029078c-bb16-4062-a3e8-f436e31f3d90"
      },
      "execution_count": 17,
      "outputs": [
        {
          "output_type": "execute_result",
          "data": {
            "text/plain": [
              "Olma     1.263910\n",
              "Anor     1.231854\n",
              "Qovun    0.587028\n",
              "Anjir    3.871157\n",
              "dtype: float64"
            ]
          },
          "metadata": {},
          "execution_count": 17
        }
      ]
    },
    {
      "cell_type": "code",
      "source": [
        "df.apply(lambda x: x.max() - x.min()) # lambda funksiyani apply yoprdamida qo'llash"
      ],
      "metadata": {
        "colab": {
          "base_uri": "https://localhost:8080/"
        },
        "id": "WQYFu5fEgbGJ",
        "outputId": "6160b033-2ee6-42b0-9130-fa7b8d6ed677"
      },
      "execution_count": 18,
      "outputs": [
        {
          "output_type": "execute_result",
          "data": {
            "text/plain": [
              "Olma     1.263910\n",
              "Anor     1.231854\n",
              "Qovun    0.587028\n",
              "Anjir    3.871157\n",
              "dtype: float64"
            ]
          },
          "metadata": {},
          "execution_count": 18
        }
      ]
    },
    {
      "cell_type": "code",
      "source": [
        "# eng kichik va eng katta qiymatlarni Series obyekti ko'rinishida qauytaradi\n",
        "def foo(x):\n",
        "  return pd.Series([x.min(), x.max()], index = [\"min\", \"max\"])"
      ],
      "metadata": {
        "id": "XPigMmWxguyJ"
      },
      "execution_count": 22,
      "outputs": []
    },
    {
      "cell_type": "code",
      "source": [
        "df.apply(foo) # foo funksiyamizni qo'llaymiz"
      ],
      "metadata": {
        "colab": {
          "base_uri": "https://localhost:8080/",
          "height": 112
        },
        "id": "QnSBXoEghFq4",
        "outputId": "c63098c9-b157-4043-8907-1c9d5f34e6c0"
      },
      "execution_count": 23,
      "outputs": [
        {
          "output_type": "execute_result",
          "data": {
            "text/html": [
              "<div>\n",
              "<style scoped>\n",
              "    .dataframe tbody tr th:only-of-type {\n",
              "        vertical-align: middle;\n",
              "    }\n",
              "\n",
              "    .dataframe tbody tr th {\n",
              "        vertical-align: top;\n",
              "    }\n",
              "\n",
              "    .dataframe thead th {\n",
              "        text-align: right;\n",
              "    }\n",
              "</style>\n",
              "<table border=\"1\" class=\"dataframe\">\n",
              "  <thead>\n",
              "    <tr style=\"text-align: right;\">\n",
              "      <th></th>\n",
              "      <th>Olma</th>\n",
              "      <th>Anor</th>\n",
              "      <th>Qovun</th>\n",
              "      <th>Anjir</th>\n",
              "    </tr>\n",
              "  </thead>\n",
              "  <tbody>\n",
              "    <tr>\n",
              "      <th>min</th>\n",
              "      <td>-1.443683</td>\n",
              "      <td>-1.274727</td>\n",
              "      <td>-0.323427</td>\n",
              "      <td>-1.727007</td>\n",
              "    </tr>\n",
              "    <tr>\n",
              "      <th>max</th>\n",
              "      <td>-0.179773</td>\n",
              "      <td>-0.042873</td>\n",
              "      <td>0.263601</td>\n",
              "      <td>2.144151</td>\n",
              "    </tr>\n",
              "  </tbody>\n",
              "</table>\n",
              "</div>"
            ],
            "text/plain": [
              "         Olma      Anor     Qovun     Anjir\n",
              "min -1.443683 -1.274727 -0.323427 -1.727007\n",
              "max -0.179773 -0.042873  0.263601  2.144151"
            ]
          },
          "metadata": {},
          "execution_count": 23
        }
      ]
    },
    {
      "cell_type": "markdown",
      "source": [
        "#`DataFrame.applymap` DataFrame nin har bir elementi uchun funksiya qo'llash"
      ],
      "metadata": {
        "id": "P-yzG3BvhvoQ"
      }
    },
    {
      "cell_type": "code",
      "source": [
        "df = pd.DataFrame(np.arange(1, 13).reshape(3, 4), index = list(\"abc\"), columns = [\"Olma\", \"Anor\", \"Qovun\", \"Anjir\"])\n",
        "df"
      ],
      "metadata": {
        "colab": {
          "base_uri": "https://localhost:8080/",
          "height": 143
        },
        "id": "Fa5IqrbUhQuZ",
        "outputId": "872e0b2c-6a30-41ee-dc9d-807a84d7540d"
      },
      "execution_count": 24,
      "outputs": [
        {
          "output_type": "execute_result",
          "data": {
            "text/html": [
              "<div>\n",
              "<style scoped>\n",
              "    .dataframe tbody tr th:only-of-type {\n",
              "        vertical-align: middle;\n",
              "    }\n",
              "\n",
              "    .dataframe tbody tr th {\n",
              "        vertical-align: top;\n",
              "    }\n",
              "\n",
              "    .dataframe thead th {\n",
              "        text-align: right;\n",
              "    }\n",
              "</style>\n",
              "<table border=\"1\" class=\"dataframe\">\n",
              "  <thead>\n",
              "    <tr style=\"text-align: right;\">\n",
              "      <th></th>\n",
              "      <th>Olma</th>\n",
              "      <th>Anor</th>\n",
              "      <th>Qovun</th>\n",
              "      <th>Anjir</th>\n",
              "    </tr>\n",
              "  </thead>\n",
              "  <tbody>\n",
              "    <tr>\n",
              "      <th>a</th>\n",
              "      <td>1</td>\n",
              "      <td>2</td>\n",
              "      <td>3</td>\n",
              "      <td>4</td>\n",
              "    </tr>\n",
              "    <tr>\n",
              "      <th>b</th>\n",
              "      <td>5</td>\n",
              "      <td>6</td>\n",
              "      <td>7</td>\n",
              "      <td>8</td>\n",
              "    </tr>\n",
              "    <tr>\n",
              "      <th>c</th>\n",
              "      <td>9</td>\n",
              "      <td>10</td>\n",
              "      <td>11</td>\n",
              "      <td>12</td>\n",
              "    </tr>\n",
              "  </tbody>\n",
              "</table>\n",
              "</div>"
            ],
            "text/plain": [
              "   Olma  Anor  Qovun  Anjir\n",
              "a     1     2      3      4\n",
              "b     5     6      7      8\n",
              "c     9    10     11     12"
            ]
          },
          "metadata": {},
          "execution_count": 24
        }
      ]
    },
    {
      "cell_type": "code",
      "source": [
        "df.applymap(lambda x: x*x) # df ning har bir elementi kvadrati"
      ],
      "metadata": {
        "colab": {
          "base_uri": "https://localhost:8080/",
          "height": 143
        },
        "id": "Qt80x9PMiT5J",
        "outputId": "3693e2bf-6cb9-4e30-93f6-7fe38df37c39"
      },
      "execution_count": 27,
      "outputs": [
        {
          "output_type": "execute_result",
          "data": {
            "text/html": [
              "<div>\n",
              "<style scoped>\n",
              "    .dataframe tbody tr th:only-of-type {\n",
              "        vertical-align: middle;\n",
              "    }\n",
              "\n",
              "    .dataframe tbody tr th {\n",
              "        vertical-align: top;\n",
              "    }\n",
              "\n",
              "    .dataframe thead th {\n",
              "        text-align: right;\n",
              "    }\n",
              "</style>\n",
              "<table border=\"1\" class=\"dataframe\">\n",
              "  <thead>\n",
              "    <tr style=\"text-align: right;\">\n",
              "      <th></th>\n",
              "      <th>Olma</th>\n",
              "      <th>Anor</th>\n",
              "      <th>Qovun</th>\n",
              "      <th>Anjir</th>\n",
              "    </tr>\n",
              "  </thead>\n",
              "  <tbody>\n",
              "    <tr>\n",
              "      <th>a</th>\n",
              "      <td>1</td>\n",
              "      <td>4</td>\n",
              "      <td>9</td>\n",
              "      <td>16</td>\n",
              "    </tr>\n",
              "    <tr>\n",
              "      <th>b</th>\n",
              "      <td>25</td>\n",
              "      <td>36</td>\n",
              "      <td>49</td>\n",
              "      <td>64</td>\n",
              "    </tr>\n",
              "    <tr>\n",
              "      <th>c</th>\n",
              "      <td>81</td>\n",
              "      <td>100</td>\n",
              "      <td>121</td>\n",
              "      <td>144</td>\n",
              "    </tr>\n",
              "  </tbody>\n",
              "</table>\n",
              "</div>"
            ],
            "text/plain": [
              "   Olma  Anor  Qovun  Anjir\n",
              "a     1     4      9     16\n",
              "b    25    36     49     64\n",
              "c    81   100    121    144"
            ]
          },
          "metadata": {},
          "execution_count": 27
        }
      ]
    },
    {
      "cell_type": "code",
      "source": [
        ""
      ],
      "metadata": {
        "id": "yAhRz2BCigOA"
      },
      "execution_count": null,
      "outputs": []
    }
  ]
}