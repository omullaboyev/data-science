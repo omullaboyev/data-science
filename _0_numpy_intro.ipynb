{
  "nbformat": 4,
  "nbformat_minor": 0,
  "metadata": {
    "colab": {
      "name": "#0_numpy_intro.ipynb",
      "provenance": [],
      "collapsed_sections": [],
      "authorship_tag": "ABX9TyPUFHNx89rZjiWboJnRaLUs",
      "include_colab_link": true
    },
    "kernelspec": {
      "name": "python3",
      "display_name": "Python 3"
    },
    "language_info": {
      "name": "python"
    }
  },
  "cells": [
    {
      "cell_type": "markdown",
      "metadata": {
        "id": "view-in-github",
        "colab_type": "text"
      },
      "source": [
        "<a href=\"https://colab.research.google.com/github/omullaboyev/data-science/blob/main/_0_numpy_intro.ipynb\" target=\"_parent\"><img src=\"https://colab.research.google.com/assets/colab-badge.svg\" alt=\"Open In Colab\"/></a>"
      ]
    },
    {
      "cell_type": "markdown",
      "metadata": {
        "id": "x8ggg22G6jUL"
      },
      "source": [
        "#Data Science va Sun'iy Intellect Praktikum"
      ]
    },
    {
      "cell_type": "markdown",
      "metadata": {
        "id": "jzKfA6sw6rXO"
      },
      "source": [
        "# Ma'lumotlar tahlili (NumPy kutubxonasi)"
      ]
    },
    {
      "cell_type": "markdown",
      "metadata": {
        "id": "Z0eTPgo96eF1"
      },
      "source": [
        "NumPy kutubxobnasini chaqirish"
      ]
    },
    {
      "cell_type": "markdown",
      "metadata": {
        "id": "6LVH6Z9m7CJJ"
      },
      "source": [
        "Python List bilan NumPy kutubxonasidagi massivlar (arraylar) hisoblanishlari orasidagi farqni ko'ramiz"
      ]
    },
    {
      "cell_type": "code",
      "metadata": {
        "id": "BObSTftL6Mqp"
      },
      "source": [
        "import numpy as np"
      ],
      "execution_count": 1,
      "outputs": []
    },
    {
      "cell_type": "code",
      "metadata": {
        "id": "RnvMHSXx6_xm"
      },
      "source": [
        "my_list = list(range(100000)) #python list 0 - 99 999 --> Normal\n",
        "my_array = np.array(range(100000)) # numpy array(massiv) 0 - 99 999 --> Vektorlashgan\n"
      ],
      "execution_count": 2,
      "outputs": []
    },
    {
      "cell_type": "code",
      "metadata": {
        "colab": {
          "base_uri": "https://localhost:8080/"
        },
        "id": "oB-RuFni7s5k",
        "outputId": "b9b11cb1-7b91-45c8-8e71-5959fdd07174"
      },
      "source": [
        "%time for _ in range(10): [x*2 for x in my_list] #Normal hisoblash"
      ],
      "execution_count": 3,
      "outputs": [
        {
          "output_type": "stream",
          "name": "stdout",
          "text": [
            "CPU times: user 78.6 ms, sys: 23.1 ms, total: 102 ms\n",
            "Wall time: 102 ms\n"
          ]
        }
      ]
    },
    {
      "cell_type": "code",
      "metadata": {
        "colab": {
          "base_uri": "https://localhost:8080/"
        },
        "id": "DKpLeA148JGG",
        "outputId": "0bb4c9ef-1202-42e6-c17f-b4517f066b9c"
      },
      "source": [
        "%time for _ in range(10): my_array*2 #Vektorlashgan"
      ],
      "execution_count": 4,
      "outputs": [
        {
          "output_type": "stream",
          "name": "stdout",
          "text": [
            "CPU times: user 2.35 ms, sys: 1.07 ms, total: 3.42 ms\n",
            "Wall time: 6.92 ms\n"
          ]
        }
      ]
    },
    {
      "cell_type": "code",
      "metadata": {
        "colab": {
          "base_uri": "https://localhost:8080/"
        },
        "id": "6zN3RUMz8bTF",
        "outputId": "e7f423d0-bdc5-4f39-cd70-7b54cf589061"
      },
      "source": [
        "102/6.92"
      ],
      "execution_count": 5,
      "outputs": [
        {
          "output_type": "execute_result",
          "data": {
            "text/plain": [
              "14.739884393063583"
            ]
          },
          "metadata": {},
          "execution_count": 5
        }
      ]
    },
    {
      "cell_type": "code",
      "metadata": {
        "id": "_Oywd1228gJ1"
      },
      "source": [
        ""
      ],
      "execution_count": null,
      "outputs": []
    }
  ]
}