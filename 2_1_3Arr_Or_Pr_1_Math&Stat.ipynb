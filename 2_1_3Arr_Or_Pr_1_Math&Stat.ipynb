{
  "nbformat": 4,
  "nbformat_minor": 0,
  "metadata": {
    "colab": {
      "name": "2.1.3Arr_Or_Pr#1_Math&Stat.ipynb",
      "provenance": [],
      "collapsed_sections": [],
      "authorship_tag": "ABX9TyM0exSH/AlKqo3RpE9fg32r",
      "include_colab_link": true
    },
    "kernelspec": {
      "name": "python3",
      "display_name": "Python 3"
    },
    "language_info": {
      "name": "python"
    }
  },
  "cells": [
    {
      "cell_type": "markdown",
      "metadata": {
        "id": "view-in-github",
        "colab_type": "text"
      },
      "source": [
        "<a href=\"https://colab.research.google.com/github/omullaboyev/data-science/blob/main/2_1_3Arr_Or_Pr_1_Math%26Stat.ipynb\" target=\"_parent\"><img src=\"https://colab.research.google.com/assets/colab-badge.svg\" alt=\"Open In Colab\"/></a>"
      ]
    },
    {
      "cell_type": "markdown",
      "metadata": {
        "id": "BKukHinBMvVP"
      },
      "source": [
        "#Data Science va Sun'iy Intellekt Praktikum"
      ]
    },
    {
      "cell_type": "markdown",
      "metadata": {
        "id": "hsLR0je7M0oT"
      },
      "source": [
        "#Ma'lumotlar Tahlili"
      ]
    },
    {
      "cell_type": "markdown",
      "metadata": {
        "id": "60dbeNltM4z9"
      },
      "source": [
        "#2.1 Numpy kutubxonasi bilan ishlash"
      ]
    },
    {
      "cell_type": "markdown",
      "metadata": {
        "id": "7WM-FN25M9QV"
      },
      "source": [
        "Numpy kutubxonasini chaqirib olish"
      ]
    },
    {
      "cell_type": "code",
      "metadata": {
        "id": "GzfVSGJ4LhAD"
      },
      "source": [
        "import numpy as np"
      ],
      "execution_count": 1,
      "outputs": []
    },
    {
      "cell_type": "markdown",
      "metadata": {
        "id": "cPAfakMkNFex"
      },
      "source": [
        "2.1.3 Massivga yo'naltirilgan dasturlash"
      ]
    },
    {
      "cell_type": "markdown",
      "metadata": {
        "id": "xFezh_iNNOyK"
      },
      "source": [
        "#Matematik va Statik usullarni qo'llash"
      ]
    },
    {
      "cell_type": "code",
      "metadata": {
        "colab": {
          "base_uri": "https://localhost:8080/"
        },
        "id": "itiBbwRGNDSi",
        "outputId": "461e71dd-621c-4c8e-88bd-91101fb00190"
      },
      "source": [
        "# data\n",
        "arr = np.random.randn(5, 4)  # (5, 4) o'lchamli massiv (random)\n",
        "arr"
      ],
      "execution_count": 4,
      "outputs": [
        {
          "output_type": "execute_result",
          "data": {
            "text/plain": [
              "array([[ 2.80836507, -1.45609451,  1.95199932, -0.69468148],\n",
              "       [ 1.3617752 ,  2.18171949,  1.13531885, -0.27548828],\n",
              "       [ 1.93264983,  0.84752822,  1.6572865 , -0.46136856],\n",
              "       [-2.12078327, -0.47376791, -1.07686154, -0.19918121],\n",
              "       [-1.16281792,  0.12494724, -1.10125037, -2.1378748 ]])"
            ]
          },
          "metadata": {},
          "execution_count": 4
        }
      ]
    },
    {
      "cell_type": "markdown",
      "metadata": {
        "id": "EYmD3PewN2ga"
      },
      "source": [
        "#`sum` methodi (yig'indi)"
      ]
    },
    {
      "cell_type": "code",
      "metadata": {
        "colab": {
          "base_uri": "https://localhost:8080/"
        },
        "id": "-vubYnvoNteQ",
        "outputId": "79f78708-eb81-4e4b-ca82-d286c9b99dd3"
      },
      "source": [
        "arr.sum() # arr ning bacha elementlari yig'indisini hisoblab beradi"
      ],
      "execution_count": 5,
      "outputs": [
        {
          "output_type": "execute_result",
          "data": {
            "text/plain": [
              "2.8414198662064885"
            ]
          },
          "metadata": {},
          "execution_count": 5
        }
      ]
    },
    {
      "cell_type": "code",
      "metadata": {
        "colab": {
          "base_uri": "https://localhost:8080/"
        },
        "id": "OFJWq15yOA4_",
        "outputId": "49a57ed6-ec79-4514-b52a-5290ba62bff7"
      },
      "source": [
        "np.sum(arr) # arr ning bacha elementlari yig'indisini hisoblab beradi"
      ],
      "execution_count": 6,
      "outputs": [
        {
          "output_type": "execute_result",
          "data": {
            "text/plain": [
              "2.8414198662064885"
            ]
          },
          "metadata": {},
          "execution_count": 6
        }
      ]
    },
    {
      "cell_type": "code",
      "metadata": {
        "colab": {
          "base_uri": "https://localhost:8080/"
        },
        "id": "aZrVtLtYOgzB",
        "outputId": "bcfbd79b-0462-4a33-a69a-b01e8dd3a780"
      },
      "source": [
        "arr.sum(axis = 1) # qator yig'indi"
      ],
      "execution_count": 7,
      "outputs": [
        {
          "output_type": "execute_result",
          "data": {
            "text/plain": [
              "array([ 2.6095884 ,  4.40332526,  3.97609599, -3.87059393, -4.27699586])"
            ]
          },
          "metadata": {},
          "execution_count": 7
        }
      ]
    },
    {
      "cell_type": "code",
      "metadata": {
        "colab": {
          "base_uri": "https://localhost:8080/"
        },
        "id": "khiba1itOIn_",
        "outputId": "12f43b1f-b018-4b33-dab6-bb86a1efcfe8"
      },
      "source": [
        "arr.sum(axis = 0) # ustun yig'indi"
      ],
      "execution_count": 8,
      "outputs": [
        {
          "output_type": "execute_result",
          "data": {
            "text/plain": [
              "array([ 2.81918891,  1.22433253,  2.56649275, -3.76859432])"
            ]
          },
          "metadata": {},
          "execution_count": 8
        }
      ]
    },
    {
      "cell_type": "markdown",
      "metadata": {
        "id": "rTWtibWGPb6F"
      },
      "source": [
        "#`mean` methodi (o'rtacha arifmetik qiymat)"
      ]
    },
    {
      "cell_type": "code",
      "metadata": {
        "colab": {
          "base_uri": "https://localhost:8080/"
        },
        "id": "aTpG3rBuPGH3",
        "outputId": "5a7c593c-0016-4c3a-8e97-7264e1cb624a"
      },
      "source": [
        "# sodda ma'lumot\n",
        "data = np.arange(5) # 0~5 bo'lgan elementlardan tashkil topgan massiv\n",
        "data"
      ],
      "execution_count": 9,
      "outputs": [
        {
          "output_type": "execute_result",
          "data": {
            "text/plain": [
              "array([0, 1, 2, 3, 4])"
            ]
          },
          "metadata": {},
          "execution_count": 9
        }
      ]
    },
    {
      "cell_type": "code",
      "metadata": {
        "colab": {
          "base_uri": "https://localhost:8080/"
        },
        "id": "M-Zbe4zyP0pI",
        "outputId": "baec3f0c-3be3-4852-8da7-c7f3de9c114e"
      },
      "source": [
        "mean = np.sum(data)/len(data)\n",
        "mean"
      ],
      "execution_count": 11,
      "outputs": [
        {
          "output_type": "execute_result",
          "data": {
            "text/plain": [
              "2.0"
            ]
          },
          "metadata": {},
          "execution_count": 11
        }
      ]
    },
    {
      "cell_type": "code",
      "metadata": {
        "colab": {
          "base_uri": "https://localhost:8080/"
        },
        "id": "5GztHC2HQAzX",
        "outputId": "7310758b-e2f7-43da-cede-b46b83bd3eed"
      },
      "source": [
        "# numpy mean\n",
        "np.mean(data)"
      ],
      "execution_count": 12,
      "outputs": [
        {
          "output_type": "execute_result",
          "data": {
            "text/plain": [
              "2.0"
            ]
          },
          "metadata": {},
          "execution_count": 12
        }
      ]
    },
    {
      "cell_type": "code",
      "metadata": {
        "colab": {
          "base_uri": "https://localhost:8080/"
        },
        "id": "nIuxkrh8QJnX",
        "outputId": "56559573-4744-45f6-b57b-b23bbbf7e345"
      },
      "source": [
        "data.mean()"
      ],
      "execution_count": 14,
      "outputs": [
        {
          "output_type": "execute_result",
          "data": {
            "text/plain": [
              "2.0"
            ]
          },
          "metadata": {},
          "execution_count": 14
        }
      ]
    },
    {
      "cell_type": "code",
      "metadata": {
        "colab": {
          "base_uri": "https://localhost:8080/"
        },
        "id": "ETOK-ZgbQL9u",
        "outputId": "43c9b89b-85e9-4943-af76-9669c07d856b"
      },
      "source": [
        "arr"
      ],
      "execution_count": 15,
      "outputs": [
        {
          "output_type": "execute_result",
          "data": {
            "text/plain": [
              "array([[ 2.80836507, -1.45609451,  1.95199932, -0.69468148],\n",
              "       [ 1.3617752 ,  2.18171949,  1.13531885, -0.27548828],\n",
              "       [ 1.93264983,  0.84752822,  1.6572865 , -0.46136856],\n",
              "       [-2.12078327, -0.47376791, -1.07686154, -0.19918121],\n",
              "       [-1.16281792,  0.12494724, -1.10125037, -2.1378748 ]])"
            ]
          },
          "metadata": {},
          "execution_count": 15
        }
      ]
    },
    {
      "cell_type": "code",
      "metadata": {
        "colab": {
          "base_uri": "https://localhost:8080/"
        },
        "id": "Ud2Z0a2RQO_f",
        "outputId": "46338627-ee0d-4f45-8897-2ca8186660e9"
      },
      "source": [
        "np.mean(arr) # arr ning o'rtacha qiymati"
      ],
      "execution_count": 16,
      "outputs": [
        {
          "output_type": "execute_result",
          "data": {
            "text/plain": [
              "0.1420709933103244"
            ]
          },
          "metadata": {},
          "execution_count": 16
        }
      ]
    },
    {
      "cell_type": "code",
      "metadata": {
        "colab": {
          "base_uri": "https://localhost:8080/"
        },
        "id": "AI3KOyxXQT0P",
        "outputId": "098f37c2-4504-4fb2-b380-13de586631b4"
      },
      "source": [
        "np.mean(arr, axis = 1) # qator bo'yicha o'rtacha qiymatni qaytaradi"
      ],
      "execution_count": 17,
      "outputs": [
        {
          "output_type": "execute_result",
          "data": {
            "text/plain": [
              "array([ 0.6523971 ,  1.10083132,  0.994024  , -0.96764848, -1.06924896])"
            ]
          },
          "metadata": {},
          "execution_count": 17
        }
      ]
    },
    {
      "cell_type": "code",
      "metadata": {
        "colab": {
          "base_uri": "https://localhost:8080/"
        },
        "id": "CeVjmOK8Qhxv",
        "outputId": "c97ec12e-cd21-4e09-afe1-dd7f40032126"
      },
      "source": [
        "np.mean(arr, axis = 0) # ustun bo'yicha o'rtacha qiymatni qaytaradi"
      ],
      "execution_count": 18,
      "outputs": [
        {
          "output_type": "execute_result",
          "data": {
            "text/plain": [
              "array([ 0.56383778,  0.24486651,  0.51329855, -0.75371886])"
            ]
          },
          "metadata": {},
          "execution_count": 18
        }
      ]
    },
    {
      "cell_type": "code",
      "metadata": {
        "colab": {
          "base_uri": "https://localhost:8080/"
        },
        "id": "K4Nsn3UVQmAH",
        "outputId": "4ea334f5-8e08-434f-9959-3652cea086bf"
      },
      "source": [
        "arr.mean(axis = 1) # qator bo'yicha o'rtacha qiymatni qaytaradi"
      ],
      "execution_count": 19,
      "outputs": [
        {
          "output_type": "execute_result",
          "data": {
            "text/plain": [
              "array([ 0.6523971 ,  1.10083132,  0.994024  , -0.96764848, -1.06924896])"
            ]
          },
          "metadata": {},
          "execution_count": 19
        }
      ]
    },
    {
      "cell_type": "code",
      "metadata": {
        "colab": {
          "base_uri": "https://localhost:8080/"
        },
        "id": "V1v3sgOBQ1BH",
        "outputId": "c7c7c9d9-c670-4a9f-c658-c902df633ad2"
      },
      "source": [
        "arr.mean(axis = 0) # ustun bo'yicha o'rtacha qiymatni qaytaradi"
      ],
      "execution_count": 20,
      "outputs": [
        {
          "output_type": "execute_result",
          "data": {
            "text/plain": [
              "array([ 0.56383778,  0.24486651,  0.51329855, -0.75371886])"
            ]
          },
          "metadata": {},
          "execution_count": 20
        }
      ]
    },
    {
      "cell_type": "markdown",
      "metadata": {
        "id": "j4gHBmp4RDez"
      },
      "source": [
        "#`cumsum` methodi (cumilitive sum - yig'ib boriladigan yig'indi)"
      ]
    },
    {
      "cell_type": "code",
      "metadata": {
        "colab": {
          "base_uri": "https://localhost:8080/"
        },
        "id": "kTdWZn-CQ4Yf",
        "outputId": "9a9b6f02-2edf-4ef5-d012-99fa88b283ef"
      },
      "source": [
        "data"
      ],
      "execution_count": 21,
      "outputs": [
        {
          "output_type": "execute_result",
          "data": {
            "text/plain": [
              "array([0, 1, 2, 3, 4])"
            ]
          },
          "metadata": {},
          "execution_count": 21
        }
      ]
    },
    {
      "cell_type": "code",
      "metadata": {
        "colab": {
          "base_uri": "https://localhost:8080/"
        },
        "id": "cibU39QuRWgX",
        "outputId": "80a38246-adc8-48fd-eece-7e0cd64ed2ba"
      },
      "source": [
        "data.cumsum()"
      ],
      "execution_count": 22,
      "outputs": [
        {
          "output_type": "execute_result",
          "data": {
            "text/plain": [
              "array([ 0,  1,  3,  6, 10])"
            ]
          },
          "metadata": {},
          "execution_count": 22
        }
      ]
    },
    {
      "cell_type": "code",
      "metadata": {
        "colab": {
          "base_uri": "https://localhost:8080/"
        },
        "id": "Cw5R1y9GRfAv",
        "outputId": "748be3a5-cfe7-4d27-8490-1f2f575c8204"
      },
      "source": [
        "np.cumsum(data)"
      ],
      "execution_count": 23,
      "outputs": [
        {
          "output_type": "execute_result",
          "data": {
            "text/plain": [
              "array([ 0,  1,  3,  6, 10])"
            ]
          },
          "metadata": {},
          "execution_count": 23
        }
      ]
    },
    {
      "cell_type": "code",
      "metadata": {
        "colab": {
          "base_uri": "https://localhost:8080/"
        },
        "id": "6GW_j_JXRkR_",
        "outputId": "c353db61-ffeb-409f-a242-516cdc9869d1"
      },
      "source": [
        " arr.cumsum(axis = 0) # ustun bo'yicha cumsum"
      ],
      "execution_count": 24,
      "outputs": [
        {
          "output_type": "execute_result",
          "data": {
            "text/plain": [
              "array([[ 2.80836507, -1.45609451,  1.95199932, -0.69468148],\n",
              "       [ 4.17014027,  0.72562498,  3.08731817, -0.97016976],\n",
              "       [ 6.1027901 ,  1.57315321,  4.74460466, -1.43153832],\n",
              "       [ 3.98200683,  1.0993853 ,  3.66774312, -1.63071952],\n",
              "       [ 2.81918891,  1.22433253,  2.56649275, -3.76859432]])"
            ]
          },
          "metadata": {},
          "execution_count": 24
        }
      ]
    },
    {
      "cell_type": "code",
      "metadata": {
        "colab": {
          "base_uri": "https://localhost:8080/"
        },
        "id": "DjglnBO1Rugv",
        "outputId": "33450d1a-2179-4333-8f83-c2937570ab77"
      },
      "source": [
        "arr.cumsum(axis = 1) # qator bo'yicha cumsum"
      ],
      "execution_count": 25,
      "outputs": [
        {
          "output_type": "execute_result",
          "data": {
            "text/plain": [
              "array([[ 2.80836507,  1.35227056,  3.30426988,  2.6095884 ],\n",
              "       [ 1.3617752 ,  3.54349469,  4.67881354,  4.40332526],\n",
              "       [ 1.93264983,  2.78017805,  4.43746455,  3.97609599],\n",
              "       [-2.12078327, -2.59455118, -3.67141272, -3.87059393],\n",
              "       [-1.16281792, -1.03787068, -2.13912106, -4.27699586]])"
            ]
          },
          "metadata": {},
          "execution_count": 25
        }
      ]
    },
    {
      "cell_type": "code",
      "metadata": {
        "colab": {
          "base_uri": "https://localhost:8080/"
        },
        "id": "LxtSIqwjR13H",
        "outputId": "02376064-0fab-4f20-da6a-c2edc7183eb7"
      },
      "source": [
        "np.cumsum(arr, axis = 0) # ustun bo'yicha cumsum"
      ],
      "execution_count": 26,
      "outputs": [
        {
          "output_type": "execute_result",
          "data": {
            "text/plain": [
              "array([[ 2.80836507, -1.45609451,  1.95199932, -0.69468148],\n",
              "       [ 4.17014027,  0.72562498,  3.08731817, -0.97016976],\n",
              "       [ 6.1027901 ,  1.57315321,  4.74460466, -1.43153832],\n",
              "       [ 3.98200683,  1.0993853 ,  3.66774312, -1.63071952],\n",
              "       [ 2.81918891,  1.22433253,  2.56649275, -3.76859432]])"
            ]
          },
          "metadata": {},
          "execution_count": 26
        }
      ]
    },
    {
      "cell_type": "code",
      "metadata": {
        "colab": {
          "base_uri": "https://localhost:8080/"
        },
        "id": "rpDwjjIJR--f",
        "outputId": "7a02e066-b0c9-4c55-e20b-9cde709fa308"
      },
      "source": [
        "np.cumsum(arr, axis = 1) # qator bo'yicha cumsum"
      ],
      "execution_count": 27,
      "outputs": [
        {
          "output_type": "execute_result",
          "data": {
            "text/plain": [
              "array([[ 2.80836507,  1.35227056,  3.30426988,  2.6095884 ],\n",
              "       [ 1.3617752 ,  3.54349469,  4.67881354,  4.40332526],\n",
              "       [ 1.93264983,  2.78017805,  4.43746455,  3.97609599],\n",
              "       [-2.12078327, -2.59455118, -3.67141272, -3.87059393],\n",
              "       [-1.16281792, -1.03787068, -2.13912106, -4.27699586]])"
            ]
          },
          "metadata": {},
          "execution_count": 27
        }
      ]
    },
    {
      "cell_type": "code",
      "metadata": {
        "id": "bLeSBNzuSBo-"
      },
      "source": [
        ""
      ],
      "execution_count": null,
      "outputs": []
    }
  ]
}