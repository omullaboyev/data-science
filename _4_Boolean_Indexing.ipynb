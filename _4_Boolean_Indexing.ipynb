{
  "nbformat": 4,
  "nbformat_minor": 0,
  "metadata": {
    "colab": {
      "name": "#4_Boolean_Indexing.ipynb",
      "provenance": [],
      "collapsed_sections": [],
      "authorship_tag": "ABX9TyONDP2cO7MvRwYUoXwVTLPC",
      "include_colab_link": true
    },
    "kernelspec": {
      "name": "python3",
      "display_name": "Python 3"
    },
    "language_info": {
      "name": "python"
    }
  },
  "cells": [
    {
      "cell_type": "markdown",
      "metadata": {
        "id": "view-in-github",
        "colab_type": "text"
      },
      "source": [
        "<a href=\"https://colab.research.google.com/github/omullaboyev/data-science/blob/main/_4_Boolean_Indexing.ipynb\" target=\"_parent\"><img src=\"https://colab.research.google.com/assets/colab-badge.svg\" alt=\"Open In Colab\"/></a>"
      ]
    },
    {
      "cell_type": "markdown",
      "metadata": {
        "id": "IaO3g6feFNyF"
      },
      "source": [
        "#Data Science va Sun'iy Intellect Praktkum"
      ]
    },
    {
      "cell_type": "markdown",
      "metadata": {
        "id": "Ls0Zn-bFFWzX"
      },
      "source": [
        "#Ma'lumotlar Tahlili"
      ]
    },
    {
      "cell_type": "markdown",
      "metadata": {
        "id": "2bCcr00RFaPf"
      },
      "source": [
        "#2.1 Numpy kutubxonasi bilan ishalsh"
      ]
    },
    {
      "cell_type": "markdown",
      "metadata": {
        "id": "xO2icqsjFfUc"
      },
      "source": [
        "Numpy kutubxonasini chaqirib olish"
      ]
    },
    {
      "cell_type": "code",
      "metadata": {
        "id": "4f2TqCeaFIBZ"
      },
      "source": [
        " import numpy as np"
      ],
      "execution_count": 1,
      "outputs": []
    },
    {
      "cell_type": "markdown",
      "metadata": {
        "id": "X1ghq0CXFp6X"
      },
      "source": [
        "2.1.1 N - o'lchamli massiv(array)larga ishlov berish"
      ]
    },
    {
      "cell_type": "markdown",
      "metadata": {
        "id": "L2t4XggbFx8G"
      },
      "source": [
        "Boolean Indexlash"
      ]
    },
    {
      "cell_type": "code",
      "metadata": {
        "colab": {
          "base_uri": "https://localhost:8080/"
        },
        "id": "_EwArJy8Fm--",
        "outputId": "507ba13c-40c8-457f-e438-225bc3413b99"
      },
      "source": [
        "# Ismlar\n",
        "names = np.array([\"Hasan\", \"Husan\", \"Mirzabek\", \"Elyor\", \"Hasan\", \"Javohir\", \"Elyor\"])\n",
        "names"
      ],
      "execution_count": 2,
      "outputs": [
        {
          "output_type": "execute_result",
          "data": {
            "text/plain": [
              "array(['Hasan', 'Husan', 'Mirzabek', 'Elyor', 'Hasan', 'Javohir', 'Elyor'],\n",
              "      dtype='<U8')"
            ]
          },
          "metadata": {},
          "execution_count": 2
        }
      ]
    },
    {
      "cell_type": "code",
      "metadata": {
        "colab": {
          "base_uri": "https://localhost:8080/"
        },
        "id": "sGxV5JFEGN5G",
        "outputId": "a5a6dbd8-5b09-4b6f-acbc-17a0bffdc0db"
      },
      "source": [
        "# data\n",
        "data = np.random.randn(7, 4)\n",
        "data"
      ],
      "execution_count": 3,
      "outputs": [
        {
          "output_type": "execute_result",
          "data": {
            "text/plain": [
              "array([[-1.24907778, -1.05207174,  2.48324286, -0.55452807],\n",
              "       [ 0.39325313,  0.10813685,  0.14416371,  1.81688655],\n",
              "       [ 0.61746751,  0.10738532,  1.65211741, -0.66339715],\n",
              "       [-0.85809802,  1.26637803, -1.27498661,  1.32318824],\n",
              "       [ 1.6416371 ,  0.12096526,  1.91215914, -1.00940434],\n",
              "       [-1.19800364,  0.15524778, -0.13187991,  0.20694928],\n",
              "       [ 1.93494448,  1.13824216,  0.53842837,  0.50104291]])"
            ]
          },
          "metadata": {},
          "execution_count": 3
        }
      ]
    },
    {
      "cell_type": "code",
      "metadata": {
        "colab": {
          "base_uri": "https://localhost:8080/"
        },
        "id": "-F2IVn7kG-yF",
        "outputId": "94cb4a51-d598-4cc4-fb93-c86f7df8a272"
      },
      "source": [
        "names == \"Hasan\""
      ],
      "execution_count": 4,
      "outputs": [
        {
          "output_type": "execute_result",
          "data": {
            "text/plain": [
              "array([ True, False, False, False,  True, False, False])"
            ]
          },
          "metadata": {},
          "execution_count": 4
        }
      ]
    },
    {
      "cell_type": "code",
      "metadata": {
        "colab": {
          "base_uri": "https://localhost:8080/"
        },
        "id": "V8ri7myJKc6Y",
        "outputId": "6ff68280-8bd4-4afa-af72-179c4bdc8267"
      },
      "source": [
        "data[names == \"Hasan\"] # Hasanga tegishli barcha ma'lumotlarni ajratib olish"
      ],
      "execution_count": 5,
      "outputs": [
        {
          "output_type": "execute_result",
          "data": {
            "text/plain": [
              "array([[-1.24907778, -1.05207174,  2.48324286, -0.55452807],\n",
              "       [ 1.6416371 ,  0.12096526,  1.91215914, -1.00940434]])"
            ]
          },
          "metadata": {},
          "execution_count": 5
        }
      ]
    },
    {
      "cell_type": "code",
      "metadata": {
        "colab": {
          "base_uri": "https://localhost:8080/"
        },
        "id": "s4K4594aK5_F",
        "outputId": "de5bce34-93cd-4a31-c9a1-61aaa498228a"
      },
      "source": [
        "data[names == \"Elyor\"] # Elyorga tegishli barcha ma'lumotlarni ajratib olish"
      ],
      "execution_count": 6,
      "outputs": [
        {
          "output_type": "execute_result",
          "data": {
            "text/plain": [
              "array([[-0.85809802,  1.26637803, -1.27498661,  1.32318824],\n",
              "       [ 1.93494448,  1.13824216,  0.53842837,  0.50104291]])"
            ]
          },
          "metadata": {},
          "execution_count": 6
        }
      ]
    },
    {
      "cell_type": "code",
      "metadata": {
        "colab": {
          "base_uri": "https://localhost:8080/"
        },
        "id": "rQZAc-FQLEbF",
        "outputId": "39b0ca9c-52e2-446f-9c4c-d59f33d467b0"
      },
      "source": [
        "data[names == \"Mirzabek\"]"
      ],
      "execution_count": 7,
      "outputs": [
        {
          "output_type": "execute_result",
          "data": {
            "text/plain": [
              "array([[ 0.61746751,  0.10738532,  1.65211741, -0.66339715]])"
            ]
          },
          "metadata": {},
          "execution_count": 7
        }
      ]
    },
    {
      "cell_type": "code",
      "metadata": {
        "colab": {
          "base_uri": "https://localhost:8080/"
        },
        "id": "Z03laJaZLWsV",
        "outputId": "9cfdd7ef-2b72-437d-fe56-48b6441e59c7"
      },
      "source": [
        "data[names == \"Hasan\", 2:] # Hasanga tegishli oxirgi 2 ta ustundagi ma'lumotlarni ajratib olish"
      ],
      "execution_count": 9,
      "outputs": [
        {
          "output_type": "execute_result",
          "data": {
            "text/plain": [
              "array([[ 2.48324286, -0.55452807],\n",
              "       [ 1.91215914, -1.00940434]])"
            ]
          },
          "metadata": {},
          "execution_count": 9
        }
      ]
    },
    {
      "cell_type": "code",
      "metadata": {
        "colab": {
          "base_uri": "https://localhost:8080/"
        },
        "id": "qMsQAz-NLgqO",
        "outputId": "f487ea7d-a0b7-4768-e11f-8d1fc2bc475b"
      },
      "source": [
        "data[names == \"Husan\", :2]"
      ],
      "execution_count": 11,
      "outputs": [
        {
          "output_type": "execute_result",
          "data": {
            "text/plain": [
              "array([[0.39325313, 0.10813685]])"
            ]
          },
          "metadata": {},
          "execution_count": 11
        }
      ]
    },
    {
      "cell_type": "code",
      "metadata": {
        "colab": {
          "base_uri": "https://localhost:8080/"
        },
        "id": "cDdA86bVLusW",
        "outputId": "00c6780f-bdeb-47a8-9ef2-4d743637ab25"
      },
      "source": [
        "data[names != \"Hasan\"] # (!=)Hasandan tashqari barcha insonlarning ma'lumotlarini ajratib olish"
      ],
      "execution_count": 13,
      "outputs": [
        {
          "output_type": "execute_result",
          "data": {
            "text/plain": [
              "array([[ 0.39325313,  0.10813685,  0.14416371,  1.81688655],\n",
              "       [ 0.61746751,  0.10738532,  1.65211741, -0.66339715],\n",
              "       [-0.85809802,  1.26637803, -1.27498661,  1.32318824],\n",
              "       [-1.19800364,  0.15524778, -0.13187991,  0.20694928],\n",
              "       [ 1.93494448,  1.13824216,  0.53842837,  0.50104291]])"
            ]
          },
          "metadata": {},
          "execution_count": 13
        }
      ]
    },
    {
      "cell_type": "code",
      "metadata": {
        "colab": {
          "base_uri": "https://localhost:8080/"
        },
        "id": "Udp3wEm9L142",
        "outputId": "85c4c05d-fae8-4811-9ede-08e014406f15"
      },
      "source": [
        "data[~(names == \"Hasan\")] # (~)Hasandan tashqari barcha insonlarning ma'lumotlarini ajratib olish. Yuqoridagi cell bilan bir xil natija"
      ],
      "execution_count": 16,
      "outputs": [
        {
          "output_type": "execute_result",
          "data": {
            "text/plain": [
              "array([[ 0.39325313,  0.10813685,  0.14416371,  1.81688655],\n",
              "       [ 0.61746751,  0.10738532,  1.65211741, -0.66339715],\n",
              "       [-0.85809802,  1.26637803, -1.27498661,  1.32318824],\n",
              "       [-1.19800364,  0.15524778, -0.13187991,  0.20694928],\n",
              "       [ 1.93494448,  1.13824216,  0.53842837,  0.50104291]])"
            ]
          },
          "metadata": {},
          "execution_count": 16
        }
      ]
    },
    {
      "cell_type": "code",
      "metadata": {
        "colab": {
          "base_uri": "https://localhost:8080/"
        },
        "id": "ZvZsuowmMK7u",
        "outputId": "07a2a039-19c0-4610-e73b-de5c26a67433"
      },
      "source": [
        "data[(names == \"Hasan\")|(names == \"Husan\")] # Hasan va Husanlargaa tegishli ma'lumnotlarni ajratib olish"
      ],
      "execution_count": 19,
      "outputs": [
        {
          "output_type": "execute_result",
          "data": {
            "text/plain": [
              "array([[-1.24907778, -1.05207174,  2.48324286, -0.55452807],\n",
              "       [ 0.39325313,  0.10813685,  0.14416371,  1.81688655],\n",
              "       [ 1.6416371 ,  0.12096526,  1.91215914, -1.00940434]])"
            ]
          },
          "metadata": {},
          "execution_count": 19
        }
      ]
    },
    {
      "cell_type": "code",
      "metadata": {
        "colab": {
          "base_uri": "https://localhost:8080/"
        },
        "id": "qzWN39JkMi7l",
        "outputId": "86eac9e8-75aa-4f25-800e-31ce3c80ceb2"
      },
      "source": [
        "mask = (names == \"Hasan\")|(names == \"Husan\") # \"|\"\" or  (yoki)\n",
        "mask"
      ],
      "execution_count": 21,
      "outputs": [
        {
          "output_type": "execute_result",
          "data": {
            "text/plain": [
              "array([ True,  True, False, False,  True, False, False])"
            ]
          },
          "metadata": {},
          "execution_count": 21
        }
      ]
    },
    {
      "cell_type": "code",
      "metadata": {
        "colab": {
          "base_uri": "https://localhost:8080/"
        },
        "id": "VBA2cwyPNAaB",
        "outputId": "191a1ef4-2f2d-41eb-e479-bbbc3152f286"
      },
      "source": [
        "data[mask] # Hasan va Husanlargaa tegishli ma'lumnotlarni ajratib olish"
      ],
      "execution_count": 23,
      "outputs": [
        {
          "output_type": "execute_result",
          "data": {
            "text/plain": [
              "array([[-1.24907778, -1.05207174,  2.48324286, -0.55452807],\n",
              "       [ 0.39325313,  0.10813685,  0.14416371,  1.81688655],\n",
              "       [ 1.6416371 ,  0.12096526,  1.91215914, -1.00940434]])"
            ]
          },
          "metadata": {},
          "execution_count": 23
        }
      ]
    },
    {
      "cell_type": "code",
      "metadata": {
        "colab": {
          "base_uri": "https://localhost:8080/"
        },
        "id": "aGyRDcZNNOB_",
        "outputId": "6fd76ec1-fb64-4f5a-b02f-565c0f58c891"
      },
      "source": [
        "data"
      ],
      "execution_count": 24,
      "outputs": [
        {
          "output_type": "execute_result",
          "data": {
            "text/plain": [
              "array([[-1.24907778, -1.05207174,  2.48324286, -0.55452807],\n",
              "       [ 0.39325313,  0.10813685,  0.14416371,  1.81688655],\n",
              "       [ 0.61746751,  0.10738532,  1.65211741, -0.66339715],\n",
              "       [-0.85809802,  1.26637803, -1.27498661,  1.32318824],\n",
              "       [ 1.6416371 ,  0.12096526,  1.91215914, -1.00940434],\n",
              "       [-1.19800364,  0.15524778, -0.13187991,  0.20694928],\n",
              "       [ 1.93494448,  1.13824216,  0.53842837,  0.50104291]])"
            ]
          },
          "metadata": {},
          "execution_count": 24
        }
      ]
    },
    {
      "cell_type": "code",
      "metadata": {
        "colab": {
          "base_uri": "https://localhost:8080/"
        },
        "id": "z9Z5iK7rNY10",
        "outputId": "9c5a0dd1-d44e-4765-d1bd-3c84063880da"
      },
      "source": [
        "data[data < 0] = 0 # data massivining 0 dan kichik barcha elementlarini 0 ga aylantirish\n",
        "data"
      ],
      "execution_count": 27,
      "outputs": [
        {
          "output_type": "execute_result",
          "data": {
            "text/plain": [
              "array([[0.        , 0.        , 2.48324286, 0.        ],\n",
              "       [0.39325313, 0.10813685, 0.14416371, 1.81688655],\n",
              "       [0.61746751, 0.10738532, 1.65211741, 0.        ],\n",
              "       [0.        , 1.26637803, 0.        , 1.32318824],\n",
              "       [1.6416371 , 0.12096526, 1.91215914, 0.        ],\n",
              "       [0.        , 0.15524778, 0.        , 0.20694928],\n",
              "       [1.93494448, 1.13824216, 0.53842837, 0.50104291]])"
            ]
          },
          "metadata": {},
          "execution_count": 27
        }
      ]
    },
    {
      "cell_type": "code",
      "metadata": {
        "id": "u4kN__OqNdBv"
      },
      "source": [
        ""
      ],
      "execution_count": null,
      "outputs": []
    }
  ]
}