{
  "nbformat": 4,
  "nbformat_minor": 0,
  "metadata": {
    "colab": {
      "name": "2.1.6.Pandas-DataFrame_From_List.ipynb",
      "provenance": [],
      "collapsed_sections": [],
      "authorship_tag": "ABX9TyOTXO9TUu2GkqfzDxQHEp+A",
      "include_colab_link": true
    },
    "kernelspec": {
      "name": "python3",
      "display_name": "Python 3"
    },
    "language_info": {
      "name": "python"
    }
  },
  "cells": [
    {
      "cell_type": "markdown",
      "metadata": {
        "id": "view-in-github",
        "colab_type": "text"
      },
      "source": [
        "<a href=\"https://colab.research.google.com/github/omullaboyev/data-science/blob/main/2_1_6_Pandas_DataFrame_From_List.ipynb\" target=\"_parent\"><img src=\"https://colab.research.google.com/assets/colab-badge.svg\" alt=\"Open In Colab\"/></a>"
      ]
    },
    {
      "cell_type": "markdown",
      "metadata": {
        "id": "WUYlgWQ8ZGNz"
      },
      "source": [
        "#Data Science va Sun'iy Intellekt Praktikum"
      ]
    },
    {
      "cell_type": "markdown",
      "metadata": {
        "id": "j-ftsUGxZIPa"
      },
      "source": [
        "Ma'lumotlar Tahlili. Pandas kutubxonasi"
      ]
    },
    {
      "cell_type": "markdown",
      "metadata": {
        "id": "SEhBUdARZKDS"
      },
      "source": [
        "2.1 Pandas kutubxonasi bilan ishlash."
      ]
    },
    {
      "cell_type": "markdown",
      "metadata": {
        "id": "v621lEfPZLbE"
      },
      "source": [
        "**2.1.6 Lug'at (List) dan DataFRame yaratish**"
      ]
    },
    {
      "cell_type": "code",
      "metadata": {
        "id": "WtinVhjGZAh9"
      },
      "source": [
        "import pandas as pd"
      ],
      "execution_count": 1,
      "outputs": []
    },
    {
      "cell_type": "markdown",
      "metadata": {
        "id": "LU6FlGICaPh5"
      },
      "source": [
        "Lug'atlar lug'ati yaratib oldik"
      ]
    },
    {
      "cell_type": "code",
      "metadata": {
        "id": "mCvx9iCBZWrt"
      },
      "source": [
        "# data\n",
        "data = {\n",
        "        \"Uzbekistan\": {2021:33.9, 2020:33.5, 2019:32.9, 2018:32.5, 2017:31.9}, # O'zbekiston lug'ati\n",
        "        \"Kazakhstan\": {2021:18.9, 2020:18.7, 2019:18.5, 2018:18.3, 2017:18.1, 2016:17.8} # Qozog'iston lug'ati\n",
        "} # Lug'atlar lug'ati yaratydik"
      ],
      "execution_count": 2,
      "outputs": []
    },
    {
      "cell_type": "markdown",
      "metadata": {
        "id": "cxQXDW-QafEX"
      },
      "source": [
        "#Lug'atlar lug'atidan DataFrame yaratamiz"
      ]
    },
    {
      "cell_type": "code",
      "metadata": {
        "id": "99zLvNzlaZoh"
      },
      "source": [
        "df2 = pd.DataFrame(data) # Lug'atlar lug'atidan DataFrame yaratdik"
      ],
      "execution_count": 6,
      "outputs": []
    },
    {
      "cell_type": "code",
      "metadata": {
        "colab": {
          "base_uri": "https://localhost:8080/",
          "height": 235
        },
        "id": "8IQantBFal44",
        "outputId": "0d75449b-3f8a-4d47-90a7-5ec1ce7c6b7d"
      },
      "source": [
        "df2 # Tashqi lug'atning kalitlari (Uzbekistan, Kazakhstan) - Ustun nomi, ichki lug'at kalitlari (2021, 2020, 2019, ...) indeks bo'lib keldi"
      ],
      "execution_count": 5,
      "outputs": [
        {
          "output_type": "execute_result",
          "data": {
            "text/html": [
              "<div>\n",
              "<style scoped>\n",
              "    .dataframe tbody tr th:only-of-type {\n",
              "        vertical-align: middle;\n",
              "    }\n",
              "\n",
              "    .dataframe tbody tr th {\n",
              "        vertical-align: top;\n",
              "    }\n",
              "\n",
              "    .dataframe thead th {\n",
              "        text-align: right;\n",
              "    }\n",
              "</style>\n",
              "<table border=\"1\" class=\"dataframe\">\n",
              "  <thead>\n",
              "    <tr style=\"text-align: right;\">\n",
              "      <th></th>\n",
              "      <th>Uzbekistan</th>\n",
              "      <th>Kazakhstan</th>\n",
              "    </tr>\n",
              "  </thead>\n",
              "  <tbody>\n",
              "    <tr>\n",
              "      <th>2021</th>\n",
              "      <td>33.9</td>\n",
              "      <td>18.9</td>\n",
              "    </tr>\n",
              "    <tr>\n",
              "      <th>2020</th>\n",
              "      <td>33.5</td>\n",
              "      <td>18.7</td>\n",
              "    </tr>\n",
              "    <tr>\n",
              "      <th>2019</th>\n",
              "      <td>32.9</td>\n",
              "      <td>18.5</td>\n",
              "    </tr>\n",
              "    <tr>\n",
              "      <th>2018</th>\n",
              "      <td>32.5</td>\n",
              "      <td>18.3</td>\n",
              "    </tr>\n",
              "    <tr>\n",
              "      <th>2017</th>\n",
              "      <td>31.9</td>\n",
              "      <td>18.1</td>\n",
              "    </tr>\n",
              "    <tr>\n",
              "      <th>2016</th>\n",
              "      <td>NaN</td>\n",
              "      <td>17.8</td>\n",
              "    </tr>\n",
              "  </tbody>\n",
              "</table>\n",
              "</div>"
            ],
            "text/plain": [
              "      Uzbekistan  Kazakhstan\n",
              "2021        33.9        18.9\n",
              "2020        33.5        18.7\n",
              "2019        32.9        18.5\n",
              "2018        32.5        18.3\n",
              "2017        31.9        18.1\n",
              "2016         NaN        17.8"
            ]
          },
          "metadata": {},
          "execution_count": 5
        }
      ]
    },
    {
      "cell_type": "markdown",
      "metadata": {
        "id": "QNeT8RJmbSvh"
      },
      "source": [
        "#DataFrame ning indekslari uztuni nomini o'zgartirish"
      ]
    },
    {
      "cell_type": "code",
      "metadata": {
        "id": "NpqtF3R5aq4g"
      },
      "source": [
        "df2.index.name = \"Yil\" # df2 ning indekslari ustuni nomini \"Yil\" ga o'zgartirdik"
      ],
      "execution_count": 8,
      "outputs": []
    },
    {
      "cell_type": "code",
      "metadata": {
        "colab": {
          "base_uri": "https://localhost:8080/",
          "height": 266
        },
        "id": "L5AduxkHbdbh",
        "outputId": "f2e023d0-54c5-44fc-80b3-264cf853b841"
      },
      "source": [
        "df2"
      ],
      "execution_count": 9,
      "outputs": [
        {
          "output_type": "execute_result",
          "data": {
            "text/html": [
              "<div>\n",
              "<style scoped>\n",
              "    .dataframe tbody tr th:only-of-type {\n",
              "        vertical-align: middle;\n",
              "    }\n",
              "\n",
              "    .dataframe tbody tr th {\n",
              "        vertical-align: top;\n",
              "    }\n",
              "\n",
              "    .dataframe thead th {\n",
              "        text-align: right;\n",
              "    }\n",
              "</style>\n",
              "<table border=\"1\" class=\"dataframe\">\n",
              "  <thead>\n",
              "    <tr style=\"text-align: right;\">\n",
              "      <th></th>\n",
              "      <th>Uzbekistan</th>\n",
              "      <th>Kazakhstan</th>\n",
              "    </tr>\n",
              "    <tr>\n",
              "      <th>Yil</th>\n",
              "      <th></th>\n",
              "      <th></th>\n",
              "    </tr>\n",
              "  </thead>\n",
              "  <tbody>\n",
              "    <tr>\n",
              "      <th>2021</th>\n",
              "      <td>33.9</td>\n",
              "      <td>18.9</td>\n",
              "    </tr>\n",
              "    <tr>\n",
              "      <th>2020</th>\n",
              "      <td>33.5</td>\n",
              "      <td>18.7</td>\n",
              "    </tr>\n",
              "    <tr>\n",
              "      <th>2019</th>\n",
              "      <td>32.9</td>\n",
              "      <td>18.5</td>\n",
              "    </tr>\n",
              "    <tr>\n",
              "      <th>2018</th>\n",
              "      <td>32.5</td>\n",
              "      <td>18.3</td>\n",
              "    </tr>\n",
              "    <tr>\n",
              "      <th>2017</th>\n",
              "      <td>31.9</td>\n",
              "      <td>18.1</td>\n",
              "    </tr>\n",
              "    <tr>\n",
              "      <th>2016</th>\n",
              "      <td>NaN</td>\n",
              "      <td>17.8</td>\n",
              "    </tr>\n",
              "  </tbody>\n",
              "</table>\n",
              "</div>"
            ],
            "text/plain": [
              "      Uzbekistan  Kazakhstan\n",
              "Yil                         \n",
              "2021        33.9        18.9\n",
              "2020        33.5        18.7\n",
              "2019        32.9        18.5\n",
              "2018        32.5        18.3\n",
              "2017        31.9        18.1\n",
              "2016         NaN        17.8"
            ]
          },
          "metadata": {},
          "execution_count": 9
        }
      ]
    },
    {
      "cell_type": "markdown",
      "metadata": {
        "id": "C2dJaKqtbrGq"
      },
      "source": [
        "#Lug'atdan faqatgina kerakli ma'lumotlarni olib DataFrame yaratish (ro'yhatdagi ma'lumotlarni saralab olish)"
      ]
    },
    {
      "cell_type": "code",
      "metadata": {
        "id": "ofuYdc2_biWg"
      },
      "source": [
        "df2 = pd.DataFrame(data, index = [2021, 2019, 2017]) # Lug'atlar lug'atidan faqatgina 2021, 2019, 2017 indeksli ma'lumotlarni saralab olib DataFrame yaratdik"
      ],
      "execution_count": 12,
      "outputs": []
    },
    {
      "cell_type": "code",
      "metadata": {
        "colab": {
          "base_uri": "https://localhost:8080/",
          "height": 142
        },
        "id": "CQQRIlXGcAe5",
        "outputId": "dfc1a220-66b7-4b45-8c00-dcf844adf639"
      },
      "source": [
        "df2"
      ],
      "execution_count": 13,
      "outputs": [
        {
          "output_type": "execute_result",
          "data": {
            "text/html": [
              "<div>\n",
              "<style scoped>\n",
              "    .dataframe tbody tr th:only-of-type {\n",
              "        vertical-align: middle;\n",
              "    }\n",
              "\n",
              "    .dataframe tbody tr th {\n",
              "        vertical-align: top;\n",
              "    }\n",
              "\n",
              "    .dataframe thead th {\n",
              "        text-align: right;\n",
              "    }\n",
              "</style>\n",
              "<table border=\"1\" class=\"dataframe\">\n",
              "  <thead>\n",
              "    <tr style=\"text-align: right;\">\n",
              "      <th></th>\n",
              "      <th>Uzbekistan</th>\n",
              "      <th>Kazakhstan</th>\n",
              "    </tr>\n",
              "  </thead>\n",
              "  <tbody>\n",
              "    <tr>\n",
              "      <th>2021</th>\n",
              "      <td>33.9</td>\n",
              "      <td>18.9</td>\n",
              "    </tr>\n",
              "    <tr>\n",
              "      <th>2019</th>\n",
              "      <td>32.9</td>\n",
              "      <td>18.5</td>\n",
              "    </tr>\n",
              "    <tr>\n",
              "      <th>2017</th>\n",
              "      <td>31.9</td>\n",
              "      <td>18.1</td>\n",
              "    </tr>\n",
              "  </tbody>\n",
              "</table>\n",
              "</div>"
            ],
            "text/plain": [
              "      Uzbekistan  Kazakhstan\n",
              "2021        33.9        18.9\n",
              "2019        32.9        18.5\n",
              "2017        31.9        18.1"
            ]
          },
          "metadata": {},
          "execution_count": 13
        }
      ]
    },
    {
      "cell_type": "markdown",
      "metadata": {
        "id": "BQGqqUiAcTUM"
      },
      "source": [
        "#`T` attributi. Indekslar va Ustunlar o'rnini almashtirish"
      ]
    },
    {
      "cell_type": "code",
      "metadata": {
        "colab": {
          "base_uri": "https://localhost:8080/",
          "height": 111
        },
        "id": "HXYohHmtcBMA",
        "outputId": "9f0fa5bf-c64a-4e77-f06d-87ca95038e8b"
      },
      "source": [
        "df2.T # T metodi yordamida df2 ning indekslari va ustunlari o'rning almashtirish"
      ],
      "execution_count": 14,
      "outputs": [
        {
          "output_type": "execute_result",
          "data": {
            "text/html": [
              "<div>\n",
              "<style scoped>\n",
              "    .dataframe tbody tr th:only-of-type {\n",
              "        vertical-align: middle;\n",
              "    }\n",
              "\n",
              "    .dataframe tbody tr th {\n",
              "        vertical-align: top;\n",
              "    }\n",
              "\n",
              "    .dataframe thead th {\n",
              "        text-align: right;\n",
              "    }\n",
              "</style>\n",
              "<table border=\"1\" class=\"dataframe\">\n",
              "  <thead>\n",
              "    <tr style=\"text-align: right;\">\n",
              "      <th></th>\n",
              "      <th>2021</th>\n",
              "      <th>2019</th>\n",
              "      <th>2017</th>\n",
              "    </tr>\n",
              "  </thead>\n",
              "  <tbody>\n",
              "    <tr>\n",
              "      <th>Uzbekistan</th>\n",
              "      <td>33.9</td>\n",
              "      <td>32.9</td>\n",
              "      <td>31.9</td>\n",
              "    </tr>\n",
              "    <tr>\n",
              "      <th>Kazakhstan</th>\n",
              "      <td>18.9</td>\n",
              "      <td>18.5</td>\n",
              "      <td>18.1</td>\n",
              "    </tr>\n",
              "  </tbody>\n",
              "</table>\n",
              "</div>"
            ],
            "text/plain": [
              "            2021  2019  2017\n",
              "Uzbekistan  33.9  32.9  31.9\n",
              "Kazakhstan  18.9  18.5  18.1"
            ]
          },
          "metadata": {},
          "execution_count": 14
        }
      ]
    },
    {
      "cell_type": "markdown",
      "metadata": {
        "id": "iR5VPoRxcsXR"
      },
      "source": [
        "#`values` attributi. DataFrame ning qiymatlarini 2 p'lchamli massiv sifatida qaytaradi"
      ]
    },
    {
      "cell_type": "code",
      "metadata": {
        "id": "uefuDYHNcf1g"
      },
      "source": [
        "arr = df2.values"
      ],
      "execution_count": 16,
      "outputs": []
    },
    {
      "cell_type": "code",
      "metadata": {
        "colab": {
          "base_uri": "https://localhost:8080/"
        },
        "id": "QP1eLcorc1gJ",
        "outputId": "ff6a68de-f104-4de4-f55a-da33c1ae0f47"
      },
      "source": [
        "arr"
      ],
      "execution_count": 17,
      "outputs": [
        {
          "output_type": "execute_result",
          "data": {
            "text/plain": [
              "array([[33.9, 18.9],\n",
              "       [32.9, 18.5],\n",
              "       [31.9, 18.1]])"
            ]
          },
          "metadata": {},
          "execution_count": 17
        }
      ]
    },
    {
      "cell_type": "code",
      "metadata": {
        "colab": {
          "base_uri": "https://localhost:8080/"
        },
        "id": "T29il21ic_-Y",
        "outputId": "ae880d6c-07dc-4d47-a519-41fcaf3f3910"
      },
      "source": [
        "type(arr)"
      ],
      "execution_count": 18,
      "outputs": [
        {
          "output_type": "execute_result",
          "data": {
            "text/plain": [
              "numpy.ndarray"
            ]
          },
          "metadata": {},
          "execution_count": 18
        }
      ]
    },
    {
      "cell_type": "code",
      "metadata": {
        "id": "-COyWh00dC4I"
      },
      "source": [
        ""
      ],
      "execution_count": null,
      "outputs": []
    }
  ]
}