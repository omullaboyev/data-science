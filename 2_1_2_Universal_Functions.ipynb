{
  "nbformat": 4,
  "nbformat_minor": 0,
  "metadata": {
    "colab": {
      "name": "2.1.2_Universal_Functions.ipynb",
      "provenance": [],
      "collapsed_sections": [],
      "authorship_tag": "ABX9TyOjKkpVPdbiYjuPdW2KGQUx",
      "include_colab_link": true
    },
    "kernelspec": {
      "name": "python3",
      "display_name": "Python 3"
    },
    "language_info": {
      "name": "python"
    }
  },
  "cells": [
    {
      "cell_type": "markdown",
      "metadata": {
        "id": "view-in-github",
        "colab_type": "text"
      },
      "source": [
        "<a href=\"https://colab.research.google.com/github/omullaboyev/data-science/blob/main/2_1_2_Universal_Functions.ipynb\" target=\"_parent\"><img src=\"https://colab.research.google.com/assets/colab-badge.svg\" alt=\"Open In Colab\"/></a>"
      ]
    },
    {
      "cell_type": "markdown",
      "metadata": {
        "id": "K_fUq6FVtG5N"
      },
      "source": [
        "#Data Science va Sun'iyh Intellekt Praktikum"
      ]
    },
    {
      "cell_type": "markdown",
      "metadata": {
        "id": "j4LHeZcotOER"
      },
      "source": [
        "#Ma'lumotlar Tahlili"
      ]
    },
    {
      "cell_type": "markdown",
      "metadata": {
        "id": "L6gH4jnKtR2C"
      },
      "source": [
        "#2.1 Numpy kutubxonasi bilan ishlash"
      ]
    },
    {
      "cell_type": "markdown",
      "metadata": {
        "id": "vPRi1qlPtWsc"
      },
      "source": [
        "Numpy kutubxonasini chaqirib olish"
      ]
    },
    {
      "cell_type": "code",
      "metadata": {
        "id": "Ewexz94Xs-O4"
      },
      "source": [
        "import numpy as np"
      ],
      "execution_count": 2,
      "outputs": []
    },
    {
      "cell_type": "markdown",
      "metadata": {
        "id": "xybTFDD-tfz6"
      },
      "source": [
        "2.1.2 Universal Funksiyalar"
      ]
    },
    {
      "cell_type": "markdown",
      "metadata": {
        "id": "i5WJNP7ltlfH"
      },
      "source": [
        "Unary funksiyalar (bitta argument qabul qilivchi funksiya)"
      ]
    },
    {
      "cell_type": "markdown",
      "metadata": {
        "id": "c1J-2tQ7t_fD"
      },
      "source": [
        "# `sqrt`, `square`, `exp`, `log`, `modf`, `sign`, `isnan` funksiyalarini ko'rib chiqamiz"
      ]
    },
    {
      "cell_type": "code",
      "metadata": {
        "colab": {
          "base_uri": "https://localhost:8080/"
        },
        "id": "ODEqWt_mtbmy",
        "outputId": "af444889-3d75-4264-af4a-7cd7522fd5ed"
      },
      "source": [
        "arr = np.arange(10) # 0 ~ 10 gacha bo'lgan elementlardan iborat massivni qaytaradi\n",
        "arr"
      ],
      "execution_count": 4,
      "outputs": [
        {
          "output_type": "execute_result",
          "data": {
            "text/plain": [
              "array([0, 1, 2, 3, 4, 5, 6, 7, 8, 9])"
            ]
          },
          "metadata": {},
          "execution_count": 4
        }
      ]
    },
    {
      "cell_type": "markdown",
      "metadata": {
        "id": "KNux--QousAq"
      },
      "source": [
        "# `sqrt` massivning har bir elementini kvadrat ildizini qaytaradi"
      ]
    },
    {
      "cell_type": "code",
      "metadata": {
        "colab": {
          "base_uri": "https://localhost:8080/"
        },
        "id": "cOOTlJw5um8x",
        "outputId": "859aab0f-3084-4404-f1fc-000b07059bc8"
      },
      "source": [
        "np.sqrt(arr) # arr nomli massivning barcha elementlarining kvadrat ildizini qaytaradi"
      ],
      "execution_count": 5,
      "outputs": [
        {
          "output_type": "execute_result",
          "data": {
            "text/plain": [
              "array([0.        , 1.        , 1.41421356, 1.73205081, 2.        ,\n",
              "       2.23606798, 2.44948974, 2.64575131, 2.82842712, 3.        ])"
            ]
          },
          "metadata": {},
          "execution_count": 5
        }
      ]
    },
    {
      "cell_type": "markdown",
      "metadata": {
        "id": "cGwBkhjnvLKq"
      },
      "source": [
        "# `sqr` massivning har bir elementini kvadratga oshiradi"
      ]
    },
    {
      "cell_type": "code",
      "metadata": {
        "colab": {
          "base_uri": "https://localhost:8080/"
        },
        "id": "-jRUa2HvvC1v",
        "outputId": "e9ba7ab1-4bac-40d8-b3b9-27ff1918c615"
      },
      "source": [
        "np.square(arr) # arr nomli massivning barcha elementlarini kvadratga oshiradi"
      ],
      "execution_count": 10,
      "outputs": [
        {
          "output_type": "execute_result",
          "data": {
            "text/plain": [
              "array([ 0,  1,  4,  9, 16, 25, 36, 49, 64, 81])"
            ]
          },
          "metadata": {},
          "execution_count": 10
        }
      ]
    },
    {
      "cell_type": "markdown",
      "metadata": {
        "id": "qCmsP45Dvob-"
      },
      "source": [
        "# `exp` massivning har bir elementini exponentini qaytaradi"
      ]
    },
    {
      "cell_type": "code",
      "metadata": {
        "colab": {
          "base_uri": "https://localhost:8080/"
        },
        "id": "Aud-wbtQvH6l",
        "outputId": "f52442e5-c80b-4638-a786-1fc51300af4b"
      },
      "source": [
        "np.exp(arr) # arr nomli massivning har bir elementini exponentini qaytaradi"
      ],
      "execution_count": 11,
      "outputs": [
        {
          "output_type": "execute_result",
          "data": {
            "text/plain": [
              "array([1.00000000e+00, 2.71828183e+00, 7.38905610e+00, 2.00855369e+01,\n",
              "       5.45981500e+01, 1.48413159e+02, 4.03428793e+02, 1.09663316e+03,\n",
              "       2.98095799e+03, 8.10308393e+03])"
            ]
          },
          "metadata": {},
          "execution_count": 11
        }
      ]
    },
    {
      "cell_type": "markdown",
      "metadata": {
        "id": "7MD0CAOLv37T"
      },
      "source": [
        "# `log` massivning har bir elementining logarifmini hisoblaydi (loge)"
      ]
    },
    {
      "cell_type": "code",
      "metadata": {
        "colab": {
          "base_uri": "https://localhost:8080/"
        },
        "id": "OQXcmeRyv0ir",
        "outputId": "f098da4c-45bb-437a-f7c0-c6a7d9f5ab4e"
      },
      "source": [
        "np.log(arr[1:]) # arr nomli massivning 0 elementdan tashqari barcha elementining logarifmini hisoblaydi (loge)"
      ],
      "execution_count": 15,
      "outputs": [
        {
          "output_type": "execute_result",
          "data": {
            "text/plain": [
              "array([0.        , 0.69314718, 1.09861229, 1.38629436, 1.60943791,\n",
              "       1.79175947, 1.94591015, 2.07944154, 2.19722458])"
            ]
          },
          "metadata": {},
          "execution_count": 15
        }
      ]
    },
    {
      "cell_type": "markdown",
      "metadata": {
        "id": "ps_nXvoOwgDb"
      },
      "source": [
        "# `modf` haqiqiy sonlarni butun va qoldiq qismga ajratib beradi"
      ]
    },
    {
      "cell_type": "code",
      "metadata": {
        "colab": {
          "base_uri": "https://localhost:8080/"
        },
        "id": "a6wfpEtpwB7f",
        "outputId": "7862d368-4e9b-4da4-df9a-2b1c9b42d416"
      },
      "source": [
        "arr1 = np.random.randn(6) # 6 ta elementdan iborat tahminiy qiymatlarga ega massiv\n",
        "arr1"
      ],
      "execution_count": 20,
      "outputs": [
        {
          "output_type": "execute_result",
          "data": {
            "text/plain": [
              "array([ 0.57470357,  0.85623198, -0.83582186,  0.05833983,  0.27742513,\n",
              "       -1.02681077])"
            ]
          },
          "metadata": {},
          "execution_count": 20
        }
      ]
    },
    {
      "cell_type": "code",
      "metadata": {
        "id": "0qoIek69w-Nf"
      },
      "source": [
        "qoldiq, butun = np.modf(arr1) # arr1 elementlarini qoldiq va butun qismlarini ikkita massivga ajratadi"
      ],
      "execution_count": 21,
      "outputs": []
    },
    {
      "cell_type": "code",
      "metadata": {
        "colab": {
          "base_uri": "https://localhost:8080/"
        },
        "id": "rTI9Gq-GxWj2",
        "outputId": "84bce0e1-c59a-4eca-b9e3-438f25049f58"
      },
      "source": [
        "print(qoldiq)\n",
        "print(butun)"
      ],
      "execution_count": 22,
      "outputs": [
        {
          "output_type": "stream",
          "name": "stdout",
          "text": [
            "[ 0.57470357  0.85623198 -0.83582186  0.05833983  0.27742513 -0.02681077]\n",
            "[ 0.  0. -0.  0.  0. -1.]\n"
          ]
        }
      ]
    },
    {
      "cell_type": "markdown",
      "metadata": {
        "id": "ZsEazbNCxrcG"
      },
      "source": [
        "# `sign` massiv elementlarning qiymati manfiy bo'lsa `-1` va aksincha musbat bo'lsa `1` qaytaradi"
      ]
    },
    {
      "cell_type": "code",
      "metadata": {
        "colab": {
          "base_uri": "https://localhost:8080/"
        },
        "id": "9cQp3lg-xZO9",
        "outputId": "b60b937d-3a95-432b-b015-4f4a41218e48"
      },
      "source": [
        "np.sign(arr1) # arr1 massivining ishoralarini -1 va 1 ko'rinishda qaytaradi"
      ],
      "execution_count": 24,
      "outputs": [
        {
          "output_type": "execute_result",
          "data": {
            "text/plain": [
              "array([ 1.,  1., -1.,  1.,  1., -1.])"
            ]
          },
          "metadata": {},
          "execution_count": 24
        }
      ]
    },
    {
      "cell_type": "markdown",
      "metadata": {
        "id": "VtbZ6dzUyQXW"
      },
      "source": [
        "# `isnan` massiv elementlarida `NaN` ma'lumot bo'lsa `True` qaytaradi va aksincha esa `False` qaytaradi"
      ]
    },
    {
      "cell_type": "code",
      "metadata": {
        "colab": {
          "base_uri": "https://localhost:8080/"
        },
        "id": "vPO-FQH4yEB5",
        "outputId": "14a6634d-4d0f-4b19-dc8f-7708738aa96f"
      },
      "source": [
        "arr1"
      ],
      "execution_count": 25,
      "outputs": [
        {
          "output_type": "execute_result",
          "data": {
            "text/plain": [
              "array([ 0.57470357,  0.85623198, -0.83582186,  0.05833983,  0.27742513,\n",
              "       -1.02681077])"
            ]
          },
          "metadata": {},
          "execution_count": 25
        }
      ]
    },
    {
      "cell_type": "code",
      "metadata": {
        "colab": {
          "base_uri": "https://localhost:8080/"
        },
        "id": "DTwpBIhnymIO",
        "outputId": "28e2e361-d050-49fa-8124-2d54c2540a8a"
      },
      "source": [
        "np.isnan(arr1)"
      ],
      "execution_count": 26,
      "outputs": [
        {
          "output_type": "execute_result",
          "data": {
            "text/plain": [
              "array([False, False, False, False, False, False])"
            ]
          },
          "metadata": {},
          "execution_count": 26
        }
      ]
    },
    {
      "cell_type": "code",
      "metadata": {
        "colab": {
          "base_uri": "https://localhost:8080/"
        },
        "id": "LOlmNQecypXt",
        "outputId": "ba864def-595a-46ee-ceba-efc09df82dbc"
      },
      "source": [
        "arr1[0] = np.NaN # 0 - elementni NaNga lamashtirish\n",
        "arr1"
      ],
      "execution_count": 29,
      "outputs": [
        {
          "output_type": "execute_result",
          "data": {
            "text/plain": [
              "array([        nan,  0.85623198, -0.83582186,  0.05833983,  0.27742513,\n",
              "       -1.02681077])"
            ]
          },
          "metadata": {},
          "execution_count": 29
        }
      ]
    },
    {
      "cell_type": "code",
      "metadata": {
        "colab": {
          "base_uri": "https://localhost:8080/"
        },
        "id": "GR5Ke8XbywFO",
        "outputId": "09a5a352-8231-46eb-fb4d-544b47a2f348"
      },
      "source": [
        "np.isnan(arr1)"
      ],
      "execution_count": 30,
      "outputs": [
        {
          "output_type": "execute_result",
          "data": {
            "text/plain": [
              "array([ True, False, False, False, False, False])"
            ]
          },
          "metadata": {},
          "execution_count": 30
        }
      ]
    },
    {
      "cell_type": "markdown",
      "metadata": {
        "id": "ou0brMo3zF0B"
      },
      "source": [
        "#Binary funksiyalar (ikkita argument qabul qiluvchi funksiyalar)"
      ]
    },
    {
      "cell_type": "markdown",
      "metadata": {
        "id": "wcJofswEzQrs"
      },
      "source": [
        "# `add`, `multiply`, `maximum` funksiyalarini ko'rib chiqamiz"
      ]
    },
    {
      "cell_type": "code",
      "metadata": {
        "id": "xVvi-aPzy4Bc"
      },
      "source": [
        "# 2 ta massiv yaratib olamiz\n",
        "arr2 = np.random.randn(6)\n",
        "arr3 = np.random.randn(6)"
      ],
      "execution_count": 31,
      "outputs": []
    },
    {
      "cell_type": "code",
      "metadata": {
        "colab": {
          "base_uri": "https://localhost:8080/"
        },
        "id": "NG8HyKcfzlnw",
        "outputId": "76c27399-adc6-4034-e5d4-ef32a06e6d09"
      },
      "source": [
        "arr2"
      ],
      "execution_count": 32,
      "outputs": [
        {
          "output_type": "execute_result",
          "data": {
            "text/plain": [
              "array([-1.1316853 , -0.86298627, -1.11006831,  0.41695951,  0.2058973 ,\n",
              "        1.13986026])"
            ]
          },
          "metadata": {},
          "execution_count": 32
        }
      ]
    },
    {
      "cell_type": "code",
      "metadata": {
        "colab": {
          "base_uri": "https://localhost:8080/"
        },
        "id": "ncJB62UZzmdd",
        "outputId": "3dd752f8-3bd2-46ea-edd9-57abe38caf49"
      },
      "source": [
        "arr3"
      ],
      "execution_count": 33,
      "outputs": [
        {
          "output_type": "execute_result",
          "data": {
            "text/plain": [
              "array([-0.42010249,  0.25483471,  2.45896294, -0.14052548, -2.67575322,\n",
              "       -0.65978612])"
            ]
          },
          "metadata": {},
          "execution_count": 33
        }
      ]
    },
    {
      "cell_type": "markdown",
      "metadata": {
        "id": "A29oNh2tzptp"
      },
      "source": [
        "# `add` funksiyasi massivlar elementlarini mos ravishda qo'shish"
      ]
    },
    {
      "cell_type": "code",
      "metadata": {
        "colab": {
          "base_uri": "https://localhost:8080/"
        },
        "id": "FjWYR2gkzniM",
        "outputId": "5e0b4f73-4746-47d1-d094-fed9b399e242"
      },
      "source": [
        "np.add(arr2, arr3) # arr2 va arr3 massivlar elementlarini mos ravishda qo'shish"
      ],
      "execution_count": 34,
      "outputs": [
        {
          "output_type": "execute_result",
          "data": {
            "text/plain": [
              "array([-1.5517878 , -0.60815156,  1.34889463,  0.27643403, -2.46985592,\n",
              "        0.48007414])"
            ]
          },
          "metadata": {},
          "execution_count": 34
        }
      ]
    },
    {
      "cell_type": "code",
      "metadata": {
        "colab": {
          "base_uri": "https://localhost:8080/"
        },
        "id": "eVhykbkGz4gB",
        "outputId": "752d5719-be0e-48c3-b881-9dbd56f684d9"
      },
      "source": [
        "arr2 + arr3 # arr2 va arr3 massivlar elementlarini mos ravishda qo'shish"
      ],
      "execution_count": 36,
      "outputs": [
        {
          "output_type": "execute_result",
          "data": {
            "text/plain": [
              "array([-1.5517878 , -0.60815156,  1.34889463,  0.27643403, -2.46985592,\n",
              "        0.48007414])"
            ]
          },
          "metadata": {},
          "execution_count": 36
        }
      ]
    },
    {
      "cell_type": "markdown",
      "metadata": {
        "id": "-jvELAFh0E2f"
      },
      "source": [
        "# `multiply` ikkita massivning mos elemementlarini ko'paytirish"
      ]
    },
    {
      "cell_type": "code",
      "metadata": {
        "colab": {
          "base_uri": "https://localhost:8080/"
        },
        "id": "Ozj7d3F_z9Qn",
        "outputId": "f2bc1be1-e7d2-47a8-fb62-55d539a1d57d"
      },
      "source": [
        "arr2"
      ],
      "execution_count": 37,
      "outputs": [
        {
          "output_type": "execute_result",
          "data": {
            "text/plain": [
              "array([-1.1316853 , -0.86298627, -1.11006831,  0.41695951,  0.2058973 ,\n",
              "        1.13986026])"
            ]
          },
          "metadata": {},
          "execution_count": 37
        }
      ]
    },
    {
      "cell_type": "code",
      "metadata": {
        "colab": {
          "base_uri": "https://localhost:8080/"
        },
        "id": "i3csMVKr0PKd",
        "outputId": "cd3aab1c-47a4-412c-a0ac-29bb24ca70e1"
      },
      "source": [
        "arr3"
      ],
      "execution_count": 38,
      "outputs": [
        {
          "output_type": "execute_result",
          "data": {
            "text/plain": [
              "array([-0.42010249,  0.25483471,  2.45896294, -0.14052548, -2.67575322,\n",
              "       -0.65978612])"
            ]
          },
          "metadata": {},
          "execution_count": 38
        }
      ]
    },
    {
      "cell_type": "code",
      "metadata": {
        "colab": {
          "base_uri": "https://localhost:8080/"
        },
        "id": "kxzu7unA0QJ0",
        "outputId": "bed4de49-894c-4120-c3dd-0bc855c5a092"
      },
      "source": [
        "np.multiply(arr2, arr3) # arr2 va arr3 ning mos elemementlarini ko'paytirish"
      ],
      "execution_count": 40,
      "outputs": [
        {
          "output_type": "execute_result",
          "data": {
            "text/plain": [
              "array([ 0.47542382, -0.21991886, -2.72961682, -0.05859344, -0.55093037,\n",
              "       -0.75206398])"
            ]
          },
          "metadata": {},
          "execution_count": 40
        }
      ]
    },
    {
      "cell_type": "markdown",
      "metadata": {
        "id": "t6yLerao0cxi"
      },
      "source": [
        "# `maximum` ikkita massivning elementlarini taqqoslab kattasining elementini qaytaradi"
      ]
    },
    {
      "cell_type": "code",
      "metadata": {
        "colab": {
          "base_uri": "https://localhost:8080/"
        },
        "id": "LkNwiV400WHb",
        "outputId": "f4efa800-272b-4ef6-e521-527d84e6fe4e"
      },
      "source": [
        "np.maximum(arr2, arr3) # arr2 va arr3 massivlarning elementlarini taqqoslab kattasining elementini qaytaradi"
      ],
      "execution_count": 41,
      "outputs": [
        {
          "output_type": "execute_result",
          "data": {
            "text/plain": [
              "array([-0.42010249,  0.25483471,  2.45896294,  0.41695951,  0.2058973 ,\n",
              "        1.13986026])"
            ]
          },
          "metadata": {},
          "execution_count": 41
        }
      ]
    },
    {
      "cell_type": "code",
      "metadata": {
        "id": "ZAfKu34W0xNV"
      },
      "source": [
        ""
      ],
      "execution_count": null,
      "outputs": []
    }
  ]
}